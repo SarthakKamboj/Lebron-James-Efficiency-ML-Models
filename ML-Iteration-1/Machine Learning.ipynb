{
 "cells": [
  {
   "cell_type": "code",
   "execution_count": 90,
   "metadata": {},
   "outputs": [],
   "source": [
    "from sklearn.pipeline import Pipeline\n",
    "from sklearn.preprocessing import LabelBinarizer, StandardScaler\n",
    "from sklearn.model_selection import train_test_split\n",
    "from sklearn.linear_model import LinearRegression\n",
    "from sklearn.decomposition import PCA\n",
    "from sklearn.metrics import mean_squared_error\n",
    "import numpy as np\n",
    "import pandas as pd\n",
    "import os"
   ]
  },
  {
   "cell_type": "code",
   "execution_count": 91,
   "metadata": {},
   "outputs": [],
   "source": [
    "full_game_df = pd.read_csv(os.path.join(\"data\",\"combined_game_data.csv\"))"
   ]
  },
  {
   "cell_type": "code",
   "execution_count": 92,
   "metadata": {},
   "outputs": [],
   "source": [
    "sig_cols = list(np.load(\"sig_cols.npy\"))"
   ]
  },
  {
   "cell_type": "code",
   "execution_count": 93,
   "metadata": {},
   "outputs": [
    {
     "data": {
      "text/html": [
       "<div>\n",
       "<style scoped>\n",
       "    .dataframe tbody tr th:only-of-type {\n",
       "        vertical-align: middle;\n",
       "    }\n",
       "\n",
       "    .dataframe tbody tr th {\n",
       "        vertical-align: top;\n",
       "    }\n",
       "\n",
       "    .dataframe thead th {\n",
       "        text-align: right;\n",
       "    }\n",
       "</style>\n",
       "<table border=\"1\" class=\"dataframe\">\n",
       "  <thead>\n",
       "    <tr style=\"text-align: right;\">\n",
       "      <th></th>\n",
       "      <th>Unnamed: 0</th>\n",
       "      <th>G</th>\n",
       "      <th>Date</th>\n",
       "      <th>Age</th>\n",
       "      <th>Tm</th>\n",
       "      <th>game_location</th>\n",
       "      <th>Opp</th>\n",
       "      <th>game_result</th>\n",
       "      <th>GS</th>\n",
       "      <th>MP</th>\n",
       "      <th>...</th>\n",
       "      <th>Career-Stage</th>\n",
       "      <th>Above-Avg-PTS-Per-POSS</th>\n",
       "      <th>More-BLKs-Than-STLs</th>\n",
       "      <th>More-AST-Than-TOV</th>\n",
       "      <th>PTS-Cat</th>\n",
       "      <th>2P</th>\n",
       "      <th>2PA</th>\n",
       "      <th>2P%</th>\n",
       "      <th>2P%-Above-50%</th>\n",
       "      <th>More than 3 Fouls</th>\n",
       "    </tr>\n",
       "  </thead>\n",
       "  <tbody>\n",
       "    <tr>\n",
       "      <th>0</th>\n",
       "      <td>0</td>\n",
       "      <td>1</td>\n",
       "      <td>2003-10-29</td>\n",
       "      <td>18</td>\n",
       "      <td>CLE</td>\n",
       "      <td>0</td>\n",
       "      <td>SAC</td>\n",
       "      <td>-14</td>\n",
       "      <td>1.0</td>\n",
       "      <td>42</td>\n",
       "      <td>...</td>\n",
       "      <td>rising</td>\n",
       "      <td>True</td>\n",
       "      <td>False</td>\n",
       "      <td>True</td>\n",
       "      <td>below 35</td>\n",
       "      <td>12.0</td>\n",
       "      <td>18.0</td>\n",
       "      <td>0.666667</td>\n",
       "      <td>True</td>\n",
       "      <td>False</td>\n",
       "    </tr>\n",
       "    <tr>\n",
       "      <th>1</th>\n",
       "      <td>1</td>\n",
       "      <td>2</td>\n",
       "      <td>2003-10-30</td>\n",
       "      <td>18</td>\n",
       "      <td>CLE</td>\n",
       "      <td>0</td>\n",
       "      <td>PHO</td>\n",
       "      <td>-9</td>\n",
       "      <td>1.0</td>\n",
       "      <td>40</td>\n",
       "      <td>...</td>\n",
       "      <td>rising</td>\n",
       "      <td>False</td>\n",
       "      <td>False</td>\n",
       "      <td>True</td>\n",
       "      <td>below 35</td>\n",
       "      <td>7.0</td>\n",
       "      <td>12.0</td>\n",
       "      <td>0.583333</td>\n",
       "      <td>True</td>\n",
       "      <td>False</td>\n",
       "    </tr>\n",
       "    <tr>\n",
       "      <th>2</th>\n",
       "      <td>2</td>\n",
       "      <td>3</td>\n",
       "      <td>2003-11-01</td>\n",
       "      <td>18</td>\n",
       "      <td>CLE</td>\n",
       "      <td>0</td>\n",
       "      <td>POR</td>\n",
       "      <td>-19</td>\n",
       "      <td>1.0</td>\n",
       "      <td>39</td>\n",
       "      <td>...</td>\n",
       "      <td>rising</td>\n",
       "      <td>False</td>\n",
       "      <td>False</td>\n",
       "      <td>True</td>\n",
       "      <td>below 20</td>\n",
       "      <td>3.0</td>\n",
       "      <td>11.0</td>\n",
       "      <td>0.272727</td>\n",
       "      <td>False</td>\n",
       "      <td>False</td>\n",
       "    </tr>\n",
       "    <tr>\n",
       "      <th>3</th>\n",
       "      <td>3</td>\n",
       "      <td>4</td>\n",
       "      <td>2003-11-05</td>\n",
       "      <td>18</td>\n",
       "      <td>CLE</td>\n",
       "      <td>1</td>\n",
       "      <td>DEN</td>\n",
       "      <td>-4</td>\n",
       "      <td>1.0</td>\n",
       "      <td>41</td>\n",
       "      <td>...</td>\n",
       "      <td>rising</td>\n",
       "      <td>False</td>\n",
       "      <td>True</td>\n",
       "      <td>True</td>\n",
       "      <td>below 20</td>\n",
       "      <td>3.0</td>\n",
       "      <td>9.0</td>\n",
       "      <td>0.333333</td>\n",
       "      <td>False</td>\n",
       "      <td>False</td>\n",
       "    </tr>\n",
       "    <tr>\n",
       "      <th>4</th>\n",
       "      <td>4</td>\n",
       "      <td>5</td>\n",
       "      <td>2003-11-07</td>\n",
       "      <td>18</td>\n",
       "      <td>CLE</td>\n",
       "      <td>0</td>\n",
       "      <td>IND</td>\n",
       "      <td>-1</td>\n",
       "      <td>1.0</td>\n",
       "      <td>43</td>\n",
       "      <td>...</td>\n",
       "      <td>rising</td>\n",
       "      <td>False</td>\n",
       "      <td>False</td>\n",
       "      <td>False</td>\n",
       "      <td>below 35</td>\n",
       "      <td>7.0</td>\n",
       "      <td>16.0</td>\n",
       "      <td>0.437500</td>\n",
       "      <td>False</td>\n",
       "      <td>False</td>\n",
       "    </tr>\n",
       "  </tbody>\n",
       "</table>\n",
       "<p>5 rows × 65 columns</p>\n",
       "</div>"
      ],
      "text/plain": [
       "   Unnamed: 0  G        Date  Age   Tm  game_location  Opp  game_result   GS  \\\n",
       "0           0  1  2003-10-29   18  CLE              0  SAC          -14  1.0   \n",
       "1           1  2  2003-10-30   18  CLE              0  PHO           -9  1.0   \n",
       "2           2  3  2003-11-01   18  CLE              0  POR          -19  1.0   \n",
       "3           3  4  2003-11-05   18  CLE              1  DEN           -4  1.0   \n",
       "4           4  5  2003-11-07   18  CLE              0  IND           -1  1.0   \n",
       "\n",
       "   MP  ...  Career-Stage  Above-Avg-PTS-Per-POSS  More-BLKs-Than-STLs  \\\n",
       "0  42  ...        rising                    True                False   \n",
       "1  40  ...        rising                   False                False   \n",
       "2  39  ...        rising                   False                False   \n",
       "3  41  ...        rising                   False                 True   \n",
       "4  43  ...        rising                   False                False   \n",
       "\n",
       "   More-AST-Than-TOV   PTS-Cat    2P   2PA       2P%  2P%-Above-50%  \\\n",
       "0               True  below 35  12.0  18.0  0.666667           True   \n",
       "1               True  below 35   7.0  12.0  0.583333           True   \n",
       "2               True  below 20   3.0  11.0  0.272727          False   \n",
       "3               True  below 20   3.0   9.0  0.333333          False   \n",
       "4              False  below 35   7.0  16.0  0.437500          False   \n",
       "\n",
       "   More than 3 Fouls  \n",
       "0              False  \n",
       "1              False  \n",
       "2              False  \n",
       "3              False  \n",
       "4              False  \n",
       "\n",
       "[5 rows x 65 columns]"
      ]
     },
     "execution_count": 93,
     "metadata": {},
     "output_type": "execute_result"
    }
   ],
   "source": [
    "full_game_df.head()"
   ]
  },
  {
   "cell_type": "code",
   "execution_count": 94,
   "metadata": {},
   "outputs": [],
   "source": [
    "sig_df = full_game_df[sig_cols]"
   ]
  },
  {
   "cell_type": "code",
   "execution_count": 95,
   "metadata": {},
   "outputs": [
    {
     "data": {
      "text/html": [
       "<div>\n",
       "<style scoped>\n",
       "    .dataframe tbody tr th:only-of-type {\n",
       "        vertical-align: middle;\n",
       "    }\n",
       "\n",
       "    .dataframe tbody tr th {\n",
       "        vertical-align: top;\n",
       "    }\n",
       "\n",
       "    .dataframe thead th {\n",
       "        text-align: right;\n",
       "    }\n",
       "</style>\n",
       "<table border=\"1\" class=\"dataframe\">\n",
       "  <thead>\n",
       "    <tr style=\"text-align: right;\">\n",
       "      <th></th>\n",
       "      <th>game_result</th>\n",
       "      <th>FG%</th>\n",
       "      <th>GmSc</th>\n",
       "      <th>TS%</th>\n",
       "      <th>GmSc-Per-PTS</th>\n",
       "      <th>PTS-Per-POSS</th>\n",
       "      <th>game_result-Per-PTS</th>\n",
       "      <th>PER</th>\n",
       "      <th>game_location</th>\n",
       "      <th>Opp</th>\n",
       "      <th>...</th>\n",
       "      <th>Over-3-BLKs-and-STLs</th>\n",
       "      <th>Played-Above-Avg-Min</th>\n",
       "      <th>Above-Avg-FT%</th>\n",
       "      <th>Career-Stage</th>\n",
       "      <th>Above-Avg-PTS-Per-POSS</th>\n",
       "      <th>More-BLKs-Than-STLs</th>\n",
       "      <th>More-AST-Than-TOV</th>\n",
       "      <th>PTS-Cat</th>\n",
       "      <th>2P%-Above-50%</th>\n",
       "      <th>More than 3 Fouls</th>\n",
       "    </tr>\n",
       "  </thead>\n",
       "  <tbody>\n",
       "    <tr>\n",
       "      <th>0</th>\n",
       "      <td>-14</td>\n",
       "      <td>0.600</td>\n",
       "      <td>24.7</td>\n",
       "      <td>0.583431</td>\n",
       "      <td>0.988000</td>\n",
       "      <td>1.172608</td>\n",
       "      <td>-0.560000</td>\n",
       "      <td>29.277048</td>\n",
       "      <td>0</td>\n",
       "      <td>SAC</td>\n",
       "      <td>...</td>\n",
       "      <td>True</td>\n",
       "      <td>True</td>\n",
       "      <td>False</td>\n",
       "      <td>rising</td>\n",
       "      <td>True</td>\n",
       "      <td>False</td>\n",
       "      <td>True</td>\n",
       "      <td>below 35</td>\n",
       "      <td>True</td>\n",
       "      <td>False</td>\n",
       "    </tr>\n",
       "    <tr>\n",
       "      <th>1</th>\n",
       "      <td>-9</td>\n",
       "      <td>0.471</td>\n",
       "      <td>14.7</td>\n",
       "      <td>0.516605</td>\n",
       "      <td>0.700000</td>\n",
       "      <td>0.837321</td>\n",
       "      <td>-0.428571</td>\n",
       "      <td>16.893600</td>\n",
       "      <td>0</td>\n",
       "      <td>PHO</td>\n",
       "      <td>...</td>\n",
       "      <td>False</td>\n",
       "      <td>True</td>\n",
       "      <td>False</td>\n",
       "      <td>rising</td>\n",
       "      <td>False</td>\n",
       "      <td>False</td>\n",
       "      <td>True</td>\n",
       "      <td>below 35</td>\n",
       "      <td>True</td>\n",
       "      <td>False</td>\n",
       "    </tr>\n",
       "    <tr>\n",
       "      <th>2</th>\n",
       "      <td>-19</td>\n",
       "      <td>0.250</td>\n",
       "      <td>5.0</td>\n",
       "      <td>0.308880</td>\n",
       "      <td>0.625000</td>\n",
       "      <td>0.537634</td>\n",
       "      <td>-2.375000</td>\n",
       "      <td>5.489179</td>\n",
       "      <td>0</td>\n",
       "      <td>POR</td>\n",
       "      <td>...</td>\n",
       "      <td>False</td>\n",
       "      <td>True</td>\n",
       "      <td>True</td>\n",
       "      <td>rising</td>\n",
       "      <td>False</td>\n",
       "      <td>False</td>\n",
       "      <td>True</td>\n",
       "      <td>below 20</td>\n",
       "      <td>False</td>\n",
       "      <td>False</td>\n",
       "    </tr>\n",
       "    <tr>\n",
       "      <th>3</th>\n",
       "      <td>-4</td>\n",
       "      <td>0.273</td>\n",
       "      <td>11.2</td>\n",
       "      <td>0.305011</td>\n",
       "      <td>1.600000</td>\n",
       "      <td>0.611888</td>\n",
       "      <td>-0.571429</td>\n",
       "      <td>13.291049</td>\n",
       "      <td>1</td>\n",
       "      <td>DEN</td>\n",
       "      <td>...</td>\n",
       "      <td>True</td>\n",
       "      <td>True</td>\n",
       "      <td>True</td>\n",
       "      <td>rising</td>\n",
       "      <td>False</td>\n",
       "      <td>True</td>\n",
       "      <td>True</td>\n",
       "      <td>below 20</td>\n",
       "      <td>False</td>\n",
       "      <td>False</td>\n",
       "    </tr>\n",
       "    <tr>\n",
       "      <th>4</th>\n",
       "      <td>-1</td>\n",
       "      <td>0.444</td>\n",
       "      <td>9.0</td>\n",
       "      <td>0.539273</td>\n",
       "      <td>0.391304</td>\n",
       "      <td>0.819088</td>\n",
       "      <td>-0.043478</td>\n",
       "      <td>8.698953</td>\n",
       "      <td>0</td>\n",
       "      <td>IND</td>\n",
       "      <td>...</td>\n",
       "      <td>False</td>\n",
       "      <td>True</td>\n",
       "      <td>True</td>\n",
       "      <td>rising</td>\n",
       "      <td>False</td>\n",
       "      <td>False</td>\n",
       "      <td>False</td>\n",
       "      <td>below 35</td>\n",
       "      <td>False</td>\n",
       "      <td>False</td>\n",
       "    </tr>\n",
       "  </tbody>\n",
       "</table>\n",
       "<p>5 rows × 23 columns</p>\n",
       "</div>"
      ],
      "text/plain": [
       "   game_result    FG%  GmSc       TS%  GmSc-Per-PTS  PTS-Per-POSS  \\\n",
       "0          -14  0.600  24.7  0.583431      0.988000      1.172608   \n",
       "1           -9  0.471  14.7  0.516605      0.700000      0.837321   \n",
       "2          -19  0.250   5.0  0.308880      0.625000      0.537634   \n",
       "3           -4  0.273  11.2  0.305011      1.600000      0.611888   \n",
       "4           -1  0.444   9.0  0.539273      0.391304      0.819088   \n",
       "\n",
       "   game_result-Per-PTS        PER  game_location  Opp  ...  \\\n",
       "0            -0.560000  29.277048              0  SAC  ...   \n",
       "1            -0.428571  16.893600              0  PHO  ...   \n",
       "2            -2.375000   5.489179              0  POR  ...   \n",
       "3            -0.571429  13.291049              1  DEN  ...   \n",
       "4            -0.043478   8.698953              0  IND  ...   \n",
       "\n",
       "   Over-3-BLKs-and-STLs  Played-Above-Avg-Min  Above-Avg-FT%  Career-Stage  \\\n",
       "0                  True                  True          False        rising   \n",
       "1                 False                  True          False        rising   \n",
       "2                 False                  True           True        rising   \n",
       "3                  True                  True           True        rising   \n",
       "4                 False                  True           True        rising   \n",
       "\n",
       "   Above-Avg-PTS-Per-POSS  More-BLKs-Than-STLs More-AST-Than-TOV   PTS-Cat  \\\n",
       "0                    True                False              True  below 35   \n",
       "1                   False                False              True  below 35   \n",
       "2                   False                False              True  below 20   \n",
       "3                   False                 True              True  below 20   \n",
       "4                   False                False             False  below 35   \n",
       "\n",
       "   2P%-Above-50%  More than 3 Fouls  \n",
       "0           True              False  \n",
       "1           True              False  \n",
       "2          False              False  \n",
       "3          False              False  \n",
       "4          False              False  \n",
       "\n",
       "[5 rows x 23 columns]"
      ]
     },
     "execution_count": 95,
     "metadata": {},
     "output_type": "execute_result"
    }
   ],
   "source": [
    "sig_df.head()"
   ]
  },
  {
   "cell_type": "code",
   "execution_count": 96,
   "metadata": {},
   "outputs": [
    {
     "name": "stderr",
     "output_type": "stream",
     "text": [
      "c:\\users\\kambo\\.virtualenvs\\lebronjames-q3tyihsg\\lib\\site-packages\\pandas\\core\\frame.py:4379: SettingWithCopyWarning: \n",
      "A value is trying to be set on a copy of a slice from a DataFrame\n",
      "\n",
      "See the caveats in the documentation: https://pandas.pydata.org/pandas-docs/stable/user_guide/indexing.html#returning-a-view-versus-a-copy\n",
      "  method=method,\n"
     ]
    }
   ],
   "source": [
    "sig_df.replace(True,1,inplace=True)\n",
    "sig_df.replace(False,0,inplace=True)"
   ]
  },
  {
   "cell_type": "code",
   "execution_count": 97,
   "metadata": {},
   "outputs": [
    {
     "data": {
      "text/plain": [
       "Index(['game_result', 'game_location'], dtype='object')"
      ]
     },
     "execution_count": 97,
     "metadata": {},
     "output_type": "execute_result"
    }
   ],
   "source": [
    "sig_df.select_dtypes(include=[\"int64\"]).columns"
   ]
  },
  {
   "cell_type": "code",
   "execution_count": 98,
   "metadata": {},
   "outputs": [
    {
     "name": "stderr",
     "output_type": "stream",
     "text": [
      "c:\\users\\kambo\\.virtualenvs\\lebronjames-q3tyihsg\\lib\\site-packages\\ipykernel_launcher.py:2: SettingWithCopyWarning: \n",
      "A value is trying to be set on a copy of a slice from a DataFrame.\n",
      "Try using .loc[row_indexer,col_indexer] = value instead\n",
      "\n",
      "See the caveats in the documentation: https://pandas.pydata.org/pandas-docs/stable/user_guide/indexing.html#returning-a-view-versus-a-copy\n",
      "  \n"
     ]
    }
   ],
   "source": [
    "for col in sig_df.select_dtypes(include=[\"int64\"]).columns:\n",
    "    sig_df[col] = sig_df[col].apply(lambda x: float(x))"
   ]
  },
  {
   "cell_type": "code",
   "execution_count": 99,
   "metadata": {},
   "outputs": [
    {
     "data": {
      "text/plain": [
       "game_result               float64\n",
       "FG%                       float64\n",
       "GmSc                      float64\n",
       "TS%                       float64\n",
       "GmSc-Per-PTS              float64\n",
       "PTS-Per-POSS              float64\n",
       "game_result-Per-PTS       float64\n",
       "PER                       float64\n",
       "game_location             float64\n",
       "Opp                        object\n",
       "Won                       float64\n",
       "High-3P%-Shooting         float64\n",
       "High-FG%-Shooting         float64\n",
       "Over-3-BLKs-and-STLs      float64\n",
       "Played-Above-Avg-Min      float64\n",
       "Above-Avg-FT%             float64\n",
       "Career-Stage               object\n",
       "Above-Avg-PTS-Per-POSS    float64\n",
       "More-BLKs-Than-STLs       float64\n",
       "More-AST-Than-TOV         float64\n",
       "PTS-Cat                    object\n",
       "2P%-Above-50%             float64\n",
       "More than 3 Fouls         float64\n",
       "dtype: object"
      ]
     },
     "execution_count": 99,
     "metadata": {},
     "output_type": "execute_result"
    }
   ],
   "source": [
    "sig_df.dtypes"
   ]
  },
  {
   "cell_type": "code",
   "execution_count": 100,
   "metadata": {},
   "outputs": [],
   "source": [
    "def label_bin(cat_col,df):\n",
    "    lb = LabelBinarizer()\n",
    "    data = lb.fit_transform(df[cat_col])\n",
    "    classes = lb.classes_\n",
    "    new_df = pd.DataFrame(data,columns=classes,dtype=float)\n",
    "    for col in new_df.columns:\n",
    "        df[col] = new_df[col]\n",
    "    return lb"
   ]
  },
  {
   "cell_type": "code",
   "execution_count": 101,
   "metadata": {},
   "outputs": [
    {
     "name": "stderr",
     "output_type": "stream",
     "text": [
      "c:\\users\\kambo\\.virtualenvs\\lebronjames-q3tyihsg\\lib\\site-packages\\ipykernel_launcher.py:7: SettingWithCopyWarning: \n",
      "A value is trying to be set on a copy of a slice from a DataFrame.\n",
      "Try using .loc[row_indexer,col_indexer] = value instead\n",
      "\n",
      "See the caveats in the documentation: https://pandas.pydata.org/pandas-docs/stable/user_guide/indexing.html#returning-a-view-versus-a-copy\n",
      "  import sys\n",
      "c:\\users\\kambo\\.virtualenvs\\lebronjames-q3tyihsg\\lib\\site-packages\\ipykernel_launcher.py:7: SettingWithCopyWarning: \n",
      "A value is trying to be set on a copy of a slice from a DataFrame.\n",
      "Try using .loc[row_indexer,col_indexer] = value instead\n",
      "\n",
      "See the caveats in the documentation: https://pandas.pydata.org/pandas-docs/stable/user_guide/indexing.html#returning-a-view-versus-a-copy\n",
      "  import sys\n",
      "c:\\users\\kambo\\.virtualenvs\\lebronjames-q3tyihsg\\lib\\site-packages\\ipykernel_launcher.py:7: SettingWithCopyWarning: \n",
      "A value is trying to be set on a copy of a slice from a DataFrame.\n",
      "Try using .loc[row_indexer,col_indexer] = value instead\n",
      "\n",
      "See the caveats in the documentation: https://pandas.pydata.org/pandas-docs/stable/user_guide/indexing.html#returning-a-view-versus-a-copy\n",
      "  import sys\n"
     ]
    }
   ],
   "source": [
    "label_bins = []\n",
    "for object_col in sig_df.select_dtypes(include=[\"object\"]).columns:\n",
    "    object_lb = label_bin(object_col,sig_df)\n",
    "    object_col_lb_pair = (object_col,object_lb)\n",
    "    label_bins.append(object_col_lb_pair)"
   ]
  },
  {
   "cell_type": "code",
   "execution_count": 102,
   "metadata": {},
   "outputs": [
    {
     "data": {
      "text/html": [
       "<div>\n",
       "<style scoped>\n",
       "    .dataframe tbody tr th:only-of-type {\n",
       "        vertical-align: middle;\n",
       "    }\n",
       "\n",
       "    .dataframe tbody tr th {\n",
       "        vertical-align: top;\n",
       "    }\n",
       "\n",
       "    .dataframe thead th {\n",
       "        text-align: right;\n",
       "    }\n",
       "</style>\n",
       "<table border=\"1\" class=\"dataframe\">\n",
       "  <thead>\n",
       "    <tr style=\"text-align: right;\">\n",
       "      <th></th>\n",
       "      <th>game_result</th>\n",
       "      <th>FG%</th>\n",
       "      <th>GmSc</th>\n",
       "      <th>TS%</th>\n",
       "      <th>GmSc-Per-PTS</th>\n",
       "      <th>PTS-Per-POSS</th>\n",
       "      <th>game_result-Per-PTS</th>\n",
       "      <th>PER</th>\n",
       "      <th>game_location</th>\n",
       "      <th>Opp</th>\n",
       "      <th>...</th>\n",
       "      <th>SEA</th>\n",
       "      <th>TOR</th>\n",
       "      <th>UTA</th>\n",
       "      <th>WAS</th>\n",
       "      <th>decline</th>\n",
       "      <th>prime</th>\n",
       "      <th>rising</th>\n",
       "      <th>above 35</th>\n",
       "      <th>below 20</th>\n",
       "      <th>below 35</th>\n",
       "    </tr>\n",
       "  </thead>\n",
       "  <tbody>\n",
       "    <tr>\n",
       "      <th>1255</th>\n",
       "      <td>10.0</td>\n",
       "      <td>0.571</td>\n",
       "      <td>31.3</td>\n",
       "      <td>0.657778</td>\n",
       "      <td>0.845946</td>\n",
       "      <td>1.170886</td>\n",
       "      <td>0.270270</td>\n",
       "      <td>41.786472</td>\n",
       "      <td>1.0</td>\n",
       "      <td>MIL</td>\n",
       "      <td>...</td>\n",
       "      <td>0.0</td>\n",
       "      <td>0.0</td>\n",
       "      <td>0.0</td>\n",
       "      <td>0.0</td>\n",
       "      <td>1.0</td>\n",
       "      <td>0.0</td>\n",
       "      <td>0.0</td>\n",
       "      <td>1.0</td>\n",
       "      <td>0.0</td>\n",
       "      <td>0.0</td>\n",
       "    </tr>\n",
       "    <tr>\n",
       "      <th>1256</th>\n",
       "      <td>9.0</td>\n",
       "      <td>0.412</td>\n",
       "      <td>25.8</td>\n",
       "      <td>0.591966</td>\n",
       "      <td>0.921429</td>\n",
       "      <td>1.208981</td>\n",
       "      <td>0.321429</td>\n",
       "      <td>36.256500</td>\n",
       "      <td>0.0</td>\n",
       "      <td>LAC</td>\n",
       "      <td>...</td>\n",
       "      <td>0.0</td>\n",
       "      <td>0.0</td>\n",
       "      <td>0.0</td>\n",
       "      <td>0.0</td>\n",
       "      <td>1.0</td>\n",
       "      <td>0.0</td>\n",
       "      <td>0.0</td>\n",
       "      <td>0.0</td>\n",
       "      <td>0.0</td>\n",
       "      <td>1.0</td>\n",
       "    </tr>\n",
       "    <tr>\n",
       "      <th>1257</th>\n",
       "      <td>-2.0</td>\n",
       "      <td>0.545</td>\n",
       "      <td>24.7</td>\n",
       "      <td>0.594872</td>\n",
       "      <td>0.851724</td>\n",
       "      <td>1.106870</td>\n",
       "      <td>-0.068966</td>\n",
       "      <td>35.312382</td>\n",
       "      <td>1.0</td>\n",
       "      <td>BRK</td>\n",
       "      <td>...</td>\n",
       "      <td>0.0</td>\n",
       "      <td>0.0</td>\n",
       "      <td>0.0</td>\n",
       "      <td>0.0</td>\n",
       "      <td>1.0</td>\n",
       "      <td>0.0</td>\n",
       "      <td>0.0</td>\n",
       "      <td>0.0</td>\n",
       "      <td>0.0</td>\n",
       "      <td>1.0</td>\n",
       "    </tr>\n",
       "    <tr>\n",
       "      <th>1258</th>\n",
       "      <td>2.0</td>\n",
       "      <td>0.316</td>\n",
       "      <td>9.6</td>\n",
       "      <td>0.401003</td>\n",
       "      <td>0.600000</td>\n",
       "      <td>0.699301</td>\n",
       "      <td>0.125000</td>\n",
       "      <td>12.610471</td>\n",
       "      <td>1.0</td>\n",
       "      <td>LAC</td>\n",
       "      <td>...</td>\n",
       "      <td>0.0</td>\n",
       "      <td>0.0</td>\n",
       "      <td>0.0</td>\n",
       "      <td>0.0</td>\n",
       "      <td>1.0</td>\n",
       "      <td>0.0</td>\n",
       "      <td>0.0</td>\n",
       "      <td>0.0</td>\n",
       "      <td>1.0</td>\n",
       "      <td>0.0</td>\n",
       "    </tr>\n",
       "    <tr>\n",
       "      <th>1259</th>\n",
       "      <td>-15.0</td>\n",
       "      <td>0.467</td>\n",
       "      <td>14.3</td>\n",
       "      <td>0.545703</td>\n",
       "      <td>0.715000</td>\n",
       "      <td>0.948767</td>\n",
       "      <td>-0.750000</td>\n",
       "      <td>19.701088</td>\n",
       "      <td>0.0</td>\n",
       "      <td>TOR</td>\n",
       "      <td>...</td>\n",
       "      <td>0.0</td>\n",
       "      <td>1.0</td>\n",
       "      <td>0.0</td>\n",
       "      <td>0.0</td>\n",
       "      <td>1.0</td>\n",
       "      <td>0.0</td>\n",
       "      <td>0.0</td>\n",
       "      <td>0.0</td>\n",
       "      <td>0.0</td>\n",
       "      <td>1.0</td>\n",
       "    </tr>\n",
       "  </tbody>\n",
       "</table>\n",
       "<p>5 rows × 64 columns</p>\n",
       "</div>"
      ],
      "text/plain": [
       "      game_result    FG%  GmSc       TS%  GmSc-Per-PTS  PTS-Per-POSS  \\\n",
       "1255         10.0  0.571  31.3  0.657778      0.845946      1.170886   \n",
       "1256          9.0  0.412  25.8  0.591966      0.921429      1.208981   \n",
       "1257         -2.0  0.545  24.7  0.594872      0.851724      1.106870   \n",
       "1258          2.0  0.316   9.6  0.401003      0.600000      0.699301   \n",
       "1259        -15.0  0.467  14.3  0.545703      0.715000      0.948767   \n",
       "\n",
       "      game_result-Per-PTS        PER  game_location  Opp  ...  SEA  TOR  UTA  \\\n",
       "1255             0.270270  41.786472            1.0  MIL  ...  0.0  0.0  0.0   \n",
       "1256             0.321429  36.256500            0.0  LAC  ...  0.0  0.0  0.0   \n",
       "1257            -0.068966  35.312382            1.0  BRK  ...  0.0  0.0  0.0   \n",
       "1258             0.125000  12.610471            1.0  LAC  ...  0.0  0.0  0.0   \n",
       "1259            -0.750000  19.701088            0.0  TOR  ...  0.0  1.0  0.0   \n",
       "\n",
       "      WAS  decline  prime rising  above 35  below 20  below 35  \n",
       "1255  0.0      1.0    0.0    0.0       1.0       0.0       0.0  \n",
       "1256  0.0      1.0    0.0    0.0       0.0       0.0       1.0  \n",
       "1257  0.0      1.0    0.0    0.0       0.0       0.0       1.0  \n",
       "1258  0.0      1.0    0.0    0.0       0.0       1.0       0.0  \n",
       "1259  0.0      1.0    0.0    0.0       0.0       0.0       1.0  \n",
       "\n",
       "[5 rows x 64 columns]"
      ]
     },
     "execution_count": 102,
     "metadata": {},
     "output_type": "execute_result"
    }
   ],
   "source": [
    "sig_df.tail()"
   ]
  },
  {
   "cell_type": "code",
   "execution_count": 103,
   "metadata": {},
   "outputs": [
    {
     "data": {
      "text/plain": [
       "[('Opp', LabelBinarizer()),\n",
       " ('Career-Stage', LabelBinarizer()),\n",
       " ('PTS-Cat', LabelBinarizer())]"
      ]
     },
     "execution_count": 103,
     "metadata": {},
     "output_type": "execute_result"
    }
   ],
   "source": [
    "label_bins"
   ]
  },
  {
   "cell_type": "code",
   "execution_count": 104,
   "metadata": {},
   "outputs": [
    {
     "data": {
      "text/html": [
       "<div>\n",
       "<style scoped>\n",
       "    .dataframe tbody tr th:only-of-type {\n",
       "        vertical-align: middle;\n",
       "    }\n",
       "\n",
       "    .dataframe tbody tr th {\n",
       "        vertical-align: top;\n",
       "    }\n",
       "\n",
       "    .dataframe thead th {\n",
       "        text-align: right;\n",
       "    }\n",
       "</style>\n",
       "<table border=\"1\" class=\"dataframe\">\n",
       "  <thead>\n",
       "    <tr style=\"text-align: right;\">\n",
       "      <th></th>\n",
       "      <th>Opp</th>\n",
       "      <th>Career-Stage</th>\n",
       "      <th>PTS-Cat</th>\n",
       "    </tr>\n",
       "  </thead>\n",
       "  <tbody>\n",
       "    <tr>\n",
       "      <th>0</th>\n",
       "      <td>SAC</td>\n",
       "      <td>rising</td>\n",
       "      <td>below 35</td>\n",
       "    </tr>\n",
       "    <tr>\n",
       "      <th>1</th>\n",
       "      <td>PHO</td>\n",
       "      <td>rising</td>\n",
       "      <td>below 35</td>\n",
       "    </tr>\n",
       "    <tr>\n",
       "      <th>2</th>\n",
       "      <td>POR</td>\n",
       "      <td>rising</td>\n",
       "      <td>below 20</td>\n",
       "    </tr>\n",
       "    <tr>\n",
       "      <th>3</th>\n",
       "      <td>DEN</td>\n",
       "      <td>rising</td>\n",
       "      <td>below 20</td>\n",
       "    </tr>\n",
       "    <tr>\n",
       "      <th>4</th>\n",
       "      <td>IND</td>\n",
       "      <td>rising</td>\n",
       "      <td>below 35</td>\n",
       "    </tr>\n",
       "    <tr>\n",
       "      <th>...</th>\n",
       "      <td>...</td>\n",
       "      <td>...</td>\n",
       "      <td>...</td>\n",
       "    </tr>\n",
       "    <tr>\n",
       "      <th>1255</th>\n",
       "      <td>MIL</td>\n",
       "      <td>decline</td>\n",
       "      <td>above 35</td>\n",
       "    </tr>\n",
       "    <tr>\n",
       "      <th>1256</th>\n",
       "      <td>LAC</td>\n",
       "      <td>decline</td>\n",
       "      <td>below 35</td>\n",
       "    </tr>\n",
       "    <tr>\n",
       "      <th>1257</th>\n",
       "      <td>BRK</td>\n",
       "      <td>decline</td>\n",
       "      <td>below 35</td>\n",
       "    </tr>\n",
       "    <tr>\n",
       "      <th>1258</th>\n",
       "      <td>LAC</td>\n",
       "      <td>decline</td>\n",
       "      <td>below 20</td>\n",
       "    </tr>\n",
       "    <tr>\n",
       "      <th>1259</th>\n",
       "      <td>TOR</td>\n",
       "      <td>decline</td>\n",
       "      <td>below 35</td>\n",
       "    </tr>\n",
       "  </tbody>\n",
       "</table>\n",
       "<p>1260 rows × 3 columns</p>\n",
       "</div>"
      ],
      "text/plain": [
       "      Opp Career-Stage   PTS-Cat\n",
       "0     SAC       rising  below 35\n",
       "1     PHO       rising  below 35\n",
       "2     POR       rising  below 20\n",
       "3     DEN       rising  below 20\n",
       "4     IND       rising  below 35\n",
       "...   ...          ...       ...\n",
       "1255  MIL      decline  above 35\n",
       "1256  LAC      decline  below 35\n",
       "1257  BRK      decline  below 35\n",
       "1258  LAC      decline  below 20\n",
       "1259  TOR      decline  below 35\n",
       "\n",
       "[1260 rows x 3 columns]"
      ]
     },
     "execution_count": 104,
     "metadata": {},
     "output_type": "execute_result"
    }
   ],
   "source": [
    "sig_df.select_dtypes(include=[\"object\"])"
   ]
  },
  {
   "cell_type": "markdown",
   "metadata": {},
   "source": [
    "<h2>Perform Machine Learning with Opposition Team Feature Included</h2>"
   ]
  },
  {
   "cell_type": "code",
   "execution_count": 105,
   "metadata": {},
   "outputs": [],
   "source": [
    "std_scaler = StandardScaler()"
   ]
  },
  {
   "cell_type": "code",
   "execution_count": 106,
   "metadata": {},
   "outputs": [],
   "source": [
    "one_hot_encoded_sig_df = sig_df.select_dtypes(exclude=[\"object\"])"
   ]
  },
  {
   "cell_type": "code",
   "execution_count": 107,
   "metadata": {},
   "outputs": [],
   "source": [
    "target = full_game_df[\"+/-\"]"
   ]
  },
  {
   "cell_type": "code",
   "execution_count": 108,
   "metadata": {},
   "outputs": [
    {
     "data": {
      "text/plain": [
       "Index(['game_result', 'FG%', 'GmSc', 'TS%', 'GmSc-Per-PTS', 'PTS-Per-POSS',\n",
       "       'game_result-Per-PTS', 'PER', 'game_location', 'Won',\n",
       "       'High-3P%-Shooting', 'High-FG%-Shooting', 'Over-3-BLKs-and-STLs',\n",
       "       'Played-Above-Avg-Min', 'Above-Avg-FT%', 'Above-Avg-PTS-Per-POSS',\n",
       "       'More-BLKs-Than-STLs', 'More-AST-Than-TOV', '2P%-Above-50%',\n",
       "       'More than 3 Fouls', 'ATL', 'BOS', 'BRK', 'CHA', 'CHI', 'CHO', 'CLE',\n",
       "       'DAL', 'DEN', 'DET', 'GSW', 'HOU', 'IND', 'LAC', 'LAL', 'MEM', 'MIA',\n",
       "       'MIL', 'MIN', 'NJN', 'NOH', 'NOK', 'NOP', 'NYK', 'OKC', 'ORL', 'PHI',\n",
       "       'PHO', 'POR', 'SAC', 'SAS', 'SEA', 'TOR', 'UTA', 'WAS', 'decline',\n",
       "       'prime', 'rising', 'above 35', 'below 20', 'below 35'],\n",
       "      dtype='object')"
      ]
     },
     "execution_count": 108,
     "metadata": {},
     "output_type": "execute_result"
    }
   ],
   "source": [
    "one_hot_encoded_sig_df.columns"
   ]
  },
  {
   "cell_type": "code",
   "execution_count": 109,
   "metadata": {},
   "outputs": [],
   "source": [
    "std_scale_sig_data = std_scaler.fit_transform(one_hot_encoded_sig_df.values)"
   ]
  },
  {
   "cell_type": "code",
   "execution_count": 110,
   "metadata": {},
   "outputs": [],
   "source": [
    "std_scale_sig_df = pd.DataFrame(std_scale_sig_data,columns=one_hot_encoded_sig_df.columns)"
   ]
  },
  {
   "cell_type": "code",
   "execution_count": 111,
   "metadata": {},
   "outputs": [
    {
     "data": {
      "text/html": [
       "<div>\n",
       "<style scoped>\n",
       "    .dataframe tbody tr th:only-of-type {\n",
       "        vertical-align: middle;\n",
       "    }\n",
       "\n",
       "    .dataframe tbody tr th {\n",
       "        vertical-align: top;\n",
       "    }\n",
       "\n",
       "    .dataframe thead th {\n",
       "        text-align: right;\n",
       "    }\n",
       "</style>\n",
       "<table border=\"1\" class=\"dataframe\">\n",
       "  <thead>\n",
       "    <tr style=\"text-align: right;\">\n",
       "      <th></th>\n",
       "      <th>game_result</th>\n",
       "      <th>FG%</th>\n",
       "      <th>GmSc</th>\n",
       "      <th>TS%</th>\n",
       "      <th>GmSc-Per-PTS</th>\n",
       "      <th>PTS-Per-POSS</th>\n",
       "      <th>game_result-Per-PTS</th>\n",
       "      <th>PER</th>\n",
       "      <th>game_location</th>\n",
       "      <th>Won</th>\n",
       "      <th>...</th>\n",
       "      <th>SEA</th>\n",
       "      <th>TOR</th>\n",
       "      <th>UTA</th>\n",
       "      <th>WAS</th>\n",
       "      <th>decline</th>\n",
       "      <th>prime</th>\n",
       "      <th>rising</th>\n",
       "      <th>above 35</th>\n",
       "      <th>below 20</th>\n",
       "      <th>below 35</th>\n",
       "    </tr>\n",
       "  </thead>\n",
       "  <tbody>\n",
       "    <tr>\n",
       "      <th>0</th>\n",
       "      <td>-1.420272</td>\n",
       "      <td>0.846395</td>\n",
       "      <td>0.318334</td>\n",
       "      <td>0.027535</td>\n",
       "      <td>0.942241</td>\n",
       "      <td>0.480218</td>\n",
       "      <td>-1.126608</td>\n",
       "      <td>0.098135</td>\n",
       "      <td>-1.009570</td>\n",
       "      <td>-1.406671</td>\n",
       "      <td>...</td>\n",
       "      <td>-0.079936</td>\n",
       "      <td>-0.213643</td>\n",
       "      <td>-0.161427</td>\n",
       "      <td>-0.205387</td>\n",
       "      <td>-0.386827</td>\n",
       "      <td>-0.766095</td>\n",
       "      <td>1.0</td>\n",
       "      <td>-0.439525</td>\n",
       "      <td>-0.456129</td>\n",
       "      <td>0.708370</td>\n",
       "    </tr>\n",
       "    <tr>\n",
       "      <th>1</th>\n",
       "      <td>-1.035821</td>\n",
       "      <td>-0.304266</td>\n",
       "      <td>-0.975332</td>\n",
       "      <td>-0.576938</td>\n",
       "      <td>-0.652382</td>\n",
       "      <td>-1.059284</td>\n",
       "      <td>-0.920912</td>\n",
       "      <td>-1.119288</td>\n",
       "      <td>-1.009570</td>\n",
       "      <td>-1.406671</td>\n",
       "      <td>...</td>\n",
       "      <td>-0.079936</td>\n",
       "      <td>-0.213643</td>\n",
       "      <td>-0.161427</td>\n",
       "      <td>-0.205387</td>\n",
       "      <td>-0.386827</td>\n",
       "      <td>-0.766095</td>\n",
       "      <td>1.0</td>\n",
       "      <td>-0.439525</td>\n",
       "      <td>-0.456129</td>\n",
       "      <td>0.708370</td>\n",
       "    </tr>\n",
       "    <tr>\n",
       "      <th>2</th>\n",
       "      <td>-1.804724</td>\n",
       "      <td>-2.275553</td>\n",
       "      <td>-2.230188</td>\n",
       "      <td>-2.455923</td>\n",
       "      <td>-1.067648</td>\n",
       "      <td>-2.435320</td>\n",
       "      <td>-3.967223</td>\n",
       "      <td>-2.240462</td>\n",
       "      <td>-1.009570</td>\n",
       "      <td>-1.406671</td>\n",
       "      <td>...</td>\n",
       "      <td>-0.079936</td>\n",
       "      <td>-0.213643</td>\n",
       "      <td>-0.161427</td>\n",
       "      <td>-0.205387</td>\n",
       "      <td>-0.386827</td>\n",
       "      <td>-0.766095</td>\n",
       "      <td>1.0</td>\n",
       "      <td>-0.439525</td>\n",
       "      <td>2.192362</td>\n",
       "      <td>-1.411692</td>\n",
       "    </tr>\n",
       "    <tr>\n",
       "      <th>3</th>\n",
       "      <td>-0.651370</td>\n",
       "      <td>-2.070397</td>\n",
       "      <td>-1.428115</td>\n",
       "      <td>-2.490924</td>\n",
       "      <td>4.330813</td>\n",
       "      <td>-2.094377</td>\n",
       "      <td>-1.144495</td>\n",
       "      <td>-1.473457</td>\n",
       "      <td>0.990521</td>\n",
       "      <td>-1.406671</td>\n",
       "      <td>...</td>\n",
       "      <td>-0.079936</td>\n",
       "      <td>-0.213643</td>\n",
       "      <td>-0.161427</td>\n",
       "      <td>-0.205387</td>\n",
       "      <td>-0.386827</td>\n",
       "      <td>-0.766095</td>\n",
       "      <td>1.0</td>\n",
       "      <td>-0.439525</td>\n",
       "      <td>2.192362</td>\n",
       "      <td>-1.411692</td>\n",
       "    </tr>\n",
       "    <tr>\n",
       "      <th>4</th>\n",
       "      <td>-0.420699</td>\n",
       "      <td>-0.545102</td>\n",
       "      <td>-1.712722</td>\n",
       "      <td>-0.371893</td>\n",
       "      <td>-2.361593</td>\n",
       "      <td>-1.142999</td>\n",
       "      <td>-0.318212</td>\n",
       "      <td>-1.924908</td>\n",
       "      <td>-1.009570</td>\n",
       "      <td>-1.406671</td>\n",
       "      <td>...</td>\n",
       "      <td>-0.079936</td>\n",
       "      <td>-0.213643</td>\n",
       "      <td>-0.161427</td>\n",
       "      <td>-0.205387</td>\n",
       "      <td>-0.386827</td>\n",
       "      <td>-0.766095</td>\n",
       "      <td>1.0</td>\n",
       "      <td>-0.439525</td>\n",
       "      <td>-0.456129</td>\n",
       "      <td>0.708370</td>\n",
       "    </tr>\n",
       "  </tbody>\n",
       "</table>\n",
       "<p>5 rows × 61 columns</p>\n",
       "</div>"
      ],
      "text/plain": [
       "   game_result       FG%      GmSc       TS%  GmSc-Per-PTS  PTS-Per-POSS  \\\n",
       "0    -1.420272  0.846395  0.318334  0.027535      0.942241      0.480218   \n",
       "1    -1.035821 -0.304266 -0.975332 -0.576938     -0.652382     -1.059284   \n",
       "2    -1.804724 -2.275553 -2.230188 -2.455923     -1.067648     -2.435320   \n",
       "3    -0.651370 -2.070397 -1.428115 -2.490924      4.330813     -2.094377   \n",
       "4    -0.420699 -0.545102 -1.712722 -0.371893     -2.361593     -1.142999   \n",
       "\n",
       "   game_result-Per-PTS       PER  game_location       Won  ...       SEA  \\\n",
       "0            -1.126608  0.098135      -1.009570 -1.406671  ... -0.079936   \n",
       "1            -0.920912 -1.119288      -1.009570 -1.406671  ... -0.079936   \n",
       "2            -3.967223 -2.240462      -1.009570 -1.406671  ... -0.079936   \n",
       "3            -1.144495 -1.473457       0.990521 -1.406671  ... -0.079936   \n",
       "4            -0.318212 -1.924908      -1.009570 -1.406671  ... -0.079936   \n",
       "\n",
       "        TOR       UTA       WAS   decline     prime  rising  above 35  \\\n",
       "0 -0.213643 -0.161427 -0.205387 -0.386827 -0.766095     1.0 -0.439525   \n",
       "1 -0.213643 -0.161427 -0.205387 -0.386827 -0.766095     1.0 -0.439525   \n",
       "2 -0.213643 -0.161427 -0.205387 -0.386827 -0.766095     1.0 -0.439525   \n",
       "3 -0.213643 -0.161427 -0.205387 -0.386827 -0.766095     1.0 -0.439525   \n",
       "4 -0.213643 -0.161427 -0.205387 -0.386827 -0.766095     1.0 -0.439525   \n",
       "\n",
       "   below 20  below 35  \n",
       "0 -0.456129  0.708370  \n",
       "1 -0.456129  0.708370  \n",
       "2  2.192362 -1.411692  \n",
       "3  2.192362 -1.411692  \n",
       "4 -0.456129  0.708370  \n",
       "\n",
       "[5 rows x 61 columns]"
      ]
     },
     "execution_count": 111,
     "metadata": {},
     "output_type": "execute_result"
    }
   ],
   "source": [
    "std_scale_sig_df.head()"
   ]
  },
  {
   "cell_type": "code",
   "execution_count": 112,
   "metadata": {},
   "outputs": [],
   "source": [
    "std_scale_sig_df[\"+/-\"] = target"
   ]
  },
  {
   "cell_type": "code",
   "execution_count": 113,
   "metadata": {},
   "outputs": [
    {
     "name": "stdout",
     "output_type": "stream",
     "text": [
      "There are 62 columns\n"
     ]
    },
    {
     "data": {
      "text/plain": [
       "Index(['game_result', 'FG%', 'GmSc', 'TS%', 'GmSc-Per-PTS', 'PTS-Per-POSS',\n",
       "       'game_result-Per-PTS', 'PER', 'game_location', 'Won',\n",
       "       'High-3P%-Shooting', 'High-FG%-Shooting', 'Over-3-BLKs-and-STLs',\n",
       "       'Played-Above-Avg-Min', 'Above-Avg-FT%', 'Above-Avg-PTS-Per-POSS',\n",
       "       'More-BLKs-Than-STLs', 'More-AST-Than-TOV', '2P%-Above-50%',\n",
       "       'More than 3 Fouls', 'ATL', 'BOS', 'BRK', 'CHA', 'CHI', 'CHO', 'CLE',\n",
       "       'DAL', 'DEN', 'DET', 'GSW', 'HOU', 'IND', 'LAC', 'LAL', 'MEM', 'MIA',\n",
       "       'MIL', 'MIN', 'NJN', 'NOH', 'NOK', 'NOP', 'NYK', 'OKC', 'ORL', 'PHI',\n",
       "       'PHO', 'POR', 'SAC', 'SAS', 'SEA', 'TOR', 'UTA', 'WAS', 'decline',\n",
       "       'prime', 'rising', 'above 35', 'below 20', 'below 35', '+/-'],\n",
       "      dtype='object')"
      ]
     },
     "execution_count": 113,
     "metadata": {},
     "output_type": "execute_result"
    }
   ],
   "source": [
    "print(f\"There are {len(std_scale_sig_df.columns)} columns\")\n",
    "std_scale_sig_df.columns"
   ]
  },
  {
   "cell_type": "code",
   "execution_count": 114,
   "metadata": {},
   "outputs": [],
   "source": [
    "ln = LinearRegression()"
   ]
  },
  {
   "cell_type": "code",
   "execution_count": 115,
   "metadata": {},
   "outputs": [],
   "source": [
    "X_train, X_test, y_train, y_test = train_test_split(std_scale_sig_df.drop(\"+/-\",axis=1), std_scale_sig_df[\"+/-\"], test_size=0.33, random_state=42)"
   ]
  },
  {
   "cell_type": "code",
   "execution_count": 116,
   "metadata": {},
   "outputs": [
    {
     "data": {
      "text/plain": [
       "LinearRegression()"
      ]
     },
     "execution_count": 116,
     "metadata": {},
     "output_type": "execute_result"
    }
   ],
   "source": [
    "ln.fit(X_train,y_train)"
   ]
  },
  {
   "cell_type": "code",
   "execution_count": 117,
   "metadata": {},
   "outputs": [],
   "source": [
    "y_pred = ln.predict(X_test)"
   ]
  },
  {
   "cell_type": "code",
   "execution_count": 118,
   "metadata": {},
   "outputs": [
    {
     "name": "stdout",
     "output_type": "stream",
     "text": [
      "The root mean squared error is 6.73 points\n"
     ]
    }
   ],
   "source": [
    "rmse = mean_squared_error(y_test,y_pred,squared=False)\n",
    "print(f\"The root mean squared error is {round(rmse,2)} points\")"
   ]
  },
  {
   "cell_type": "markdown",
   "metadata": {},
   "source": [
    "<h4>Perform PCA to see if there is any performance improvement</h4>"
   ]
  },
  {
   "cell_type": "code",
   "execution_count": 119,
   "metadata": {},
   "outputs": [],
   "source": [
    "pca = PCA()"
   ]
  },
  {
   "cell_type": "code",
   "execution_count": 120,
   "metadata": {},
   "outputs": [
    {
     "data": {
      "text/plain": [
       "array([[ 1.22980724e+01, -1.40787345e+01,  2.42832188e-01, ...,\n",
       "        -6.90215163e-15, -3.20754327e-15,  6.21976989e-16],\n",
       "       [ 1.91805886e+01,  1.15836357e+00, -1.02894998e-01, ...,\n",
       "        -5.37548508e-15,  2.84616663e-15,  3.73714869e-16],\n",
       "       [ 3.66022808e+01,  5.70160028e+00,  1.21759167e+00, ...,\n",
       "         8.65901084e-15, -1.50315547e-15, -2.67354734e-15],\n",
       "       ...,\n",
       "       [-2.94536778e-02, -9.42423770e+00,  3.17168525e+00, ...,\n",
       "         2.48691146e-16,  4.29883964e-16, -1.64573798e-16],\n",
       "       [ 1.52195511e+01,  1.34507127e+01,  4.33292335e-01, ...,\n",
       "         1.10134257e-15, -7.19467988e-16,  7.15628363e-17],\n",
       "       [ 2.22283309e+01, -4.13636504e+00,  2.64395164e+00, ...,\n",
       "         5.91824373e-17, -7.99715897e-16,  6.07131875e-17]])"
      ]
     },
     "execution_count": 120,
     "metadata": {},
     "output_type": "execute_result"
    }
   ],
   "source": [
    "pca.fit_transform(one_hot_encoded_sig_df.values)"
   ]
  },
  {
   "cell_type": "code",
   "execution_count": 121,
   "metadata": {},
   "outputs": [
    {
     "data": {
      "text/plain": [
       "0.9999999999999999"
      ]
     },
     "execution_count": 121,
     "metadata": {},
     "output_type": "execute_result"
    }
   ],
   "source": [
    "sum(pca.explained_variance_ratio_)"
   ]
  },
  {
   "cell_type": "code",
   "execution_count": 122,
   "metadata": {},
   "outputs": [],
   "source": [
    "cum_sum = np.cumsum(pca.explained_variance_ratio_)"
   ]
  },
  {
   "cell_type": "code",
   "execution_count": 123,
   "metadata": {},
   "outputs": [
    {
     "data": {
      "text/plain": [
       "array([0.67031867, 0.96991066, 0.9885964 , 0.98986853, 0.99085044,\n",
       "       0.99170973, 0.99243473, 0.99313582, 0.9937931 , 0.99432719,\n",
       "       0.99475935, 0.99518668, 0.99555267, 0.99586447, 0.99613883,\n",
       "       0.99640877, 0.99664001, 0.99682893, 0.99701074, 0.99715406,\n",
       "       0.99728677, 0.9974192 , 0.99754959, 0.99767852, 0.99780717,\n",
       "       0.99793271, 0.99805723, 0.99817847, 0.99829773, 0.9984137 ,\n",
       "       0.99851401, 0.99860365, 0.99868512, 0.99876566, 0.99884495,\n",
       "       0.99892396, 0.99900215, 0.99907944, 0.99915482, 0.99922906,\n",
       "       0.99930273, 0.99937534, 0.99944576, 0.99951497, 0.99958358,\n",
       "       0.99965144, 0.99970973, 0.99975891, 0.99980061, 0.99983945,\n",
       "       0.99987667, 0.99991203, 0.99993937, 0.99996275, 0.99998162,\n",
       "       0.99999114, 0.99999847, 1.        , 1.        , 1.        ,\n",
       "       1.        ])"
      ]
     },
     "execution_count": 123,
     "metadata": {},
     "output_type": "execute_result"
    }
   ],
   "source": [
    "cum_sum"
   ]
  },
  {
   "cell_type": "code",
   "execution_count": 124,
   "metadata": {},
   "outputs": [
    {
     "data": {
      "text/plain": [
       "1"
      ]
     },
     "execution_count": 124,
     "metadata": {},
     "output_type": "execute_result"
    }
   ],
   "source": [
    "np.argmax(cum_sum>0.95)"
   ]
  },
  {
   "cell_type": "code",
   "execution_count": 125,
   "metadata": {},
   "outputs": [],
   "source": [
    "pca = PCA(n_components=2)"
   ]
  },
  {
   "cell_type": "code",
   "execution_count": 126,
   "metadata": {},
   "outputs": [],
   "source": [
    "pca_transformed_sig_data = pca.fit_transform(one_hot_encoded_sig_df.values)"
   ]
  },
  {
   "cell_type": "code",
   "execution_count": 127,
   "metadata": {},
   "outputs": [],
   "source": [
    "ln = LinearRegression()"
   ]
  },
  {
   "cell_type": "code",
   "execution_count": 128,
   "metadata": {},
   "outputs": [],
   "source": [
    "X_train, X_test, y_train, y_test = train_test_split(pca_transformed_sig_data, std_scale_sig_df[\"+/-\"], test_size=0.33, random_state=42)"
   ]
  },
  {
   "cell_type": "code",
   "execution_count": 129,
   "metadata": {},
   "outputs": [
    {
     "data": {
      "text/plain": [
       "LinearRegression()"
      ]
     },
     "execution_count": 129,
     "metadata": {},
     "output_type": "execute_result"
    }
   ],
   "source": [
    "ln.fit(X_train,y_train)"
   ]
  },
  {
   "cell_type": "code",
   "execution_count": 130,
   "metadata": {},
   "outputs": [
    {
     "name": "stdout",
     "output_type": "stream",
     "text": [
      "The root mean squared error is 6.68 points\n"
     ]
    }
   ],
   "source": [
    "y_pred = ln.predict(X_test)\n",
    "rmse = mean_squared_error(y_test,y_pred,squared=False)\n",
    "print(f\"The root mean squared error is {round(rmse,2)} points\")"
   ]
  },
  {
   "cell_type": "markdown",
   "metadata": {},
   "source": [
    "<h2>Remove Opposing Team Columns</h2>"
   ]
  },
  {
   "cell_type": "code",
   "execution_count": 131,
   "metadata": {},
   "outputs": [
    {
     "data": {
      "text/plain": [
       "Index(['game_result', 'FG%', 'GmSc', 'TS%', 'GmSc-Per-PTS', 'PTS-Per-POSS',\n",
       "       'game_result-Per-PTS', 'PER', 'game_location', 'Opp', 'Won',\n",
       "       'High-3P%-Shooting', 'High-FG%-Shooting', 'Over-3-BLKs-and-STLs',\n",
       "       'Played-Above-Avg-Min', 'Above-Avg-FT%', 'Career-Stage',\n",
       "       'Above-Avg-PTS-Per-POSS', 'More-BLKs-Than-STLs', 'More-AST-Than-TOV',\n",
       "       'PTS-Cat', '2P%-Above-50%', 'More than 3 Fouls', 'ATL', 'BOS', 'BRK',\n",
       "       'CHA', 'CHI', 'CHO', 'CLE', 'DAL', 'DEN', 'DET', 'GSW', 'HOU', 'IND',\n",
       "       'LAC', 'LAL', 'MEM', 'MIA', 'MIL', 'MIN', 'NJN', 'NOH', 'NOK', 'NOP',\n",
       "       'NYK', 'OKC', 'ORL', 'PHI', 'PHO', 'POR', 'SAC', 'SAS', 'SEA', 'TOR',\n",
       "       'UTA', 'WAS', 'decline', 'prime', 'rising', 'above 35', 'below 20',\n",
       "       'below 35'],\n",
       "      dtype='object')"
      ]
     },
     "execution_count": 131,
     "metadata": {},
     "output_type": "execute_result"
    }
   ],
   "source": [
    "sig_df.columns"
   ]
  },
  {
   "cell_type": "code",
   "execution_count": 132,
   "metadata": {},
   "outputs": [],
   "source": [
    "teams_lists = ['ATL', 'BOS', 'BRK',\n",
    "       'CHA', 'CHI', 'CHO', 'CLE', 'DAL', 'DEN', 'DET', 'GSW', 'HOU', 'IND',\n",
    "       'LAC', 'LAL', 'MEM', 'MIA', 'MIL', 'MIN', 'NJN', 'NOH', 'NOK', 'NOP',\n",
    "       'NYK', 'OKC', 'ORL', 'PHI', 'PHO', 'POR', 'SAC', 'SAS', 'SEA', 'TOR',\n",
    "       'UTA', 'WAS']"
   ]
  },
  {
   "cell_type": "code",
   "execution_count": 133,
   "metadata": {},
   "outputs": [],
   "source": [
    "non_opp_cols = list(set(sig_df.columns)-set(teams_lists))"
   ]
  },
  {
   "cell_type": "code",
   "execution_count": 134,
   "metadata": {},
   "outputs": [],
   "source": [
    "sig_df_no_opp = sig_df[non_opp_cols].select_dtypes(exclude=[\"object\"])"
   ]
  },
  {
   "cell_type": "code",
   "execution_count": 135,
   "metadata": {},
   "outputs": [
    {
     "data": {
      "text/html": [
       "<div>\n",
       "<style scoped>\n",
       "    .dataframe tbody tr th:only-of-type {\n",
       "        vertical-align: middle;\n",
       "    }\n",
       "\n",
       "    .dataframe tbody tr th {\n",
       "        vertical-align: top;\n",
       "    }\n",
       "\n",
       "    .dataframe thead th {\n",
       "        text-align: right;\n",
       "    }\n",
       "</style>\n",
       "<table border=\"1\" class=\"dataframe\">\n",
       "  <thead>\n",
       "    <tr style=\"text-align: right;\">\n",
       "      <th></th>\n",
       "      <th>More than 3 Fouls</th>\n",
       "      <th>FG%</th>\n",
       "      <th>TS%</th>\n",
       "      <th>decline</th>\n",
       "      <th>GmSc-Per-PTS</th>\n",
       "      <th>PTS-Per-POSS</th>\n",
       "      <th>rising</th>\n",
       "      <th>above 35</th>\n",
       "      <th>More-AST-Than-TOV</th>\n",
       "      <th>Played-Above-Avg-Min</th>\n",
       "      <th>...</th>\n",
       "      <th>High-3P%-Shooting</th>\n",
       "      <th>below 20</th>\n",
       "      <th>GmSc</th>\n",
       "      <th>High-FG%-Shooting</th>\n",
       "      <th>below 35</th>\n",
       "      <th>game_result</th>\n",
       "      <th>PER</th>\n",
       "      <th>2P%-Above-50%</th>\n",
       "      <th>prime</th>\n",
       "      <th>Won</th>\n",
       "    </tr>\n",
       "  </thead>\n",
       "  <tbody>\n",
       "    <tr>\n",
       "      <th>0</th>\n",
       "      <td>0.0</td>\n",
       "      <td>0.600</td>\n",
       "      <td>0.583431</td>\n",
       "      <td>0.0</td>\n",
       "      <td>0.988000</td>\n",
       "      <td>1.172608</td>\n",
       "      <td>1.0</td>\n",
       "      <td>0.0</td>\n",
       "      <td>1.0</td>\n",
       "      <td>1.0</td>\n",
       "      <td>...</td>\n",
       "      <td>0.0</td>\n",
       "      <td>0.0</td>\n",
       "      <td>24.7</td>\n",
       "      <td>1.0</td>\n",
       "      <td>1.0</td>\n",
       "      <td>-14.0</td>\n",
       "      <td>29.277048</td>\n",
       "      <td>1.0</td>\n",
       "      <td>0.0</td>\n",
       "      <td>0.0</td>\n",
       "    </tr>\n",
       "    <tr>\n",
       "      <th>1</th>\n",
       "      <td>0.0</td>\n",
       "      <td>0.471</td>\n",
       "      <td>0.516605</td>\n",
       "      <td>0.0</td>\n",
       "      <td>0.700000</td>\n",
       "      <td>0.837321</td>\n",
       "      <td>1.0</td>\n",
       "      <td>0.0</td>\n",
       "      <td>1.0</td>\n",
       "      <td>1.0</td>\n",
       "      <td>...</td>\n",
       "      <td>0.0</td>\n",
       "      <td>0.0</td>\n",
       "      <td>14.7</td>\n",
       "      <td>0.0</td>\n",
       "      <td>1.0</td>\n",
       "      <td>-9.0</td>\n",
       "      <td>16.893600</td>\n",
       "      <td>1.0</td>\n",
       "      <td>0.0</td>\n",
       "      <td>0.0</td>\n",
       "    </tr>\n",
       "    <tr>\n",
       "      <th>2</th>\n",
       "      <td>0.0</td>\n",
       "      <td>0.250</td>\n",
       "      <td>0.308880</td>\n",
       "      <td>0.0</td>\n",
       "      <td>0.625000</td>\n",
       "      <td>0.537634</td>\n",
       "      <td>1.0</td>\n",
       "      <td>0.0</td>\n",
       "      <td>1.0</td>\n",
       "      <td>1.0</td>\n",
       "      <td>...</td>\n",
       "      <td>0.0</td>\n",
       "      <td>1.0</td>\n",
       "      <td>5.0</td>\n",
       "      <td>0.0</td>\n",
       "      <td>0.0</td>\n",
       "      <td>-19.0</td>\n",
       "      <td>5.489179</td>\n",
       "      <td>0.0</td>\n",
       "      <td>0.0</td>\n",
       "      <td>0.0</td>\n",
       "    </tr>\n",
       "    <tr>\n",
       "      <th>3</th>\n",
       "      <td>0.0</td>\n",
       "      <td>0.273</td>\n",
       "      <td>0.305011</td>\n",
       "      <td>0.0</td>\n",
       "      <td>1.600000</td>\n",
       "      <td>0.611888</td>\n",
       "      <td>1.0</td>\n",
       "      <td>0.0</td>\n",
       "      <td>1.0</td>\n",
       "      <td>1.0</td>\n",
       "      <td>...</td>\n",
       "      <td>0.0</td>\n",
       "      <td>1.0</td>\n",
       "      <td>11.2</td>\n",
       "      <td>0.0</td>\n",
       "      <td>0.0</td>\n",
       "      <td>-4.0</td>\n",
       "      <td>13.291049</td>\n",
       "      <td>0.0</td>\n",
       "      <td>0.0</td>\n",
       "      <td>0.0</td>\n",
       "    </tr>\n",
       "    <tr>\n",
       "      <th>4</th>\n",
       "      <td>0.0</td>\n",
       "      <td>0.444</td>\n",
       "      <td>0.539273</td>\n",
       "      <td>0.0</td>\n",
       "      <td>0.391304</td>\n",
       "      <td>0.819088</td>\n",
       "      <td>1.0</td>\n",
       "      <td>0.0</td>\n",
       "      <td>0.0</td>\n",
       "      <td>1.0</td>\n",
       "      <td>...</td>\n",
       "      <td>1.0</td>\n",
       "      <td>0.0</td>\n",
       "      <td>9.0</td>\n",
       "      <td>0.0</td>\n",
       "      <td>1.0</td>\n",
       "      <td>-1.0</td>\n",
       "      <td>8.698953</td>\n",
       "      <td>0.0</td>\n",
       "      <td>0.0</td>\n",
       "      <td>0.0</td>\n",
       "    </tr>\n",
       "  </tbody>\n",
       "</table>\n",
       "<p>5 rows × 26 columns</p>\n",
       "</div>"
      ],
      "text/plain": [
       "   More than 3 Fouls    FG%       TS%  decline  GmSc-Per-PTS  PTS-Per-POSS  \\\n",
       "0                0.0  0.600  0.583431      0.0      0.988000      1.172608   \n",
       "1                0.0  0.471  0.516605      0.0      0.700000      0.837321   \n",
       "2                0.0  0.250  0.308880      0.0      0.625000      0.537634   \n",
       "3                0.0  0.273  0.305011      0.0      1.600000      0.611888   \n",
       "4                0.0  0.444  0.539273      0.0      0.391304      0.819088   \n",
       "\n",
       "   rising  above 35  More-AST-Than-TOV  Played-Above-Avg-Min  ...  \\\n",
       "0     1.0       0.0                1.0                   1.0  ...   \n",
       "1     1.0       0.0                1.0                   1.0  ...   \n",
       "2     1.0       0.0                1.0                   1.0  ...   \n",
       "3     1.0       0.0                1.0                   1.0  ...   \n",
       "4     1.0       0.0                0.0                   1.0  ...   \n",
       "\n",
       "   High-3P%-Shooting  below 20  GmSc  High-FG%-Shooting  below 35  \\\n",
       "0                0.0       0.0  24.7                1.0       1.0   \n",
       "1                0.0       0.0  14.7                0.0       1.0   \n",
       "2                0.0       1.0   5.0                0.0       0.0   \n",
       "3                0.0       1.0  11.2                0.0       0.0   \n",
       "4                1.0       0.0   9.0                0.0       1.0   \n",
       "\n",
       "   game_result        PER  2P%-Above-50%  prime  Won  \n",
       "0        -14.0  29.277048            1.0    0.0  0.0  \n",
       "1         -9.0  16.893600            1.0    0.0  0.0  \n",
       "2        -19.0   5.489179            0.0    0.0  0.0  \n",
       "3         -4.0  13.291049            0.0    0.0  0.0  \n",
       "4         -1.0   8.698953            0.0    0.0  0.0  \n",
       "\n",
       "[5 rows x 26 columns]"
      ]
     },
     "execution_count": 135,
     "metadata": {},
     "output_type": "execute_result"
    }
   ],
   "source": [
    "sig_df_no_opp.head()"
   ]
  },
  {
   "cell_type": "code",
   "execution_count": 136,
   "metadata": {},
   "outputs": [],
   "source": [
    "std_scaler = StandardScaler()"
   ]
  },
  {
   "cell_type": "code",
   "execution_count": 137,
   "metadata": {},
   "outputs": [],
   "source": [
    "sig_no_opp_data = std_scaler.fit_transform(sig_df_no_opp.values)"
   ]
  },
  {
   "cell_type": "code",
   "execution_count": 138,
   "metadata": {},
   "outputs": [],
   "source": [
    "ln = LinearRegression()"
   ]
  },
  {
   "cell_type": "code",
   "execution_count": 139,
   "metadata": {},
   "outputs": [],
   "source": [
    "X_train, X_test, y_train, y_test = train_test_split(sig_no_opp_data, std_scale_sig_df[\"+/-\"], test_size=0.33, random_state=42)"
   ]
  },
  {
   "cell_type": "code",
   "execution_count": 140,
   "metadata": {},
   "outputs": [
    {
     "data": {
      "text/plain": [
       "LinearRegression()"
      ]
     },
     "execution_count": 140,
     "metadata": {},
     "output_type": "execute_result"
    }
   ],
   "source": [
    "ln.fit(X_train,y_train)"
   ]
  },
  {
   "cell_type": "code",
   "execution_count": 141,
   "metadata": {},
   "outputs": [
    {
     "name": "stdout",
     "output_type": "stream",
     "text": [
      "The root mean squared error is 6.64 points\n"
     ]
    }
   ],
   "source": [
    "y_pred = ln.predict(X_test)\n",
    "rmse = mean_squared_error(y_test,y_pred,squared=False)\n",
    "print(f\"The root mean squared error is {round(rmse,2)} points\")"
   ]
  },
  {
   "cell_type": "markdown",
   "metadata": {},
   "source": [
    "<h4>Performance Analysis with PCA</h4>"
   ]
  },
  {
   "cell_type": "code",
   "execution_count": 142,
   "metadata": {},
   "outputs": [],
   "source": [
    "pca = PCA()"
   ]
  },
  {
   "cell_type": "code",
   "execution_count": 143,
   "metadata": {},
   "outputs": [],
   "source": [
    "sig_df_no_opp_w_pca = pca.fit_transform(sig_df_no_opp)"
   ]
  },
  {
   "cell_type": "code",
   "execution_count": 144,
   "metadata": {},
   "outputs": [],
   "source": [
    "pca_cumsum = np.cumsum(pca.explained_variance_ratio_)"
   ]
  },
  {
   "cell_type": "code",
   "execution_count": 145,
   "metadata": {},
   "outputs": [
    {
     "data": {
      "text/plain": [
       "1"
      ]
     },
     "execution_count": 145,
     "metadata": {},
     "output_type": "execute_result"
    }
   ],
   "source": [
    "np.argmax(pca_cumsum>0.95)"
   ]
  },
  {
   "cell_type": "code",
   "execution_count": 146,
   "metadata": {},
   "outputs": [],
   "source": [
    "pca = PCA(n_components=2)"
   ]
  },
  {
   "cell_type": "code",
   "execution_count": 147,
   "metadata": {},
   "outputs": [],
   "source": [
    "sig_df_no_opp_w_pca = pca.fit_transform(sig_df_no_opp)"
   ]
  },
  {
   "cell_type": "code",
   "execution_count": 148,
   "metadata": {},
   "outputs": [],
   "source": [
    "X_train, X_test, y_train, y_test = train_test_split(sig_df_no_opp_w_pca, std_scale_sig_df[\"+/-\"], test_size=0.33, random_state=42)"
   ]
  },
  {
   "cell_type": "code",
   "execution_count": 149,
   "metadata": {},
   "outputs": [],
   "source": [
    "ln = LinearRegression()"
   ]
  },
  {
   "cell_type": "code",
   "execution_count": 150,
   "metadata": {},
   "outputs": [
    {
     "data": {
      "text/plain": [
       "LinearRegression()"
      ]
     },
     "execution_count": 150,
     "metadata": {},
     "output_type": "execute_result"
    }
   ],
   "source": [
    "ln.fit(X_train,y_train)"
   ]
  },
  {
   "cell_type": "code",
   "execution_count": 151,
   "metadata": {},
   "outputs": [
    {
     "name": "stdout",
     "output_type": "stream",
     "text": [
      "The root mean squared error is 6.68 points\n"
     ]
    }
   ],
   "source": [
    "y_pred = ln.predict(X_test)\n",
    "rmse = mean_squared_error(y_test,y_pred,squared=False)\n",
    "print(f\"The root mean squared error is {round(rmse,2)} points\")"
   ]
  },
  {
   "cell_type": "code",
   "execution_count": null,
   "metadata": {},
   "outputs": [],
   "source": []
  },
  {
   "cell_type": "code",
   "execution_count": null,
   "metadata": {},
   "outputs": [],
   "source": []
  }
 ],
 "metadata": {
  "kernelspec": {
   "display_name": "Python 3",
   "language": "python",
   "name": "python3"
  },
  "language_info": {
   "codemirror_mode": {
    "name": "ipython",
    "version": 3
   },
   "file_extension": ".py",
   "mimetype": "text/x-python",
   "name": "python",
   "nbconvert_exporter": "python",
   "pygments_lexer": "ipython3",
   "version": "3.7.5"
  }
 },
 "nbformat": 4,
 "nbformat_minor": 4
}
