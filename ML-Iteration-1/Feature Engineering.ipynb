{
 "cells": [
  {
   "cell_type": "code",
   "execution_count": 1,
   "metadata": {},
   "outputs": [],
   "source": [
    "import pandas as pd\n",
    "import numpy as np\n",
    "import os\n",
    "import matplotlib.pyplot as plt\n",
    "import seaborn as sns\n",
    "import itertools\n",
    "from sklearn.preprocessing import LabelBinarizer, LabelEncoder\n",
    "from datetime import datetime\n",
    "import scipy.stats as stats\n",
    "import pickle"
   ]
  },
  {
   "cell_type": "code",
   "execution_count": 12,
   "metadata": {},
   "outputs": [
    {
     "data": {
      "text/html": [
       "<div>\n",
       "<style scoped>\n",
       "    .dataframe tbody tr th:only-of-type {\n",
       "        vertical-align: middle;\n",
       "    }\n",
       "\n",
       "    .dataframe tbody tr th {\n",
       "        vertical-align: top;\n",
       "    }\n",
       "\n",
       "    .dataframe thead th {\n",
       "        text-align: right;\n",
       "    }\n",
       "</style>\n",
       "<table border=\"1\" class=\"dataframe\">\n",
       "  <thead>\n",
       "    <tr style=\"text-align: right;\">\n",
       "      <th></th>\n",
       "      <th>G</th>\n",
       "      <th>Date</th>\n",
       "      <th>Age</th>\n",
       "      <th>Tm</th>\n",
       "      <th>game_location</th>\n",
       "      <th>Opp</th>\n",
       "      <th>game_result</th>\n",
       "      <th>GS</th>\n",
       "      <th>MP</th>\n",
       "      <th>FG</th>\n",
       "      <th>...</th>\n",
       "      <th>DRB</th>\n",
       "      <th>TRB</th>\n",
       "      <th>AST</th>\n",
       "      <th>STL</th>\n",
       "      <th>BLK</th>\n",
       "      <th>TOV</th>\n",
       "      <th>PF</th>\n",
       "      <th>PTS</th>\n",
       "      <th>GmSc</th>\n",
       "      <th>+/-</th>\n",
       "    </tr>\n",
       "  </thead>\n",
       "  <tbody>\n",
       "    <tr>\n",
       "      <th>0</th>\n",
       "      <td>1.0</td>\n",
       "      <td>2003-10-29</td>\n",
       "      <td>18-303</td>\n",
       "      <td>CLE</td>\n",
       "      <td>@</td>\n",
       "      <td>SAC</td>\n",
       "      <td>L (-14)</td>\n",
       "      <td>1.0</td>\n",
       "      <td>42:50</td>\n",
       "      <td>12.0</td>\n",
       "      <td>...</td>\n",
       "      <td>4.0</td>\n",
       "      <td>6.0</td>\n",
       "      <td>9.0</td>\n",
       "      <td>4.0</td>\n",
       "      <td>0.0</td>\n",
       "      <td>2.0</td>\n",
       "      <td>3.0</td>\n",
       "      <td>25.0</td>\n",
       "      <td>24.7</td>\n",
       "      <td>-9.0</td>\n",
       "    </tr>\n",
       "    <tr>\n",
       "      <th>1</th>\n",
       "      <td>2.0</td>\n",
       "      <td>2003-10-30</td>\n",
       "      <td>18-304</td>\n",
       "      <td>CLE</td>\n",
       "      <td>@</td>\n",
       "      <td>PHO</td>\n",
       "      <td>L (-9)</td>\n",
       "      <td>1.0</td>\n",
       "      <td>40:21</td>\n",
       "      <td>8.0</td>\n",
       "      <td>...</td>\n",
       "      <td>10.0</td>\n",
       "      <td>12.0</td>\n",
       "      <td>8.0</td>\n",
       "      <td>1.0</td>\n",
       "      <td>0.0</td>\n",
       "      <td>7.0</td>\n",
       "      <td>1.0</td>\n",
       "      <td>21.0</td>\n",
       "      <td>14.7</td>\n",
       "      <td>-3.0</td>\n",
       "    </tr>\n",
       "    <tr>\n",
       "      <th>2</th>\n",
       "      <td>3.0</td>\n",
       "      <td>2003-11-01</td>\n",
       "      <td>18-306</td>\n",
       "      <td>CLE</td>\n",
       "      <td>@</td>\n",
       "      <td>POR</td>\n",
       "      <td>L (-19)</td>\n",
       "      <td>1.0</td>\n",
       "      <td>39:10</td>\n",
       "      <td>3.0</td>\n",
       "      <td>...</td>\n",
       "      <td>4.0</td>\n",
       "      <td>4.0</td>\n",
       "      <td>6.0</td>\n",
       "      <td>2.0</td>\n",
       "      <td>0.0</td>\n",
       "      <td>2.0</td>\n",
       "      <td>3.0</td>\n",
       "      <td>8.0</td>\n",
       "      <td>5.0</td>\n",
       "      <td>-21.0</td>\n",
       "    </tr>\n",
       "    <tr>\n",
       "      <th>3</th>\n",
       "      <td>4.0</td>\n",
       "      <td>2003-11-05</td>\n",
       "      <td>18-310</td>\n",
       "      <td>CLE</td>\n",
       "      <td>NaN</td>\n",
       "      <td>DEN</td>\n",
       "      <td>L (-4)</td>\n",
       "      <td>1.0</td>\n",
       "      <td>41:06</td>\n",
       "      <td>3.0</td>\n",
       "      <td>...</td>\n",
       "      <td>9.0</td>\n",
       "      <td>11.0</td>\n",
       "      <td>7.0</td>\n",
       "      <td>2.0</td>\n",
       "      <td>3.0</td>\n",
       "      <td>2.0</td>\n",
       "      <td>1.0</td>\n",
       "      <td>7.0</td>\n",
       "      <td>11.2</td>\n",
       "      <td>-3.0</td>\n",
       "    </tr>\n",
       "    <tr>\n",
       "      <th>4</th>\n",
       "      <td>5.0</td>\n",
       "      <td>2003-11-07</td>\n",
       "      <td>18-312</td>\n",
       "      <td>CLE</td>\n",
       "      <td>@</td>\n",
       "      <td>IND</td>\n",
       "      <td>L (-1)</td>\n",
       "      <td>1.0</td>\n",
       "      <td>43:44</td>\n",
       "      <td>8.0</td>\n",
       "      <td>...</td>\n",
       "      <td>5.0</td>\n",
       "      <td>5.0</td>\n",
       "      <td>3.0</td>\n",
       "      <td>0.0</td>\n",
       "      <td>0.0</td>\n",
       "      <td>7.0</td>\n",
       "      <td>2.0</td>\n",
       "      <td>23.0</td>\n",
       "      <td>9.0</td>\n",
       "      <td>-7.0</td>\n",
       "    </tr>\n",
       "  </tbody>\n",
       "</table>\n",
       "<p>5 rows × 29 columns</p>\n",
       "</div>"
      ],
      "text/plain": [
       "     G        Date     Age   Tm game_location  Opp game_result   GS     MP  \\\n",
       "0  1.0  2003-10-29  18-303  CLE             @  SAC     L (-14)  1.0  42:50   \n",
       "1  2.0  2003-10-30  18-304  CLE             @  PHO      L (-9)  1.0  40:21   \n",
       "2  3.0  2003-11-01  18-306  CLE             @  POR     L (-19)  1.0  39:10   \n",
       "3  4.0  2003-11-05  18-310  CLE           NaN  DEN      L (-4)  1.0  41:06   \n",
       "4  5.0  2003-11-07  18-312  CLE             @  IND      L (-1)  1.0  43:44   \n",
       "\n",
       "     FG  ...   DRB   TRB  AST  STL  BLK  TOV   PF   PTS  GmSc   +/-  \n",
       "0  12.0  ...   4.0   6.0  9.0  4.0  0.0  2.0  3.0  25.0  24.7  -9.0  \n",
       "1   8.0  ...  10.0  12.0  8.0  1.0  0.0  7.0  1.0  21.0  14.7  -3.0  \n",
       "2   3.0  ...   4.0   4.0  6.0  2.0  0.0  2.0  3.0   8.0   5.0 -21.0  \n",
       "3   3.0  ...   9.0  11.0  7.0  2.0  3.0  2.0  1.0   7.0  11.2  -3.0  \n",
       "4   8.0  ...   5.0   5.0  3.0  0.0  0.0  7.0  2.0  23.0   9.0  -7.0  \n",
       "\n",
       "[5 rows x 29 columns]"
      ]
     },
     "execution_count": 12,
     "metadata": {},
     "output_type": "execute_result"
    }
   ],
   "source": [
    "start_year = 2004\n",
    "end_year = 2020\n",
    "full_data = pd.DataFrame()\n",
    "for year in range(start_year, end_year+1):\n",
    "    df = pd.read_csv(os.path.join(\"../\",\"data\",f\"lbj_data_{year}.csv\"))\n",
    "    if full_data.empty:\n",
    "        full_data = df\n",
    "    else:\n",
    "        full_data = pd.concat([full_data,df],ignore_index=True)\n",
    "full_data.head()"
   ]
  },
  {
   "cell_type": "code",
   "execution_count": 13,
   "metadata": {},
   "outputs": [
    {
     "name": "stdout",
     "output_type": "stream",
     "text": [
      "<class 'pandas.core.frame.DataFrame'>\n",
      "RangeIndex: 1260 entries, 0 to 1259\n",
      "Data columns (total 29 columns):\n",
      " #   Column         Non-Null Count  Dtype  \n",
      "---  ------         --------------  -----  \n",
      " 0   G              1260 non-null   float64\n",
      " 1   Date           1260 non-null   object \n",
      " 2   Age            1260 non-null   object \n",
      " 3   Tm             1260 non-null   object \n",
      " 4   game_location  624 non-null    object \n",
      " 5   Opp            1260 non-null   object \n",
      " 6   game_result    1260 non-null   object \n",
      " 7   GS             1260 non-null   float64\n",
      " 8   MP             1260 non-null   object \n",
      " 9   FG             1260 non-null   float64\n",
      " 10  FGA            1260 non-null   float64\n",
      " 11  FG%            1260 non-null   float64\n",
      " 12  3P             1260 non-null   float64\n",
      " 13  3PA            1260 non-null   float64\n",
      " 14  3P%            1220 non-null   float64\n",
      " 15  FT             1260 non-null   float64\n",
      " 16  FTA            1260 non-null   float64\n",
      " 17  FT%            1246 non-null   float64\n",
      " 18  ORB            1260 non-null   float64\n",
      " 19  DRB            1260 non-null   float64\n",
      " 20  TRB            1260 non-null   float64\n",
      " 21  AST            1260 non-null   float64\n",
      " 22  STL            1260 non-null   float64\n",
      " 23  BLK            1260 non-null   float64\n",
      " 24  TOV            1260 non-null   float64\n",
      " 25  PF             1260 non-null   float64\n",
      " 26  PTS            1260 non-null   float64\n",
      " 27  GmSc           1260 non-null   float64\n",
      " 28  +/-            1260 non-null   float64\n",
      "dtypes: float64(22), object(7)\n",
      "memory usage: 285.6+ KB\n"
     ]
    }
   ],
   "source": [
    "full_data.info()"
   ]
  },
  {
   "cell_type": "code",
   "execution_count": 14,
   "metadata": {},
   "outputs": [],
   "source": [
    "full_data[\"game_location\"].fillna(\"home\",inplace=True)"
   ]
  },
  {
   "cell_type": "code",
   "execution_count": 15,
   "metadata": {},
   "outputs": [],
   "source": [
    "def extract_date(date_str):\n",
    "    return datetime.strptime(date_str,\"%Y-%m-%d\")"
   ]
  },
  {
   "cell_type": "code",
   "execution_count": 16,
   "metadata": {},
   "outputs": [
    {
     "name": "stdout",
     "output_type": "stream",
     "text": [
      "<class 'pandas._libs.tslibs.timestamps.Timestamp'>\n"
     ]
    }
   ],
   "source": [
    "full_data[\"Date\"] = full_data[\"Date\"].apply(lambda x: extract_date(x))\n",
    "print(type(full_data[\"Date\"][0]))"
   ]
  },
  {
   "cell_type": "code",
   "execution_count": 17,
   "metadata": {},
   "outputs": [
    {
     "data": {
      "text/html": [
       "<div>\n",
       "<style scoped>\n",
       "    .dataframe tbody tr th:only-of-type {\n",
       "        vertical-align: middle;\n",
       "    }\n",
       "\n",
       "    .dataframe tbody tr th {\n",
       "        vertical-align: top;\n",
       "    }\n",
       "\n",
       "    .dataframe thead th {\n",
       "        text-align: right;\n",
       "    }\n",
       "</style>\n",
       "<table border=\"1\" class=\"dataframe\">\n",
       "  <thead>\n",
       "    <tr style=\"text-align: right;\">\n",
       "      <th></th>\n",
       "      <th>G</th>\n",
       "      <th>Date</th>\n",
       "      <th>Age</th>\n",
       "      <th>Tm</th>\n",
       "      <th>game_location</th>\n",
       "      <th>Opp</th>\n",
       "      <th>game_result</th>\n",
       "      <th>GS</th>\n",
       "      <th>MP</th>\n",
       "      <th>FG</th>\n",
       "      <th>...</th>\n",
       "      <th>DRB</th>\n",
       "      <th>TRB</th>\n",
       "      <th>AST</th>\n",
       "      <th>STL</th>\n",
       "      <th>BLK</th>\n",
       "      <th>TOV</th>\n",
       "      <th>PF</th>\n",
       "      <th>PTS</th>\n",
       "      <th>GmSc</th>\n",
       "      <th>+/-</th>\n",
       "    </tr>\n",
       "  </thead>\n",
       "  <tbody>\n",
       "    <tr>\n",
       "      <th>0</th>\n",
       "      <td>1.0</td>\n",
       "      <td>2003-10-29</td>\n",
       "      <td>18-303</td>\n",
       "      <td>CLE</td>\n",
       "      <td>@</td>\n",
       "      <td>SAC</td>\n",
       "      <td>L (-14)</td>\n",
       "      <td>1.0</td>\n",
       "      <td>42:50</td>\n",
       "      <td>12.0</td>\n",
       "      <td>...</td>\n",
       "      <td>4.0</td>\n",
       "      <td>6.0</td>\n",
       "      <td>9.0</td>\n",
       "      <td>4.0</td>\n",
       "      <td>0.0</td>\n",
       "      <td>2.0</td>\n",
       "      <td>3.0</td>\n",
       "      <td>25.0</td>\n",
       "      <td>24.7</td>\n",
       "      <td>-9.0</td>\n",
       "    </tr>\n",
       "    <tr>\n",
       "      <th>1</th>\n",
       "      <td>2.0</td>\n",
       "      <td>2003-10-30</td>\n",
       "      <td>18-304</td>\n",
       "      <td>CLE</td>\n",
       "      <td>@</td>\n",
       "      <td>PHO</td>\n",
       "      <td>L (-9)</td>\n",
       "      <td>1.0</td>\n",
       "      <td>40:21</td>\n",
       "      <td>8.0</td>\n",
       "      <td>...</td>\n",
       "      <td>10.0</td>\n",
       "      <td>12.0</td>\n",
       "      <td>8.0</td>\n",
       "      <td>1.0</td>\n",
       "      <td>0.0</td>\n",
       "      <td>7.0</td>\n",
       "      <td>1.0</td>\n",
       "      <td>21.0</td>\n",
       "      <td>14.7</td>\n",
       "      <td>-3.0</td>\n",
       "    </tr>\n",
       "    <tr>\n",
       "      <th>2</th>\n",
       "      <td>3.0</td>\n",
       "      <td>2003-11-01</td>\n",
       "      <td>18-306</td>\n",
       "      <td>CLE</td>\n",
       "      <td>@</td>\n",
       "      <td>POR</td>\n",
       "      <td>L (-19)</td>\n",
       "      <td>1.0</td>\n",
       "      <td>39:10</td>\n",
       "      <td>3.0</td>\n",
       "      <td>...</td>\n",
       "      <td>4.0</td>\n",
       "      <td>4.0</td>\n",
       "      <td>6.0</td>\n",
       "      <td>2.0</td>\n",
       "      <td>0.0</td>\n",
       "      <td>2.0</td>\n",
       "      <td>3.0</td>\n",
       "      <td>8.0</td>\n",
       "      <td>5.0</td>\n",
       "      <td>-21.0</td>\n",
       "    </tr>\n",
       "    <tr>\n",
       "      <th>3</th>\n",
       "      <td>4.0</td>\n",
       "      <td>2003-11-05</td>\n",
       "      <td>18-310</td>\n",
       "      <td>CLE</td>\n",
       "      <td>home</td>\n",
       "      <td>DEN</td>\n",
       "      <td>L (-4)</td>\n",
       "      <td>1.0</td>\n",
       "      <td>41:06</td>\n",
       "      <td>3.0</td>\n",
       "      <td>...</td>\n",
       "      <td>9.0</td>\n",
       "      <td>11.0</td>\n",
       "      <td>7.0</td>\n",
       "      <td>2.0</td>\n",
       "      <td>3.0</td>\n",
       "      <td>2.0</td>\n",
       "      <td>1.0</td>\n",
       "      <td>7.0</td>\n",
       "      <td>11.2</td>\n",
       "      <td>-3.0</td>\n",
       "    </tr>\n",
       "    <tr>\n",
       "      <th>4</th>\n",
       "      <td>5.0</td>\n",
       "      <td>2003-11-07</td>\n",
       "      <td>18-312</td>\n",
       "      <td>CLE</td>\n",
       "      <td>@</td>\n",
       "      <td>IND</td>\n",
       "      <td>L (-1)</td>\n",
       "      <td>1.0</td>\n",
       "      <td>43:44</td>\n",
       "      <td>8.0</td>\n",
       "      <td>...</td>\n",
       "      <td>5.0</td>\n",
       "      <td>5.0</td>\n",
       "      <td>3.0</td>\n",
       "      <td>0.0</td>\n",
       "      <td>0.0</td>\n",
       "      <td>7.0</td>\n",
       "      <td>2.0</td>\n",
       "      <td>23.0</td>\n",
       "      <td>9.0</td>\n",
       "      <td>-7.0</td>\n",
       "    </tr>\n",
       "    <tr>\n",
       "      <th>...</th>\n",
       "      <td>...</td>\n",
       "      <td>...</td>\n",
       "      <td>...</td>\n",
       "      <td>...</td>\n",
       "      <td>...</td>\n",
       "      <td>...</td>\n",
       "      <td>...</td>\n",
       "      <td>...</td>\n",
       "      <td>...</td>\n",
       "      <td>...</td>\n",
       "      <td>...</td>\n",
       "      <td>...</td>\n",
       "      <td>...</td>\n",
       "      <td>...</td>\n",
       "      <td>...</td>\n",
       "      <td>...</td>\n",
       "      <td>...</td>\n",
       "      <td>...</td>\n",
       "      <td>...</td>\n",
       "      <td>...</td>\n",
       "      <td>...</td>\n",
       "    </tr>\n",
       "    <tr>\n",
       "      <th>1255</th>\n",
       "      <td>58.0</td>\n",
       "      <td>2020-03-06</td>\n",
       "      <td>35-067</td>\n",
       "      <td>LAL</td>\n",
       "      <td>home</td>\n",
       "      <td>MIL</td>\n",
       "      <td>W (+10)</td>\n",
       "      <td>1.0</td>\n",
       "      <td>36:30</td>\n",
       "      <td>12.0</td>\n",
       "      <td>...</td>\n",
       "      <td>8.0</td>\n",
       "      <td>8.0</td>\n",
       "      <td>8.0</td>\n",
       "      <td>3.0</td>\n",
       "      <td>0.0</td>\n",
       "      <td>4.0</td>\n",
       "      <td>4.0</td>\n",
       "      <td>37.0</td>\n",
       "      <td>31.3</td>\n",
       "      <td>8.0</td>\n",
       "    </tr>\n",
       "    <tr>\n",
       "      <th>1256</th>\n",
       "      <td>59.0</td>\n",
       "      <td>2020-03-08</td>\n",
       "      <td>35-069</td>\n",
       "      <td>LAL</td>\n",
       "      <td>@</td>\n",
       "      <td>LAC</td>\n",
       "      <td>W (+9)</td>\n",
       "      <td>1.0</td>\n",
       "      <td>34:31</td>\n",
       "      <td>7.0</td>\n",
       "      <td>...</td>\n",
       "      <td>6.0</td>\n",
       "      <td>8.0</td>\n",
       "      <td>9.0</td>\n",
       "      <td>0.0</td>\n",
       "      <td>2.0</td>\n",
       "      <td>2.0</td>\n",
       "      <td>3.0</td>\n",
       "      <td>28.0</td>\n",
       "      <td>25.8</td>\n",
       "      <td>7.0</td>\n",
       "    </tr>\n",
       "    <tr>\n",
       "      <th>1257</th>\n",
       "      <td>60.0</td>\n",
       "      <td>2020-03-10</td>\n",
       "      <td>35-071</td>\n",
       "      <td>LAL</td>\n",
       "      <td>home</td>\n",
       "      <td>BRK</td>\n",
       "      <td>L (-2)</td>\n",
       "      <td>1.0</td>\n",
       "      <td>34:52</td>\n",
       "      <td>12.0</td>\n",
       "      <td>...</td>\n",
       "      <td>11.0</td>\n",
       "      <td>12.0</td>\n",
       "      <td>9.0</td>\n",
       "      <td>1.0</td>\n",
       "      <td>0.0</td>\n",
       "      <td>3.0</td>\n",
       "      <td>1.0</td>\n",
       "      <td>29.0</td>\n",
       "      <td>24.7</td>\n",
       "      <td>8.0</td>\n",
       "    </tr>\n",
       "    <tr>\n",
       "      <th>1258</th>\n",
       "      <td>61.0</td>\n",
       "      <td>2020-07-30</td>\n",
       "      <td>35-213</td>\n",
       "      <td>LAL</td>\n",
       "      <td>home</td>\n",
       "      <td>LAC</td>\n",
       "      <td>W (+2)</td>\n",
       "      <td>1.0</td>\n",
       "      <td>34:18</td>\n",
       "      <td>6.0</td>\n",
       "      <td>...</td>\n",
       "      <td>9.0</td>\n",
       "      <td>11.0</td>\n",
       "      <td>7.0</td>\n",
       "      <td>1.0</td>\n",
       "      <td>1.0</td>\n",
       "      <td>5.0</td>\n",
       "      <td>3.0</td>\n",
       "      <td>16.0</td>\n",
       "      <td>9.6</td>\n",
       "      <td>-4.0</td>\n",
       "    </tr>\n",
       "    <tr>\n",
       "      <th>1259</th>\n",
       "      <td>62.0</td>\n",
       "      <td>2020-08-01</td>\n",
       "      <td>35-215</td>\n",
       "      <td>LAL</td>\n",
       "      <td>@</td>\n",
       "      <td>TOR</td>\n",
       "      <td>L (-15)</td>\n",
       "      <td>1.0</td>\n",
       "      <td>34:36</td>\n",
       "      <td>7.0</td>\n",
       "      <td>...</td>\n",
       "      <td>9.0</td>\n",
       "      <td>10.0</td>\n",
       "      <td>5.0</td>\n",
       "      <td>0.0</td>\n",
       "      <td>1.0</td>\n",
       "      <td>4.0</td>\n",
       "      <td>1.0</td>\n",
       "      <td>20.0</td>\n",
       "      <td>14.3</td>\n",
       "      <td>-20.0</td>\n",
       "    </tr>\n",
       "  </tbody>\n",
       "</table>\n",
       "<p>1260 rows × 29 columns</p>\n",
       "</div>"
      ],
      "text/plain": [
       "         G       Date     Age   Tm game_location  Opp game_result   GS     MP  \\\n",
       "0      1.0 2003-10-29  18-303  CLE             @  SAC     L (-14)  1.0  42:50   \n",
       "1      2.0 2003-10-30  18-304  CLE             @  PHO      L (-9)  1.0  40:21   \n",
       "2      3.0 2003-11-01  18-306  CLE             @  POR     L (-19)  1.0  39:10   \n",
       "3      4.0 2003-11-05  18-310  CLE          home  DEN      L (-4)  1.0  41:06   \n",
       "4      5.0 2003-11-07  18-312  CLE             @  IND      L (-1)  1.0  43:44   \n",
       "...    ...        ...     ...  ...           ...  ...         ...  ...    ...   \n",
       "1255  58.0 2020-03-06  35-067  LAL          home  MIL     W (+10)  1.0  36:30   \n",
       "1256  59.0 2020-03-08  35-069  LAL             @  LAC      W (+9)  1.0  34:31   \n",
       "1257  60.0 2020-03-10  35-071  LAL          home  BRK      L (-2)  1.0  34:52   \n",
       "1258  61.0 2020-07-30  35-213  LAL          home  LAC      W (+2)  1.0  34:18   \n",
       "1259  62.0 2020-08-01  35-215  LAL             @  TOR     L (-15)  1.0  34:36   \n",
       "\n",
       "        FG  ...   DRB   TRB  AST  STL  BLK  TOV   PF   PTS  GmSc   +/-  \n",
       "0     12.0  ...   4.0   6.0  9.0  4.0  0.0  2.0  3.0  25.0  24.7  -9.0  \n",
       "1      8.0  ...  10.0  12.0  8.0  1.0  0.0  7.0  1.0  21.0  14.7  -3.0  \n",
       "2      3.0  ...   4.0   4.0  6.0  2.0  0.0  2.0  3.0   8.0   5.0 -21.0  \n",
       "3      3.0  ...   9.0  11.0  7.0  2.0  3.0  2.0  1.0   7.0  11.2  -3.0  \n",
       "4      8.0  ...   5.0   5.0  3.0  0.0  0.0  7.0  2.0  23.0   9.0  -7.0  \n",
       "...    ...  ...   ...   ...  ...  ...  ...  ...  ...   ...   ...   ...  \n",
       "1255  12.0  ...   8.0   8.0  8.0  3.0  0.0  4.0  4.0  37.0  31.3   8.0  \n",
       "1256   7.0  ...   6.0   8.0  9.0  0.0  2.0  2.0  3.0  28.0  25.8   7.0  \n",
       "1257  12.0  ...  11.0  12.0  9.0  1.0  0.0  3.0  1.0  29.0  24.7   8.0  \n",
       "1258   6.0  ...   9.0  11.0  7.0  1.0  1.0  5.0  3.0  16.0   9.6  -4.0  \n",
       "1259   7.0  ...   9.0  10.0  5.0  0.0  1.0  4.0  1.0  20.0  14.3 -20.0  \n",
       "\n",
       "[1260 rows x 29 columns]"
      ]
     },
     "execution_count": 17,
     "metadata": {},
     "output_type": "execute_result"
    }
   ],
   "source": [
    "full_data"
   ]
  },
  {
   "cell_type": "markdown",
   "metadata": {},
   "source": [
    "<h3>Numerical Feature Engineering</h3>"
   ]
  },
  {
   "cell_type": "code",
   "execution_count": 18,
   "metadata": {},
   "outputs": [
    {
     "data": {
      "text/plain": [
       "array([0, 0, 0, ..., 1, 1, 0])"
      ]
     },
     "execution_count": 18,
     "metadata": {},
     "output_type": "execute_result"
    }
   ],
   "source": [
    "game_location_le = LabelEncoder()\n",
    "gl_le = game_location_le.fit_transform(full_data[\"game_location\"])\n",
    "gl_le"
   ]
  },
  {
   "cell_type": "code",
   "execution_count": 19,
   "metadata": {},
   "outputs": [
    {
     "data": {
      "text/plain": [
       "array(['@', 'home'], dtype=object)"
      ]
     },
     "execution_count": 19,
     "metadata": {},
     "output_type": "execute_result"
    }
   ],
   "source": [
    "game_location_le.classes_"
   ]
  },
  {
   "cell_type": "code",
   "execution_count": 20,
   "metadata": {},
   "outputs": [],
   "source": [
    "full_data[\"game_location\"] = gl_le"
   ]
  },
  {
   "cell_type": "code",
   "execution_count": 21,
   "metadata": {},
   "outputs": [],
   "source": [
    "full_data[\"3P%\"].fillna(0,inplace=True)"
   ]
  },
  {
   "cell_type": "code",
   "execution_count": 22,
   "metadata": {},
   "outputs": [],
   "source": [
    "full_data[\"FT%\"].fillna(0,inplace=True)"
   ]
  },
  {
   "cell_type": "code",
   "execution_count": 23,
   "metadata": {},
   "outputs": [
    {
     "name": "stdout",
     "output_type": "stream",
     "text": [
      "<class 'pandas.core.frame.DataFrame'>\n",
      "RangeIndex: 1260 entries, 0 to 1259\n",
      "Data columns (total 29 columns):\n",
      " #   Column         Non-Null Count  Dtype         \n",
      "---  ------         --------------  -----         \n",
      " 0   G              1260 non-null   float64       \n",
      " 1   Date           1260 non-null   datetime64[ns]\n",
      " 2   Age            1260 non-null   object        \n",
      " 3   Tm             1260 non-null   object        \n",
      " 4   game_location  1260 non-null   int32         \n",
      " 5   Opp            1260 non-null   object        \n",
      " 6   game_result    1260 non-null   object        \n",
      " 7   GS             1260 non-null   float64       \n",
      " 8   MP             1260 non-null   object        \n",
      " 9   FG             1260 non-null   float64       \n",
      " 10  FGA            1260 non-null   float64       \n",
      " 11  FG%            1260 non-null   float64       \n",
      " 12  3P             1260 non-null   float64       \n",
      " 13  3PA            1260 non-null   float64       \n",
      " 14  3P%            1260 non-null   float64       \n",
      " 15  FT             1260 non-null   float64       \n",
      " 16  FTA            1260 non-null   float64       \n",
      " 17  FT%            1260 non-null   float64       \n",
      " 18  ORB            1260 non-null   float64       \n",
      " 19  DRB            1260 non-null   float64       \n",
      " 20  TRB            1260 non-null   float64       \n",
      " 21  AST            1260 non-null   float64       \n",
      " 22  STL            1260 non-null   float64       \n",
      " 23  BLK            1260 non-null   float64       \n",
      " 24  TOV            1260 non-null   float64       \n",
      " 25  PF             1260 non-null   float64       \n",
      " 26  PTS            1260 non-null   float64       \n",
      " 27  GmSc           1260 non-null   float64       \n",
      " 28  +/-            1260 non-null   float64       \n",
      "dtypes: datetime64[ns](1), float64(22), int32(1), object(5)\n",
      "memory usage: 280.7+ KB\n"
     ]
    }
   ],
   "source": [
    "full_data.info()"
   ]
  },
  {
   "cell_type": "code",
   "execution_count": 24,
   "metadata": {},
   "outputs": [
    {
     "data": {
      "text/html": [
       "<div>\n",
       "<style scoped>\n",
       "    .dataframe tbody tr th:only-of-type {\n",
       "        vertical-align: middle;\n",
       "    }\n",
       "\n",
       "    .dataframe tbody tr th {\n",
       "        vertical-align: top;\n",
       "    }\n",
       "\n",
       "    .dataframe thead th {\n",
       "        text-align: right;\n",
       "    }\n",
       "</style>\n",
       "<table border=\"1\" class=\"dataframe\">\n",
       "  <thead>\n",
       "    <tr style=\"text-align: right;\">\n",
       "      <th></th>\n",
       "      <th>G</th>\n",
       "      <th>Date</th>\n",
       "      <th>Age</th>\n",
       "      <th>Tm</th>\n",
       "      <th>game_location</th>\n",
       "      <th>Opp</th>\n",
       "      <th>game_result</th>\n",
       "      <th>GS</th>\n",
       "      <th>MP</th>\n",
       "      <th>FG</th>\n",
       "      <th>...</th>\n",
       "      <th>DRB</th>\n",
       "      <th>TRB</th>\n",
       "      <th>AST</th>\n",
       "      <th>STL</th>\n",
       "      <th>BLK</th>\n",
       "      <th>TOV</th>\n",
       "      <th>PF</th>\n",
       "      <th>PTS</th>\n",
       "      <th>GmSc</th>\n",
       "      <th>+/-</th>\n",
       "    </tr>\n",
       "  </thead>\n",
       "  <tbody>\n",
       "    <tr>\n",
       "      <th>0</th>\n",
       "      <td>1.0</td>\n",
       "      <td>2003-10-29</td>\n",
       "      <td>18-303</td>\n",
       "      <td>CLE</td>\n",
       "      <td>0</td>\n",
       "      <td>SAC</td>\n",
       "      <td>L (-14)</td>\n",
       "      <td>1.0</td>\n",
       "      <td>42:50</td>\n",
       "      <td>12.0</td>\n",
       "      <td>...</td>\n",
       "      <td>4.0</td>\n",
       "      <td>6.0</td>\n",
       "      <td>9.0</td>\n",
       "      <td>4.0</td>\n",
       "      <td>0.0</td>\n",
       "      <td>2.0</td>\n",
       "      <td>3.0</td>\n",
       "      <td>25.0</td>\n",
       "      <td>24.7</td>\n",
       "      <td>-9.0</td>\n",
       "    </tr>\n",
       "    <tr>\n",
       "      <th>1</th>\n",
       "      <td>2.0</td>\n",
       "      <td>2003-10-30</td>\n",
       "      <td>18-304</td>\n",
       "      <td>CLE</td>\n",
       "      <td>0</td>\n",
       "      <td>PHO</td>\n",
       "      <td>L (-9)</td>\n",
       "      <td>1.0</td>\n",
       "      <td>40:21</td>\n",
       "      <td>8.0</td>\n",
       "      <td>...</td>\n",
       "      <td>10.0</td>\n",
       "      <td>12.0</td>\n",
       "      <td>8.0</td>\n",
       "      <td>1.0</td>\n",
       "      <td>0.0</td>\n",
       "      <td>7.0</td>\n",
       "      <td>1.0</td>\n",
       "      <td>21.0</td>\n",
       "      <td>14.7</td>\n",
       "      <td>-3.0</td>\n",
       "    </tr>\n",
       "    <tr>\n",
       "      <th>2</th>\n",
       "      <td>3.0</td>\n",
       "      <td>2003-11-01</td>\n",
       "      <td>18-306</td>\n",
       "      <td>CLE</td>\n",
       "      <td>0</td>\n",
       "      <td>POR</td>\n",
       "      <td>L (-19)</td>\n",
       "      <td>1.0</td>\n",
       "      <td>39:10</td>\n",
       "      <td>3.0</td>\n",
       "      <td>...</td>\n",
       "      <td>4.0</td>\n",
       "      <td>4.0</td>\n",
       "      <td>6.0</td>\n",
       "      <td>2.0</td>\n",
       "      <td>0.0</td>\n",
       "      <td>2.0</td>\n",
       "      <td>3.0</td>\n",
       "      <td>8.0</td>\n",
       "      <td>5.0</td>\n",
       "      <td>-21.0</td>\n",
       "    </tr>\n",
       "    <tr>\n",
       "      <th>3</th>\n",
       "      <td>4.0</td>\n",
       "      <td>2003-11-05</td>\n",
       "      <td>18-310</td>\n",
       "      <td>CLE</td>\n",
       "      <td>1</td>\n",
       "      <td>DEN</td>\n",
       "      <td>L (-4)</td>\n",
       "      <td>1.0</td>\n",
       "      <td>41:06</td>\n",
       "      <td>3.0</td>\n",
       "      <td>...</td>\n",
       "      <td>9.0</td>\n",
       "      <td>11.0</td>\n",
       "      <td>7.0</td>\n",
       "      <td>2.0</td>\n",
       "      <td>3.0</td>\n",
       "      <td>2.0</td>\n",
       "      <td>1.0</td>\n",
       "      <td>7.0</td>\n",
       "      <td>11.2</td>\n",
       "      <td>-3.0</td>\n",
       "    </tr>\n",
       "    <tr>\n",
       "      <th>4</th>\n",
       "      <td>5.0</td>\n",
       "      <td>2003-11-07</td>\n",
       "      <td>18-312</td>\n",
       "      <td>CLE</td>\n",
       "      <td>0</td>\n",
       "      <td>IND</td>\n",
       "      <td>L (-1)</td>\n",
       "      <td>1.0</td>\n",
       "      <td>43:44</td>\n",
       "      <td>8.0</td>\n",
       "      <td>...</td>\n",
       "      <td>5.0</td>\n",
       "      <td>5.0</td>\n",
       "      <td>3.0</td>\n",
       "      <td>0.0</td>\n",
       "      <td>0.0</td>\n",
       "      <td>7.0</td>\n",
       "      <td>2.0</td>\n",
       "      <td>23.0</td>\n",
       "      <td>9.0</td>\n",
       "      <td>-7.0</td>\n",
       "    </tr>\n",
       "  </tbody>\n",
       "</table>\n",
       "<p>5 rows × 29 columns</p>\n",
       "</div>"
      ],
      "text/plain": [
       "     G       Date     Age   Tm  game_location  Opp game_result   GS     MP  \\\n",
       "0  1.0 2003-10-29  18-303  CLE              0  SAC     L (-14)  1.0  42:50   \n",
       "1  2.0 2003-10-30  18-304  CLE              0  PHO      L (-9)  1.0  40:21   \n",
       "2  3.0 2003-11-01  18-306  CLE              0  POR     L (-19)  1.0  39:10   \n",
       "3  4.0 2003-11-05  18-310  CLE              1  DEN      L (-4)  1.0  41:06   \n",
       "4  5.0 2003-11-07  18-312  CLE              0  IND      L (-1)  1.0  43:44   \n",
       "\n",
       "     FG  ...   DRB   TRB  AST  STL  BLK  TOV   PF   PTS  GmSc   +/-  \n",
       "0  12.0  ...   4.0   6.0  9.0  4.0  0.0  2.0  3.0  25.0  24.7  -9.0  \n",
       "1   8.0  ...  10.0  12.0  8.0  1.0  0.0  7.0  1.0  21.0  14.7  -3.0  \n",
       "2   3.0  ...   4.0   4.0  6.0  2.0  0.0  2.0  3.0   8.0   5.0 -21.0  \n",
       "3   3.0  ...   9.0  11.0  7.0  2.0  3.0  2.0  1.0   7.0  11.2  -3.0  \n",
       "4   8.0  ...   5.0   5.0  3.0  0.0  0.0  7.0  2.0  23.0   9.0  -7.0  \n",
       "\n",
       "[5 rows x 29 columns]"
      ]
     },
     "execution_count": 24,
     "metadata": {},
     "output_type": "execute_result"
    }
   ],
   "source": [
    "full_data.head()"
   ]
  },
  {
   "cell_type": "code",
   "execution_count": 25,
   "metadata": {},
   "outputs": [],
   "source": [
    "full_data[\"G\"] = full_data[\"G\"].apply(lambda x: int(x))"
   ]
  },
  {
   "cell_type": "code",
   "execution_count": 26,
   "metadata": {},
   "outputs": [],
   "source": [
    "def get_game_result(result):\n",
    "    num_str = result.split(\"(\")[1].replace(\")\",\"\")\n",
    "    return int(num_str)"
   ]
  },
  {
   "cell_type": "code",
   "execution_count": 27,
   "metadata": {},
   "outputs": [],
   "source": [
    "full_data[\"game_result\"] = full_data[\"game_result\"].apply(lambda x: get_game_result(x))"
   ]
  },
  {
   "cell_type": "code",
   "execution_count": 28,
   "metadata": {},
   "outputs": [],
   "source": [
    "corr = full_data.corr()"
   ]
  },
  {
   "cell_type": "code",
   "execution_count": 29,
   "metadata": {},
   "outputs": [
    {
     "data": {
      "text/html": [
       "<div>\n",
       "<style scoped>\n",
       "    .dataframe tbody tr th:only-of-type {\n",
       "        vertical-align: middle;\n",
       "    }\n",
       "\n",
       "    .dataframe tbody tr th {\n",
       "        vertical-align: top;\n",
       "    }\n",
       "\n",
       "    .dataframe thead th {\n",
       "        text-align: right;\n",
       "    }\n",
       "</style>\n",
       "<table border=\"1\" class=\"dataframe\">\n",
       "  <thead>\n",
       "    <tr style=\"text-align: right;\">\n",
       "      <th></th>\n",
       "      <th>G</th>\n",
       "      <th>game_location</th>\n",
       "      <th>game_result</th>\n",
       "      <th>GS</th>\n",
       "      <th>FG</th>\n",
       "      <th>FGA</th>\n",
       "      <th>FG%</th>\n",
       "      <th>3P</th>\n",
       "      <th>3PA</th>\n",
       "      <th>3P%</th>\n",
       "      <th>...</th>\n",
       "      <th>DRB</th>\n",
       "      <th>TRB</th>\n",
       "      <th>AST</th>\n",
       "      <th>STL</th>\n",
       "      <th>BLK</th>\n",
       "      <th>TOV</th>\n",
       "      <th>PF</th>\n",
       "      <th>PTS</th>\n",
       "      <th>GmSc</th>\n",
       "      <th>+/-</th>\n",
       "    </tr>\n",
       "  </thead>\n",
       "  <tbody>\n",
       "    <tr>\n",
       "      <th>G</th>\n",
       "      <td>1.000000</td>\n",
       "      <td>-0.001198</td>\n",
       "      <td>-0.016051</td>\n",
       "      <td>0.026850</td>\n",
       "      <td>0.073603</td>\n",
       "      <td>0.092563</td>\n",
       "      <td>0.018714</td>\n",
       "      <td>0.031439</td>\n",
       "      <td>0.071311</td>\n",
       "      <td>-0.001852</td>\n",
       "      <td>...</td>\n",
       "      <td>0.052755</td>\n",
       "      <td>0.065695</td>\n",
       "      <td>0.011636</td>\n",
       "      <td>-0.001101</td>\n",
       "      <td>-0.030392</td>\n",
       "      <td>-0.033979</td>\n",
       "      <td>-0.013911</td>\n",
       "      <td>0.084495</td>\n",
       "      <td>0.073385</td>\n",
       "      <td>-0.005161</td>\n",
       "    </tr>\n",
       "    <tr>\n",
       "      <th>game_location</th>\n",
       "      <td>-0.001198</td>\n",
       "      <td>1.000000</td>\n",
       "      <td>0.251329</td>\n",
       "      <td>-0.027916</td>\n",
       "      <td>-0.074293</td>\n",
       "      <td>-0.168173</td>\n",
       "      <td>0.090496</td>\n",
       "      <td>-0.062342</td>\n",
       "      <td>-0.121905</td>\n",
       "      <td>0.013131</td>\n",
       "      <td>...</td>\n",
       "      <td>-0.021628</td>\n",
       "      <td>-0.029251</td>\n",
       "      <td>0.055160</td>\n",
       "      <td>-0.033807</td>\n",
       "      <td>0.040271</td>\n",
       "      <td>-0.076831</td>\n",
       "      <td>-0.139763</td>\n",
       "      <td>-0.071252</td>\n",
       "      <td>0.028239</td>\n",
       "      <td>0.213690</td>\n",
       "    </tr>\n",
       "    <tr>\n",
       "      <th>game_result</th>\n",
       "      <td>-0.016051</td>\n",
       "      <td>0.251329</td>\n",
       "      <td>1.000000</td>\n",
       "      <td>-0.018481</td>\n",
       "      <td>0.068655</td>\n",
       "      <td>-0.171348</td>\n",
       "      <td>0.318941</td>\n",
       "      <td>0.049466</td>\n",
       "      <td>-0.103806</td>\n",
       "      <td>0.123188</td>\n",
       "      <td>...</td>\n",
       "      <td>0.067341</td>\n",
       "      <td>0.039550</td>\n",
       "      <td>0.146114</td>\n",
       "      <td>0.057087</td>\n",
       "      <td>0.055268</td>\n",
       "      <td>-0.193443</td>\n",
       "      <td>-0.109256</td>\n",
       "      <td>0.067962</td>\n",
       "      <td>0.272919</td>\n",
       "      <td>0.855446</td>\n",
       "    </tr>\n",
       "    <tr>\n",
       "      <th>GS</th>\n",
       "      <td>0.026850</td>\n",
       "      <td>-0.027916</td>\n",
       "      <td>-0.018481</td>\n",
       "      <td>1.000000</td>\n",
       "      <td>0.044701</td>\n",
       "      <td>0.062442</td>\n",
       "      <td>-0.012793</td>\n",
       "      <td>0.029305</td>\n",
       "      <td>0.038779</td>\n",
       "      <td>0.033958</td>\n",
       "      <td>...</td>\n",
       "      <td>0.044093</td>\n",
       "      <td>0.041441</td>\n",
       "      <td>0.022352</td>\n",
       "      <td>0.012988</td>\n",
       "      <td>-0.007587</td>\n",
       "      <td>-0.007694</td>\n",
       "      <td>-0.003553</td>\n",
       "      <td>0.036337</td>\n",
       "      <td>0.032957</td>\n",
       "      <td>-0.047900</td>\n",
       "    </tr>\n",
       "    <tr>\n",
       "      <th>FG</th>\n",
       "      <td>0.073603</td>\n",
       "      <td>-0.074293</td>\n",
       "      <td>0.068655</td>\n",
       "      <td>0.044701</td>\n",
       "      <td>1.000000</td>\n",
       "      <td>0.742831</td>\n",
       "      <td>0.607731</td>\n",
       "      <td>0.406205</td>\n",
       "      <td>0.347853</td>\n",
       "      <td>0.272983</td>\n",
       "      <td>...</td>\n",
       "      <td>0.086195</td>\n",
       "      <td>0.127941</td>\n",
       "      <td>-0.049304</td>\n",
       "      <td>0.101037</td>\n",
       "      <td>0.026923</td>\n",
       "      <td>0.041360</td>\n",
       "      <td>0.087909</td>\n",
       "      <td>0.886695</td>\n",
       "      <td>0.741585</td>\n",
       "      <td>0.092300</td>\n",
       "    </tr>\n",
       "    <tr>\n",
       "      <th>FGA</th>\n",
       "      <td>0.092563</td>\n",
       "      <td>-0.168173</td>\n",
       "      <td>-0.171348</td>\n",
       "      <td>0.062442</td>\n",
       "      <td>0.742831</td>\n",
       "      <td>1.000000</td>\n",
       "      <td>-0.048498</td>\n",
       "      <td>0.299069</td>\n",
       "      <td>0.450013</td>\n",
       "      <td>0.080078</td>\n",
       "      <td>...</td>\n",
       "      <td>0.099683</td>\n",
       "      <td>0.191650</td>\n",
       "      <td>-0.052952</td>\n",
       "      <td>0.101970</td>\n",
       "      <td>0.062949</td>\n",
       "      <td>0.024637</td>\n",
       "      <td>0.133312</td>\n",
       "      <td>0.703562</td>\n",
       "      <td>0.413711</td>\n",
       "      <td>-0.128945</td>\n",
       "    </tr>\n",
       "    <tr>\n",
       "      <th>FG%</th>\n",
       "      <td>0.018714</td>\n",
       "      <td>0.090496</td>\n",
       "      <td>0.318941</td>\n",
       "      <td>-0.012793</td>\n",
       "      <td>0.607731</td>\n",
       "      <td>-0.048498</td>\n",
       "      <td>1.000000</td>\n",
       "      <td>0.232638</td>\n",
       "      <td>-0.015109</td>\n",
       "      <td>0.312670</td>\n",
       "      <td>...</td>\n",
       "      <td>0.023070</td>\n",
       "      <td>-0.017017</td>\n",
       "      <td>-0.002984</td>\n",
       "      <td>0.031790</td>\n",
       "      <td>-0.015376</td>\n",
       "      <td>0.033987</td>\n",
       "      <td>-0.027403</td>\n",
       "      <td>0.491272</td>\n",
       "      <td>0.611742</td>\n",
       "      <td>0.296284</td>\n",
       "    </tr>\n",
       "    <tr>\n",
       "      <th>3P</th>\n",
       "      <td>0.031439</td>\n",
       "      <td>-0.062342</td>\n",
       "      <td>0.049466</td>\n",
       "      <td>0.029305</td>\n",
       "      <td>0.406205</td>\n",
       "      <td>0.299069</td>\n",
       "      <td>0.232638</td>\n",
       "      <td>1.000000</td>\n",
       "      <td>0.765701</td>\n",
       "      <td>0.728543</td>\n",
       "      <td>...</td>\n",
       "      <td>0.033484</td>\n",
       "      <td>0.031488</td>\n",
       "      <td>0.014281</td>\n",
       "      <td>-0.018299</td>\n",
       "      <td>-0.006678</td>\n",
       "      <td>0.052935</td>\n",
       "      <td>0.067786</td>\n",
       "      <td>0.498138</td>\n",
       "      <td>0.419588</td>\n",
       "      <td>0.060986</td>\n",
       "    </tr>\n",
       "    <tr>\n",
       "      <th>3PA</th>\n",
       "      <td>0.071311</td>\n",
       "      <td>-0.121905</td>\n",
       "      <td>-0.103806</td>\n",
       "      <td>0.038779</td>\n",
       "      <td>0.347853</td>\n",
       "      <td>0.450013</td>\n",
       "      <td>-0.015109</td>\n",
       "      <td>0.765701</td>\n",
       "      <td>1.000000</td>\n",
       "      <td>0.310319</td>\n",
       "      <td>...</td>\n",
       "      <td>0.106947</td>\n",
       "      <td>0.111328</td>\n",
       "      <td>0.084627</td>\n",
       "      <td>-0.009548</td>\n",
       "      <td>0.021494</td>\n",
       "      <td>0.113424</td>\n",
       "      <td>0.097381</td>\n",
       "      <td>0.443870</td>\n",
       "      <td>0.297917</td>\n",
       "      <td>-0.075778</td>\n",
       "    </tr>\n",
       "    <tr>\n",
       "      <th>3P%</th>\n",
       "      <td>-0.001852</td>\n",
       "      <td>0.013131</td>\n",
       "      <td>0.123188</td>\n",
       "      <td>0.033958</td>\n",
       "      <td>0.272983</td>\n",
       "      <td>0.080078</td>\n",
       "      <td>0.312670</td>\n",
       "      <td>0.728543</td>\n",
       "      <td>0.310319</td>\n",
       "      <td>1.000000</td>\n",
       "      <td>...</td>\n",
       "      <td>0.007567</td>\n",
       "      <td>0.001596</td>\n",
       "      <td>-0.032715</td>\n",
       "      <td>-0.044047</td>\n",
       "      <td>-0.009501</td>\n",
       "      <td>0.030695</td>\n",
       "      <td>0.019213</td>\n",
       "      <td>0.331933</td>\n",
       "      <td>0.318989</td>\n",
       "      <td>0.117443</td>\n",
       "    </tr>\n",
       "    <tr>\n",
       "      <th>FT</th>\n",
       "      <td>0.047849</td>\n",
       "      <td>-0.003552</td>\n",
       "      <td>0.011498</td>\n",
       "      <td>-0.009369</td>\n",
       "      <td>0.062415</td>\n",
       "      <td>0.149947</td>\n",
       "      <td>-0.064804</td>\n",
       "      <td>-0.006531</td>\n",
       "      <td>0.071516</td>\n",
       "      <td>-0.034321</td>\n",
       "      <td>...</td>\n",
       "      <td>0.053010</td>\n",
       "      <td>0.072041</td>\n",
       "      <td>-0.025453</td>\n",
       "      <td>0.053029</td>\n",
       "      <td>0.113478</td>\n",
       "      <td>0.006922</td>\n",
       "      <td>0.074278</td>\n",
       "      <td>0.485967</td>\n",
       "      <td>0.430111</td>\n",
       "      <td>0.021550</td>\n",
       "    </tr>\n",
       "    <tr>\n",
       "      <th>FTA</th>\n",
       "      <td>0.056410</td>\n",
       "      <td>-0.022170</td>\n",
       "      <td>-0.040406</td>\n",
       "      <td>-0.013631</td>\n",
       "      <td>0.077083</td>\n",
       "      <td>0.190439</td>\n",
       "      <td>-0.090493</td>\n",
       "      <td>0.024952</td>\n",
       "      <td>0.136817</td>\n",
       "      <td>-0.031597</td>\n",
       "      <td>...</td>\n",
       "      <td>0.087103</td>\n",
       "      <td>0.107542</td>\n",
       "      <td>-0.010056</td>\n",
       "      <td>0.029197</td>\n",
       "      <td>0.109609</td>\n",
       "      <td>0.031002</td>\n",
       "      <td>0.091323</td>\n",
       "      <td>0.471677</td>\n",
       "      <td>0.370110</td>\n",
       "      <td>-0.026053</td>\n",
       "    </tr>\n",
       "    <tr>\n",
       "      <th>FT%</th>\n",
       "      <td>0.012692</td>\n",
       "      <td>0.038323</td>\n",
       "      <td>0.107037</td>\n",
       "      <td>0.002791</td>\n",
       "      <td>-0.030505</td>\n",
       "      <td>-0.044213</td>\n",
       "      <td>0.014932</td>\n",
       "      <td>-0.052113</td>\n",
       "      <td>-0.097601</td>\n",
       "      <td>-0.016058</td>\n",
       "      <td>...</td>\n",
       "      <td>-0.050370</td>\n",
       "      <td>-0.048466</td>\n",
       "      <td>-0.011738</td>\n",
       "      <td>0.077419</td>\n",
       "      <td>0.031774</td>\n",
       "      <td>-0.051863</td>\n",
       "      <td>-0.000842</td>\n",
       "      <td>0.147128</td>\n",
       "      <td>0.225494</td>\n",
       "      <td>0.101087</td>\n",
       "    </tr>\n",
       "    <tr>\n",
       "      <th>ORB</th>\n",
       "      <td>0.047230</td>\n",
       "      <td>-0.025351</td>\n",
       "      <td>-0.054167</td>\n",
       "      <td>0.004688</td>\n",
       "      <td>0.130391</td>\n",
       "      <td>0.263652</td>\n",
       "      <td>-0.097514</td>\n",
       "      <td>0.003606</td>\n",
       "      <td>0.039302</td>\n",
       "      <td>-0.013444</td>\n",
       "      <td>...</td>\n",
       "      <td>0.061037</td>\n",
       "      <td>0.441973</td>\n",
       "      <td>0.003093</td>\n",
       "      <td>0.035537</td>\n",
       "      <td>0.058287</td>\n",
       "      <td>0.007912</td>\n",
       "      <td>0.033720</td>\n",
       "      <td>0.130687</td>\n",
       "      <td>0.153334</td>\n",
       "      <td>-0.039666</td>\n",
       "    </tr>\n",
       "    <tr>\n",
       "      <th>DRB</th>\n",
       "      <td>0.052755</td>\n",
       "      <td>-0.021628</td>\n",
       "      <td>0.067341</td>\n",
       "      <td>0.044093</td>\n",
       "      <td>0.086195</td>\n",
       "      <td>0.099683</td>\n",
       "      <td>0.023070</td>\n",
       "      <td>0.033484</td>\n",
       "      <td>0.106947</td>\n",
       "      <td>0.007567</td>\n",
       "      <td>...</td>\n",
       "      <td>1.000000</td>\n",
       "      <td>0.922333</td>\n",
       "      <td>0.206720</td>\n",
       "      <td>0.018425</td>\n",
       "      <td>0.056968</td>\n",
       "      <td>0.099052</td>\n",
       "      <td>0.037938</td>\n",
       "      <td>0.097019</td>\n",
       "      <td>0.209209</td>\n",
       "      <td>0.106492</td>\n",
       "    </tr>\n",
       "    <tr>\n",
       "      <th>TRB</th>\n",
       "      <td>0.065695</td>\n",
       "      <td>-0.029251</td>\n",
       "      <td>0.039550</td>\n",
       "      <td>0.041441</td>\n",
       "      <td>0.127941</td>\n",
       "      <td>0.191650</td>\n",
       "      <td>-0.017017</td>\n",
       "      <td>0.031488</td>\n",
       "      <td>0.111328</td>\n",
       "      <td>0.001596</td>\n",
       "      <td>...</td>\n",
       "      <td>0.922333</td>\n",
       "      <td>1.000000</td>\n",
       "      <td>0.186977</td>\n",
       "      <td>0.030316</td>\n",
       "      <td>0.073762</td>\n",
       "      <td>0.092081</td>\n",
       "      <td>0.047149</td>\n",
       "      <td>0.137783</td>\n",
       "      <td>0.247375</td>\n",
       "      <td>0.080349</td>\n",
       "    </tr>\n",
       "    <tr>\n",
       "      <th>AST</th>\n",
       "      <td>0.011636</td>\n",
       "      <td>0.055160</td>\n",
       "      <td>0.146114</td>\n",
       "      <td>0.022352</td>\n",
       "      <td>-0.049304</td>\n",
       "      <td>-0.052952</td>\n",
       "      <td>-0.002984</td>\n",
       "      <td>0.014281</td>\n",
       "      <td>0.084627</td>\n",
       "      <td>-0.032715</td>\n",
       "      <td>...</td>\n",
       "      <td>0.206720</td>\n",
       "      <td>0.186977</td>\n",
       "      <td>1.000000</td>\n",
       "      <td>0.010286</td>\n",
       "      <td>0.053679</td>\n",
       "      <td>0.025017</td>\n",
       "      <td>0.001638</td>\n",
       "      <td>-0.047279</td>\n",
       "      <td>0.259886</td>\n",
       "      <td>0.173168</td>\n",
       "    </tr>\n",
       "    <tr>\n",
       "      <th>STL</th>\n",
       "      <td>-0.001101</td>\n",
       "      <td>-0.033807</td>\n",
       "      <td>0.057087</td>\n",
       "      <td>0.012988</td>\n",
       "      <td>0.101037</td>\n",
       "      <td>0.101970</td>\n",
       "      <td>0.031790</td>\n",
       "      <td>-0.018299</td>\n",
       "      <td>-0.009548</td>\n",
       "      <td>-0.044047</td>\n",
       "      <td>...</td>\n",
       "      <td>0.018425</td>\n",
       "      <td>0.030316</td>\n",
       "      <td>0.010286</td>\n",
       "      <td>1.000000</td>\n",
       "      <td>0.021143</td>\n",
       "      <td>0.039347</td>\n",
       "      <td>0.036516</td>\n",
       "      <td>0.099263</td>\n",
       "      <td>0.241454</td>\n",
       "      <td>0.102622</td>\n",
       "    </tr>\n",
       "    <tr>\n",
       "      <th>BLK</th>\n",
       "      <td>-0.030392</td>\n",
       "      <td>0.040271</td>\n",
       "      <td>0.055268</td>\n",
       "      <td>-0.007587</td>\n",
       "      <td>0.026923</td>\n",
       "      <td>0.062949</td>\n",
       "      <td>-0.015376</td>\n",
       "      <td>-0.006678</td>\n",
       "      <td>0.021494</td>\n",
       "      <td>-0.009501</td>\n",
       "      <td>...</td>\n",
       "      <td>0.056968</td>\n",
       "      <td>0.073762</td>\n",
       "      <td>0.053679</td>\n",
       "      <td>0.021143</td>\n",
       "      <td>1.000000</td>\n",
       "      <td>-0.007316</td>\n",
       "      <td>-0.011293</td>\n",
       "      <td>0.069649</td>\n",
       "      <td>0.158683</td>\n",
       "      <td>0.015379</td>\n",
       "    </tr>\n",
       "    <tr>\n",
       "      <th>TOV</th>\n",
       "      <td>-0.033979</td>\n",
       "      <td>-0.076831</td>\n",
       "      <td>-0.193443</td>\n",
       "      <td>-0.007694</td>\n",
       "      <td>0.041360</td>\n",
       "      <td>0.024637</td>\n",
       "      <td>0.033987</td>\n",
       "      <td>0.052935</td>\n",
       "      <td>0.113424</td>\n",
       "      <td>0.030695</td>\n",
       "      <td>...</td>\n",
       "      <td>0.099052</td>\n",
       "      <td>0.092081</td>\n",
       "      <td>0.025017</td>\n",
       "      <td>0.039347</td>\n",
       "      <td>-0.007316</td>\n",
       "      <td>1.000000</td>\n",
       "      <td>0.143190</td>\n",
       "      <td>0.045150</td>\n",
       "      <td>-0.185841</td>\n",
       "      <td>-0.204150</td>\n",
       "    </tr>\n",
       "    <tr>\n",
       "      <th>PF</th>\n",
       "      <td>-0.013911</td>\n",
       "      <td>-0.139763</td>\n",
       "      <td>-0.109256</td>\n",
       "      <td>-0.003553</td>\n",
       "      <td>0.087909</td>\n",
       "      <td>0.133312</td>\n",
       "      <td>-0.027403</td>\n",
       "      <td>0.067786</td>\n",
       "      <td>0.097381</td>\n",
       "      <td>0.019213</td>\n",
       "      <td>...</td>\n",
       "      <td>0.037938</td>\n",
       "      <td>0.047149</td>\n",
       "      <td>0.001638</td>\n",
       "      <td>0.036516</td>\n",
       "      <td>-0.011293</td>\n",
       "      <td>0.143190</td>\n",
       "      <td>1.000000</td>\n",
       "      <td>0.113924</td>\n",
       "      <td>-0.021900</td>\n",
       "      <td>-0.102268</td>\n",
       "    </tr>\n",
       "    <tr>\n",
       "      <th>PTS</th>\n",
       "      <td>0.084495</td>\n",
       "      <td>-0.071252</td>\n",
       "      <td>0.067962</td>\n",
       "      <td>0.036337</td>\n",
       "      <td>0.886695</td>\n",
       "      <td>0.703562</td>\n",
       "      <td>0.491272</td>\n",
       "      <td>0.498138</td>\n",
       "      <td>0.443870</td>\n",
       "      <td>0.331933</td>\n",
       "      <td>...</td>\n",
       "      <td>0.097019</td>\n",
       "      <td>0.137783</td>\n",
       "      <td>-0.047279</td>\n",
       "      <td>0.099263</td>\n",
       "      <td>0.069649</td>\n",
       "      <td>0.045150</td>\n",
       "      <td>0.113924</td>\n",
       "      <td>1.000000</td>\n",
       "      <td>0.847261</td>\n",
       "      <td>0.093034</td>\n",
       "    </tr>\n",
       "    <tr>\n",
       "      <th>GmSc</th>\n",
       "      <td>0.073385</td>\n",
       "      <td>0.028239</td>\n",
       "      <td>0.272919</td>\n",
       "      <td>0.032957</td>\n",
       "      <td>0.741585</td>\n",
       "      <td>0.413711</td>\n",
       "      <td>0.611742</td>\n",
       "      <td>0.419588</td>\n",
       "      <td>0.297917</td>\n",
       "      <td>0.318989</td>\n",
       "      <td>...</td>\n",
       "      <td>0.209209</td>\n",
       "      <td>0.247375</td>\n",
       "      <td>0.259886</td>\n",
       "      <td>0.241454</td>\n",
       "      <td>0.158683</td>\n",
       "      <td>-0.185841</td>\n",
       "      <td>-0.021900</td>\n",
       "      <td>0.847261</td>\n",
       "      <td>1.000000</td>\n",
       "      <td>0.301824</td>\n",
       "    </tr>\n",
       "    <tr>\n",
       "      <th>+/-</th>\n",
       "      <td>-0.005161</td>\n",
       "      <td>0.213690</td>\n",
       "      <td>0.855446</td>\n",
       "      <td>-0.047900</td>\n",
       "      <td>0.092300</td>\n",
       "      <td>-0.128945</td>\n",
       "      <td>0.296284</td>\n",
       "      <td>0.060986</td>\n",
       "      <td>-0.075778</td>\n",
       "      <td>0.117443</td>\n",
       "      <td>...</td>\n",
       "      <td>0.106492</td>\n",
       "      <td>0.080349</td>\n",
       "      <td>0.173168</td>\n",
       "      <td>0.102622</td>\n",
       "      <td>0.015379</td>\n",
       "      <td>-0.204150</td>\n",
       "      <td>-0.102268</td>\n",
       "      <td>0.093034</td>\n",
       "      <td>0.301824</td>\n",
       "      <td>1.000000</td>\n",
       "    </tr>\n",
       "  </tbody>\n",
       "</table>\n",
       "<p>24 rows × 24 columns</p>\n",
       "</div>"
      ],
      "text/plain": [
       "                      G  game_location  game_result        GS        FG  \\\n",
       "G              1.000000      -0.001198    -0.016051  0.026850  0.073603   \n",
       "game_location -0.001198       1.000000     0.251329 -0.027916 -0.074293   \n",
       "game_result   -0.016051       0.251329     1.000000 -0.018481  0.068655   \n",
       "GS             0.026850      -0.027916    -0.018481  1.000000  0.044701   \n",
       "FG             0.073603      -0.074293     0.068655  0.044701  1.000000   \n",
       "FGA            0.092563      -0.168173    -0.171348  0.062442  0.742831   \n",
       "FG%            0.018714       0.090496     0.318941 -0.012793  0.607731   \n",
       "3P             0.031439      -0.062342     0.049466  0.029305  0.406205   \n",
       "3PA            0.071311      -0.121905    -0.103806  0.038779  0.347853   \n",
       "3P%           -0.001852       0.013131     0.123188  0.033958  0.272983   \n",
       "FT             0.047849      -0.003552     0.011498 -0.009369  0.062415   \n",
       "FTA            0.056410      -0.022170    -0.040406 -0.013631  0.077083   \n",
       "FT%            0.012692       0.038323     0.107037  0.002791 -0.030505   \n",
       "ORB            0.047230      -0.025351    -0.054167  0.004688  0.130391   \n",
       "DRB            0.052755      -0.021628     0.067341  0.044093  0.086195   \n",
       "TRB            0.065695      -0.029251     0.039550  0.041441  0.127941   \n",
       "AST            0.011636       0.055160     0.146114  0.022352 -0.049304   \n",
       "STL           -0.001101      -0.033807     0.057087  0.012988  0.101037   \n",
       "BLK           -0.030392       0.040271     0.055268 -0.007587  0.026923   \n",
       "TOV           -0.033979      -0.076831    -0.193443 -0.007694  0.041360   \n",
       "PF            -0.013911      -0.139763    -0.109256 -0.003553  0.087909   \n",
       "PTS            0.084495      -0.071252     0.067962  0.036337  0.886695   \n",
       "GmSc           0.073385       0.028239     0.272919  0.032957  0.741585   \n",
       "+/-           -0.005161       0.213690     0.855446 -0.047900  0.092300   \n",
       "\n",
       "                    FGA       FG%        3P       3PA       3P%  ...  \\\n",
       "G              0.092563  0.018714  0.031439  0.071311 -0.001852  ...   \n",
       "game_location -0.168173  0.090496 -0.062342 -0.121905  0.013131  ...   \n",
       "game_result   -0.171348  0.318941  0.049466 -0.103806  0.123188  ...   \n",
       "GS             0.062442 -0.012793  0.029305  0.038779  0.033958  ...   \n",
       "FG             0.742831  0.607731  0.406205  0.347853  0.272983  ...   \n",
       "FGA            1.000000 -0.048498  0.299069  0.450013  0.080078  ...   \n",
       "FG%           -0.048498  1.000000  0.232638 -0.015109  0.312670  ...   \n",
       "3P             0.299069  0.232638  1.000000  0.765701  0.728543  ...   \n",
       "3PA            0.450013 -0.015109  0.765701  1.000000  0.310319  ...   \n",
       "3P%            0.080078  0.312670  0.728543  0.310319  1.000000  ...   \n",
       "FT             0.149947 -0.064804 -0.006531  0.071516 -0.034321  ...   \n",
       "FTA            0.190439 -0.090493  0.024952  0.136817 -0.031597  ...   \n",
       "FT%           -0.044213  0.014932 -0.052113 -0.097601 -0.016058  ...   \n",
       "ORB            0.263652 -0.097514  0.003606  0.039302 -0.013444  ...   \n",
       "DRB            0.099683  0.023070  0.033484  0.106947  0.007567  ...   \n",
       "TRB            0.191650 -0.017017  0.031488  0.111328  0.001596  ...   \n",
       "AST           -0.052952 -0.002984  0.014281  0.084627 -0.032715  ...   \n",
       "STL            0.101970  0.031790 -0.018299 -0.009548 -0.044047  ...   \n",
       "BLK            0.062949 -0.015376 -0.006678  0.021494 -0.009501  ...   \n",
       "TOV            0.024637  0.033987  0.052935  0.113424  0.030695  ...   \n",
       "PF             0.133312 -0.027403  0.067786  0.097381  0.019213  ...   \n",
       "PTS            0.703562  0.491272  0.498138  0.443870  0.331933  ...   \n",
       "GmSc           0.413711  0.611742  0.419588  0.297917  0.318989  ...   \n",
       "+/-           -0.128945  0.296284  0.060986 -0.075778  0.117443  ...   \n",
       "\n",
       "                    DRB       TRB       AST       STL       BLK       TOV  \\\n",
       "G              0.052755  0.065695  0.011636 -0.001101 -0.030392 -0.033979   \n",
       "game_location -0.021628 -0.029251  0.055160 -0.033807  0.040271 -0.076831   \n",
       "game_result    0.067341  0.039550  0.146114  0.057087  0.055268 -0.193443   \n",
       "GS             0.044093  0.041441  0.022352  0.012988 -0.007587 -0.007694   \n",
       "FG             0.086195  0.127941 -0.049304  0.101037  0.026923  0.041360   \n",
       "FGA            0.099683  0.191650 -0.052952  0.101970  0.062949  0.024637   \n",
       "FG%            0.023070 -0.017017 -0.002984  0.031790 -0.015376  0.033987   \n",
       "3P             0.033484  0.031488  0.014281 -0.018299 -0.006678  0.052935   \n",
       "3PA            0.106947  0.111328  0.084627 -0.009548  0.021494  0.113424   \n",
       "3P%            0.007567  0.001596 -0.032715 -0.044047 -0.009501  0.030695   \n",
       "FT             0.053010  0.072041 -0.025453  0.053029  0.113478  0.006922   \n",
       "FTA            0.087103  0.107542 -0.010056  0.029197  0.109609  0.031002   \n",
       "FT%           -0.050370 -0.048466 -0.011738  0.077419  0.031774 -0.051863   \n",
       "ORB            0.061037  0.441973  0.003093  0.035537  0.058287  0.007912   \n",
       "DRB            1.000000  0.922333  0.206720  0.018425  0.056968  0.099052   \n",
       "TRB            0.922333  1.000000  0.186977  0.030316  0.073762  0.092081   \n",
       "AST            0.206720  0.186977  1.000000  0.010286  0.053679  0.025017   \n",
       "STL            0.018425  0.030316  0.010286  1.000000  0.021143  0.039347   \n",
       "BLK            0.056968  0.073762  0.053679  0.021143  1.000000 -0.007316   \n",
       "TOV            0.099052  0.092081  0.025017  0.039347 -0.007316  1.000000   \n",
       "PF             0.037938  0.047149  0.001638  0.036516 -0.011293  0.143190   \n",
       "PTS            0.097019  0.137783 -0.047279  0.099263  0.069649  0.045150   \n",
       "GmSc           0.209209  0.247375  0.259886  0.241454  0.158683 -0.185841   \n",
       "+/-            0.106492  0.080349  0.173168  0.102622  0.015379 -0.204150   \n",
       "\n",
       "                     PF       PTS      GmSc       +/-  \n",
       "G             -0.013911  0.084495  0.073385 -0.005161  \n",
       "game_location -0.139763 -0.071252  0.028239  0.213690  \n",
       "game_result   -0.109256  0.067962  0.272919  0.855446  \n",
       "GS            -0.003553  0.036337  0.032957 -0.047900  \n",
       "FG             0.087909  0.886695  0.741585  0.092300  \n",
       "FGA            0.133312  0.703562  0.413711 -0.128945  \n",
       "FG%           -0.027403  0.491272  0.611742  0.296284  \n",
       "3P             0.067786  0.498138  0.419588  0.060986  \n",
       "3PA            0.097381  0.443870  0.297917 -0.075778  \n",
       "3P%            0.019213  0.331933  0.318989  0.117443  \n",
       "FT             0.074278  0.485967  0.430111  0.021550  \n",
       "FTA            0.091323  0.471677  0.370110 -0.026053  \n",
       "FT%           -0.000842  0.147128  0.225494  0.101087  \n",
       "ORB            0.033720  0.130687  0.153334 -0.039666  \n",
       "DRB            0.037938  0.097019  0.209209  0.106492  \n",
       "TRB            0.047149  0.137783  0.247375  0.080349  \n",
       "AST            0.001638 -0.047279  0.259886  0.173168  \n",
       "STL            0.036516  0.099263  0.241454  0.102622  \n",
       "BLK           -0.011293  0.069649  0.158683  0.015379  \n",
       "TOV            0.143190  0.045150 -0.185841 -0.204150  \n",
       "PF             1.000000  0.113924 -0.021900 -0.102268  \n",
       "PTS            0.113924  1.000000  0.847261  0.093034  \n",
       "GmSc          -0.021900  0.847261  1.000000  0.301824  \n",
       "+/-           -0.102268  0.093034  0.301824  1.000000  \n",
       "\n",
       "[24 rows x 24 columns]"
      ]
     },
     "execution_count": 29,
     "metadata": {},
     "output_type": "execute_result"
    }
   ],
   "source": [
    "corr"
   ]
  },
  {
   "cell_type": "code",
   "execution_count": 30,
   "metadata": {},
   "outputs": [
    {
     "data": {
      "image/png": "[encoded data removed]",
      "text/plain": [
       "<Figure size 1080x720 with 2 Axes>"
      ]
     },
     "metadata": {
      "needs_background": "light"
     },
     "output_type": "display_data"
    }
   ],
   "source": [
    "plt.figure(1,(15,10))\n",
    "sns.heatmap(corr,vmin=-1,center=0,vmax=1)\n",
    "plt.show()"
   ]
  },
  {
   "cell_type": "code",
   "execution_count": 31,
   "metadata": {},
   "outputs": [],
   "source": [
    "def correlation_w_threshold(corr,threshold,target_col):\n",
    "    corr_plus_minus = corr.loc[target_col,:]\n",
    "    corr_plus_minus_above_thres = corr_plus_minus[(corr_plus_minus>=threshold) | (corr_plus_minus<=-threshold)]\n",
    "    corr_plus_minus_above_thres.drop(target_col,inplace=True)\n",
    "    return corr_plus_minus_above_thres.values.reshape(-1,1), corr_plus_minus_above_thres.index"
   ]
  },
  {
   "cell_type": "code",
   "execution_count": 32,
   "metadata": {
    "scrolled": false
   },
   "outputs": [
    {
     "data": {
      "image/png": "[encoded data removed]",
      "text/plain": [
       "<Figure size 1080x1080 with 6 Axes>"
      ]
     },
     "metadata": {},
     "output_type": "display_data"
    }
   ],
   "source": [
    "sns.set(font_scale=0.9)\n",
    "plt.figure(1,(15,15))\n",
    "i = 0\n",
    "epsilon = 0.01\n",
    "thresholds = [0.3,0.2,0.1]\n",
    "for thres in thresholds:\n",
    "    i += 1\n",
    "    ax = plt.subplot(4,1,i)\n",
    "    corr_above_thres, corr_above_thres_cols = correlation_w_threshold(corr,thres-epsilon,\"+/-\")\n",
    "    sns.heatmap(corr_above_thres.T,vmin=-1,vmax=1,center=0,linewidth=1,annot=True,yticklabels=[\"+/-\"],xticklabels=corr_above_thres_cols)\n",
    "    ax.set_title(f\"Threshold: {thres}\")\n",
    "    plt.tight_layout()\n",
    "plt.show()"
   ]
  },
  {
   "cell_type": "markdown",
   "metadata": {},
   "source": [
    "<h2>Advanced Basketball Statistics</h2>\n",
    "<ul>\n",
    "    <li>True Shooting Percentage (TS%) = Pts / (2 * (FGA + .475 * FTA))</li>\n",
    "    <li>Free Throw Rate (FTR) = FT / FGA\n",
    "</li>\n",
    "    <li>Hollinger Assist Ratio (hAST%) = AST / (FGA + .475 * FTA + AST + TOV)</li>\n",
    "    <li>Turnover Percentage (TOV%) = TOV / (FGA + .475*FTA + AST + TOV)</li>\n",
    "    <li>Assist to Turnover Ratio (AST-TOV) = Assists / Turnover</li>\n",
    "    <li>Defensive Rebound Percentage (DREB%) = DRB / TRB</li>\n",
    "    <li>Offensive Rebound Percentage (OREB%) = ORB / TRB</li>\n",
    "    <li>Possessions (POSS) = FGA + 0.44 × FTA – OREB + TO\n",
    "</ul>"
   ]
  },
  {
   "cell_type": "code",
   "execution_count": 33,
   "metadata": {},
   "outputs": [],
   "source": [
    "full_data[\"TS%\"] = full_data[\"PTS\"] / (2*(full_data[\"FGA\"] + (0.475*full_data[\"FTA\"])))\n",
    "full_data[\"FTR\"] = full_data[\"FT\"] / full_data[\"FGA\"]\n",
    "full_data[\"hAST%\"] = full_data[\"AST\"] / (full_data[\"FGA\"]+(0.475*full_data[\"FTA\"])+full_data[\"AST\"]+full_data[\"TOV\"])\n",
    "full_data[\"TOV%\"] = full_data[\"TOV\"] / (full_data[\"FGA\"] + .475*full_data[\"FTA\"] + full_data[\"AST\"] + full_data[\"TOV\"])\n",
    "full_data[\"AST-TOV\"] = full_data[\"AST\"] / full_data[\"TOV\"]\n",
    "full_data[\"DREB%\"] = full_data[\"DRB\"] / full_data[\"TRB\"]\n",
    "full_data[\"OREB%\"] = full_data[\"ORB\"] / full_data[\"TRB\"]\n",
    "full_data[\"POSS\"] = full_data[\"FGA\"] + (0.44*full_data[\"FTA\"]) - full_data[\"ORB\"] + full_data[\"TOV\"]"
   ]
  },
  {
   "cell_type": "code",
   "execution_count": 34,
   "metadata": {},
   "outputs": [],
   "source": [
    "min_year = full_data[\"Date\"][0].year"
   ]
  },
  {
   "cell_type": "code",
   "execution_count": 35,
   "metadata": {},
   "outputs": [],
   "source": [
    "def get_year_num(dt):\n",
    "    return dt.year - min_year + 1"
   ]
  },
  {
   "cell_type": "code",
   "execution_count": 36,
   "metadata": {},
   "outputs": [],
   "source": [
    "full_data[\"Year_Number\"] = full_data[\"Date\"].apply(lambda x: get_year_num(x))"
   ]
  },
  {
   "cell_type": "code",
   "execution_count": 37,
   "metadata": {},
   "outputs": [],
   "source": [
    "corr = full_data.corr()"
   ]
  },
  {
   "cell_type": "code",
   "execution_count": 38,
   "metadata": {},
   "outputs": [
    {
     "data": {
      "image/png": "[encoded data removed]",
      "text/plain": [
       "<Figure size 1080x1080 with 2 Axes>"
      ]
     },
     "metadata": {},
     "output_type": "display_data"
    }
   ],
   "source": [
    "plt.figure(1,(15,15))\n",
    "sns.heatmap(corr,vmin=-1,center=0,vmax=1)\n",
    "plt.show()"
   ]
  },
  {
   "cell_type": "code",
   "execution_count": 39,
   "metadata": {},
   "outputs": [
    {
     "data": {
      "image/png": "[encoded data removed]",
      "text/plain": [
       "<Figure size 1440x1440 with 6 Axes>"
      ]
     },
     "metadata": {},
     "output_type": "display_data"
    }
   ],
   "source": [
    "sns.set(font_scale=1)\n",
    "plt.figure(1,(20,20))\n",
    "i = 0\n",
    "epsilon = 0.01\n",
    "thres_cols = []\n",
    "for thres in thresholds:\n",
    "    i += 1\n",
    "    ax = plt.subplot(4,1,i)\n",
    "    corr_above_thres, corr_above_thres_cols = correlation_w_threshold(corr,thres-epsilon,\"+/-\")\n",
    "    pair = (thres,corr_above_thres_cols)\n",
    "    thres_cols.append(pair)\n",
    "    sns.heatmap(corr_above_thres.T,vmin=-1,vmax=1,center=0,linewidth=1,annot=True,yticklabels=[\"+/-\"],xticklabels=corr_above_thres_cols)\n",
    "    ax.set_title(f\"Threshold: {thres}\")\n",
    "    plt.tight_layout()\n",
    "plt.show()"
   ]
  },
  {
   "cell_type": "code",
   "execution_count": 40,
   "metadata": {},
   "outputs": [
    {
     "data": {
      "text/plain": [
       "Index(['G', 'Date', 'Age', 'Tm', 'game_location', 'Opp', 'game_result', 'GS',\n",
       "       'MP', 'FG', 'FGA', 'FG%', '3P', '3PA', '3P%', 'FT', 'FTA', 'FT%', 'ORB',\n",
       "       'DRB', 'TRB', 'AST', 'STL', 'BLK', 'TOV', 'PF', 'PTS', 'GmSc', '+/-',\n",
       "       'TS%', 'FTR', 'hAST%', 'TOV%', 'AST-TOV', 'DREB%', 'OREB%', 'POSS',\n",
       "       'Year_Number'],\n",
       "      dtype='object')"
      ]
     },
     "execution_count": 40,
     "metadata": {},
     "output_type": "execute_result"
    }
   ],
   "source": [
    "full_data.columns"
   ]
  },
  {
   "cell_type": "code",
   "execution_count": 41,
   "metadata": {},
   "outputs": [],
   "source": [
    "def get_ratios(nums_col, dens_col,df,replace=True,new_col=None,target=None,print_corr_w_target=True):\n",
    "    vals = []\n",
    "    for num, den in zip(df[nums_col], df[dens_col]):\n",
    "        if not den:\n",
    "            vals.append(float(0))\n",
    "        else:\n",
    "            vals.append(num/den)\n",
    "    vals = np.array(vals)\n",
    "    if replace:\n",
    "        df[new_col] = vals\n",
    "    if print_corr_w_target: \n",
    "        corr = np.corrcoef(vals,df[target])[0,1]\n",
    "        print(f\"The correlation between {new_col} and {target} is {corr}\")"
   ]
  },
  {
   "cell_type": "code",
   "execution_count": 42,
   "metadata": {},
   "outputs": [
    {
     "name": "stdout",
     "output_type": "stream",
     "text": [
      "The correlation between GmSc-Per-PTS and +/- is 0.4286924093014436\n"
     ]
    }
   ],
   "source": [
    "get_ratios(\"GmSc\",\"PTS\",full_data,new_col=\"GmSc-Per-PTS\",target=\"+/-\")"
   ]
  },
  {
   "cell_type": "code",
   "execution_count": 43,
   "metadata": {},
   "outputs": [
    {
     "name": "stdout",
     "output_type": "stream",
     "text": [
      "The correlation between GmSc-Per-FT and +/- is 0.14145452007874335\n"
     ]
    }
   ],
   "source": [
    "get_ratios(\"GmSc\",\"FT\",df=full_data,new_col=\"GmSc-Per-FT\",target=\"+/-\")"
   ]
  },
  {
   "cell_type": "code",
   "execution_count": 44,
   "metadata": {},
   "outputs": [
    {
     "name": "stdout",
     "output_type": "stream",
     "text": [
      "The correlation between FTR-Per-FGA and +/- is 0.11669528953805972\n"
     ]
    }
   ],
   "source": [
    "get_ratios(\"FTR\",\"FGA\",df=full_data,new_col=\"FTR-Per-FGA\",target=\"+/-\")"
   ]
  },
  {
   "cell_type": "code",
   "execution_count": 45,
   "metadata": {},
   "outputs": [
    {
     "name": "stdout",
     "output_type": "stream",
     "text": [
      "The correlation between PTS-Per-TOV and +/- is 0.1321251251557536\n"
     ]
    }
   ],
   "source": [
    "get_ratios(\"PTS\",\"TOV\",df=full_data,new_col=\"PTS-Per-TOV\",target=\"+/-\")"
   ]
  },
  {
   "cell_type": "code",
   "execution_count": 46,
   "metadata": {},
   "outputs": [
    {
     "name": "stdout",
     "output_type": "stream",
     "text": [
      "The correlation between PTS-Per-POSS and +/- is 0.3548578343826737\n"
     ]
    }
   ],
   "source": [
    "get_ratios(\"PTS\",\"POSS\",df=full_data,new_col=\"PTS-Per-POSS\",target=\"+/-\")"
   ]
  },
  {
   "cell_type": "code",
   "execution_count": 47,
   "metadata": {
    "scrolled": true
   },
   "outputs": [
    {
     "name": "stdout",
     "output_type": "stream",
     "text": [
      "The correlation between game_result-Per-PTS and +/- is 0.79392961213302\n"
     ]
    }
   ],
   "source": [
    "get_ratios(\"game_result\",\"PTS\",df=full_data,new_col=\"game_result-Per-PTS\",target=\"+/-\")"
   ]
  },
  {
   "cell_type": "code",
   "execution_count": 48,
   "metadata": {},
   "outputs": [],
   "source": [
    "def strp_mp(mp):\n",
    "    return int(mp.split(\":\")[0])"
   ]
  },
  {
   "cell_type": "code",
   "execution_count": 49,
   "metadata": {},
   "outputs": [],
   "source": [
    "full_data[\"MP\"] = full_data[\"MP\"].apply(lambda x: strp_mp(x))"
   ]
  },
  {
   "cell_type": "code",
   "execution_count": 50,
   "metadata": {},
   "outputs": [],
   "source": [
    "full_data[\"PER\"] = (1/full_data[\"MP\"]) * ((full_data[\"FG\"] * 85.91) + (full_data[\"STL\"] * 53.897) + (full_data[\"3P\"]*51.757) + (full_data[\"FT\"]*46.845) + (full_data[\"BLK\"]*39.19) + (full_data[\"ORB\"]*39.190) + (full_data[\"AST\"]*34.677) + (full_data[\"DRB\"]*14.707) - (full_data[\"PF\"]*17.174) - ((full_data[\"FTA\"]-full_data[\"FT\"])*20.091) - ((full_data[\"FGA\"]-full_data[\"FG\"])*39.190) - (full_data[\"TOV\"]*53.897))"
   ]
  },
  {
   "cell_type": "code",
   "execution_count": 51,
   "metadata": {},
   "outputs": [
    {
     "name": "stdout",
     "output_type": "stream",
     "text": [
      "The correlation between PER and +/- is 0.44233891684100035\n"
     ]
    }
   ],
   "source": [
    "per_corr = np.corrcoef(full_data[\"PER\"],full_data[\"+/-\"])[0,1]\n",
    "print(f\"The correlation between PER and +/- is {per_corr}\")"
   ]
  },
  {
   "cell_type": "code",
   "execution_count": 52,
   "metadata": {},
   "outputs": [],
   "source": [
    "corr = full_data.corr()"
   ]
  },
  {
   "cell_type": "code",
   "execution_count": 53,
   "metadata": {},
   "outputs": [
    {
     "data": {
      "image/png": "[encoded data removed]",
      "text/plain": [
       "<Figure size 1440x1440 with 6 Axes>"
      ]
     },
     "metadata": {},
     "output_type": "display_data"
    }
   ],
   "source": [
    "sns.set(font_scale=0.9)\n",
    "plt.figure(1,(20,20))\n",
    "i = 0\n",
    "epsilon = 0.01\n",
    "thres_cols = []\n",
    "for thres in thresholds:\n",
    "    i += 1\n",
    "    ax = plt.subplot(4,1,i)\n",
    "    corr_above_thres, corr_above_thres_cols = correlation_w_threshold(corr,thres-epsilon,\"+/-\")\n",
    "    pair = (thres,corr_above_thres_cols)\n",
    "    thres_cols.append(pair)\n",
    "    sns.heatmap(corr_above_thres.T,vmin=-1,vmax=1,center=0,linewidth=1,annot=True,yticklabels=[\"+/-\"],xticklabels=corr_above_thres_cols)\n",
    "    ax.set_title(f\"Threshold: {thres}\")\n",
    "    plt.tight_layout()\n",
    "plt.show()"
   ]
  },
  {
   "cell_type": "code",
   "execution_count": 54,
   "metadata": {},
   "outputs": [
    {
     "name": "stdout",
     "output_type": "stream",
     "text": [
      "The correlation between PER-Per-PTS and +/- is 0.48126514834299683\n"
     ]
    }
   ],
   "source": [
    "get_ratios(\"PER\",\"PTS\",full_data,new_col=\"PER-Per-PTS\",target=\"+/-\")"
   ]
  },
  {
   "cell_type": "code",
   "execution_count": 55,
   "metadata": {},
   "outputs": [
    {
     "data": {
      "text/plain": [
       "Index(['G', 'Date', 'Age', 'Tm', 'game_location', 'Opp', 'game_result', 'GS',\n",
       "       'MP', 'FG', 'FGA', 'FG%', '3P', '3PA', '3P%', 'FT', 'FTA', 'FT%', 'ORB',\n",
       "       'DRB', 'TRB', 'AST', 'STL', 'BLK', 'TOV', 'PF', 'PTS', 'GmSc', '+/-',\n",
       "       'TS%', 'FTR', 'hAST%', 'TOV%', 'AST-TOV', 'DREB%', 'OREB%', 'POSS',\n",
       "       'Year_Number', 'GmSc-Per-PTS', 'GmSc-Per-FT', 'FTR-Per-FGA',\n",
       "       'PTS-Per-TOV', 'PTS-Per-POSS', 'game_result-Per-PTS', 'PER',\n",
       "       'PER-Per-PTS'],\n",
       "      dtype='object')"
      ]
     },
     "execution_count": 55,
     "metadata": {},
     "output_type": "execute_result"
    }
   ],
   "source": [
    "full_data.columns"
   ]
  },
  {
   "cell_type": "code",
   "execution_count": 56,
   "metadata": {},
   "outputs": [
    {
     "data": {
      "text/html": [
       "<div>\n",
       "<style scoped>\n",
       "    .dataframe tbody tr th:only-of-type {\n",
       "        vertical-align: middle;\n",
       "    }\n",
       "\n",
       "    .dataframe tbody tr th {\n",
       "        vertical-align: top;\n",
       "    }\n",
       "\n",
       "    .dataframe thead th {\n",
       "        text-align: right;\n",
       "    }\n",
       "</style>\n",
       "<table border=\"1\" class=\"dataframe\">\n",
       "  <thead>\n",
       "    <tr style=\"text-align: right;\">\n",
       "      <th></th>\n",
       "      <th>G</th>\n",
       "      <th>Date</th>\n",
       "      <th>Age</th>\n",
       "      <th>Tm</th>\n",
       "      <th>game_location</th>\n",
       "      <th>Opp</th>\n",
       "      <th>game_result</th>\n",
       "      <th>GS</th>\n",
       "      <th>MP</th>\n",
       "      <th>FG</th>\n",
       "      <th>...</th>\n",
       "      <th>POSS</th>\n",
       "      <th>Year_Number</th>\n",
       "      <th>GmSc-Per-PTS</th>\n",
       "      <th>GmSc-Per-FT</th>\n",
       "      <th>FTR-Per-FGA</th>\n",
       "      <th>PTS-Per-TOV</th>\n",
       "      <th>PTS-Per-POSS</th>\n",
       "      <th>game_result-Per-PTS</th>\n",
       "      <th>PER</th>\n",
       "      <th>PER-Per-PTS</th>\n",
       "    </tr>\n",
       "  </thead>\n",
       "  <tbody>\n",
       "    <tr>\n",
       "      <th>0</th>\n",
       "      <td>1</td>\n",
       "      <td>2003-10-29</td>\n",
       "      <td>18-303</td>\n",
       "      <td>CLE</td>\n",
       "      <td>0</td>\n",
       "      <td>SAC</td>\n",
       "      <td>-14</td>\n",
       "      <td>1.0</td>\n",
       "      <td>42</td>\n",
       "      <td>12.0</td>\n",
       "      <td>...</td>\n",
       "      <td>21.32</td>\n",
       "      <td>1</td>\n",
       "      <td>0.988000</td>\n",
       "      <td>24.700</td>\n",
       "      <td>0.002500</td>\n",
       "      <td>12.500000</td>\n",
       "      <td>1.172608</td>\n",
       "      <td>-0.560000</td>\n",
       "      <td>29.277048</td>\n",
       "      <td>1.171082</td>\n",
       "    </tr>\n",
       "    <tr>\n",
       "      <th>1</th>\n",
       "      <td>2</td>\n",
       "      <td>2003-10-30</td>\n",
       "      <td>18-304</td>\n",
       "      <td>CLE</td>\n",
       "      <td>0</td>\n",
       "      <td>PHO</td>\n",
       "      <td>-9</td>\n",
       "      <td>1.0</td>\n",
       "      <td>40</td>\n",
       "      <td>8.0</td>\n",
       "      <td>...</td>\n",
       "      <td>25.08</td>\n",
       "      <td>1</td>\n",
       "      <td>0.700000</td>\n",
       "      <td>3.675</td>\n",
       "      <td>0.013841</td>\n",
       "      <td>3.000000</td>\n",
       "      <td>0.837321</td>\n",
       "      <td>-0.428571</td>\n",
       "      <td>16.893600</td>\n",
       "      <td>0.804457</td>\n",
       "    </tr>\n",
       "    <tr>\n",
       "      <th>2</th>\n",
       "      <td>3</td>\n",
       "      <td>2003-11-01</td>\n",
       "      <td>18-306</td>\n",
       "      <td>CLE</td>\n",
       "      <td>0</td>\n",
       "      <td>POR</td>\n",
       "      <td>-19</td>\n",
       "      <td>1.0</td>\n",
       "      <td>39</td>\n",
       "      <td>3.0</td>\n",
       "      <td>...</td>\n",
       "      <td>14.88</td>\n",
       "      <td>1</td>\n",
       "      <td>0.625000</td>\n",
       "      <td>2.500</td>\n",
       "      <td>0.013889</td>\n",
       "      <td>4.000000</td>\n",
       "      <td>0.537634</td>\n",
       "      <td>-2.375000</td>\n",
       "      <td>5.489179</td>\n",
       "      <td>0.686147</td>\n",
       "    </tr>\n",
       "    <tr>\n",
       "      <th>3</th>\n",
       "      <td>4</td>\n",
       "      <td>2003-11-05</td>\n",
       "      <td>18-310</td>\n",
       "      <td>CLE</td>\n",
       "      <td>1</td>\n",
       "      <td>DEN</td>\n",
       "      <td>-4</td>\n",
       "      <td>1.0</td>\n",
       "      <td>41</td>\n",
       "      <td>3.0</td>\n",
       "      <td>...</td>\n",
       "      <td>11.44</td>\n",
       "      <td>1</td>\n",
       "      <td>1.600000</td>\n",
       "      <td>11.200</td>\n",
       "      <td>0.008264</td>\n",
       "      <td>3.500000</td>\n",
       "      <td>0.611888</td>\n",
       "      <td>-0.571429</td>\n",
       "      <td>13.291049</td>\n",
       "      <td>1.898721</td>\n",
       "    </tr>\n",
       "    <tr>\n",
       "      <th>4</th>\n",
       "      <td>5</td>\n",
       "      <td>2003-11-07</td>\n",
       "      <td>18-312</td>\n",
       "      <td>CLE</td>\n",
       "      <td>0</td>\n",
       "      <td>IND</td>\n",
       "      <td>-1</td>\n",
       "      <td>1.0</td>\n",
       "      <td>43</td>\n",
       "      <td>8.0</td>\n",
       "      <td>...</td>\n",
       "      <td>28.08</td>\n",
       "      <td>1</td>\n",
       "      <td>0.391304</td>\n",
       "      <td>1.500</td>\n",
       "      <td>0.018519</td>\n",
       "      <td>3.285714</td>\n",
       "      <td>0.819088</td>\n",
       "      <td>-0.043478</td>\n",
       "      <td>8.698953</td>\n",
       "      <td>0.378215</td>\n",
       "    </tr>\n",
       "  </tbody>\n",
       "</table>\n",
       "<p>5 rows × 46 columns</p>\n",
       "</div>"
      ],
      "text/plain": [
       "   G       Date     Age   Tm  game_location  Opp  game_result   GS  MP    FG  \\\n",
       "0  1 2003-10-29  18-303  CLE              0  SAC          -14  1.0  42  12.0   \n",
       "1  2 2003-10-30  18-304  CLE              0  PHO           -9  1.0  40   8.0   \n",
       "2  3 2003-11-01  18-306  CLE              0  POR          -19  1.0  39   3.0   \n",
       "3  4 2003-11-05  18-310  CLE              1  DEN           -4  1.0  41   3.0   \n",
       "4  5 2003-11-07  18-312  CLE              0  IND           -1  1.0  43   8.0   \n",
       "\n",
       "   ...   POSS  Year_Number  GmSc-Per-PTS  GmSc-Per-FT  FTR-Per-FGA  \\\n",
       "0  ...  21.32            1      0.988000       24.700     0.002500   \n",
       "1  ...  25.08            1      0.700000        3.675     0.013841   \n",
       "2  ...  14.88            1      0.625000        2.500     0.013889   \n",
       "3  ...  11.44            1      1.600000       11.200     0.008264   \n",
       "4  ...  28.08            1      0.391304        1.500     0.018519   \n",
       "\n",
       "   PTS-Per-TOV  PTS-Per-POSS  game_result-Per-PTS        PER  PER-Per-PTS  \n",
       "0    12.500000      1.172608            -0.560000  29.277048     1.171082  \n",
       "1     3.000000      0.837321            -0.428571  16.893600     0.804457  \n",
       "2     4.000000      0.537634            -2.375000   5.489179     0.686147  \n",
       "3     3.500000      0.611888            -0.571429  13.291049     1.898721  \n",
       "4     3.285714      0.819088            -0.043478   8.698953     0.378215  \n",
       "\n",
       "[5 rows x 46 columns]"
      ]
     },
     "execution_count": 56,
     "metadata": {},
     "output_type": "execute_result"
    }
   ],
   "source": [
    "full_data.head()"
   ]
  },
  {
   "cell_type": "code",
   "execution_count": 57,
   "metadata": {},
   "outputs": [],
   "source": [
    "full_data[\"STLS-and-BLKS\"] = full_data[\"STL\"] + full_data[\"BLK\"]"
   ]
  },
  {
   "cell_type": "code",
   "execution_count": 58,
   "metadata": {},
   "outputs": [
    {
     "name": "stdout",
     "output_type": "stream",
     "text": [
      "The correlation between STL-BLK-Per-PF and +/- is 0.12855380746508027\n"
     ]
    }
   ],
   "source": [
    "get_ratios(\"STLS-and-BLKS\", \"TOV\",full_data,new_col=\"STL-BLK-Per-PF\",target=\"+/-\")"
   ]
  },
  {
   "cell_type": "markdown",
   "metadata": {},
   "source": [
    "<h4>The numerical columns that have above a 0.3 correlation with the +/- (target) column"
   ]
  },
  {
   "cell_type": "code",
   "execution_count": 59,
   "metadata": {},
   "outputs": [
    {
     "data": {
      "text/plain": [
       "['game_result',\n",
       " 'FG%',\n",
       " 'GmSc',\n",
       " 'TS%',\n",
       " 'GmSc-Per-PTS',\n",
       " 'PTS-Per-POSS',\n",
       " 'game_result-Per-PTS',\n",
       " 'PER']"
      ]
     },
     "execution_count": 59,
     "metadata": {},
     "output_type": "execute_result"
    }
   ],
   "source": [
    "num_cols = list(thres_cols[0][1])\n",
    "list(num_cols)"
   ]
  },
  {
   "cell_type": "markdown",
   "metadata": {},
   "source": [
    "<h3>Categorical Feature Engineering</h3>"
   ]
  },
  {
   "cell_type": "code",
   "execution_count": 60,
   "metadata": {},
   "outputs": [],
   "source": [
    "cat_cols = []"
   ]
  },
  {
   "cell_type": "code",
   "execution_count": 61,
   "metadata": {},
   "outputs": [],
   "source": [
    "def cat_test(cat_col,target_col,df,anova_test=False):\n",
    "    alpha = 0.05\n",
    "    unique_cats = df[cat_col].unique()\n",
    "    data = []\n",
    "    for cat in unique_cats:\n",
    "        data_tar = list(df[df[cat_col]==cat][target_col].values)\n",
    "        data.append(data_tar)\n",
    "    if not anova_test:\n",
    "        pvalue = stats.ttest_ind(*data).pvalue\n",
    "        print(f\"{cat_col} is statistically{' not ' if pvalue>alpha else ' '}signficant. The p-value is {pvalue}.\")\n",
    "        if pvalue < alpha:\n",
    "            cat_cols.append(cat_col)\n",
    "        return pvalue\n",
    "    else:\n",
    "        pvalue = stats.f_oneway(*data).pvalue\n",
    "        print(f\"{cat_col} is statistically{' not ' if pvalue>alpha else ' '}signficant. The p-value is {pvalue}.\")\n",
    "        if pvalue < alpha:\n",
    "            cat_cols.append(cat_col)\n",
    "        return pvalue"
   ]
  },
  {
   "cell_type": "code",
   "execution_count": 62,
   "metadata": {},
   "outputs": [
    {
     "name": "stdout",
     "output_type": "stream",
     "text": [
      "game_location is statistically signficant. The p-value is 1.768325491559272e-14.\n"
     ]
    },
    {
     "data": {
      "text/plain": [
       "1.768325491559272e-14"
      ]
     },
     "execution_count": 62,
     "metadata": {},
     "output_type": "execute_result"
    }
   ],
   "source": [
    "cat_test(\"game_location\",\"+/-\",full_data)"
   ]
  },
  {
   "cell_type": "code",
   "execution_count": 63,
   "metadata": {},
   "outputs": [
    {
     "name": "stdout",
     "output_type": "stream",
     "text": [
      "Opp is statistically signficant. The p-value is 0.014937179272392636.\n"
     ]
    },
    {
     "data": {
      "text/plain": [
       "0.014937179272392636"
      ]
     },
     "execution_count": 63,
     "metadata": {},
     "output_type": "execute_result"
    }
   ],
   "source": [
    "cat_test(\"Opp\",\"+/-\",full_data,anova_test=True)"
   ]
  },
  {
   "cell_type": "markdown",
   "metadata": {},
   "source": [
    "<i>Note: There 29 opposing teams in the NBA. Therefore, it may be likely that at least one team is statistically significant."
   ]
  },
  {
   "cell_type": "code",
   "execution_count": 64,
   "metadata": {},
   "outputs": [],
   "source": [
    "full_data[\"Won\"] = full_data[\"game_result\"] > 0"
   ]
  },
  {
   "cell_type": "code",
   "execution_count": 65,
   "metadata": {},
   "outputs": [
    {
     "name": "stdout",
     "output_type": "stream",
     "text": [
      "Won is statistically signficant. The p-value is 1.6432453770449878e-203.\n"
     ]
    },
    {
     "data": {
      "text/plain": [
       "1.6432453770449878e-203"
      ]
     },
     "execution_count": 65,
     "metadata": {},
     "output_type": "execute_result"
    }
   ],
   "source": [
    "cat_test(\"Won\",\"+/-\",full_data)"
   ]
  },
  {
   "cell_type": "code",
   "execution_count": 66,
   "metadata": {},
   "outputs": [],
   "source": [
    "full_data[\"High-3P%-Shooting\"] = full_data[\"3P%\"] > 0.4"
   ]
  },
  {
   "cell_type": "code",
   "execution_count": 67,
   "metadata": {},
   "outputs": [
    {
     "name": "stdout",
     "output_type": "stream",
     "text": [
      "High-3P%-Shooting is statistically signficant. The p-value is 1.588513070113339e-05.\n"
     ]
    },
    {
     "data": {
      "text/plain": [
       "1.588513070113339e-05"
      ]
     },
     "execution_count": 67,
     "metadata": {},
     "output_type": "execute_result"
    }
   ],
   "source": [
    "cat_test(\"High-3P%-Shooting\",\"+/-\",full_data)"
   ]
  },
  {
   "cell_type": "code",
   "execution_count": 68,
   "metadata": {},
   "outputs": [],
   "source": [
    "full_data[\"High-FG%-Shooting\"] = full_data[\"FG%\"] > 0.5"
   ]
  },
  {
   "cell_type": "code",
   "execution_count": 69,
   "metadata": {},
   "outputs": [
    {
     "name": "stdout",
     "output_type": "stream",
     "text": [
      "High-FG%-Shooting is statistically signficant. The p-value is 2.7718763621611894e-18.\n"
     ]
    },
    {
     "data": {
      "text/plain": [
       "2.7718763621611894e-18"
      ]
     },
     "execution_count": 69,
     "metadata": {},
     "output_type": "execute_result"
    }
   ],
   "source": [
    "cat_test(\"High-FG%-Shooting\",\"+/-\",full_data)"
   ]
  },
  {
   "cell_type": "code",
   "execution_count": 70,
   "metadata": {},
   "outputs": [],
   "source": [
    "full_data[\"Over-3-BLKs-and-STLs\"] = full_data[\"STLS-and-BLKS\"] > 3"
   ]
  },
  {
   "cell_type": "code",
   "execution_count": 71,
   "metadata": {},
   "outputs": [
    {
     "name": "stdout",
     "output_type": "stream",
     "text": [
      "Over-3-BLKs-and-STLs is statistically signficant. The p-value is 0.003140196638572238.\n"
     ]
    },
    {
     "data": {
      "text/plain": [
       "0.003140196638572238"
      ]
     },
     "execution_count": 71,
     "metadata": {},
     "output_type": "execute_result"
    }
   ],
   "source": [
    "cat_test(\"Over-3-BLKs-and-STLs\",\"+/-\",full_data)"
   ]
  },
  {
   "cell_type": "code",
   "execution_count": 72,
   "metadata": {},
   "outputs": [],
   "source": [
    "full_data[\"Played-Above-Avg-Min\"] = full_data[\"MP\"] > full_data[\"MP\"].mean()"
   ]
  },
  {
   "cell_type": "code",
   "execution_count": 73,
   "metadata": {},
   "outputs": [
    {
     "name": "stdout",
     "output_type": "stream",
     "text": [
      "Played-Above-Avg-Min is statistically signficant. The p-value is 3.5590221865677702e-12.\n"
     ]
    },
    {
     "data": {
      "text/plain": [
       "3.5590221865677702e-12"
      ]
     },
     "execution_count": 73,
     "metadata": {},
     "output_type": "execute_result"
    }
   ],
   "source": [
    "cat_test(\"Played-Above-Avg-Min\",\"+/-\",full_data)"
   ]
  },
  {
   "cell_type": "code",
   "execution_count": 74,
   "metadata": {},
   "outputs": [
    {
     "data": {
      "text/plain": [
       "Index(['G', 'Date', 'Age', 'Tm', 'game_location', 'Opp', 'game_result', 'GS',\n",
       "       'MP', 'FG', 'FGA', 'FG%', '3P', '3PA', '3P%', 'FT', 'FTA', 'FT%', 'ORB',\n",
       "       'DRB', 'TRB', 'AST', 'STL', 'BLK', 'TOV', 'PF', 'PTS', 'GmSc', '+/-',\n",
       "       'TS%', 'FTR', 'hAST%', 'TOV%', 'AST-TOV', 'DREB%', 'OREB%', 'POSS',\n",
       "       'Year_Number', 'GmSc-Per-PTS', 'GmSc-Per-FT', 'FTR-Per-FGA',\n",
       "       'PTS-Per-TOV', 'PTS-Per-POSS', 'game_result-Per-PTS', 'PER',\n",
       "       'PER-Per-PTS', 'STLS-and-BLKS', 'STL-BLK-Per-PF', 'Won',\n",
       "       'High-3P%-Shooting', 'High-FG%-Shooting', 'Over-3-BLKs-and-STLs',\n",
       "       'Played-Above-Avg-Min'],\n",
       "      dtype='object')"
      ]
     },
     "execution_count": 74,
     "metadata": {},
     "output_type": "execute_result"
    }
   ],
   "source": [
    "full_data.columns"
   ]
  },
  {
   "cell_type": "code",
   "execution_count": 75,
   "metadata": {},
   "outputs": [],
   "source": [
    "full_data[\"Above-Avg-FT%\"] = full_data[\"FT%\"] > full_data[\"FT%\"].mean()"
   ]
  },
  {
   "cell_type": "code",
   "execution_count": 76,
   "metadata": {},
   "outputs": [
    {
     "name": "stdout",
     "output_type": "stream",
     "text": [
      "Above-Avg-FT% is statistically signficant. The p-value is 0.0035261492254763686.\n"
     ]
    },
    {
     "data": {
      "text/plain": [
       "0.0035261492254763686"
      ]
     },
     "execution_count": 76,
     "metadata": {},
     "output_type": "execute_result"
    }
   ],
   "source": [
    "cat_test(\"Above-Avg-FT%\",\"+/-\",full_data)"
   ]
  },
  {
   "cell_type": "code",
   "execution_count": 77,
   "metadata": {},
   "outputs": [],
   "source": [
    "def get_career_stage(x):\n",
    "    if x < 27:\n",
    "        return \"rising\"\n",
    "    elif x < 33:\n",
    "        return \"prime\"\n",
    "    return \"decline\""
   ]
  },
  {
   "cell_type": "code",
   "execution_count": 78,
   "metadata": {},
   "outputs": [],
   "source": [
    "def get_age(age):\n",
    "    return int(age.split(\"-\")[0])"
   ]
  },
  {
   "cell_type": "code",
   "execution_count": 79,
   "metadata": {},
   "outputs": [],
   "source": [
    "full_data[\"Age\"] = full_data[\"Age\"].apply(lambda x: get_age(x))"
   ]
  },
  {
   "cell_type": "code",
   "execution_count": 80,
   "metadata": {},
   "outputs": [],
   "source": [
    "full_data[\"Career-Stage\"] = full_data[\"Age\"].apply(lambda x: get_career_stage(x))"
   ]
  },
  {
   "cell_type": "code",
   "execution_count": 81,
   "metadata": {},
   "outputs": [
    {
     "name": "stdout",
     "output_type": "stream",
     "text": [
      "Career-Stage is statistically signficant. The p-value is 0.0010316884526899535.\n"
     ]
    },
    {
     "data": {
      "text/plain": [
       "0.0010316884526899535"
      ]
     },
     "execution_count": 81,
     "metadata": {},
     "output_type": "execute_result"
    }
   ],
   "source": [
    "cat_test(\"Career-Stage\",\"+/-\",full_data, anova_test=True)"
   ]
  },
  {
   "cell_type": "code",
   "execution_count": 82,
   "metadata": {},
   "outputs": [],
   "source": [
    "full_data[\"Above-Avg-PTS-Per-POSS\"] = full_data[\"PTS-Per-POSS\"] > full_data[\"PTS-Per-POSS\"].mean() "
   ]
  },
  {
   "cell_type": "code",
   "execution_count": 83,
   "metadata": {},
   "outputs": [
    {
     "name": "stdout",
     "output_type": "stream",
     "text": [
      "Above-Avg-PTS-Per-POSS is statistically signficant. The p-value is 3.049859293170744e-28.\n"
     ]
    },
    {
     "data": {
      "text/plain": [
       "3.049859293170744e-28"
      ]
     },
     "execution_count": 83,
     "metadata": {},
     "output_type": "execute_result"
    }
   ],
   "source": [
    "cat_test(\"Above-Avg-PTS-Per-POSS\",\"+/-\",full_data, anova_test=True)"
   ]
  },
  {
   "cell_type": "code",
   "execution_count": 84,
   "metadata": {},
   "outputs": [],
   "source": [
    "full_data[\"More-BLKs-Than-STLs\"] = full_data[\"BLK\"] > full_data[\"STL\"]"
   ]
  },
  {
   "cell_type": "code",
   "execution_count": 85,
   "metadata": {},
   "outputs": [
    {
     "name": "stdout",
     "output_type": "stream",
     "text": [
      "More-BLKs-Than-STLs is statistically signficant. The p-value is 0.013430475654843897.\n"
     ]
    },
    {
     "data": {
      "text/plain": [
       "0.013430475654843897"
      ]
     },
     "execution_count": 85,
     "metadata": {},
     "output_type": "execute_result"
    }
   ],
   "source": [
    "cat_test(\"More-BLKs-Than-STLs\",\"+/-\",full_data)"
   ]
  },
  {
   "cell_type": "code",
   "execution_count": 86,
   "metadata": {},
   "outputs": [],
   "source": [
    "full_data[\"More-AST-Than-TOV\"] = full_data[\"AST\"] > full_data[\"TOV\"]"
   ]
  },
  {
   "cell_type": "code",
   "execution_count": 87,
   "metadata": {},
   "outputs": [
    {
     "name": "stdout",
     "output_type": "stream",
     "text": [
      "More-AST-Than-TOV is statistically signficant. The p-value is 2.9689447370695686e-11.\n"
     ]
    },
    {
     "data": {
      "text/plain": [
       "2.9689447370695686e-11"
      ]
     },
     "execution_count": 87,
     "metadata": {},
     "output_type": "execute_result"
    }
   ],
   "source": [
    "cat_test(\"More-AST-Than-TOV\",\"+/-\",full_data)"
   ]
  },
  {
   "cell_type": "code",
   "execution_count": 88,
   "metadata": {},
   "outputs": [],
   "source": [
    "def pts_cats(p):\n",
    "    if p < 20:\n",
    "        return \"below 20\"\n",
    "    elif p < 35:\n",
    "        return \"below 35\"\n",
    "    return \"above 35\""
   ]
  },
  {
   "cell_type": "code",
   "execution_count": 89,
   "metadata": {},
   "outputs": [],
   "source": [
    "full_data[\"PTS-Cat\"] = full_data[\"PTS\"].apply(lambda x: pts_cats(x))"
   ]
  },
  {
   "cell_type": "code",
   "execution_count": 90,
   "metadata": {},
   "outputs": [
    {
     "name": "stdout",
     "output_type": "stream",
     "text": [
      "PTS-Cat is statistically signficant. The p-value is 0.00016774326570089587.\n"
     ]
    },
    {
     "data": {
      "text/plain": [
       "0.00016774326570089587"
      ]
     },
     "execution_count": 90,
     "metadata": {},
     "output_type": "execute_result"
    }
   ],
   "source": [
    "cat_test(\"PTS-Cat\",\"+/-\",full_data,anova_test=True)"
   ]
  },
  {
   "cell_type": "code",
   "execution_count": 91,
   "metadata": {},
   "outputs": [],
   "source": [
    "full_data[\"2P\"] = full_data[\"FG\"] - full_data[\"3P\"]\n",
    "full_data[\"2PA\"] = full_data[\"FGA\"] - full_data[\"3PA\"]\n",
    "full_data[\"2P%\"] = full_data[\"2P\"] / full_data[\"2PA\"]"
   ]
  },
  {
   "cell_type": "code",
   "execution_count": 92,
   "metadata": {},
   "outputs": [],
   "source": [
    "full_data[\"2P%-Above-50%\"] = full_data[\"2P%\"] > 0.5"
   ]
  },
  {
   "cell_type": "code",
   "execution_count": 93,
   "metadata": {},
   "outputs": [
    {
     "name": "stdout",
     "output_type": "stream",
     "text": [
      "2P%-Above-50% is statistically signficant. The p-value is 9.664397217194262e-12.\n"
     ]
    },
    {
     "data": {
      "text/plain": [
       "9.664397217194262e-12"
      ]
     },
     "execution_count": 93,
     "metadata": {},
     "output_type": "execute_result"
    }
   ],
   "source": [
    "cat_test(\"2P%-Above-50%\",\"+/-\",full_data)"
   ]
  },
  {
   "cell_type": "code",
   "execution_count": 94,
   "metadata": {},
   "outputs": [],
   "source": [
    "full_data[\"More than 3 Fouls\"] = full_data[\"PF\"] > 3"
   ]
  },
  {
   "cell_type": "code",
   "execution_count": 95,
   "metadata": {},
   "outputs": [
    {
     "name": "stdout",
     "output_type": "stream",
     "text": [
      "More than 3 Fouls is statistically signficant. The p-value is 0.002730406780207849.\n"
     ]
    },
    {
     "data": {
      "text/plain": [
       "0.002730406780207849"
      ]
     },
     "execution_count": 95,
     "metadata": {},
     "output_type": "execute_result"
    }
   ],
   "source": [
    "cat_test(\"More than 3 Fouls\",\"+/-\",full_data)"
   ]
  },
  {
   "cell_type": "code",
   "execution_count": 96,
   "metadata": {},
   "outputs": [
    {
     "data": {
      "text/plain": [
       "Index(['G', 'Date', 'Age', 'Tm', 'game_location', 'Opp', 'game_result', 'GS',\n",
       "       'MP', 'FG', 'FGA', 'FG%', '3P', '3PA', '3P%', 'FT', 'FTA', 'FT%', 'ORB',\n",
       "       'DRB', 'TRB', 'AST', 'STL', 'BLK', 'TOV', 'PF', 'PTS', 'GmSc', '+/-',\n",
       "       'TS%', 'FTR', 'hAST%', 'TOV%', 'AST-TOV', 'DREB%', 'OREB%', 'POSS',\n",
       "       'Year_Number', 'GmSc-Per-PTS', 'GmSc-Per-FT', 'FTR-Per-FGA',\n",
       "       'PTS-Per-TOV', 'PTS-Per-POSS', 'game_result-Per-PTS', 'PER',\n",
       "       'PER-Per-PTS', 'STLS-and-BLKS', 'STL-BLK-Per-PF', 'Won',\n",
       "       'High-3P%-Shooting', 'High-FG%-Shooting', 'Over-3-BLKs-and-STLs',\n",
       "       'Played-Above-Avg-Min', 'Above-Avg-FT%', 'Career-Stage',\n",
       "       'Above-Avg-PTS-Per-POSS', 'More-BLKs-Than-STLs', 'More-AST-Than-TOV',\n",
       "       'PTS-Cat', '2P', '2PA', '2P%', '2P%-Above-50%', 'More than 3 Fouls'],\n",
       "      dtype='object')"
      ]
     },
     "execution_count": 96,
     "metadata": {},
     "output_type": "execute_result"
    }
   ],
   "source": [
    "full_data.columns"
   ]
  },
  {
   "cell_type": "code",
   "execution_count": 97,
   "metadata": {},
   "outputs": [
    {
     "data": {
      "text/plain": [
       "(0.0, 1.3636363636363635)"
      ]
     },
     "execution_count": 97,
     "metadata": {},
     "output_type": "execute_result"
    }
   ],
   "source": [
    "full_data[\"FTR\"].min(), full_data[\"FTR\"].max()"
   ]
  },
  {
   "cell_type": "code",
   "execution_count": 98,
   "metadata": {},
   "outputs": [],
   "source": [
    "full_data[\"FTR-Above-Avg\"] = full_data[\"FTR\"] > full_data[\"FTR\"].mean()"
   ]
  },
  {
   "cell_type": "code",
   "execution_count": 99,
   "metadata": {},
   "outputs": [
    {
     "name": "stdout",
     "output_type": "stream",
     "text": [
      "FTR-Above-Avg is statistically signficant. The p-value is 0.04141305516103307.\n"
     ]
    },
    {
     "data": {
      "text/plain": [
       "0.04141305516103307"
      ]
     },
     "execution_count": 99,
     "metadata": {},
     "output_type": "execute_result"
    }
   ],
   "source": [
    "cat_test(\"FTR-Above-Avg\",\"+/-\",full_data)"
   ]
  },
  {
   "cell_type": "code",
   "execution_count": 100,
   "metadata": {},
   "outputs": [],
   "source": [
    "full_data[\"Less-Than-3-TOV\"] = full_data[\"TOV\"]<3"
   ]
  },
  {
   "cell_type": "code",
   "execution_count": 101,
   "metadata": {},
   "outputs": [
    {
     "name": "stdout",
     "output_type": "stream",
     "text": [
      "Less-Than-3-TOV is statistically signficant. The p-value is 1.4776039039333707e-10.\n"
     ]
    },
    {
     "data": {
      "text/plain": [
       "1.4776039039333707e-10"
      ]
     },
     "execution_count": 101,
     "metadata": {},
     "output_type": "execute_result"
    }
   ],
   "source": [
    "cat_test(\"Less-Than-3-TOV\",\"+/-\",full_data)"
   ]
  },
  {
   "cell_type": "code",
   "execution_count": 102,
   "metadata": {},
   "outputs": [
    {
     "data": {
      "text/plain": [
       "['game_location',\n",
       " 'Opp',\n",
       " 'Won',\n",
       " 'High-3P%-Shooting',\n",
       " 'High-FG%-Shooting',\n",
       " 'Over-3-BLKs-and-STLs',\n",
       " 'Played-Above-Avg-Min',\n",
       " 'Above-Avg-FT%',\n",
       " 'Career-Stage',\n",
       " 'Above-Avg-PTS-Per-POSS',\n",
       " 'More-BLKs-Than-STLs',\n",
       " 'More-AST-Than-TOV',\n",
       " 'PTS-Cat',\n",
       " '2P%-Above-50%',\n",
       " 'More than 3 Fouls',\n",
       " 'FTR-Above-Avg',\n",
       " 'Less-Than-3-TOV']"
      ]
     },
     "execution_count": 102,
     "metadata": {},
     "output_type": "execute_result"
    }
   ],
   "source": [
    "cat_cols"
   ]
  },
  {
   "cell_type": "code",
   "execution_count": 103,
   "metadata": {},
   "outputs": [],
   "source": [
    "sig_cols = np.array(num_cols + cat_cols)"
   ]
  },
  {
   "cell_type": "code",
   "execution_count": 104,
   "metadata": {},
   "outputs": [],
   "source": [
    "np.save(\"sig_cols.npy\",sig_cols)"
   ]
  },
  {
   "cell_type": "code",
   "execution_count": 107,
   "metadata": {},
   "outputs": [],
   "source": [
    "full_data.to_csv(os.path.join(\"../\",\"data\",\"combined_game_data.csv\"),index=False)"
   ]
  },
  {
   "cell_type": "code",
   "execution_count": null,
   "metadata": {},
   "outputs": [],
   "source": []
  }
 ],
 "metadata": {
  "kernelspec": {
   "display_name": "Python 3",
   "language": "python",
   "name": "python3"
  },
  "language_info": {
   "codemirror_mode": {
    "name": "ipython",
    "version": 3
   },
   "file_extension": ".py",
   "mimetype": "text/x-python",
   "name": "python",
   "nbconvert_exporter": "python",
   "pygments_lexer": "ipython3",
   "version": "3.7.5"
  }
 },
 "nbformat": 4,
 "nbformat_minor": 4
}
