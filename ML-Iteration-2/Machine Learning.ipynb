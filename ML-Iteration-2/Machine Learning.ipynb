{
 "cells": [
  {
   "cell_type": "code",
   "execution_count": 183,
   "metadata": {},
   "outputs": [],
   "source": [
    "from sklearn.pipeline import Pipeline\n",
    "from sklearn.metrics import mean_squared_error\n",
    "from sklearn.model_selection import StratifiedShuffleSplit, train_test_split, GridSearchCV\n",
    "from sklearn.preprocessing import LabelBinarizer, StandardScaler\n",
    "from sklearn.linear_model import LinearRegression, SGDRegressor, ElasticNet\n",
    "from sklearn.ensemble import RandomForestRegressor\n",
    "from sklearn.decomposition import PCA\n",
    "import numpy as np\n",
    "import pandas as pd\n",
    "import os"
   ]
  },
  {
   "cell_type": "code",
   "execution_count": 184,
   "metadata": {},
   "outputs": [],
   "source": [
    "full_game_df = pd.read_csv(os.path.join(\"feature_eng_data_iter_2.csv\"))"
   ]
  },
  {
   "cell_type": "code",
   "execution_count": 185,
   "metadata": {},
   "outputs": [],
   "source": [
    "sig_cols = list(np.load(\"sig_cols_ml_iteration_2.npy\"))"
   ]
  },
  {
   "cell_type": "code",
   "execution_count": 186,
   "metadata": {},
   "outputs": [],
   "source": [
    "target = full_game_df[\"+/-\"]"
   ]
  },
  {
   "cell_type": "code",
   "execution_count": 187,
   "metadata": {},
   "outputs": [
    {
     "data": {
      "text/html": [
       "<div>\n",
       "<style scoped>\n",
       "    .dataframe tbody tr th:only-of-type {\n",
       "        vertical-align: middle;\n",
       "    }\n",
       "\n",
       "    .dataframe tbody tr th {\n",
       "        vertical-align: top;\n",
       "    }\n",
       "\n",
       "    .dataframe thead th {\n",
       "        text-align: right;\n",
       "    }\n",
       "</style>\n",
       "<table border=\"1\" class=\"dataframe\">\n",
       "  <thead>\n",
       "    <tr style=\"text-align: right;\">\n",
       "      <th></th>\n",
       "      <th>G</th>\n",
       "      <th>Date</th>\n",
       "      <th>Age</th>\n",
       "      <th>Tm</th>\n",
       "      <th>game_location</th>\n",
       "      <th>Opp</th>\n",
       "      <th>game_result</th>\n",
       "      <th>GS</th>\n",
       "      <th>MP</th>\n",
       "      <th>FG</th>\n",
       "      <th>...</th>\n",
       "      <th>More than 3 Fouls</th>\n",
       "      <th>FTR-Above-Avg</th>\n",
       "      <th>Less-Than-3-TOV</th>\n",
       "      <th>PTS-Per-Min</th>\n",
       "      <th>%-Avg</th>\n",
       "      <th>PER-Per-TOV</th>\n",
       "      <th>off_rating</th>\n",
       "      <th>off_rating_above_avg</th>\n",
       "      <th>More-Than-Avg-POSS</th>\n",
       "      <th>Above-Avg-GmSc</th>\n",
       "    </tr>\n",
       "  </thead>\n",
       "  <tbody>\n",
       "    <tr>\n",
       "      <th>0</th>\n",
       "      <td>1</td>\n",
       "      <td>2003-10-29</td>\n",
       "      <td>18</td>\n",
       "      <td>CLE</td>\n",
       "      <td>False</td>\n",
       "      <td>SAC</td>\n",
       "      <td>-14</td>\n",
       "      <td>True</td>\n",
       "      <td>42</td>\n",
       "      <td>12.0</td>\n",
       "      <td>...</td>\n",
       "      <td>False</td>\n",
       "      <td>False</td>\n",
       "      <td>True</td>\n",
       "      <td>0.595238</td>\n",
       "      <td>0.333333</td>\n",
       "      <td>14.638524</td>\n",
       "      <td>117.260788</td>\n",
       "      <td>True</td>\n",
       "      <td>False</td>\n",
       "      <td>True</td>\n",
       "    </tr>\n",
       "    <tr>\n",
       "      <th>1</th>\n",
       "      <td>2</td>\n",
       "      <td>2003-10-30</td>\n",
       "      <td>18</td>\n",
       "      <td>CLE</td>\n",
       "      <td>False</td>\n",
       "      <td>PHO</td>\n",
       "      <td>-9</td>\n",
       "      <td>True</td>\n",
       "      <td>40</td>\n",
       "      <td>8.0</td>\n",
       "      <td>...</td>\n",
       "      <td>False</td>\n",
       "      <td>False</td>\n",
       "      <td>False</td>\n",
       "      <td>0.525000</td>\n",
       "      <td>0.391667</td>\n",
       "      <td>2.413371</td>\n",
       "      <td>83.732057</td>\n",
       "      <td>False</td>\n",
       "      <td>False</td>\n",
       "      <td>False</td>\n",
       "    </tr>\n",
       "    <tr>\n",
       "      <th>2</th>\n",
       "      <td>3</td>\n",
       "      <td>2003-11-01</td>\n",
       "      <td>18</td>\n",
       "      <td>CLE</td>\n",
       "      <td>False</td>\n",
       "      <td>POR</td>\n",
       "      <td>-19</td>\n",
       "      <td>True</td>\n",
       "      <td>39</td>\n",
       "      <td>3.0</td>\n",
       "      <td>...</td>\n",
       "      <td>False</td>\n",
       "      <td>False</td>\n",
       "      <td>True</td>\n",
       "      <td>0.205128</td>\n",
       "      <td>0.136364</td>\n",
       "      <td>2.744590</td>\n",
       "      <td>53.763441</td>\n",
       "      <td>False</td>\n",
       "      <td>False</td>\n",
       "      <td>False</td>\n",
       "    </tr>\n",
       "    <tr>\n",
       "      <th>3</th>\n",
       "      <td>4</td>\n",
       "      <td>2003-11-05</td>\n",
       "      <td>18</td>\n",
       "      <td>CLE</td>\n",
       "      <td>True</td>\n",
       "      <td>DEN</td>\n",
       "      <td>-4</td>\n",
       "      <td>True</td>\n",
       "      <td>41</td>\n",
       "      <td>3.0</td>\n",
       "      <td>...</td>\n",
       "      <td>False</td>\n",
       "      <td>False</td>\n",
       "      <td>True</td>\n",
       "      <td>0.170732</td>\n",
       "      <td>0.166667</td>\n",
       "      <td>6.645524</td>\n",
       "      <td>61.188811</td>\n",
       "      <td>False</td>\n",
       "      <td>False</td>\n",
       "      <td>False</td>\n",
       "    </tr>\n",
       "    <tr>\n",
       "      <th>4</th>\n",
       "      <td>5</td>\n",
       "      <td>2003-11-07</td>\n",
       "      <td>18</td>\n",
       "      <td>CLE</td>\n",
       "      <td>False</td>\n",
       "      <td>IND</td>\n",
       "      <td>-1</td>\n",
       "      <td>True</td>\n",
       "      <td>43</td>\n",
       "      <td>8.0</td>\n",
       "      <td>...</td>\n",
       "      <td>False</td>\n",
       "      <td>True</td>\n",
       "      <td>False</td>\n",
       "      <td>0.534884</td>\n",
       "      <td>0.468750</td>\n",
       "      <td>1.242708</td>\n",
       "      <td>81.908832</td>\n",
       "      <td>False</td>\n",
       "      <td>True</td>\n",
       "      <td>False</td>\n",
       "    </tr>\n",
       "  </tbody>\n",
       "</table>\n",
       "<p>5 rows × 73 columns</p>\n",
       "</div>"
      ],
      "text/plain": [
       "   G        Date  Age   Tm  game_location  Opp  game_result    GS  MP    FG  \\\n",
       "0  1  2003-10-29   18  CLE          False  SAC          -14  True  42  12.0   \n",
       "1  2  2003-10-30   18  CLE          False  PHO           -9  True  40   8.0   \n",
       "2  3  2003-11-01   18  CLE          False  POR          -19  True  39   3.0   \n",
       "3  4  2003-11-05   18  CLE           True  DEN           -4  True  41   3.0   \n",
       "4  5  2003-11-07   18  CLE          False  IND           -1  True  43   8.0   \n",
       "\n",
       "   ...  More than 3 Fouls  FTR-Above-Avg  Less-Than-3-TOV  PTS-Per-Min  \\\n",
       "0  ...              False          False             True     0.595238   \n",
       "1  ...              False          False            False     0.525000   \n",
       "2  ...              False          False             True     0.205128   \n",
       "3  ...              False          False             True     0.170732   \n",
       "4  ...              False           True            False     0.534884   \n",
       "\n",
       "      %-Avg  PER-Per-TOV  off_rating  off_rating_above_avg  \\\n",
       "0  0.333333    14.638524  117.260788                  True   \n",
       "1  0.391667     2.413371   83.732057                 False   \n",
       "2  0.136364     2.744590   53.763441                 False   \n",
       "3  0.166667     6.645524   61.188811                 False   \n",
       "4  0.468750     1.242708   81.908832                 False   \n",
       "\n",
       "   More-Than-Avg-POSS  Above-Avg-GmSc  \n",
       "0               False            True  \n",
       "1               False           False  \n",
       "2               False           False  \n",
       "3               False           False  \n",
       "4                True           False  \n",
       "\n",
       "[5 rows x 73 columns]"
      ]
     },
     "execution_count": 187,
     "metadata": {},
     "output_type": "execute_result"
    }
   ],
   "source": [
    "full_game_df.head()"
   ]
  },
  {
   "cell_type": "code",
   "execution_count": 188,
   "metadata": {},
   "outputs": [],
   "source": [
    "sig_df = full_game_df[sig_cols]"
   ]
  },
  {
   "cell_type": "code",
   "execution_count": 189,
   "metadata": {},
   "outputs": [
    {
     "data": {
      "text/html": [
       "<div>\n",
       "<style scoped>\n",
       "    .dataframe tbody tr th:only-of-type {\n",
       "        vertical-align: middle;\n",
       "    }\n",
       "\n",
       "    .dataframe tbody tr th {\n",
       "        vertical-align: top;\n",
       "    }\n",
       "\n",
       "    .dataframe thead th {\n",
       "        text-align: right;\n",
       "    }\n",
       "</style>\n",
       "<table border=\"1\" class=\"dataframe\">\n",
       "  <thead>\n",
       "    <tr style=\"text-align: right;\">\n",
       "      <th></th>\n",
       "      <th>PTS-Per-Min</th>\n",
       "      <th>%-Avg</th>\n",
       "      <th>PER-Per-TOV</th>\n",
       "      <th>off_rating</th>\n",
       "      <th>off_rating_above_avg</th>\n",
       "      <th>More-Than-Avg-POSS</th>\n",
       "      <th>Above-Avg-GmSc</th>\n",
       "      <th>game_result</th>\n",
       "      <th>FG%</th>\n",
       "      <th>GmSc</th>\n",
       "      <th>...</th>\n",
       "      <th>Over-3-BLKs-and-STLs</th>\n",
       "      <th>Played-Above-Avg-Min</th>\n",
       "      <th>Above-Avg-FT%</th>\n",
       "      <th>Career-Stage</th>\n",
       "      <th>Above-Avg-PTS-Per-POSS</th>\n",
       "      <th>More-BLKs-Than-STLs</th>\n",
       "      <th>More-AST-Than-TOV</th>\n",
       "      <th>PTS-Cat</th>\n",
       "      <th>2P%-Above-50%</th>\n",
       "      <th>More than 3 Fouls</th>\n",
       "    </tr>\n",
       "  </thead>\n",
       "  <tbody>\n",
       "    <tr>\n",
       "      <th>0</th>\n",
       "      <td>0.595238</td>\n",
       "      <td>0.333333</td>\n",
       "      <td>14.638524</td>\n",
       "      <td>117.260788</td>\n",
       "      <td>True</td>\n",
       "      <td>False</td>\n",
       "      <td>True</td>\n",
       "      <td>-14</td>\n",
       "      <td>0.600</td>\n",
       "      <td>24.7</td>\n",
       "      <td>...</td>\n",
       "      <td>True</td>\n",
       "      <td>True</td>\n",
       "      <td>False</td>\n",
       "      <td>rising</td>\n",
       "      <td>True</td>\n",
       "      <td>False</td>\n",
       "      <td>True</td>\n",
       "      <td>below 35</td>\n",
       "      <td>True</td>\n",
       "      <td>False</td>\n",
       "    </tr>\n",
       "    <tr>\n",
       "      <th>1</th>\n",
       "      <td>0.525000</td>\n",
       "      <td>0.391667</td>\n",
       "      <td>2.413371</td>\n",
       "      <td>83.732057</td>\n",
       "      <td>False</td>\n",
       "      <td>False</td>\n",
       "      <td>False</td>\n",
       "      <td>-9</td>\n",
       "      <td>0.471</td>\n",
       "      <td>14.7</td>\n",
       "      <td>...</td>\n",
       "      <td>False</td>\n",
       "      <td>True</td>\n",
       "      <td>False</td>\n",
       "      <td>rising</td>\n",
       "      <td>False</td>\n",
       "      <td>False</td>\n",
       "      <td>True</td>\n",
       "      <td>below 35</td>\n",
       "      <td>True</td>\n",
       "      <td>False</td>\n",
       "    </tr>\n",
       "    <tr>\n",
       "      <th>2</th>\n",
       "      <td>0.205128</td>\n",
       "      <td>0.136364</td>\n",
       "      <td>2.744590</td>\n",
       "      <td>53.763441</td>\n",
       "      <td>False</td>\n",
       "      <td>False</td>\n",
       "      <td>False</td>\n",
       "      <td>-19</td>\n",
       "      <td>0.250</td>\n",
       "      <td>5.0</td>\n",
       "      <td>...</td>\n",
       "      <td>False</td>\n",
       "      <td>True</td>\n",
       "      <td>True</td>\n",
       "      <td>rising</td>\n",
       "      <td>False</td>\n",
       "      <td>False</td>\n",
       "      <td>True</td>\n",
       "      <td>below 20</td>\n",
       "      <td>False</td>\n",
       "      <td>False</td>\n",
       "    </tr>\n",
       "    <tr>\n",
       "      <th>3</th>\n",
       "      <td>0.170732</td>\n",
       "      <td>0.166667</td>\n",
       "      <td>6.645524</td>\n",
       "      <td>61.188811</td>\n",
       "      <td>False</td>\n",
       "      <td>False</td>\n",
       "      <td>False</td>\n",
       "      <td>-4</td>\n",
       "      <td>0.273</td>\n",
       "      <td>11.2</td>\n",
       "      <td>...</td>\n",
       "      <td>True</td>\n",
       "      <td>True</td>\n",
       "      <td>True</td>\n",
       "      <td>rising</td>\n",
       "      <td>False</td>\n",
       "      <td>True</td>\n",
       "      <td>True</td>\n",
       "      <td>below 20</td>\n",
       "      <td>False</td>\n",
       "      <td>False</td>\n",
       "    </tr>\n",
       "    <tr>\n",
       "      <th>4</th>\n",
       "      <td>0.534884</td>\n",
       "      <td>0.468750</td>\n",
       "      <td>1.242708</td>\n",
       "      <td>81.908832</td>\n",
       "      <td>False</td>\n",
       "      <td>True</td>\n",
       "      <td>False</td>\n",
       "      <td>-1</td>\n",
       "      <td>0.444</td>\n",
       "      <td>9.0</td>\n",
       "      <td>...</td>\n",
       "      <td>False</td>\n",
       "      <td>True</td>\n",
       "      <td>True</td>\n",
       "      <td>rising</td>\n",
       "      <td>False</td>\n",
       "      <td>False</td>\n",
       "      <td>False</td>\n",
       "      <td>below 35</td>\n",
       "      <td>False</td>\n",
       "      <td>False</td>\n",
       "    </tr>\n",
       "  </tbody>\n",
       "</table>\n",
       "<p>5 rows × 30 columns</p>\n",
       "</div>"
      ],
      "text/plain": [
       "   PTS-Per-Min     %-Avg  PER-Per-TOV  off_rating  off_rating_above_avg  \\\n",
       "0     0.595238  0.333333    14.638524  117.260788                  True   \n",
       "1     0.525000  0.391667     2.413371   83.732057                 False   \n",
       "2     0.205128  0.136364     2.744590   53.763441                 False   \n",
       "3     0.170732  0.166667     6.645524   61.188811                 False   \n",
       "4     0.534884  0.468750     1.242708   81.908832                 False   \n",
       "\n",
       "   More-Than-Avg-POSS  Above-Avg-GmSc  game_result    FG%  GmSc  ...  \\\n",
       "0               False            True          -14  0.600  24.7  ...   \n",
       "1               False           False           -9  0.471  14.7  ...   \n",
       "2               False           False          -19  0.250   5.0  ...   \n",
       "3               False           False           -4  0.273  11.2  ...   \n",
       "4                True           False           -1  0.444   9.0  ...   \n",
       "\n",
       "   Over-3-BLKs-and-STLs  Played-Above-Avg-Min  Above-Avg-FT%  Career-Stage  \\\n",
       "0                  True                  True          False        rising   \n",
       "1                 False                  True          False        rising   \n",
       "2                 False                  True           True        rising   \n",
       "3                  True                  True           True        rising   \n",
       "4                 False                  True           True        rising   \n",
       "\n",
       "   Above-Avg-PTS-Per-POSS  More-BLKs-Than-STLs More-AST-Than-TOV   PTS-Cat  \\\n",
       "0                    True                False              True  below 35   \n",
       "1                   False                False              True  below 35   \n",
       "2                   False                False              True  below 20   \n",
       "3                   False                 True              True  below 20   \n",
       "4                   False                False             False  below 35   \n",
       "\n",
       "   2P%-Above-50%  More than 3 Fouls  \n",
       "0           True              False  \n",
       "1           True              False  \n",
       "2          False              False  \n",
       "3          False              False  \n",
       "4          False              False  \n",
       "\n",
       "[5 rows x 30 columns]"
      ]
     },
     "execution_count": 189,
     "metadata": {},
     "output_type": "execute_result"
    }
   ],
   "source": [
    "sig_df.head()"
   ]
  },
  {
   "cell_type": "code",
   "execution_count": 190,
   "metadata": {},
   "outputs": [
    {
     "name": "stderr",
     "output_type": "stream",
     "text": [
      "c:\\users\\kambo\\.virtualenvs\\lebronjames-q3tyihsg\\lib\\site-packages\\pandas\\core\\frame.py:4379: SettingWithCopyWarning: \n",
      "A value is trying to be set on a copy of a slice from a DataFrame\n",
      "\n",
      "See the caveats in the documentation: https://pandas.pydata.org/pandas-docs/stable/user_guide/indexing.html#returning-a-view-versus-a-copy\n",
      "  method=method,\n"
     ]
    }
   ],
   "source": [
    "sig_df.replace(True,1,inplace=True)\n",
    "sig_df.replace(False,0,inplace=True)"
   ]
  },
  {
   "cell_type": "code",
   "execution_count": 191,
   "metadata": {},
   "outputs": [
    {
     "data": {
      "text/plain": [
       "Index(['game_result'], dtype='object')"
      ]
     },
     "execution_count": 191,
     "metadata": {},
     "output_type": "execute_result"
    }
   ],
   "source": [
    "sig_df.select_dtypes(include=[\"int64\"]).columns"
   ]
  },
  {
   "cell_type": "code",
   "execution_count": 192,
   "metadata": {},
   "outputs": [
    {
     "name": "stderr",
     "output_type": "stream",
     "text": [
      "c:\\users\\kambo\\.virtualenvs\\lebronjames-q3tyihsg\\lib\\site-packages\\ipykernel_launcher.py:2: SettingWithCopyWarning: \n",
      "A value is trying to be set on a copy of a slice from a DataFrame.\n",
      "Try using .loc[row_indexer,col_indexer] = value instead\n",
      "\n",
      "See the caveats in the documentation: https://pandas.pydata.org/pandas-docs/stable/user_guide/indexing.html#returning-a-view-versus-a-copy\n",
      "  \n"
     ]
    }
   ],
   "source": [
    "for col in sig_df.select_dtypes(include=[\"int64\"]).columns:\n",
    "    sig_df[col] = sig_df[col].apply(lambda x: float(x))"
   ]
  },
  {
   "cell_type": "code",
   "execution_count": 193,
   "metadata": {},
   "outputs": [
    {
     "data": {
      "text/plain": [
       "PTS-Per-Min               float64\n",
       "%-Avg                     float64\n",
       "PER-Per-TOV               float64\n",
       "off_rating                float64\n",
       "off_rating_above_avg      float64\n",
       "More-Than-Avg-POSS        float64\n",
       "Above-Avg-GmSc            float64\n",
       "game_result               float64\n",
       "FG%                       float64\n",
       "GmSc                      float64\n",
       "TS%                       float64\n",
       "GmSc-Per-PTS              float64\n",
       "PTS-Per-POSS              float64\n",
       "game_result-Per-PTS       float64\n",
       "PER                       float64\n",
       "game_location             float64\n",
       "Opp                        object\n",
       "Won                       float64\n",
       "High-3P%-Shooting         float64\n",
       "High-FG%-Shooting         float64\n",
       "Over-3-BLKs-and-STLs      float64\n",
       "Played-Above-Avg-Min      float64\n",
       "Above-Avg-FT%             float64\n",
       "Career-Stage               object\n",
       "Above-Avg-PTS-Per-POSS    float64\n",
       "More-BLKs-Than-STLs       float64\n",
       "More-AST-Than-TOV         float64\n",
       "PTS-Cat                    object\n",
       "2P%-Above-50%             float64\n",
       "More than 3 Fouls         float64\n",
       "dtype: object"
      ]
     },
     "execution_count": 193,
     "metadata": {},
     "output_type": "execute_result"
    }
   ],
   "source": [
    "sig_df.dtypes"
   ]
  },
  {
   "cell_type": "code",
   "execution_count": 194,
   "metadata": {},
   "outputs": [],
   "source": [
    "def label_bin(cat_col,df):\n",
    "    lb = LabelBinarizer()\n",
    "    data = lb.fit_transform(df[cat_col])\n",
    "    classes = lb.classes_\n",
    "    new_df = pd.DataFrame(data,columns=classes,dtype=float)\n",
    "    for col in new_df.columns:\n",
    "        df[col] = new_df[col]\n",
    "    return lb"
   ]
  },
  {
   "cell_type": "code",
   "execution_count": 195,
   "metadata": {},
   "outputs": [
    {
     "name": "stderr",
     "output_type": "stream",
     "text": [
      "c:\\users\\kambo\\.virtualenvs\\lebronjames-q3tyihsg\\lib\\site-packages\\ipykernel_launcher.py:7: SettingWithCopyWarning: \n",
      "A value is trying to be set on a copy of a slice from a DataFrame.\n",
      "Try using .loc[row_indexer,col_indexer] = value instead\n",
      "\n",
      "See the caveats in the documentation: https://pandas.pydata.org/pandas-docs/stable/user_guide/indexing.html#returning-a-view-versus-a-copy\n",
      "  import sys\n",
      "c:\\users\\kambo\\.virtualenvs\\lebronjames-q3tyihsg\\lib\\site-packages\\ipykernel_launcher.py:7: SettingWithCopyWarning: \n",
      "A value is trying to be set on a copy of a slice from a DataFrame.\n",
      "Try using .loc[row_indexer,col_indexer] = value instead\n",
      "\n",
      "See the caveats in the documentation: https://pandas.pydata.org/pandas-docs/stable/user_guide/indexing.html#returning-a-view-versus-a-copy\n",
      "  import sys\n",
      "c:\\users\\kambo\\.virtualenvs\\lebronjames-q3tyihsg\\lib\\site-packages\\ipykernel_launcher.py:7: SettingWithCopyWarning: \n",
      "A value is trying to be set on a copy of a slice from a DataFrame.\n",
      "Try using .loc[row_indexer,col_indexer] = value instead\n",
      "\n",
      "See the caveats in the documentation: https://pandas.pydata.org/pandas-docs/stable/user_guide/indexing.html#returning-a-view-versus-a-copy\n",
      "  import sys\n"
     ]
    }
   ],
   "source": [
    "label_bins = []\n",
    "for object_col in sig_df.select_dtypes(include=[\"object\"]).columns:\n",
    "    object_lb = label_bin(object_col,sig_df)\n",
    "    object_col_lb_pair = (object_col,object_lb)\n",
    "    label_bins.append(object_col_lb_pair)"
   ]
  },
  {
   "cell_type": "code",
   "execution_count": 196,
   "metadata": {},
   "outputs": [
    {
     "data": {
      "text/html": [
       "<div>\n",
       "<style scoped>\n",
       "    .dataframe tbody tr th:only-of-type {\n",
       "        vertical-align: middle;\n",
       "    }\n",
       "\n",
       "    .dataframe tbody tr th {\n",
       "        vertical-align: top;\n",
       "    }\n",
       "\n",
       "    .dataframe thead th {\n",
       "        text-align: right;\n",
       "    }\n",
       "</style>\n",
       "<table border=\"1\" class=\"dataframe\">\n",
       "  <thead>\n",
       "    <tr style=\"text-align: right;\">\n",
       "      <th></th>\n",
       "      <th>PTS-Per-Min</th>\n",
       "      <th>%-Avg</th>\n",
       "      <th>PER-Per-TOV</th>\n",
       "      <th>off_rating</th>\n",
       "      <th>off_rating_above_avg</th>\n",
       "      <th>More-Than-Avg-POSS</th>\n",
       "      <th>Above-Avg-GmSc</th>\n",
       "      <th>game_result</th>\n",
       "      <th>FG%</th>\n",
       "      <th>GmSc</th>\n",
       "      <th>...</th>\n",
       "      <th>SEA</th>\n",
       "      <th>TOR</th>\n",
       "      <th>UTA</th>\n",
       "      <th>WAS</th>\n",
       "      <th>decline</th>\n",
       "      <th>prime</th>\n",
       "      <th>rising</th>\n",
       "      <th>above 35</th>\n",
       "      <th>below 20</th>\n",
       "      <th>below 35</th>\n",
       "    </tr>\n",
       "  </thead>\n",
       "  <tbody>\n",
       "    <tr>\n",
       "      <th>1255</th>\n",
       "      <td>1.027778</td>\n",
       "      <td>0.464357</td>\n",
       "      <td>10.446618</td>\n",
       "      <td>117.088608</td>\n",
       "      <td>1.0</td>\n",
       "      <td>1.0</td>\n",
       "      <td>1.0</td>\n",
       "      <td>10.0</td>\n",
       "      <td>0.571</td>\n",
       "      <td>31.3</td>\n",
       "      <td>...</td>\n",
       "      <td>0.0</td>\n",
       "      <td>0.0</td>\n",
       "      <td>0.0</td>\n",
       "      <td>0.0</td>\n",
       "      <td>1.0</td>\n",
       "      <td>0.0</td>\n",
       "      <td>0.0</td>\n",
       "      <td>1.0</td>\n",
       "      <td>0.0</td>\n",
       "      <td>0.0</td>\n",
       "    </tr>\n",
       "    <tr>\n",
       "      <th>1256</th>\n",
       "      <td>0.823529</td>\n",
       "      <td>0.393773</td>\n",
       "      <td>18.128250</td>\n",
       "      <td>120.898100</td>\n",
       "      <td>1.0</td>\n",
       "      <td>0.0</td>\n",
       "      <td>1.0</td>\n",
       "      <td>9.0</td>\n",
       "      <td>0.412</td>\n",
       "      <td>25.8</td>\n",
       "      <td>...</td>\n",
       "      <td>0.0</td>\n",
       "      <td>0.0</td>\n",
       "      <td>0.0</td>\n",
       "      <td>0.0</td>\n",
       "      <td>1.0</td>\n",
       "      <td>0.0</td>\n",
       "      <td>0.0</td>\n",
       "      <td>0.0</td>\n",
       "      <td>0.0</td>\n",
       "      <td>1.0</td>\n",
       "    </tr>\n",
       "    <tr>\n",
       "      <th>1257</th>\n",
       "      <td>0.852941</td>\n",
       "      <td>0.529692</td>\n",
       "      <td>11.770794</td>\n",
       "      <td>110.687023</td>\n",
       "      <td>1.0</td>\n",
       "      <td>1.0</td>\n",
       "      <td>1.0</td>\n",
       "      <td>-2.0</td>\n",
       "      <td>0.545</td>\n",
       "      <td>24.7</td>\n",
       "      <td>...</td>\n",
       "      <td>0.0</td>\n",
       "      <td>0.0</td>\n",
       "      <td>0.0</td>\n",
       "      <td>0.0</td>\n",
       "      <td>1.0</td>\n",
       "      <td>0.0</td>\n",
       "      <td>0.0</td>\n",
       "      <td>0.0</td>\n",
       "      <td>0.0</td>\n",
       "      <td>1.0</td>\n",
       "    </tr>\n",
       "    <tr>\n",
       "      <th>1258</th>\n",
       "      <td>0.470588</td>\n",
       "      <td>0.309667</td>\n",
       "      <td>2.522094</td>\n",
       "      <td>69.930070</td>\n",
       "      <td>0.0</td>\n",
       "      <td>0.0</td>\n",
       "      <td>0.0</td>\n",
       "      <td>2.0</td>\n",
       "      <td>0.316</td>\n",
       "      <td>9.6</td>\n",
       "      <td>...</td>\n",
       "      <td>0.0</td>\n",
       "      <td>0.0</td>\n",
       "      <td>0.0</td>\n",
       "      <td>0.0</td>\n",
       "      <td>1.0</td>\n",
       "      <td>0.0</td>\n",
       "      <td>0.0</td>\n",
       "      <td>0.0</td>\n",
       "      <td>1.0</td>\n",
       "      <td>0.0</td>\n",
       "    </tr>\n",
       "    <tr>\n",
       "      <th>1259</th>\n",
       "      <td>0.588235</td>\n",
       "      <td>0.450000</td>\n",
       "      <td>4.925272</td>\n",
       "      <td>94.876660</td>\n",
       "      <td>0.0</td>\n",
       "      <td>0.0</td>\n",
       "      <td>0.0</td>\n",
       "      <td>-15.0</td>\n",
       "      <td>0.467</td>\n",
       "      <td>14.3</td>\n",
       "      <td>...</td>\n",
       "      <td>0.0</td>\n",
       "      <td>1.0</td>\n",
       "      <td>0.0</td>\n",
       "      <td>0.0</td>\n",
       "      <td>1.0</td>\n",
       "      <td>0.0</td>\n",
       "      <td>0.0</td>\n",
       "      <td>0.0</td>\n",
       "      <td>0.0</td>\n",
       "      <td>1.0</td>\n",
       "    </tr>\n",
       "  </tbody>\n",
       "</table>\n",
       "<p>5 rows × 71 columns</p>\n",
       "</div>"
      ],
      "text/plain": [
       "      PTS-Per-Min     %-Avg  PER-Per-TOV  off_rating  off_rating_above_avg  \\\n",
       "1255     1.027778  0.464357    10.446618  117.088608                   1.0   \n",
       "1256     0.823529  0.393773    18.128250  120.898100                   1.0   \n",
       "1257     0.852941  0.529692    11.770794  110.687023                   1.0   \n",
       "1258     0.470588  0.309667     2.522094   69.930070                   0.0   \n",
       "1259     0.588235  0.450000     4.925272   94.876660                   0.0   \n",
       "\n",
       "      More-Than-Avg-POSS  Above-Avg-GmSc  game_result    FG%  GmSc  ...  SEA  \\\n",
       "1255                 1.0             1.0         10.0  0.571  31.3  ...  0.0   \n",
       "1256                 0.0             1.0          9.0  0.412  25.8  ...  0.0   \n",
       "1257                 1.0             1.0         -2.0  0.545  24.7  ...  0.0   \n",
       "1258                 0.0             0.0          2.0  0.316   9.6  ...  0.0   \n",
       "1259                 0.0             0.0        -15.0  0.467  14.3  ...  0.0   \n",
       "\n",
       "      TOR  UTA  WAS  decline  prime rising  above 35  below 20  below 35  \n",
       "1255  0.0  0.0  0.0      1.0    0.0    0.0       1.0       0.0       0.0  \n",
       "1256  0.0  0.0  0.0      1.0    0.0    0.0       0.0       0.0       1.0  \n",
       "1257  0.0  0.0  0.0      1.0    0.0    0.0       0.0       0.0       1.0  \n",
       "1258  0.0  0.0  0.0      1.0    0.0    0.0       0.0       1.0       0.0  \n",
       "1259  1.0  0.0  0.0      1.0    0.0    0.0       0.0       0.0       1.0  \n",
       "\n",
       "[5 rows x 71 columns]"
      ]
     },
     "execution_count": 196,
     "metadata": {},
     "output_type": "execute_result"
    }
   ],
   "source": [
    "sig_df.tail()"
   ]
  },
  {
   "cell_type": "code",
   "execution_count": 197,
   "metadata": {},
   "outputs": [
    {
     "data": {
      "text/plain": [
       "[('Opp', LabelBinarizer()),\n",
       " ('Career-Stage', LabelBinarizer()),\n",
       " ('PTS-Cat', LabelBinarizer())]"
      ]
     },
     "execution_count": 197,
     "metadata": {},
     "output_type": "execute_result"
    }
   ],
   "source": [
    "label_bins"
   ]
  },
  {
   "cell_type": "code",
   "execution_count": 198,
   "metadata": {},
   "outputs": [
    {
     "data": {
      "text/html": [
       "<div>\n",
       "<style scoped>\n",
       "    .dataframe tbody tr th:only-of-type {\n",
       "        vertical-align: middle;\n",
       "    }\n",
       "\n",
       "    .dataframe tbody tr th {\n",
       "        vertical-align: top;\n",
       "    }\n",
       "\n",
       "    .dataframe thead th {\n",
       "        text-align: right;\n",
       "    }\n",
       "</style>\n",
       "<table border=\"1\" class=\"dataframe\">\n",
       "  <thead>\n",
       "    <tr style=\"text-align: right;\">\n",
       "      <th></th>\n",
       "      <th>Opp</th>\n",
       "      <th>Career-Stage</th>\n",
       "      <th>PTS-Cat</th>\n",
       "    </tr>\n",
       "  </thead>\n",
       "  <tbody>\n",
       "    <tr>\n",
       "      <th>0</th>\n",
       "      <td>SAC</td>\n",
       "      <td>rising</td>\n",
       "      <td>below 35</td>\n",
       "    </tr>\n",
       "    <tr>\n",
       "      <th>1</th>\n",
       "      <td>PHO</td>\n",
       "      <td>rising</td>\n",
       "      <td>below 35</td>\n",
       "    </tr>\n",
       "    <tr>\n",
       "      <th>2</th>\n",
       "      <td>POR</td>\n",
       "      <td>rising</td>\n",
       "      <td>below 20</td>\n",
       "    </tr>\n",
       "    <tr>\n",
       "      <th>3</th>\n",
       "      <td>DEN</td>\n",
       "      <td>rising</td>\n",
       "      <td>below 20</td>\n",
       "    </tr>\n",
       "    <tr>\n",
       "      <th>4</th>\n",
       "      <td>IND</td>\n",
       "      <td>rising</td>\n",
       "      <td>below 35</td>\n",
       "    </tr>\n",
       "    <tr>\n",
       "      <th>...</th>\n",
       "      <td>...</td>\n",
       "      <td>...</td>\n",
       "      <td>...</td>\n",
       "    </tr>\n",
       "    <tr>\n",
       "      <th>1255</th>\n",
       "      <td>MIL</td>\n",
       "      <td>decline</td>\n",
       "      <td>above 35</td>\n",
       "    </tr>\n",
       "    <tr>\n",
       "      <th>1256</th>\n",
       "      <td>LAC</td>\n",
       "      <td>decline</td>\n",
       "      <td>below 35</td>\n",
       "    </tr>\n",
       "    <tr>\n",
       "      <th>1257</th>\n",
       "      <td>BRK</td>\n",
       "      <td>decline</td>\n",
       "      <td>below 35</td>\n",
       "    </tr>\n",
       "    <tr>\n",
       "      <th>1258</th>\n",
       "      <td>LAC</td>\n",
       "      <td>decline</td>\n",
       "      <td>below 20</td>\n",
       "    </tr>\n",
       "    <tr>\n",
       "      <th>1259</th>\n",
       "      <td>TOR</td>\n",
       "      <td>decline</td>\n",
       "      <td>below 35</td>\n",
       "    </tr>\n",
       "  </tbody>\n",
       "</table>\n",
       "<p>1260 rows × 3 columns</p>\n",
       "</div>"
      ],
      "text/plain": [
       "      Opp Career-Stage   PTS-Cat\n",
       "0     SAC       rising  below 35\n",
       "1     PHO       rising  below 35\n",
       "2     POR       rising  below 20\n",
       "3     DEN       rising  below 20\n",
       "4     IND       rising  below 35\n",
       "...   ...          ...       ...\n",
       "1255  MIL      decline  above 35\n",
       "1256  LAC      decline  below 35\n",
       "1257  BRK      decline  below 35\n",
       "1258  LAC      decline  below 20\n",
       "1259  TOR      decline  below 35\n",
       "\n",
       "[1260 rows x 3 columns]"
      ]
     },
     "execution_count": 198,
     "metadata": {},
     "output_type": "execute_result"
    }
   ],
   "source": [
    "sig_df.select_dtypes(include=[\"object\"])"
   ]
  },
  {
   "cell_type": "code",
   "execution_count": 199,
   "metadata": {},
   "outputs": [],
   "source": [
    "split = StratifiedShuffleSplit(n_splits=1,test_size=0.33)"
   ]
  },
  {
   "cell_type": "code",
   "execution_count": 200,
   "metadata": {},
   "outputs": [],
   "source": [
    "ml_models_performances = []\n",
    "ml_model_accuracies = []"
   ]
  },
  {
   "cell_type": "markdown",
   "metadata": {},
   "source": [
    "<h2>Perform Machine Learning with Opposition Team Feature Included</h2>"
   ]
  },
  {
   "cell_type": "code",
   "execution_count": 201,
   "metadata": {},
   "outputs": [],
   "source": [
    "std_scaler = StandardScaler()"
   ]
  },
  {
   "cell_type": "code",
   "execution_count": 202,
   "metadata": {},
   "outputs": [],
   "source": [
    "one_hot_encoded_sig_df = sig_df.select_dtypes(exclude=[\"object\"])"
   ]
  },
  {
   "cell_type": "code",
   "execution_count": 203,
   "metadata": {},
   "outputs": [
    {
     "data": {
      "text/plain": [
       "Index(['PTS-Per-Min', '%-Avg', 'PER-Per-TOV', 'off_rating',\n",
       "       'off_rating_above_avg', 'More-Than-Avg-POSS', 'Above-Avg-GmSc',\n",
       "       'game_result', 'FG%', 'GmSc', 'TS%', 'GmSc-Per-PTS', 'PTS-Per-POSS',\n",
       "       'game_result-Per-PTS', 'PER', 'game_location', 'Won',\n",
       "       'High-3P%-Shooting', 'High-FG%-Shooting', 'Over-3-BLKs-and-STLs',\n",
       "       'Played-Above-Avg-Min', 'Above-Avg-FT%', 'Above-Avg-PTS-Per-POSS',\n",
       "       'More-BLKs-Than-STLs', 'More-AST-Than-TOV', '2P%-Above-50%',\n",
       "       'More than 3 Fouls', 'ATL', 'BOS', 'BRK', 'CHA', 'CHI', 'CHO', 'CLE',\n",
       "       'DAL', 'DEN', 'DET', 'GSW', 'HOU', 'IND', 'LAC', 'LAL', 'MEM', 'MIA',\n",
       "       'MIL', 'MIN', 'NJN', 'NOH', 'NOK', 'NOP', 'NYK', 'OKC', 'ORL', 'PHI',\n",
       "       'PHO', 'POR', 'SAC', 'SAS', 'SEA', 'TOR', 'UTA', 'WAS', 'decline',\n",
       "       'prime', 'rising', 'above 35', 'below 20', 'below 35'],\n",
       "      dtype='object')"
      ]
     },
     "execution_count": 203,
     "metadata": {},
     "output_type": "execute_result"
    }
   ],
   "source": [
    "one_hot_encoded_sig_df.columns"
   ]
  },
  {
   "cell_type": "code",
   "execution_count": 204,
   "metadata": {},
   "outputs": [],
   "source": [
    "std_scale_sig_data = std_scaler.fit_transform(one_hot_encoded_sig_df.values)"
   ]
  },
  {
   "cell_type": "code",
   "execution_count": 205,
   "metadata": {},
   "outputs": [],
   "source": [
    "std_scale_sig_df = pd.DataFrame(std_scale_sig_data,columns=one_hot_encoded_sig_df.columns)"
   ]
  },
  {
   "cell_type": "code",
   "execution_count": 206,
   "metadata": {},
   "outputs": [
    {
     "data": {
      "text/html": [
       "<div>\n",
       "<style scoped>\n",
       "    .dataframe tbody tr th:only-of-type {\n",
       "        vertical-align: middle;\n",
       "    }\n",
       "\n",
       "    .dataframe tbody tr th {\n",
       "        vertical-align: top;\n",
       "    }\n",
       "\n",
       "    .dataframe thead th {\n",
       "        text-align: right;\n",
       "    }\n",
       "</style>\n",
       "<table border=\"1\" class=\"dataframe\">\n",
       "  <thead>\n",
       "    <tr style=\"text-align: right;\">\n",
       "      <th></th>\n",
       "      <th>PTS-Per-Min</th>\n",
       "      <th>%-Avg</th>\n",
       "      <th>PER-Per-TOV</th>\n",
       "      <th>off_rating</th>\n",
       "      <th>off_rating_above_avg</th>\n",
       "      <th>More-Than-Avg-POSS</th>\n",
       "      <th>Above-Avg-GmSc</th>\n",
       "      <th>game_result</th>\n",
       "      <th>FG%</th>\n",
       "      <th>GmSc</th>\n",
       "      <th>...</th>\n",
       "      <th>SEA</th>\n",
       "      <th>TOR</th>\n",
       "      <th>UTA</th>\n",
       "      <th>WAS</th>\n",
       "      <th>decline</th>\n",
       "      <th>prime</th>\n",
       "      <th>rising</th>\n",
       "      <th>above 35</th>\n",
       "      <th>below 20</th>\n",
       "      <th>below 35</th>\n",
       "    </tr>\n",
       "  </thead>\n",
       "  <tbody>\n",
       "    <tr>\n",
       "      <th>0</th>\n",
       "      <td>-0.635326</td>\n",
       "      <td>-0.661242</td>\n",
       "      <td>0.467196</td>\n",
       "      <td>0.480218</td>\n",
       "      <td>0.973370</td>\n",
       "      <td>-0.973370</td>\n",
       "      <td>0.962604</td>\n",
       "      <td>-1.420272</td>\n",
       "      <td>0.846395</td>\n",
       "      <td>0.318334</td>\n",
       "      <td>...</td>\n",
       "      <td>-0.079936</td>\n",
       "      <td>-0.213643</td>\n",
       "      <td>-0.161427</td>\n",
       "      <td>-0.205387</td>\n",
       "      <td>-0.386827</td>\n",
       "      <td>-0.766095</td>\n",
       "      <td>1.0</td>\n",
       "      <td>-0.439525</td>\n",
       "      <td>-0.456129</td>\n",
       "      <td>0.708370</td>\n",
       "    </tr>\n",
       "    <tr>\n",
       "      <th>1</th>\n",
       "      <td>-1.005199</td>\n",
       "      <td>-0.248814</td>\n",
       "      <td>-0.919494</td>\n",
       "      <td>-1.059284</td>\n",
       "      <td>-1.027358</td>\n",
       "      <td>-0.973370</td>\n",
       "      <td>-1.038849</td>\n",
       "      <td>-1.035821</td>\n",
       "      <td>-0.304266</td>\n",
       "      <td>-0.975332</td>\n",
       "      <td>...</td>\n",
       "      <td>-0.079936</td>\n",
       "      <td>-0.213643</td>\n",
       "      <td>-0.161427</td>\n",
       "      <td>-0.205387</td>\n",
       "      <td>-0.386827</td>\n",
       "      <td>-0.766095</td>\n",
       "      <td>1.0</td>\n",
       "      <td>-0.439525</td>\n",
       "      <td>-0.456129</td>\n",
       "      <td>0.708370</td>\n",
       "    </tr>\n",
       "    <tr>\n",
       "      <th>2</th>\n",
       "      <td>-2.689642</td>\n",
       "      <td>-2.053853</td>\n",
       "      <td>-0.881924</td>\n",
       "      <td>-2.435320</td>\n",
       "      <td>-1.027358</td>\n",
       "      <td>-0.973370</td>\n",
       "      <td>-1.038849</td>\n",
       "      <td>-1.804724</td>\n",
       "      <td>-2.275553</td>\n",
       "      <td>-2.230188</td>\n",
       "      <td>...</td>\n",
       "      <td>-0.079936</td>\n",
       "      <td>-0.213643</td>\n",
       "      <td>-0.161427</td>\n",
       "      <td>-0.205387</td>\n",
       "      <td>-0.386827</td>\n",
       "      <td>-0.766095</td>\n",
       "      <td>1.0</td>\n",
       "      <td>-0.439525</td>\n",
       "      <td>2.192362</td>\n",
       "      <td>-1.411692</td>\n",
       "    </tr>\n",
       "    <tr>\n",
       "      <th>3</th>\n",
       "      <td>-2.870773</td>\n",
       "      <td>-1.839605</td>\n",
       "      <td>-0.439444</td>\n",
       "      <td>-2.094377</td>\n",
       "      <td>-1.027358</td>\n",
       "      <td>-0.973370</td>\n",
       "      <td>-1.038849</td>\n",
       "      <td>-0.651370</td>\n",
       "      <td>-2.070397</td>\n",
       "      <td>-1.428115</td>\n",
       "      <td>...</td>\n",
       "      <td>-0.079936</td>\n",
       "      <td>-0.213643</td>\n",
       "      <td>-0.161427</td>\n",
       "      <td>-0.205387</td>\n",
       "      <td>-0.386827</td>\n",
       "      <td>-0.766095</td>\n",
       "      <td>1.0</td>\n",
       "      <td>-0.439525</td>\n",
       "      <td>2.192362</td>\n",
       "      <td>-1.411692</td>\n",
       "    </tr>\n",
       "    <tr>\n",
       "      <th>4</th>\n",
       "      <td>-0.953152</td>\n",
       "      <td>0.296179</td>\n",
       "      <td>-1.052281</td>\n",
       "      <td>-1.142999</td>\n",
       "      <td>-1.027358</td>\n",
       "      <td>1.027358</td>\n",
       "      <td>-1.038849</td>\n",
       "      <td>-0.420699</td>\n",
       "      <td>-0.545102</td>\n",
       "      <td>-1.712722</td>\n",
       "      <td>...</td>\n",
       "      <td>-0.079936</td>\n",
       "      <td>-0.213643</td>\n",
       "      <td>-0.161427</td>\n",
       "      <td>-0.205387</td>\n",
       "      <td>-0.386827</td>\n",
       "      <td>-0.766095</td>\n",
       "      <td>1.0</td>\n",
       "      <td>-0.439525</td>\n",
       "      <td>-0.456129</td>\n",
       "      <td>0.708370</td>\n",
       "    </tr>\n",
       "  </tbody>\n",
       "</table>\n",
       "<p>5 rows × 68 columns</p>\n",
       "</div>"
      ],
      "text/plain": [
       "   PTS-Per-Min     %-Avg  PER-Per-TOV  off_rating  off_rating_above_avg  \\\n",
       "0    -0.635326 -0.661242     0.467196    0.480218              0.973370   \n",
       "1    -1.005199 -0.248814    -0.919494   -1.059284             -1.027358   \n",
       "2    -2.689642 -2.053853    -0.881924   -2.435320             -1.027358   \n",
       "3    -2.870773 -1.839605    -0.439444   -2.094377             -1.027358   \n",
       "4    -0.953152  0.296179    -1.052281   -1.142999             -1.027358   \n",
       "\n",
       "   More-Than-Avg-POSS  Above-Avg-GmSc  game_result       FG%      GmSc  ...  \\\n",
       "0           -0.973370        0.962604    -1.420272  0.846395  0.318334  ...   \n",
       "1           -0.973370       -1.038849    -1.035821 -0.304266 -0.975332  ...   \n",
       "2           -0.973370       -1.038849    -1.804724 -2.275553 -2.230188  ...   \n",
       "3           -0.973370       -1.038849    -0.651370 -2.070397 -1.428115  ...   \n",
       "4            1.027358       -1.038849    -0.420699 -0.545102 -1.712722  ...   \n",
       "\n",
       "        SEA       TOR       UTA       WAS   decline     prime  rising  \\\n",
       "0 -0.079936 -0.213643 -0.161427 -0.205387 -0.386827 -0.766095     1.0   \n",
       "1 -0.079936 -0.213643 -0.161427 -0.205387 -0.386827 -0.766095     1.0   \n",
       "2 -0.079936 -0.213643 -0.161427 -0.205387 -0.386827 -0.766095     1.0   \n",
       "3 -0.079936 -0.213643 -0.161427 -0.205387 -0.386827 -0.766095     1.0   \n",
       "4 -0.079936 -0.213643 -0.161427 -0.205387 -0.386827 -0.766095     1.0   \n",
       "\n",
       "   above 35  below 20  below 35  \n",
       "0 -0.439525 -0.456129  0.708370  \n",
       "1 -0.439525 -0.456129  0.708370  \n",
       "2 -0.439525  2.192362 -1.411692  \n",
       "3 -0.439525  2.192362 -1.411692  \n",
       "4 -0.439525 -0.456129  0.708370  \n",
       "\n",
       "[5 rows x 68 columns]"
      ]
     },
     "execution_count": 206,
     "metadata": {},
     "output_type": "execute_result"
    }
   ],
   "source": [
    "std_scale_sig_df.head()"
   ]
  },
  {
   "cell_type": "code",
   "execution_count": 207,
   "metadata": {},
   "outputs": [
    {
     "name": "stdout",
     "output_type": "stream",
     "text": [
      "There are 68 columns\n"
     ]
    },
    {
     "data": {
      "text/plain": [
       "Index(['PTS-Per-Min', '%-Avg', 'PER-Per-TOV', 'off_rating',\n",
       "       'off_rating_above_avg', 'More-Than-Avg-POSS', 'Above-Avg-GmSc',\n",
       "       'game_result', 'FG%', 'GmSc', 'TS%', 'GmSc-Per-PTS', 'PTS-Per-POSS',\n",
       "       'game_result-Per-PTS', 'PER', 'game_location', 'Won',\n",
       "       'High-3P%-Shooting', 'High-FG%-Shooting', 'Over-3-BLKs-and-STLs',\n",
       "       'Played-Above-Avg-Min', 'Above-Avg-FT%', 'Above-Avg-PTS-Per-POSS',\n",
       "       'More-BLKs-Than-STLs', 'More-AST-Than-TOV', '2P%-Above-50%',\n",
       "       'More than 3 Fouls', 'ATL', 'BOS', 'BRK', 'CHA', 'CHI', 'CHO', 'CLE',\n",
       "       'DAL', 'DEN', 'DET', 'GSW', 'HOU', 'IND', 'LAC', 'LAL', 'MEM', 'MIA',\n",
       "       'MIL', 'MIN', 'NJN', 'NOH', 'NOK', 'NOP', 'NYK', 'OKC', 'ORL', 'PHI',\n",
       "       'PHO', 'POR', 'SAC', 'SAS', 'SEA', 'TOR', 'UTA', 'WAS', 'decline',\n",
       "       'prime', 'rising', 'above 35', 'below 20', 'below 35'],\n",
       "      dtype='object')"
      ]
     },
     "execution_count": 207,
     "metadata": {},
     "output_type": "execute_result"
    }
   ],
   "source": [
    "print(f\"There are {len(std_scale_sig_df.columns)} columns\")\n",
    "std_scale_sig_df.columns"
   ]
  },
  {
   "cell_type": "code",
   "execution_count": 208,
   "metadata": {
    "scrolled": false
   },
   "outputs": [],
   "source": [
    "X, y = std_scale_sig_df.values, target"
   ]
  },
  {
   "cell_type": "code",
   "execution_count": 209,
   "metadata": {},
   "outputs": [],
   "source": [
    "X_train, X_test, y_train, y_test = train_test_split(X,y,test_size=0.33)"
   ]
  },
  {
   "cell_type": "markdown",
   "metadata": {},
   "source": [
    "<h4>Linear Regression</h4>"
   ]
  },
  {
   "cell_type": "code",
   "execution_count": 210,
   "metadata": {},
   "outputs": [],
   "source": [
    "ln = LinearRegression()"
   ]
  },
  {
   "cell_type": "code",
   "execution_count": 211,
   "metadata": {},
   "outputs": [
    {
     "data": {
      "text/plain": [
       "LinearRegression()"
      ]
     },
     "execution_count": 211,
     "metadata": {},
     "output_type": "execute_result"
    }
   ],
   "source": [
    "ln.fit(X_train,y_train)"
   ]
  },
  {
   "cell_type": "code",
   "execution_count": 212,
   "metadata": {},
   "outputs": [],
   "source": [
    "y_pred = ln.predict(X_test)"
   ]
  },
  {
   "cell_type": "code",
   "execution_count": 213,
   "metadata": {},
   "outputs": [
    {
     "name": "stdout",
     "output_type": "stream",
     "text": [
      "The root mean squared error for linear regression is 6.75 points\n"
     ]
    }
   ],
   "source": [
    "rmse = mean_squared_error(y_test,y_pred,squared=False)\n",
    "print(f\"The root mean squared error for linear regression is {round(rmse,2)} points\")"
   ]
  },
  {
   "cell_type": "code",
   "execution_count": 214,
   "metadata": {},
   "outputs": [
    {
     "name": "stdout",
     "output_type": "stream",
     "text": [
      "The accuracy for linear regression is 71.5229%\n"
     ]
    }
   ],
   "source": [
    "score = ln.score(X_test,y_test) * 100\n",
    "print(f\"The accuracy for linear regression is {round(score,4)}%\")"
   ]
  },
  {
   "cell_type": "code",
   "execution_count": 215,
   "metadata": {},
   "outputs": [],
   "source": [
    "ml_performance = (\"lin_reg_w_opp_teams_w/out_pca\",rmse)\n",
    "ml_accuracy = (\"lin_reg_w_opp_teams_w/out_pca\",score)"
   ]
  },
  {
   "cell_type": "code",
   "execution_count": 216,
   "metadata": {},
   "outputs": [],
   "source": [
    "ml_models_performances.append(ml_performance)\n",
    "ml_model_accuracies.append(ml_accuracy)"
   ]
  },
  {
   "cell_type": "markdown",
   "metadata": {},
   "source": [
    "<h4>SGD Regression</h4>"
   ]
  },
  {
   "cell_type": "code",
   "execution_count": 217,
   "metadata": {},
   "outputs": [],
   "source": [
    "sgd_param_grid = [\n",
    "    {\n",
    "        \"loss\":[\"squared_loss\",\"huber\",\"epsilon_insensitive\",\"squared_epsilon_insensitive\"],\n",
    "        \"epsilon\":[0.1,0.01,0.001]\n",
    "    }\n",
    "]"
   ]
  },
  {
   "cell_type": "code",
   "execution_count": 218,
   "metadata": {},
   "outputs": [],
   "source": [
    "sgd_grid_search = GridSearchCV(SGDRegressor(),sgd_param_grid,cv=5,scoring=\"neg_root_mean_squared_error\",n_jobs=-1)"
   ]
  },
  {
   "cell_type": "code",
   "execution_count": 219,
   "metadata": {},
   "outputs": [
    {
     "data": {
      "text/plain": [
       "GridSearchCV(cv=5, estimator=SGDRegressor(), n_jobs=-1,\n",
       "             param_grid=[{'epsilon': [0.1, 0.01, 0.001],\n",
       "                          'loss': ['squared_loss', 'huber',\n",
       "                                   'epsilon_insensitive',\n",
       "                                   'squared_epsilon_insensitive']}],\n",
       "             scoring='neg_root_mean_squared_error')"
      ]
     },
     "execution_count": 219,
     "metadata": {},
     "output_type": "execute_result"
    }
   ],
   "source": [
    "sgd_grid_search.fit(X_train,y_train)"
   ]
  },
  {
   "cell_type": "code",
   "execution_count": 220,
   "metadata": {},
   "outputs": [
    {
     "data": {
      "text/plain": [
       "{'epsilon': 0.01, 'loss': 'squared_loss'}"
      ]
     },
     "execution_count": 220,
     "metadata": {},
     "output_type": "execute_result"
    }
   ],
   "source": [
    "sgd_grid_search.best_params_"
   ]
  },
  {
   "cell_type": "code",
   "execution_count": 221,
   "metadata": {},
   "outputs": [],
   "source": [
    "best_sgd_reg = sgd_grid_search.best_estimator_"
   ]
  },
  {
   "cell_type": "code",
   "execution_count": 222,
   "metadata": {},
   "outputs": [],
   "source": [
    "y_pred = best_sgd_reg.predict(X_test)"
   ]
  },
  {
   "cell_type": "code",
   "execution_count": 223,
   "metadata": {},
   "outputs": [
    {
     "name": "stdout",
     "output_type": "stream",
     "text": [
      "The root mean squared error for SGD regression is 6.77 points\n"
     ]
    }
   ],
   "source": [
    "rmse = mean_squared_error(y_test,y_pred,squared=False)\n",
    "print(f\"The root mean squared error for SGD regression is {round(rmse,2)} points\")"
   ]
  },
  {
   "cell_type": "code",
   "execution_count": 224,
   "metadata": {},
   "outputs": [
    {
     "name": "stdout",
     "output_type": "stream",
     "text": [
      "The accuracy for sgd regression is 71.3858%\n"
     ]
    }
   ],
   "source": [
    "score = best_sgd_reg.score(X_test,y_test) * 100\n",
    "print(f\"The accuracy for sgd regression is {round(score,4)}%\")"
   ]
  },
  {
   "cell_type": "code",
   "execution_count": 225,
   "metadata": {},
   "outputs": [],
   "source": [
    "ml_performance = (\"sgd_reg_w_opp_teams_w/out_pca\",rmse)\n",
    "ml_accuracy = (\"sgd_reg_w_opp_teams_w/out_pca\",score)"
   ]
  },
  {
   "cell_type": "code",
   "execution_count": 226,
   "metadata": {},
   "outputs": [],
   "source": [
    "ml_models_performances.append(ml_performance)\n",
    "ml_model_accuracies.append(ml_accuracy)"
   ]
  },
  {
   "cell_type": "markdown",
   "metadata": {},
   "source": [
    "<h4>Random Forest Regression</h4>"
   ]
  },
  {
   "cell_type": "code",
   "execution_count": 227,
   "metadata": {},
   "outputs": [],
   "source": [
    "rand_forest_param_grid = [\n",
    "    {\n",
    "        \"n_estimators\":[50,100,500],\n",
    "        \"criterion\":[\"mse\",\"mae\"]\n",
    "    }\n",
    "]"
   ]
  },
  {
   "cell_type": "code",
   "execution_count": 228,
   "metadata": {},
   "outputs": [],
   "source": [
    "rand_forest_grid_search = GridSearchCV(RandomForestRegressor(),rand_forest_param_grid,cv=5,scoring=\"neg_root_mean_squared_error\",n_jobs=-1)"
   ]
  },
  {
   "cell_type": "code",
   "execution_count": 229,
   "metadata": {},
   "outputs": [
    {
     "data": {
      "text/plain": [
       "GridSearchCV(cv=5, estimator=RandomForestRegressor(), n_jobs=-1,\n",
       "             param_grid=[{'criterion': ['mse', 'mae'],\n",
       "                          'n_estimators': [50, 100, 500]}],\n",
       "             scoring='neg_root_mean_squared_error')"
      ]
     },
     "execution_count": 229,
     "metadata": {},
     "output_type": "execute_result"
    }
   ],
   "source": [
    "rand_forest_grid_search.fit(X_train,y_train)"
   ]
  },
  {
   "cell_type": "code",
   "execution_count": 230,
   "metadata": {},
   "outputs": [
    {
     "data": {
      "text/plain": [
       "{'criterion': 'mae', 'n_estimators': 500}"
      ]
     },
     "execution_count": 230,
     "metadata": {},
     "output_type": "execute_result"
    }
   ],
   "source": [
    "rand_forest_grid_search.best_params_"
   ]
  },
  {
   "cell_type": "code",
   "execution_count": 231,
   "metadata": {},
   "outputs": [],
   "source": [
    "best_rand_forest_reg = rand_forest_grid_search.best_estimator_"
   ]
  },
  {
   "cell_type": "code",
   "execution_count": 232,
   "metadata": {},
   "outputs": [],
   "source": [
    "y_pred = best_rand_forest_reg.predict(X_test)"
   ]
  },
  {
   "cell_type": "code",
   "execution_count": 233,
   "metadata": {},
   "outputs": [
    {
     "name": "stdout",
     "output_type": "stream",
     "text": [
      "The root mean squared error for SGD regression is 6.95 points\n"
     ]
    }
   ],
   "source": [
    "rmse = mean_squared_error(y_test,y_pred,squared=False)\n",
    "print(f\"The root mean squared error for SGD regression is {round(rmse,2)} points\")"
   ]
  },
  {
   "cell_type": "code",
   "execution_count": 234,
   "metadata": {},
   "outputs": [
    {
     "name": "stdout",
     "output_type": "stream",
     "text": [
      "The accuracy for random forest regression is 69.7935%\n"
     ]
    }
   ],
   "source": [
    "score = best_rand_forest_reg.score(X_test,y_test) * 100\n",
    "print(f\"The accuracy for random forest regression is {round(score,4)}%\")"
   ]
  },
  {
   "cell_type": "code",
   "execution_count": 235,
   "metadata": {},
   "outputs": [],
   "source": [
    "ml_performance = (\"rand_forest_reg_w_opp_teams_w/out_pca\",rmse)\n",
    "ml_accuracy = (\"rand_forest_reg_w_opp_teams_w/out_pca\",score)"
   ]
  },
  {
   "cell_type": "code",
   "execution_count": 236,
   "metadata": {},
   "outputs": [],
   "source": [
    "ml_models_performances.append(ml_performance)\n",
    "ml_model_accuracies.append(ml_accuracy)"
   ]
  },
  {
   "cell_type": "markdown",
   "metadata": {},
   "source": [
    "<h4>Elastic Net Regression</h4>"
   ]
  },
  {
   "cell_type": "code",
   "execution_count": 237,
   "metadata": {},
   "outputs": [],
   "source": [
    "elastic_net_param_grid = [\n",
    "    {\n",
    "        \"l1_ratio\":[0.25,0.5,0.75]\n",
    "    }\n",
    "]"
   ]
  },
  {
   "cell_type": "code",
   "execution_count": 238,
   "metadata": {},
   "outputs": [],
   "source": [
    "elastic_net_grid_search = GridSearchCV(ElasticNet(),elastic_net_param_grid,cv=5,scoring=\"neg_root_mean_squared_error\",n_jobs=-1)"
   ]
  },
  {
   "cell_type": "code",
   "execution_count": 239,
   "metadata": {},
   "outputs": [
    {
     "data": {
      "text/plain": [
       "GridSearchCV(cv=5, estimator=ElasticNet(), n_jobs=-1,\n",
       "             param_grid=[{'l1_ratio': [0.25, 0.5, 0.75]}],\n",
       "             scoring='neg_root_mean_squared_error')"
      ]
     },
     "execution_count": 239,
     "metadata": {},
     "output_type": "execute_result"
    }
   ],
   "source": [
    "elastic_net_grid_search.fit(X_train,y_train)"
   ]
  },
  {
   "cell_type": "code",
   "execution_count": 240,
   "metadata": {},
   "outputs": [
    {
     "data": {
      "text/plain": [
       "{'l1_ratio': 0.75}"
      ]
     },
     "execution_count": 240,
     "metadata": {},
     "output_type": "execute_result"
    }
   ],
   "source": [
    "elastic_net_grid_search.best_params_"
   ]
  },
  {
   "cell_type": "code",
   "execution_count": 241,
   "metadata": {},
   "outputs": [],
   "source": [
    "best_elastic_net_reg = elastic_net_grid_search.best_estimator_"
   ]
  },
  {
   "cell_type": "code",
   "execution_count": 242,
   "metadata": {},
   "outputs": [],
   "source": [
    "y_pred = best_elastic_net_reg.predict(X_test)"
   ]
  },
  {
   "cell_type": "code",
   "execution_count": 243,
   "metadata": {},
   "outputs": [
    {
     "name": "stdout",
     "output_type": "stream",
     "text": [
      "The root mean squared error for Elastic Net regression is 6.71 points\n"
     ]
    }
   ],
   "source": [
    "rmse = mean_squared_error(y_test,y_pred,squared=False)\n",
    "print(f\"The root mean squared error for Elastic Net regression is {round(rmse,2)} points\")"
   ]
  },
  {
   "cell_type": "code",
   "execution_count": 244,
   "metadata": {},
   "outputs": [
    {
     "name": "stdout",
     "output_type": "stream",
     "text": [
      "The accuracy for elastic net regression is 71.8467%\n"
     ]
    }
   ],
   "source": [
    "score = best_elastic_net_reg.score(X_test,y_test) * 100\n",
    "print(f\"The accuracy for elastic net regression is {round(score,4)}%\")"
   ]
  },
  {
   "cell_type": "code",
   "execution_count": 245,
   "metadata": {},
   "outputs": [],
   "source": [
    "ml_performance = (\"elastic_net_reg_w_opp_teams_w/out_pca\",rmse)\n",
    "ml_accuracy = (\"elastic_net_reg_w_opp_teams_w/out_pca\",score)"
   ]
  },
  {
   "cell_type": "code",
   "execution_count": 246,
   "metadata": {},
   "outputs": [],
   "source": [
    "ml_models_performances.append(ml_performance)\n",
    "ml_model_accuracies.append(ml_accuracy)"
   ]
  },
  {
   "cell_type": "markdown",
   "metadata": {},
   "source": [
    "<h3>Perform PCA to see if there is any performance improvements</h3>"
   ]
  },
  {
   "cell_type": "code",
   "execution_count": 247,
   "metadata": {},
   "outputs": [],
   "source": [
    "pca = PCA()"
   ]
  },
  {
   "cell_type": "code",
   "execution_count": 248,
   "metadata": {},
   "outputs": [
    {
     "data": {
      "text/plain": [
       "array([[-5.98477896e+00,  2.06242204e+01,  3.31527466e+00, ...,\n",
       "         4.14072055e-15, -9.61510991e-15, -3.22636612e-15],\n",
       "       [ 3.03538080e+01,  6.41256875e+00, -2.19963501e+00, ...,\n",
       "         4.59793656e-15, -2.66561156e-15,  7.75295086e-15],\n",
       "       [ 6.45456817e+01,  7.37135727e+00,  5.00338535e+00, ...,\n",
       "         3.27243014e-15,  2.64471418e-15, -2.47737826e-15],\n",
       "       ...,\n",
       "       [-5.13312941e+00,  7.50926672e+00,  9.69286671e-01, ...,\n",
       "         6.30929269e-16,  2.52268247e-17,  1.26553867e-16],\n",
       "       [ 4.20338247e+01, -8.29259835e+00, -1.15840290e-01, ...,\n",
       "         2.46393615e-16, -8.47394234e-16, -2.00844010e-15],\n",
       "       [ 2.11091955e+01,  1.49456703e+01, -1.47886592e+00, ...,\n",
       "         1.83158706e-15,  5.90287679e-16, -3.06797676e-15]])"
      ]
     },
     "execution_count": 248,
     "metadata": {},
     "output_type": "execute_result"
    }
   ],
   "source": [
    "pca.fit_transform(one_hot_encoded_sig_df.values)"
   ]
  },
  {
   "cell_type": "code",
   "execution_count": 249,
   "metadata": {},
   "outputs": [
    {
     "data": {
      "text/plain": [
       "1.0"
      ]
     },
     "execution_count": 249,
     "metadata": {},
     "output_type": "execute_result"
    }
   ],
   "source": [
    "sum(pca.explained_variance_ratio_)"
   ]
  },
  {
   "cell_type": "code",
   "execution_count": 250,
   "metadata": {},
   "outputs": [],
   "source": [
    "cum_sum = np.cumsum(pca.explained_variance_ratio_)"
   ]
  },
  {
   "cell_type": "code",
   "execution_count": 251,
   "metadata": {},
   "outputs": [],
   "source": [
    "max_comp_idx = np.argmax(cum_sum>0.95)"
   ]
  },
  {
   "cell_type": "code",
   "execution_count": 252,
   "metadata": {},
   "outputs": [],
   "source": [
    "pca = PCA(n_components=max_comp_idx+1)"
   ]
  },
  {
   "cell_type": "code",
   "execution_count": 253,
   "metadata": {},
   "outputs": [],
   "source": [
    "pca_transformed_sig_data = pca.fit_transform(one_hot_encoded_sig_df.values)"
   ]
  },
  {
   "cell_type": "code",
   "execution_count": 254,
   "metadata": {},
   "outputs": [],
   "source": [
    "X, y = pca_transformed_sig_data, target"
   ]
  },
  {
   "cell_type": "code",
   "execution_count": 255,
   "metadata": {},
   "outputs": [],
   "source": [
    "X_train, X_test, y_train, y_test = train_test_split(X,y, test_size=0.33, random_state=42)"
   ]
  },
  {
   "cell_type": "markdown",
   "metadata": {},
   "source": [
    "<h4>Linear Regression</h4>"
   ]
  },
  {
   "cell_type": "code",
   "execution_count": 256,
   "metadata": {},
   "outputs": [],
   "source": [
    "ln = LinearRegression()"
   ]
  },
  {
   "cell_type": "code",
   "execution_count": 257,
   "metadata": {},
   "outputs": [
    {
     "data": {
      "text/plain": [
       "LinearRegression()"
      ]
     },
     "execution_count": 257,
     "metadata": {},
     "output_type": "execute_result"
    }
   ],
   "source": [
    "ln.fit(X_train,y_train)"
   ]
  },
  {
   "cell_type": "code",
   "execution_count": 258,
   "metadata": {},
   "outputs": [],
   "source": [
    "y_pred = ln.predict(X_test)"
   ]
  },
  {
   "cell_type": "code",
   "execution_count": 259,
   "metadata": {},
   "outputs": [
    {
     "name": "stdout",
     "output_type": "stream",
     "text": [
      "The root mean squared error for linear regression is 6.71 points\n"
     ]
    }
   ],
   "source": [
    "rmse = mean_squared_error(y_test,y_pred,squared=False)\n",
    "print(f\"The root mean squared error for linear regression is {round(rmse,2)} points\")"
   ]
  },
  {
   "cell_type": "code",
   "execution_count": 260,
   "metadata": {},
   "outputs": [
    {
     "name": "stdout",
     "output_type": "stream",
     "text": [
      "The accuracy for linear regression is 0.7327%\n"
     ]
    }
   ],
   "source": [
    "score = ln.score(X_test,y_test)\n",
    "print(f\"The accuracy for linear regression is {round(score,4)}%\")"
   ]
  },
  {
   "cell_type": "code",
   "execution_count": 261,
   "metadata": {},
   "outputs": [],
   "source": [
    "ml_performance = (\"lin_reg_w_opp_teams_w_pca\",rmse)\n",
    "ml_accuracy = (\"lin_reg_w_opp_teams_w_pca\",score)"
   ]
  },
  {
   "cell_type": "code",
   "execution_count": 262,
   "metadata": {},
   "outputs": [],
   "source": [
    "ml_models_performances.append(ml_performance)\n",
    "ml_model_accuracies.append(ml_accuracy)"
   ]
  },
  {
   "cell_type": "markdown",
   "metadata": {},
   "source": [
    "<h4>SGD Regression</h4>"
   ]
  },
  {
   "cell_type": "code",
   "execution_count": 263,
   "metadata": {},
   "outputs": [],
   "source": [
    "sgd_param_grid = [\n",
    "    {\n",
    "        \"loss\":[\"squared_loss\",\"huber\",\"epsilon_insensitive\",\"squared_epsilon_insensitive\"],\n",
    "        \"epsilon\":[0.1,0.01,0.001]\n",
    "    }\n",
    "]"
   ]
  },
  {
   "cell_type": "code",
   "execution_count": 264,
   "metadata": {},
   "outputs": [],
   "source": [
    "sgd_grid_search = GridSearchCV(SGDRegressor(),sgd_param_grid,cv=5,scoring=\"neg_root_mean_squared_error\",n_jobs=-1)"
   ]
  },
  {
   "cell_type": "code",
   "execution_count": 265,
   "metadata": {},
   "outputs": [
    {
     "data": {
      "text/plain": [
       "GridSearchCV(cv=5, estimator=SGDRegressor(), n_jobs=-1,\n",
       "             param_grid=[{'epsilon': [0.1, 0.01, 0.001],\n",
       "                          'loss': ['squared_loss', 'huber',\n",
       "                                   'epsilon_insensitive',\n",
       "                                   'squared_epsilon_insensitive']}],\n",
       "             scoring='neg_root_mean_squared_error')"
      ]
     },
     "execution_count": 265,
     "metadata": {},
     "output_type": "execute_result"
    }
   ],
   "source": [
    "sgd_grid_search.fit(X_train,y_train)"
   ]
  },
  {
   "cell_type": "code",
   "execution_count": 266,
   "metadata": {},
   "outputs": [
    {
     "data": {
      "text/plain": [
       "{'epsilon': 0.001, 'loss': 'epsilon_insensitive'}"
      ]
     },
     "execution_count": 266,
     "metadata": {},
     "output_type": "execute_result"
    }
   ],
   "source": [
    "sgd_grid_search.best_params_"
   ]
  },
  {
   "cell_type": "code",
   "execution_count": 267,
   "metadata": {},
   "outputs": [],
   "source": [
    "best_sgd_reg = sgd_grid_search.best_estimator_"
   ]
  },
  {
   "cell_type": "code",
   "execution_count": 268,
   "metadata": {},
   "outputs": [],
   "source": [
    "y_pred = best_sgd_reg.predict(X_test)"
   ]
  },
  {
   "cell_type": "code",
   "execution_count": 269,
   "metadata": {},
   "outputs": [
    {
     "name": "stdout",
     "output_type": "stream",
     "text": [
      "The root mean squared error for SGD regression is 6.98 points\n"
     ]
    }
   ],
   "source": [
    "rmse = mean_squared_error(y_test,y_pred,squared=False)\n",
    "print(f\"The root mean squared error for SGD regression is {round(rmse,2)} points\")"
   ]
  },
  {
   "cell_type": "code",
   "execution_count": 270,
   "metadata": {},
   "outputs": [
    {
     "name": "stdout",
     "output_type": "stream",
     "text": [
      "The accuracy for sgd regression is 71.0658%\n"
     ]
    }
   ],
   "source": [
    "score = best_sgd_reg.score(X_test,y_test) * 100\n",
    "print(f\"The accuracy for sgd regression is {round(score,4)}%\")"
   ]
  },
  {
   "cell_type": "code",
   "execution_count": 271,
   "metadata": {},
   "outputs": [],
   "source": [
    "ml_performance = (\"sgd_reg_w_opp_teams_w_pca\",rmse)\n",
    "ml_accuracy = (\"sgd_reg_w_opp_teams_w_pca\",score)"
   ]
  },
  {
   "cell_type": "code",
   "execution_count": 272,
   "metadata": {},
   "outputs": [],
   "source": [
    "ml_models_performances.append(ml_performance)\n",
    "ml_model_accuracies.append(ml_accuracy)"
   ]
  },
  {
   "cell_type": "markdown",
   "metadata": {},
   "source": [
    "<h4>Random Forest Regression</h4>"
   ]
  },
  {
   "cell_type": "code",
   "execution_count": 273,
   "metadata": {},
   "outputs": [],
   "source": [
    "rand_forest_param_grid = [\n",
    "    {\n",
    "        \"n_estimators\":[50,100,500],\n",
    "        \"criterion\":[\"mse\",\"mae\"]\n",
    "    }\n",
    "]"
   ]
  },
  {
   "cell_type": "code",
   "execution_count": 274,
   "metadata": {},
   "outputs": [],
   "source": [
    "rand_forest_grid_search = GridSearchCV(RandomForestRegressor(),rand_forest_param_grid,cv=5,scoring=\"neg_root_mean_squared_error\",n_jobs=-1)"
   ]
  },
  {
   "cell_type": "code",
   "execution_count": 275,
   "metadata": {},
   "outputs": [
    {
     "data": {
      "text/plain": [
       "GridSearchCV(cv=5, estimator=RandomForestRegressor(), n_jobs=-1,\n",
       "             param_grid=[{'criterion': ['mse', 'mae'],\n",
       "                          'n_estimators': [50, 100, 500]}],\n",
       "             scoring='neg_root_mean_squared_error')"
      ]
     },
     "execution_count": 275,
     "metadata": {},
     "output_type": "execute_result"
    }
   ],
   "source": [
    "rand_forest_grid_search.fit(X_train,y_train)"
   ]
  },
  {
   "cell_type": "code",
   "execution_count": 276,
   "metadata": {},
   "outputs": [
    {
     "data": {
      "text/plain": [
       "{'criterion': 'mae', 'n_estimators': 500}"
      ]
     },
     "execution_count": 276,
     "metadata": {},
     "output_type": "execute_result"
    }
   ],
   "source": [
    "rand_forest_grid_search.best_params_"
   ]
  },
  {
   "cell_type": "code",
   "execution_count": 277,
   "metadata": {},
   "outputs": [],
   "source": [
    "best_rand_forest_reg = rand_forest_grid_search.best_estimator_"
   ]
  },
  {
   "cell_type": "code",
   "execution_count": 278,
   "metadata": {},
   "outputs": [],
   "source": [
    "y_pred = best_rand_forest_reg.predict(X_test)"
   ]
  },
  {
   "cell_type": "code",
   "execution_count": 279,
   "metadata": {},
   "outputs": [
    {
     "name": "stdout",
     "output_type": "stream",
     "text": [
      "The root mean squared error for SGD regression is 7.04 points\n"
     ]
    }
   ],
   "source": [
    "rmse = mean_squared_error(y_test,y_pred,squared=False)\n",
    "print(f\"The root mean squared error for SGD regression is {round(rmse,2)} points\")"
   ]
  },
  {
   "cell_type": "code",
   "execution_count": 280,
   "metadata": {},
   "outputs": [
    {
     "name": "stdout",
     "output_type": "stream",
     "text": [
      "The accuracy for random forest regression is 70.5844%\n"
     ]
    }
   ],
   "source": [
    "score = best_rand_forest_reg.score(X_test,y_test) * 100\n",
    "print(f\"The accuracy for random forest regression is {round(score,4)}%\")"
   ]
  },
  {
   "cell_type": "code",
   "execution_count": 281,
   "metadata": {},
   "outputs": [],
   "source": [
    "ml_performance = (\"rand_forest_reg_w_opp_teams_w_pca\",rmse)\n",
    "ml_accuracy = (\"rand_forest_reg_w_opp_teams_w_pca\",score)"
   ]
  },
  {
   "cell_type": "code",
   "execution_count": 282,
   "metadata": {},
   "outputs": [],
   "source": [
    "ml_models_performances.append(ml_performance)\n",
    "ml_model_accuracies.append(ml_accuracy)"
   ]
  },
  {
   "cell_type": "markdown",
   "metadata": {},
   "source": [
    "<h4>Elastic Net Regression</h4>"
   ]
  },
  {
   "cell_type": "code",
   "execution_count": 283,
   "metadata": {},
   "outputs": [],
   "source": [
    "elastic_net_param_grid = [\n",
    "    {\n",
    "        \"l1_ratio\":[0.25,0.5,0.75]\n",
    "    }\n",
    "]"
   ]
  },
  {
   "cell_type": "code",
   "execution_count": 284,
   "metadata": {},
   "outputs": [],
   "source": [
    "elastic_net_grid_search = GridSearchCV(ElasticNet(),elastic_net_param_grid,cv=5,scoring=\"neg_root_mean_squared_error\",n_jobs=-1)"
   ]
  },
  {
   "cell_type": "code",
   "execution_count": 285,
   "metadata": {},
   "outputs": [
    {
     "data": {
      "text/plain": [
       "GridSearchCV(cv=5, estimator=ElasticNet(), n_jobs=-1,\n",
       "             param_grid=[{'l1_ratio': [0.25, 0.5, 0.75]}],\n",
       "             scoring='neg_root_mean_squared_error')"
      ]
     },
     "execution_count": 285,
     "metadata": {},
     "output_type": "execute_result"
    }
   ],
   "source": [
    "elastic_net_grid_search.fit(X_train,y_train)"
   ]
  },
  {
   "cell_type": "code",
   "execution_count": 286,
   "metadata": {},
   "outputs": [
    {
     "data": {
      "text/plain": [
       "{'l1_ratio': 0.75}"
      ]
     },
     "execution_count": 286,
     "metadata": {},
     "output_type": "execute_result"
    }
   ],
   "source": [
    "elastic_net_grid_search.best_params_"
   ]
  },
  {
   "cell_type": "code",
   "execution_count": 287,
   "metadata": {},
   "outputs": [],
   "source": [
    "best_elastic_net_reg = elastic_net_grid_search.best_estimator_"
   ]
  },
  {
   "cell_type": "code",
   "execution_count": 288,
   "metadata": {},
   "outputs": [],
   "source": [
    "y_pred = best_elastic_net_reg.predict(X_test)"
   ]
  },
  {
   "cell_type": "code",
   "execution_count": 289,
   "metadata": {},
   "outputs": [
    {
     "name": "stdout",
     "output_type": "stream",
     "text": [
      "The root mean squared error for Elastic Net regression is 6.72 points\n"
     ]
    }
   ],
   "source": [
    "rmse = mean_squared_error(y_test,y_pred,squared=False)\n",
    "print(f\"The root mean squared error for Elastic Net regression is {round(rmse,2)} points\")"
   ]
  },
  {
   "cell_type": "code",
   "execution_count": 290,
   "metadata": {},
   "outputs": [
    {
     "name": "stdout",
     "output_type": "stream",
     "text": [
      "The accuracy for elastic net regression is 73.2257%\n"
     ]
    }
   ],
   "source": [
    "score = best_elastic_net_reg.score(X_test,y_test) * 100\n",
    "print(f\"The accuracy for elastic net regression is {round(score,4)}%\")"
   ]
  },
  {
   "cell_type": "code",
   "execution_count": 291,
   "metadata": {},
   "outputs": [],
   "source": [
    "ml_performance = (\"elastic_net_reg_w_opp_teams_w_pca\",rmse)\n",
    "ml_accuracy = (\"elastic_net_reg_w_opp_teams_w_pca\",score)"
   ]
  },
  {
   "cell_type": "code",
   "execution_count": 292,
   "metadata": {},
   "outputs": [],
   "source": [
    "ml_models_performances.append(ml_performance)\n",
    "ml_model_accuracies.append(ml_accuracy)"
   ]
  },
  {
   "cell_type": "markdown",
   "metadata": {},
   "source": [
    "<h2>Remove Opposing Team Columns</h2>"
   ]
  },
  {
   "cell_type": "code",
   "execution_count": 293,
   "metadata": {},
   "outputs": [
    {
     "data": {
      "text/plain": [
       "Index(['PTS-Per-Min', '%-Avg', 'PER-Per-TOV', 'off_rating',\n",
       "       'off_rating_above_avg', 'More-Than-Avg-POSS', 'Above-Avg-GmSc',\n",
       "       'game_result', 'FG%', 'GmSc', 'TS%', 'GmSc-Per-PTS', 'PTS-Per-POSS',\n",
       "       'game_result-Per-PTS', 'PER', 'game_location', 'Opp', 'Won',\n",
       "       'High-3P%-Shooting', 'High-FG%-Shooting', 'Over-3-BLKs-and-STLs',\n",
       "       'Played-Above-Avg-Min', 'Above-Avg-FT%', 'Career-Stage',\n",
       "       'Above-Avg-PTS-Per-POSS', 'More-BLKs-Than-STLs', 'More-AST-Than-TOV',\n",
       "       'PTS-Cat', '2P%-Above-50%', 'More than 3 Fouls', 'ATL', 'BOS', 'BRK',\n",
       "       'CHA', 'CHI', 'CHO', 'CLE', 'DAL', 'DEN', 'DET', 'GSW', 'HOU', 'IND',\n",
       "       'LAC', 'LAL', 'MEM', 'MIA', 'MIL', 'MIN', 'NJN', 'NOH', 'NOK', 'NOP',\n",
       "       'NYK', 'OKC', 'ORL', 'PHI', 'PHO', 'POR', 'SAC', 'SAS', 'SEA', 'TOR',\n",
       "       'UTA', 'WAS', 'decline', 'prime', 'rising', 'above 35', 'below 20',\n",
       "       'below 35'],\n",
       "      dtype='object')"
      ]
     },
     "execution_count": 293,
     "metadata": {},
     "output_type": "execute_result"
    }
   ],
   "source": [
    "sig_df.columns"
   ]
  },
  {
   "cell_type": "code",
   "execution_count": 294,
   "metadata": {},
   "outputs": [],
   "source": [
    "teams_lists = ['ATL', 'BOS', 'BRK',\n",
    "       'CHA', 'CHI', 'CHO', 'CLE', 'DAL', 'DEN', 'DET', 'GSW', 'HOU', 'IND',\n",
    "       'LAC', 'LAL', 'MEM', 'MIA', 'MIL', 'MIN', 'NJN', 'NOH', 'NOK', 'NOP',\n",
    "       'NYK', 'OKC', 'ORL', 'PHI', 'PHO', 'POR', 'SAC', 'SAS', 'SEA', 'TOR',\n",
    "       'UTA', 'WAS']"
   ]
  },
  {
   "cell_type": "code",
   "execution_count": 295,
   "metadata": {},
   "outputs": [],
   "source": [
    "non_opp_cols = list(set(sig_df.columns)-set(teams_lists))"
   ]
  },
  {
   "cell_type": "code",
   "execution_count": 296,
   "metadata": {},
   "outputs": [],
   "source": [
    "sig_df_no_opp = sig_df[non_opp_cols].select_dtypes(exclude=[\"object\"])"
   ]
  },
  {
   "cell_type": "code",
   "execution_count": 297,
   "metadata": {},
   "outputs": [
    {
     "data": {
      "text/html": [
       "<div>\n",
       "<style scoped>\n",
       "    .dataframe tbody tr th:only-of-type {\n",
       "        vertical-align: middle;\n",
       "    }\n",
       "\n",
       "    .dataframe tbody tr th {\n",
       "        vertical-align: top;\n",
       "    }\n",
       "\n",
       "    .dataframe thead th {\n",
       "        text-align: right;\n",
       "    }\n",
       "</style>\n",
       "<table border=\"1\" class=\"dataframe\">\n",
       "  <thead>\n",
       "    <tr style=\"text-align: right;\">\n",
       "      <th></th>\n",
       "      <th>PTS-Per-Min</th>\n",
       "      <th>More-Than-Avg-POSS</th>\n",
       "      <th>More than 3 Fouls</th>\n",
       "      <th>below 35</th>\n",
       "      <th>Won</th>\n",
       "      <th>High-FG%-Shooting</th>\n",
       "      <th>rising</th>\n",
       "      <th>PER</th>\n",
       "      <th>FG%</th>\n",
       "      <th>TS%</th>\n",
       "      <th>...</th>\n",
       "      <th>2P%-Above-50%</th>\n",
       "      <th>prime</th>\n",
       "      <th>off_rating_above_avg</th>\n",
       "      <th>%-Avg</th>\n",
       "      <th>above 35</th>\n",
       "      <th>GmSc</th>\n",
       "      <th>High-3P%-Shooting</th>\n",
       "      <th>More-AST-Than-TOV</th>\n",
       "      <th>More-BLKs-Than-STLs</th>\n",
       "      <th>Over-3-BLKs-and-STLs</th>\n",
       "    </tr>\n",
       "  </thead>\n",
       "  <tbody>\n",
       "    <tr>\n",
       "      <th>0</th>\n",
       "      <td>0.595238</td>\n",
       "      <td>0.0</td>\n",
       "      <td>0.0</td>\n",
       "      <td>1.0</td>\n",
       "      <td>0.0</td>\n",
       "      <td>1.0</td>\n",
       "      <td>1.0</td>\n",
       "      <td>29.277048</td>\n",
       "      <td>0.600</td>\n",
       "      <td>0.583431</td>\n",
       "      <td>...</td>\n",
       "      <td>1.0</td>\n",
       "      <td>0.0</td>\n",
       "      <td>1.0</td>\n",
       "      <td>0.333333</td>\n",
       "      <td>0.0</td>\n",
       "      <td>24.7</td>\n",
       "      <td>0.0</td>\n",
       "      <td>1.0</td>\n",
       "      <td>0.0</td>\n",
       "      <td>1.0</td>\n",
       "    </tr>\n",
       "    <tr>\n",
       "      <th>1</th>\n",
       "      <td>0.525000</td>\n",
       "      <td>0.0</td>\n",
       "      <td>0.0</td>\n",
       "      <td>1.0</td>\n",
       "      <td>0.0</td>\n",
       "      <td>0.0</td>\n",
       "      <td>1.0</td>\n",
       "      <td>16.893600</td>\n",
       "      <td>0.471</td>\n",
       "      <td>0.516605</td>\n",
       "      <td>...</td>\n",
       "      <td>1.0</td>\n",
       "      <td>0.0</td>\n",
       "      <td>0.0</td>\n",
       "      <td>0.391667</td>\n",
       "      <td>0.0</td>\n",
       "      <td>14.7</td>\n",
       "      <td>0.0</td>\n",
       "      <td>1.0</td>\n",
       "      <td>0.0</td>\n",
       "      <td>0.0</td>\n",
       "    </tr>\n",
       "    <tr>\n",
       "      <th>2</th>\n",
       "      <td>0.205128</td>\n",
       "      <td>0.0</td>\n",
       "      <td>0.0</td>\n",
       "      <td>0.0</td>\n",
       "      <td>0.0</td>\n",
       "      <td>0.0</td>\n",
       "      <td>1.0</td>\n",
       "      <td>5.489179</td>\n",
       "      <td>0.250</td>\n",
       "      <td>0.308880</td>\n",
       "      <td>...</td>\n",
       "      <td>0.0</td>\n",
       "      <td>0.0</td>\n",
       "      <td>0.0</td>\n",
       "      <td>0.136364</td>\n",
       "      <td>0.0</td>\n",
       "      <td>5.0</td>\n",
       "      <td>0.0</td>\n",
       "      <td>1.0</td>\n",
       "      <td>0.0</td>\n",
       "      <td>0.0</td>\n",
       "    </tr>\n",
       "    <tr>\n",
       "      <th>3</th>\n",
       "      <td>0.170732</td>\n",
       "      <td>0.0</td>\n",
       "      <td>0.0</td>\n",
       "      <td>0.0</td>\n",
       "      <td>0.0</td>\n",
       "      <td>0.0</td>\n",
       "      <td>1.0</td>\n",
       "      <td>13.291049</td>\n",
       "      <td>0.273</td>\n",
       "      <td>0.305011</td>\n",
       "      <td>...</td>\n",
       "      <td>0.0</td>\n",
       "      <td>0.0</td>\n",
       "      <td>0.0</td>\n",
       "      <td>0.166667</td>\n",
       "      <td>0.0</td>\n",
       "      <td>11.2</td>\n",
       "      <td>0.0</td>\n",
       "      <td>1.0</td>\n",
       "      <td>1.0</td>\n",
       "      <td>1.0</td>\n",
       "    </tr>\n",
       "    <tr>\n",
       "      <th>4</th>\n",
       "      <td>0.534884</td>\n",
       "      <td>1.0</td>\n",
       "      <td>0.0</td>\n",
       "      <td>1.0</td>\n",
       "      <td>0.0</td>\n",
       "      <td>0.0</td>\n",
       "      <td>1.0</td>\n",
       "      <td>8.698953</td>\n",
       "      <td>0.444</td>\n",
       "      <td>0.539273</td>\n",
       "      <td>...</td>\n",
       "      <td>0.0</td>\n",
       "      <td>0.0</td>\n",
       "      <td>0.0</td>\n",
       "      <td>0.468750</td>\n",
       "      <td>0.0</td>\n",
       "      <td>9.0</td>\n",
       "      <td>1.0</td>\n",
       "      <td>0.0</td>\n",
       "      <td>0.0</td>\n",
       "      <td>0.0</td>\n",
       "    </tr>\n",
       "  </tbody>\n",
       "</table>\n",
       "<p>5 rows × 33 columns</p>\n",
       "</div>"
      ],
      "text/plain": [
       "   PTS-Per-Min  More-Than-Avg-POSS  More than 3 Fouls  below 35  Won  \\\n",
       "0     0.595238                 0.0                0.0       1.0  0.0   \n",
       "1     0.525000                 0.0                0.0       1.0  0.0   \n",
       "2     0.205128                 0.0                0.0       0.0  0.0   \n",
       "3     0.170732                 0.0                0.0       0.0  0.0   \n",
       "4     0.534884                 1.0                0.0       1.0  0.0   \n",
       "\n",
       "   High-FG%-Shooting  rising        PER    FG%       TS%  ...  2P%-Above-50%  \\\n",
       "0                1.0     1.0  29.277048  0.600  0.583431  ...            1.0   \n",
       "1                0.0     1.0  16.893600  0.471  0.516605  ...            1.0   \n",
       "2                0.0     1.0   5.489179  0.250  0.308880  ...            0.0   \n",
       "3                0.0     1.0  13.291049  0.273  0.305011  ...            0.0   \n",
       "4                0.0     1.0   8.698953  0.444  0.539273  ...            0.0   \n",
       "\n",
       "   prime  off_rating_above_avg     %-Avg  above 35  GmSc  High-3P%-Shooting  \\\n",
       "0    0.0                   1.0  0.333333       0.0  24.7                0.0   \n",
       "1    0.0                   0.0  0.391667       0.0  14.7                0.0   \n",
       "2    0.0                   0.0  0.136364       0.0   5.0                0.0   \n",
       "3    0.0                   0.0  0.166667       0.0  11.2                0.0   \n",
       "4    0.0                   0.0  0.468750       0.0   9.0                1.0   \n",
       "\n",
       "   More-AST-Than-TOV  More-BLKs-Than-STLs  Over-3-BLKs-and-STLs  \n",
       "0                1.0                  0.0                   1.0  \n",
       "1                1.0                  0.0                   0.0  \n",
       "2                1.0                  0.0                   0.0  \n",
       "3                1.0                  1.0                   1.0  \n",
       "4                0.0                  0.0                   0.0  \n",
       "\n",
       "[5 rows x 33 columns]"
      ]
     },
     "execution_count": 297,
     "metadata": {},
     "output_type": "execute_result"
    }
   ],
   "source": [
    "sig_df_no_opp.head()"
   ]
  },
  {
   "cell_type": "code",
   "execution_count": 298,
   "metadata": {},
   "outputs": [],
   "source": [
    "std_scaler = StandardScaler()"
   ]
  },
  {
   "cell_type": "code",
   "execution_count": 299,
   "metadata": {},
   "outputs": [],
   "source": [
    "sig_no_opp_data = std_scaler.fit_transform(sig_df_no_opp.values)"
   ]
  },
  {
   "cell_type": "code",
   "execution_count": 300,
   "metadata": {},
   "outputs": [],
   "source": [
    "X, y = sig_no_opp_data, target"
   ]
  },
  {
   "cell_type": "code",
   "execution_count": 301,
   "metadata": {},
   "outputs": [],
   "source": [
    "X_train, X_test, y_train, y_test = train_test_split(X, y, test_size=0.33, random_state=42)"
   ]
  },
  {
   "cell_type": "markdown",
   "metadata": {},
   "source": [
    "<h4>Linear Regression</h4>"
   ]
  },
  {
   "cell_type": "code",
   "execution_count": 302,
   "metadata": {},
   "outputs": [],
   "source": [
    "ln = LinearRegression()"
   ]
  },
  {
   "cell_type": "code",
   "execution_count": 303,
   "metadata": {},
   "outputs": [
    {
     "data": {
      "text/plain": [
       "LinearRegression()"
      ]
     },
     "execution_count": 303,
     "metadata": {},
     "output_type": "execute_result"
    }
   ],
   "source": [
    "ln.fit(X_train,y_train)"
   ]
  },
  {
   "cell_type": "code",
   "execution_count": 304,
   "metadata": {},
   "outputs": [],
   "source": [
    "y_pred = ln.predict(X_test)"
   ]
  },
  {
   "cell_type": "code",
   "execution_count": 305,
   "metadata": {},
   "outputs": [
    {
     "name": "stdout",
     "output_type": "stream",
     "text": [
      "The root mean squared error for linear regression is 6.62 points\n"
     ]
    }
   ],
   "source": [
    "rmse = mean_squared_error(y_test,y_pred,squared=False)\n",
    "print(f\"The root mean squared error for linear regression is {round(rmse,2)} points\")"
   ]
  },
  {
   "cell_type": "code",
   "execution_count": 306,
   "metadata": {},
   "outputs": [
    {
     "name": "stdout",
     "output_type": "stream",
     "text": [
      "The accuracy for linear regression is 73.9959%\n"
     ]
    }
   ],
   "source": [
    "score = ln.score(X_test,y_test) * 100\n",
    "print(f\"The accuracy for linear regression is {round(score,4)}%\")"
   ]
  },
  {
   "cell_type": "code",
   "execution_count": 307,
   "metadata": {},
   "outputs": [],
   "source": [
    "ml_performance = (\"lin_reg_w/out_opp_teams_w/out_pca\",rmse)\n",
    "ml_accuracy = (\"lin_reg_w/out_opp_teams_w/out_pca\",score)"
   ]
  },
  {
   "cell_type": "code",
   "execution_count": 308,
   "metadata": {},
   "outputs": [],
   "source": [
    "ml_models_performances.append(ml_performance)\n",
    "ml_model_accuracies.append(ml_accuracy)"
   ]
  },
  {
   "cell_type": "markdown",
   "metadata": {},
   "source": [
    "<h4>SGD Regression</h4>"
   ]
  },
  {
   "cell_type": "code",
   "execution_count": 309,
   "metadata": {},
   "outputs": [],
   "source": [
    "sgd_param_grid = [\n",
    "    {\n",
    "        \"loss\":[\"squared_loss\",\"huber\",\"epsilon_insensitive\",\"squared_epsilon_insensitive\"],\n",
    "        \"epsilon\":[0.1,0.01,0.001]\n",
    "    }\n",
    "]"
   ]
  },
  {
   "cell_type": "code",
   "execution_count": 310,
   "metadata": {},
   "outputs": [],
   "source": [
    "sgd_grid_search = GridSearchCV(SGDRegressor(),sgd_param_grid,cv=5,scoring=\"neg_root_mean_squared_error\",n_jobs=-1)"
   ]
  },
  {
   "cell_type": "code",
   "execution_count": 311,
   "metadata": {},
   "outputs": [
    {
     "data": {
      "text/plain": [
       "GridSearchCV(cv=5, estimator=SGDRegressor(), n_jobs=-1,\n",
       "             param_grid=[{'epsilon': [0.1, 0.01, 0.001],\n",
       "                          'loss': ['squared_loss', 'huber',\n",
       "                                   'epsilon_insensitive',\n",
       "                                   'squared_epsilon_insensitive']}],\n",
       "             scoring='neg_root_mean_squared_error')"
      ]
     },
     "execution_count": 311,
     "metadata": {},
     "output_type": "execute_result"
    }
   ],
   "source": [
    "sgd_grid_search.fit(X_train,y_train)"
   ]
  },
  {
   "cell_type": "code",
   "execution_count": 312,
   "metadata": {},
   "outputs": [
    {
     "data": {
      "text/plain": [
       "{'epsilon': 0.001, 'loss': 'squared_loss'}"
      ]
     },
     "execution_count": 312,
     "metadata": {},
     "output_type": "execute_result"
    }
   ],
   "source": [
    "sgd_grid_search.best_params_"
   ]
  },
  {
   "cell_type": "code",
   "execution_count": 313,
   "metadata": {},
   "outputs": [],
   "source": [
    "best_sgd_reg = sgd_grid_search.best_estimator_"
   ]
  },
  {
   "cell_type": "code",
   "execution_count": 314,
   "metadata": {},
   "outputs": [],
   "source": [
    "y_pred = best_sgd_reg.predict(X_test)"
   ]
  },
  {
   "cell_type": "code",
   "execution_count": 315,
   "metadata": {},
   "outputs": [
    {
     "name": "stdout",
     "output_type": "stream",
     "text": [
      "The root mean squared error for SGD regression is 6.65 points\n"
     ]
    }
   ],
   "source": [
    "rmse = mean_squared_error(y_test,y_pred,squared=False)\n",
    "print(f\"The root mean squared error for SGD regression is {round(rmse,2)} points\")"
   ]
  },
  {
   "cell_type": "code",
   "execution_count": 316,
   "metadata": {},
   "outputs": [
    {
     "name": "stdout",
     "output_type": "stream",
     "text": [
      "The accuracy for sgd regression is 73.7635%\n"
     ]
    }
   ],
   "source": [
    "score = best_sgd_reg.score(X_test,y_test) * 100\n",
    "print(f\"The accuracy for sgd regression is {round(score,4)}%\")"
   ]
  },
  {
   "cell_type": "code",
   "execution_count": 317,
   "metadata": {},
   "outputs": [],
   "source": [
    "ml_performance = (\"sgd_reg_w/out_opp_teams_w/out_pca\",rmse)\n",
    "ml_accuracy = (\"sgd_reg_w/out_opp_teams_w/out_pca\",score)"
   ]
  },
  {
   "cell_type": "code",
   "execution_count": 318,
   "metadata": {},
   "outputs": [],
   "source": [
    "ml_models_performances.append(ml_performance)\n",
    "ml_model_accuracies.append(ml_accuracy)"
   ]
  },
  {
   "cell_type": "markdown",
   "metadata": {},
   "source": [
    "<h4>Random Forest Regression</h4>"
   ]
  },
  {
   "cell_type": "code",
   "execution_count": 319,
   "metadata": {},
   "outputs": [],
   "source": [
    "rand_forest_param_grid = [\n",
    "    {\n",
    "        \"n_estimators\":[50,100,500],\n",
    "        \"criterion\":[\"mse\",\"mae\"]\n",
    "    }\n",
    "]"
   ]
  },
  {
   "cell_type": "code",
   "execution_count": 320,
   "metadata": {},
   "outputs": [],
   "source": [
    "rand_forest_grid_search = GridSearchCV(RandomForestRegressor(),rand_forest_param_grid,cv=5,scoring=\"neg_root_mean_squared_error\",n_jobs=-1)"
   ]
  },
  {
   "cell_type": "code",
   "execution_count": 321,
   "metadata": {},
   "outputs": [
    {
     "data": {
      "text/plain": [
       "GridSearchCV(cv=5, estimator=RandomForestRegressor(), n_jobs=-1,\n",
       "             param_grid=[{'criterion': ['mse', 'mae'],\n",
       "                          'n_estimators': [50, 100, 500]}],\n",
       "             scoring='neg_root_mean_squared_error')"
      ]
     },
     "execution_count": 321,
     "metadata": {},
     "output_type": "execute_result"
    }
   ],
   "source": [
    "rand_forest_grid_search.fit(X_train,y_train)"
   ]
  },
  {
   "cell_type": "code",
   "execution_count": 322,
   "metadata": {},
   "outputs": [
    {
     "data": {
      "text/plain": [
       "{'criterion': 'mae', 'n_estimators': 500}"
      ]
     },
     "execution_count": 322,
     "metadata": {},
     "output_type": "execute_result"
    }
   ],
   "source": [
    "rand_forest_grid_search.best_params_"
   ]
  },
  {
   "cell_type": "code",
   "execution_count": 323,
   "metadata": {},
   "outputs": [],
   "source": [
    "best_rand_forest_reg = rand_forest_grid_search.best_estimator_"
   ]
  },
  {
   "cell_type": "code",
   "execution_count": 324,
   "metadata": {},
   "outputs": [],
   "source": [
    "y_pred = best_rand_forest_reg.predict(X_test)"
   ]
  },
  {
   "cell_type": "code",
   "execution_count": 325,
   "metadata": {},
   "outputs": [
    {
     "name": "stdout",
     "output_type": "stream",
     "text": [
      "The root mean squared error for SGD regression is 6.85 points\n"
     ]
    }
   ],
   "source": [
    "rmse = mean_squared_error(y_test,y_pred,squared=False)\n",
    "print(f\"The root mean squared error for SGD regression is {round(rmse,2)} points\")"
   ]
  },
  {
   "cell_type": "code",
   "execution_count": 326,
   "metadata": {},
   "outputs": [
    {
     "name": "stdout",
     "output_type": "stream",
     "text": [
      "The accuracy for random forest regression is 72.1334%\n"
     ]
    }
   ],
   "source": [
    "score = best_rand_forest_reg.score(X_test,y_test) * 100\n",
    "print(f\"The accuracy for random forest regression is {round(score,4)}%\")"
   ]
  },
  {
   "cell_type": "code",
   "execution_count": 327,
   "metadata": {},
   "outputs": [],
   "source": [
    "ml_performance = (\"rand_forest_reg_w/out_opp_teams_w/out_pca\",rmse)\n",
    "ml_accuracy = (\"rand_forest_reg_w/out_opp_teams_w/out_pca\",score)"
   ]
  },
  {
   "cell_type": "code",
   "execution_count": 328,
   "metadata": {},
   "outputs": [],
   "source": [
    "ml_models_performances.append(ml_performance)\n",
    "ml_model_accuracies.append(ml_accuracy)"
   ]
  },
  {
   "cell_type": "markdown",
   "metadata": {},
   "source": [
    "<h4>Elastic Net Regression</h4>"
   ]
  },
  {
   "cell_type": "code",
   "execution_count": 329,
   "metadata": {},
   "outputs": [],
   "source": [
    "elastic_net_param_grid = [\n",
    "    {\n",
    "        \"l1_ratio\":[0.25,0.5,0.75]\n",
    "    }\n",
    "]"
   ]
  },
  {
   "cell_type": "code",
   "execution_count": 330,
   "metadata": {},
   "outputs": [],
   "source": [
    "elastic_net_grid_search = GridSearchCV(ElasticNet(),elastic_net_param_grid,cv=5,scoring=\"neg_root_mean_squared_error\",n_jobs=-1)"
   ]
  },
  {
   "cell_type": "code",
   "execution_count": 331,
   "metadata": {},
   "outputs": [
    {
     "data": {
      "text/plain": [
       "GridSearchCV(cv=5, estimator=ElasticNet(), n_jobs=-1,\n",
       "             param_grid=[{'l1_ratio': [0.25, 0.5, 0.75]}],\n",
       "             scoring='neg_root_mean_squared_error')"
      ]
     },
     "execution_count": 331,
     "metadata": {},
     "output_type": "execute_result"
    }
   ],
   "source": [
    "elastic_net_grid_search.fit(X_train,y_train)"
   ]
  },
  {
   "cell_type": "code",
   "execution_count": 332,
   "metadata": {},
   "outputs": [
    {
     "data": {
      "text/plain": [
       "{'l1_ratio': 0.75}"
      ]
     },
     "execution_count": 332,
     "metadata": {},
     "output_type": "execute_result"
    }
   ],
   "source": [
    "elastic_net_grid_search.best_params_"
   ]
  },
  {
   "cell_type": "code",
   "execution_count": 333,
   "metadata": {},
   "outputs": [],
   "source": [
    "best_elastic_net_reg = elastic_net_grid_search.best_estimator_"
   ]
  },
  {
   "cell_type": "code",
   "execution_count": 334,
   "metadata": {},
   "outputs": [],
   "source": [
    "y_pred = best_elastic_net_reg.predict(X_test)"
   ]
  },
  {
   "cell_type": "code",
   "execution_count": 335,
   "metadata": {},
   "outputs": [
    {
     "name": "stdout",
     "output_type": "stream",
     "text": [
      "The root mean squared error for Elastic Net regression is 6.91 points\n"
     ]
    }
   ],
   "source": [
    "rmse = mean_squared_error(y_test,y_pred,squared=False)\n",
    "print(f\"The root mean squared error for Elastic Net regression is {round(rmse,2)} points\")"
   ]
  },
  {
   "cell_type": "code",
   "execution_count": 336,
   "metadata": {},
   "outputs": [
    {
     "name": "stdout",
     "output_type": "stream",
     "text": [
      "The accuracy for elastic net regression is 71.6427%\n"
     ]
    }
   ],
   "source": [
    "score = best_elastic_net_reg.score(X_test,y_test) * 100\n",
    "print(f\"The accuracy for elastic net regression is {round(score,4)}%\")"
   ]
  },
  {
   "cell_type": "code",
   "execution_count": 337,
   "metadata": {},
   "outputs": [],
   "source": [
    "ml_performance = (\"elastic_net_reg_w/out_opp_teams_w/out_pca\",rmse)\n",
    "ml_accuracy = (\"elastic_net_reg_w/out_opp_teams_w/out_pca\",score)"
   ]
  },
  {
   "cell_type": "code",
   "execution_count": 338,
   "metadata": {},
   "outputs": [],
   "source": [
    "ml_models_performances.append(ml_performance)\n",
    "ml_model_accuracies.append(ml_accuracy)"
   ]
  },
  {
   "cell_type": "markdown",
   "metadata": {},
   "source": [
    "<h3>Performance Analysis with PCA</h3>"
   ]
  },
  {
   "cell_type": "code",
   "execution_count": 339,
   "metadata": {},
   "outputs": [],
   "source": [
    "pca = PCA()"
   ]
  },
  {
   "cell_type": "code",
   "execution_count": 340,
   "metadata": {},
   "outputs": [],
   "source": [
    "sig_df_no_opp_w_pca = pca.fit_transform(sig_df_no_opp)"
   ]
  },
  {
   "cell_type": "code",
   "execution_count": 341,
   "metadata": {},
   "outputs": [],
   "source": [
    "pca_cumsum = np.cumsum(pca.explained_variance_ratio_)"
   ]
  },
  {
   "cell_type": "code",
   "execution_count": 342,
   "metadata": {},
   "outputs": [],
   "source": [
    "max_comp_idx = np.argmax(pca_cumsum>0.95)"
   ]
  },
  {
   "cell_type": "code",
   "execution_count": 343,
   "metadata": {},
   "outputs": [],
   "source": [
    "pca = PCA(n_components=max_comp_idx+1)"
   ]
  },
  {
   "cell_type": "code",
   "execution_count": 344,
   "metadata": {},
   "outputs": [],
   "source": [
    "sig_df_no_opp_w_pca = pca.fit_transform(sig_df_no_opp)"
   ]
  },
  {
   "cell_type": "code",
   "execution_count": 345,
   "metadata": {},
   "outputs": [],
   "source": [
    "X, y = sig_df_no_opp_w_pca, target"
   ]
  },
  {
   "cell_type": "code",
   "execution_count": 346,
   "metadata": {},
   "outputs": [],
   "source": [
    "X_train, X_test, y_train, y_test = train_test_split(X, y, test_size=0.33, random_state=42)"
   ]
  },
  {
   "cell_type": "code",
   "execution_count": 347,
   "metadata": {},
   "outputs": [],
   "source": [
    "ml_models_performances.append(ml_performance)"
   ]
  },
  {
   "cell_type": "markdown",
   "metadata": {},
   "source": [
    "<h4>Linear Regression</h4>"
   ]
  },
  {
   "cell_type": "code",
   "execution_count": 348,
   "metadata": {},
   "outputs": [],
   "source": [
    "ln = LinearRegression()"
   ]
  },
  {
   "cell_type": "code",
   "execution_count": 349,
   "metadata": {},
   "outputs": [
    {
     "data": {
      "text/plain": [
       "LinearRegression()"
      ]
     },
     "execution_count": 349,
     "metadata": {},
     "output_type": "execute_result"
    }
   ],
   "source": [
    "ln.fit(X_train,y_train)"
   ]
  },
  {
   "cell_type": "code",
   "execution_count": 350,
   "metadata": {},
   "outputs": [],
   "source": [
    "y_pred = ln.predict(X_test)"
   ]
  },
  {
   "cell_type": "code",
   "execution_count": 351,
   "metadata": {},
   "outputs": [
    {
     "name": "stdout",
     "output_type": "stream",
     "text": [
      "The root mean squared error for linear regression is 6.71 points\n"
     ]
    }
   ],
   "source": [
    "rmse = mean_squared_error(y_test,y_pred,squared=False)\n",
    "print(f\"The root mean squared error for linear regression is {round(rmse,2)} points\")"
   ]
  },
  {
   "cell_type": "code",
   "execution_count": 352,
   "metadata": {},
   "outputs": [
    {
     "name": "stdout",
     "output_type": "stream",
     "text": [
      "The accuracy for linear regression is 73.2679%\n"
     ]
    }
   ],
   "source": [
    "score = ln.score(X_test,y_test) * 100\n",
    "print(f\"The accuracy for linear regression is {round(score,4)}%\")"
   ]
  },
  {
   "cell_type": "code",
   "execution_count": 353,
   "metadata": {},
   "outputs": [],
   "source": [
    "ml_performance = (\"lin_reg_w/out_opp_teams_w_pca\",rmse)\n",
    "ml_accuracy = (\"lin_reg_w/out_opp_teams_w_pca\",score)"
   ]
  },
  {
   "cell_type": "code",
   "execution_count": 354,
   "metadata": {},
   "outputs": [],
   "source": [
    "ml_models_performances.append(ml_performance)\n",
    "ml_model_accuracies.append(ml_accuracy)"
   ]
  },
  {
   "cell_type": "markdown",
   "metadata": {},
   "source": [
    "<h4>SGD Regression</h4>"
   ]
  },
  {
   "cell_type": "code",
   "execution_count": 355,
   "metadata": {},
   "outputs": [],
   "source": [
    "sgd_param_grid = [\n",
    "    {\n",
    "        \"loss\":[\"squared_loss\",\"huber\",\"epsilon_insensitive\",\"squared_epsilon_insensitive\"],\n",
    "        \"epsilon\":[0.1,0.01,0.001]\n",
    "    }\n",
    "]"
   ]
  },
  {
   "cell_type": "code",
   "execution_count": 356,
   "metadata": {},
   "outputs": [],
   "source": [
    "sgd_grid_search = GridSearchCV(SGDRegressor(),sgd_param_grid,cv=5,scoring=\"neg_root_mean_squared_error\",n_jobs=-1)"
   ]
  },
  {
   "cell_type": "code",
   "execution_count": 357,
   "metadata": {},
   "outputs": [
    {
     "data": {
      "text/plain": [
       "GridSearchCV(cv=5, estimator=SGDRegressor(), n_jobs=-1,\n",
       "             param_grid=[{'epsilon': [0.1, 0.01, 0.001],\n",
       "                          'loss': ['squared_loss', 'huber',\n",
       "                                   'epsilon_insensitive',\n",
       "                                   'squared_epsilon_insensitive']}],\n",
       "             scoring='neg_root_mean_squared_error')"
      ]
     },
     "execution_count": 357,
     "metadata": {},
     "output_type": "execute_result"
    }
   ],
   "source": [
    "sgd_grid_search.fit(X_train,y_train)"
   ]
  },
  {
   "cell_type": "code",
   "execution_count": 358,
   "metadata": {},
   "outputs": [
    {
     "data": {
      "text/plain": [
       "{'epsilon': 0.01, 'loss': 'epsilon_insensitive'}"
      ]
     },
     "execution_count": 358,
     "metadata": {},
     "output_type": "execute_result"
    }
   ],
   "source": [
    "sgd_grid_search.best_params_"
   ]
  },
  {
   "cell_type": "code",
   "execution_count": 359,
   "metadata": {},
   "outputs": [],
   "source": [
    "best_sgd_reg = sgd_grid_search.best_estimator_"
   ]
  },
  {
   "cell_type": "code",
   "execution_count": 360,
   "metadata": {},
   "outputs": [],
   "source": [
    "y_pred = best_sgd_reg.predict(X_test)"
   ]
  },
  {
   "cell_type": "code",
   "execution_count": 361,
   "metadata": {},
   "outputs": [
    {
     "name": "stdout",
     "output_type": "stream",
     "text": [
      "The root mean squared error for SGD regression is 6.77 points\n"
     ]
    }
   ],
   "source": [
    "rmse = mean_squared_error(y_test,y_pred,squared=False)\n",
    "print(f\"The root mean squared error for SGD regression is {round(rmse,2)} points\")"
   ]
  },
  {
   "cell_type": "code",
   "execution_count": 362,
   "metadata": {},
   "outputs": [],
   "source": [
    "ml_performance = (\"sgd_reg_w/out_opp_teams_w_pca\",rmse)"
   ]
  },
  {
   "cell_type": "code",
   "execution_count": 363,
   "metadata": {},
   "outputs": [
    {
     "name": "stdout",
     "output_type": "stream",
     "text": [
      "The accuracy for sgd regression is 72.8185%\n"
     ]
    }
   ],
   "source": [
    "score = best_sgd_reg.score(X_test,y_test) * 100\n",
    "print(f\"The accuracy for sgd regression is {round(score,4)}%\")"
   ]
  },
  {
   "cell_type": "code",
   "execution_count": 364,
   "metadata": {},
   "outputs": [],
   "source": [
    "ml_performance = (\"sgd_reg_w/out_opp_teams_w_pca\",rmse)\n",
    "ml_accuracy = (\"sgd_reg_w/out_opp_teams_w_pca\",score)"
   ]
  },
  {
   "cell_type": "code",
   "execution_count": 365,
   "metadata": {},
   "outputs": [],
   "source": [
    "ml_models_performances.append(ml_performance)\n",
    "ml_model_accuracies.append(ml_accuracy)"
   ]
  },
  {
   "cell_type": "markdown",
   "metadata": {},
   "source": [
    "<h4>Random Forest Regression</h4>"
   ]
  },
  {
   "cell_type": "code",
   "execution_count": 366,
   "metadata": {},
   "outputs": [],
   "source": [
    "rand_forest_param_grid = [\n",
    "    {\n",
    "        \"n_estimators\":[50,100,500],\n",
    "        \"criterion\":[\"mse\",\"mae\"]\n",
    "    }\n",
    "]"
   ]
  },
  {
   "cell_type": "code",
   "execution_count": 367,
   "metadata": {},
   "outputs": [],
   "source": [
    "rand_forest_grid_search = GridSearchCV(RandomForestRegressor(),rand_forest_param_grid,cv=5,scoring=\"neg_root_mean_squared_error\",n_jobs=-1)"
   ]
  },
  {
   "cell_type": "code",
   "execution_count": 368,
   "metadata": {},
   "outputs": [
    {
     "data": {
      "text/plain": [
       "GridSearchCV(cv=5, estimator=RandomForestRegressor(), n_jobs=-1,\n",
       "             param_grid=[{'criterion': ['mse', 'mae'],\n",
       "                          'n_estimators': [50, 100, 500]}],\n",
       "             scoring='neg_root_mean_squared_error')"
      ]
     },
     "execution_count": 368,
     "metadata": {},
     "output_type": "execute_result"
    }
   ],
   "source": [
    "rand_forest_grid_search.fit(X_train,y_train)"
   ]
  },
  {
   "cell_type": "code",
   "execution_count": 369,
   "metadata": {},
   "outputs": [
    {
     "data": {
      "text/plain": [
       "{'criterion': 'mae', 'n_estimators': 500}"
      ]
     },
     "execution_count": 369,
     "metadata": {},
     "output_type": "execute_result"
    }
   ],
   "source": [
    "rand_forest_grid_search.best_params_"
   ]
  },
  {
   "cell_type": "code",
   "execution_count": 370,
   "metadata": {},
   "outputs": [],
   "source": [
    "best_rand_forest_reg = rand_forest_grid_search.best_estimator_"
   ]
  },
  {
   "cell_type": "code",
   "execution_count": 371,
   "metadata": {},
   "outputs": [],
   "source": [
    "y_pred = best_rand_forest_reg.predict(X_test)"
   ]
  },
  {
   "cell_type": "code",
   "execution_count": 372,
   "metadata": {},
   "outputs": [
    {
     "name": "stdout",
     "output_type": "stream",
     "text": [
      "The root mean squared error for SGD regression is 7.04 points\n"
     ]
    }
   ],
   "source": [
    "rmse = mean_squared_error(y_test,y_pred,squared=False)\n",
    "print(f\"The root mean squared error for SGD regression is {round(rmse,2)} points\")"
   ]
  },
  {
   "cell_type": "code",
   "execution_count": 373,
   "metadata": {},
   "outputs": [
    {
     "name": "stdout",
     "output_type": "stream",
     "text": [
      "The accuracy for random forest regression is 70.6186%\n"
     ]
    }
   ],
   "source": [
    "score = best_rand_forest_reg.score(X_test,y_test) * 100\n",
    "print(f\"The accuracy for random forest regression is {round(score,4)}%\")"
   ]
  },
  {
   "cell_type": "code",
   "execution_count": 374,
   "metadata": {},
   "outputs": [],
   "source": [
    "ml_performance = (\"rand_forest_reg_w/out_opp_teams_w_pca\",rmse)\n",
    "ml_accuracy = (\"rand_forest_reg_w/out_opp_teams_w_pca\",score)"
   ]
  },
  {
   "cell_type": "code",
   "execution_count": 375,
   "metadata": {},
   "outputs": [],
   "source": [
    "ml_models_performances.append(ml_performance)\n",
    "ml_model_accuracies.append(ml_accuracy)"
   ]
  },
  {
   "cell_type": "markdown",
   "metadata": {},
   "source": [
    "<h4>Elastic Net Regression</h4>"
   ]
  },
  {
   "cell_type": "code",
   "execution_count": 376,
   "metadata": {},
   "outputs": [],
   "source": [
    "elastic_net_param_grid = [\n",
    "    {\n",
    "        \"l1_ratio\":[0.25,0.5,0.75]\n",
    "    }\n",
    "]"
   ]
  },
  {
   "cell_type": "code",
   "execution_count": 377,
   "metadata": {},
   "outputs": [],
   "source": [
    "elastic_net_grid_search = GridSearchCV(ElasticNet(),elastic_net_param_grid,cv=5,scoring=\"neg_root_mean_squared_error\",n_jobs=-1)"
   ]
  },
  {
   "cell_type": "code",
   "execution_count": 378,
   "metadata": {},
   "outputs": [
    {
     "data": {
      "text/plain": [
       "GridSearchCV(cv=5, estimator=ElasticNet(), n_jobs=-1,\n",
       "             param_grid=[{'l1_ratio': [0.25, 0.5, 0.75]}],\n",
       "             scoring='neg_root_mean_squared_error')"
      ]
     },
     "execution_count": 378,
     "metadata": {},
     "output_type": "execute_result"
    }
   ],
   "source": [
    "elastic_net_grid_search.fit(X_train,y_train)"
   ]
  },
  {
   "cell_type": "code",
   "execution_count": 379,
   "metadata": {},
   "outputs": [
    {
     "data": {
      "text/plain": [
       "{'l1_ratio': 0.75}"
      ]
     },
     "execution_count": 379,
     "metadata": {},
     "output_type": "execute_result"
    }
   ],
   "source": [
    "elastic_net_grid_search.best_params_"
   ]
  },
  {
   "cell_type": "code",
   "execution_count": 380,
   "metadata": {},
   "outputs": [],
   "source": [
    "best_elastic_net_reg = elastic_net_grid_search.best_estimator_"
   ]
  },
  {
   "cell_type": "code",
   "execution_count": 381,
   "metadata": {},
   "outputs": [],
   "source": [
    "y_pred = best_elastic_net_reg.predict(X_test)"
   ]
  },
  {
   "cell_type": "code",
   "execution_count": 382,
   "metadata": {},
   "outputs": [
    {
     "name": "stdout",
     "output_type": "stream",
     "text": [
      "The root mean squared error for Elastic Net regression is 6.72 points\n"
     ]
    }
   ],
   "source": [
    "rmse = mean_squared_error(y_test,y_pred,squared=False)\n",
    "print(f\"The root mean squared error for Elastic Net regression is {round(rmse,2)} points\")"
   ]
  },
  {
   "cell_type": "code",
   "execution_count": 383,
   "metadata": {},
   "outputs": [
    {
     "name": "stdout",
     "output_type": "stream",
     "text": [
      "The accuracy for elastic net regression is 73.2257%\n"
     ]
    }
   ],
   "source": [
    "score = best_elastic_net_reg.score(X_test,y_test) * 100\n",
    "print(f\"The accuracy for elastic net regression is {round(score,4)}%\")"
   ]
  },
  {
   "cell_type": "code",
   "execution_count": 384,
   "metadata": {},
   "outputs": [],
   "source": [
    "ml_performance = (\"elastic_net_reg_w/out_opp_teams_w_pca\",rmse)\n",
    "ml_accuracy = (\"elastic_net_reg_w/out_opp_teams_w_pca\",score)"
   ]
  },
  {
   "cell_type": "code",
   "execution_count": 385,
   "metadata": {},
   "outputs": [],
   "source": [
    "ml_models_performances.append(ml_performance)\n",
    "ml_model_accuracies.append(ml_accuracy)"
   ]
  },
  {
   "cell_type": "markdown",
   "metadata": {},
   "source": [
    "<h2>Viewing Error Scores For All the ML Models</h2>"
   ]
  },
  {
   "cell_type": "code",
   "execution_count": 386,
   "metadata": {},
   "outputs": [
    {
     "name": "stdout",
     "output_type": "stream",
     "text": [
      "lin_reg_w_opp_teams_w/out_pca: 6.753\n",
      "sgd_reg_w_opp_teams_w/out_pca: 6.769\n",
      "rand_forest_reg_w_opp_teams_w/out_pca: 6.955\n",
      "elastic_net_reg_w_opp_teams_w/out_pca: 6.714\n",
      "lin_reg_w_opp_teams_w_pca: 6.712\n",
      "sgd_reg_w_opp_teams_w_pca: 6.983\n",
      "rand_forest_reg_w_opp_teams_w_pca: 7.041\n",
      "elastic_net_reg_w_opp_teams_w_pca: 6.718\n",
      "lin_reg_w/out_opp_teams_w/out_pca: 6.62\n",
      "sgd_reg_w/out_opp_teams_w/out_pca: 6.65\n",
      "rand_forest_reg_w/out_opp_teams_w/out_pca: 6.853\n",
      "elastic_net_reg_w/out_opp_teams_w/out_pca: 6.913\n",
      "elastic_net_reg_w/out_opp_teams_w/out_pca: 6.913\n",
      "lin_reg_w/out_opp_teams_w_pca: 6.712\n",
      "sgd_reg_w/out_opp_teams_w_pca: 6.768\n",
      "rand_forest_reg_w/out_opp_teams_w_pca: 7.037\n",
      "elastic_net_reg_w/out_opp_teams_w_pca: 6.718\n"
     ]
    }
   ],
   "source": [
    "for ml_perf in ml_models_performances:\n",
    "    print(f\"{ml_perf[0]}: {round(ml_perf[1],3)}\")"
   ]
  },
  {
   "cell_type": "code",
   "execution_count": 387,
   "metadata": {},
   "outputs": [
    {
     "name": "stdout",
     "output_type": "stream",
     "text": [
      "The accuracy for elastic net regression is 73.2257%\n"
     ]
    }
   ],
   "source": [
    "score = best_elastic_net_reg.score(X_test,y_test) * 100\n",
    "print(f\"The accuracy for elastic net regression is {round(score,4)}%\")"
   ]
  },
  {
   "cell_type": "code",
   "execution_count": 388,
   "metadata": {},
   "outputs": [],
   "source": [
    "ml_performance = (\"elastic_net_reg_w/out_opp_teams_w_pca\",rmse)\n",
    "ml_accuracy = (\"elastic_net_reg_w/out_opp_teams_w_pca\",score)"
   ]
  },
  {
   "cell_type": "code",
   "execution_count": 389,
   "metadata": {},
   "outputs": [],
   "source": [
    "ml_models_performances.append(ml_performance)\n",
    "ml_model_accuracies.append(ml_accuracy)"
   ]
  },
  {
   "cell_type": "markdown",
   "metadata": {},
   "source": [
    "<h2>Viewing Error/ Accuracy Scores For All the ML Models</h2>"
   ]
  },
  {
   "cell_type": "code",
   "execution_count": 390,
   "metadata": {},
   "outputs": [
    {
     "name": "stdout",
     "output_type": "stream",
     "text": [
      "lin_reg_w_opp_teams_w/out_pca: 6.753\n",
      "sgd_reg_w_opp_teams_w/out_pca: 6.769\n",
      "rand_forest_reg_w_opp_teams_w/out_pca: 6.955\n",
      "elastic_net_reg_w_opp_teams_w/out_pca: 6.714\n",
      "lin_reg_w_opp_teams_w_pca: 6.712\n",
      "sgd_reg_w_opp_teams_w_pca: 6.983\n",
      "rand_forest_reg_w_opp_teams_w_pca: 7.041\n",
      "elastic_net_reg_w_opp_teams_w_pca: 6.718\n",
      "lin_reg_w/out_opp_teams_w/out_pca: 6.62\n",
      "sgd_reg_w/out_opp_teams_w/out_pca: 6.65\n",
      "rand_forest_reg_w/out_opp_teams_w/out_pca: 6.853\n",
      "elastic_net_reg_w/out_opp_teams_w/out_pca: 6.913\n",
      "elastic_net_reg_w/out_opp_teams_w/out_pca: 6.913\n",
      "lin_reg_w/out_opp_teams_w_pca: 6.712\n",
      "sgd_reg_w/out_opp_teams_w_pca: 6.768\n",
      "rand_forest_reg_w/out_opp_teams_w_pca: 7.037\n",
      "elastic_net_reg_w/out_opp_teams_w_pca: 6.718\n",
      "elastic_net_reg_w/out_opp_teams_w_pca: 6.718\n"
     ]
    }
   ],
   "source": [
    "for ml_perf in ml_models_performances:\n",
    "    print(f\"{ml_perf[0]}: {round(ml_perf[1],3)}\")"
   ]
  },
  {
   "cell_type": "code",
   "execution_count": 392,
   "metadata": {},
   "outputs": [
    {
     "name": "stdout",
     "output_type": "stream",
     "text": [
      "lin_reg_w_opp_teams_w/out_pca: 71.523%\n",
      "sgd_reg_w_opp_teams_w/out_pca: 71.386%\n",
      "rand_forest_reg_w_opp_teams_w/out_pca: 69.793%\n",
      "elastic_net_reg_w_opp_teams_w/out_pca: 71.847%\n",
      "lin_reg_w_opp_teams_w_pca: 0.733%\n",
      "sgd_reg_w_opp_teams_w_pca: 71.066%\n",
      "rand_forest_reg_w_opp_teams_w_pca: 70.584%\n",
      "elastic_net_reg_w_opp_teams_w_pca: 73.226%\n",
      "lin_reg_w/out_opp_teams_w/out_pca: 73.996%\n",
      "sgd_reg_w/out_opp_teams_w/out_pca: 73.764%\n",
      "rand_forest_reg_w/out_opp_teams_w/out_pca: 72.133%\n",
      "elastic_net_reg_w/out_opp_teams_w/out_pca: 71.643%\n",
      "lin_reg_w/out_opp_teams_w_pca: 73.268%\n",
      "sgd_reg_w/out_opp_teams_w_pca: 72.819%\n",
      "rand_forest_reg_w/out_opp_teams_w_pca: 70.619%\n",
      "elastic_net_reg_w/out_opp_teams_w_pca: 73.226%\n",
      "elastic_net_reg_w/out_opp_teams_w_pca: 73.226%\n"
     ]
    }
   ],
   "source": [
    "for ml_acc in ml_model_accuracies:\n",
    "    print(f\"{ml_acc[0]}: {round(ml_acc[1],3)}%\")"
   ]
  }
 ],
 "metadata": {
  "kernelspec": {
   "display_name": "Python 3",
   "language": "python",
   "name": "python3"
  },
  "language_info": {
   "codemirror_mode": {
    "name": "ipython",
    "version": 3
   },
   "file_extension": ".py",
   "mimetype": "text/x-python",
   "name": "python",
   "nbconvert_exporter": "python",
   "pygments_lexer": "ipython3",
   "version": "3.7.5"
  }
 },
 "nbformat": 4,
 "nbformat_minor": 4
}
