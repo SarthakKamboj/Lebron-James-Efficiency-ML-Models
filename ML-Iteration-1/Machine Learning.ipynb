{
 "cells": [
  {
   "cell_type": "code",
   "execution_count": 227,
   "metadata": {},
   "outputs": [],
   "source": [
    "from sklearn.pipeline import Pipeline\n",
    "from sklearn.preprocessing import LabelBinarizer, StandardScaler\n",
    "from sklearn.model_selection import StratifiedShuffleSplit, train_test_split, GridSearchCV\n",
    "from sklearn.linear_model import LinearRegression, SGDRegressor, ElasticNet\n",
    "from sklearn.ensemble import RandomForestRegressor\n",
    "from sklearn.decomposition import PCA\n",
    "from sklearn.metrics import mean_squared_error\n",
    "import numpy as np\n",
    "import pandas as pd\n",
    "import os"
   ]
  },
  {
   "cell_type": "code",
   "execution_count": 228,
   "metadata": {},
   "outputs": [],
   "source": [
    "full_game_df = pd.read_csv(os.path.join(\"../\",\"data\",\"combined_game_data.csv\"))"
   ]
  },
  {
   "cell_type": "code",
   "execution_count": 229,
   "metadata": {},
   "outputs": [],
   "source": [
    "sig_cols = list(np.load(os.path.join(\"../\",\"sig_cols.npy\")))"
   ]
  },
  {
   "cell_type": "code",
   "execution_count": 230,
   "metadata": {},
   "outputs": [],
   "source": [
    "target = full_game_df[\"+/-\"]"
   ]
  },
  {
   "cell_type": "code",
   "execution_count": 231,
   "metadata": {},
   "outputs": [
    {
     "data": {
      "text/html": [
       "<div>\n",
       "<style scoped>\n",
       "    .dataframe tbody tr th:only-of-type {\n",
       "        vertical-align: middle;\n",
       "    }\n",
       "\n",
       "    .dataframe tbody tr th {\n",
       "        vertical-align: top;\n",
       "    }\n",
       "\n",
       "    .dataframe thead th {\n",
       "        text-align: right;\n",
       "    }\n",
       "</style>\n",
       "<table border=\"1\" class=\"dataframe\">\n",
       "  <thead>\n",
       "    <tr style=\"text-align: right;\">\n",
       "      <th></th>\n",
       "      <th>G</th>\n",
       "      <th>Date</th>\n",
       "      <th>Age</th>\n",
       "      <th>Tm</th>\n",
       "      <th>game_location</th>\n",
       "      <th>Opp</th>\n",
       "      <th>game_result</th>\n",
       "      <th>GS</th>\n",
       "      <th>MP</th>\n",
       "      <th>FG</th>\n",
       "      <th>...</th>\n",
       "      <th>More-BLKs-Than-STLs</th>\n",
       "      <th>More-AST-Than-TOV</th>\n",
       "      <th>PTS-Cat</th>\n",
       "      <th>2P</th>\n",
       "      <th>2PA</th>\n",
       "      <th>2P%</th>\n",
       "      <th>2P%-Above-50%</th>\n",
       "      <th>More than 3 Fouls</th>\n",
       "      <th>FTR-Above-Avg</th>\n",
       "      <th>Less-Than-3-TOV</th>\n",
       "    </tr>\n",
       "  </thead>\n",
       "  <tbody>\n",
       "    <tr>\n",
       "      <th>0</th>\n",
       "      <td>1</td>\n",
       "      <td>2003-10-29</td>\n",
       "      <td>18</td>\n",
       "      <td>CLE</td>\n",
       "      <td>0</td>\n",
       "      <td>SAC</td>\n",
       "      <td>-14</td>\n",
       "      <td>1.0</td>\n",
       "      <td>42</td>\n",
       "      <td>12.0</td>\n",
       "      <td>...</td>\n",
       "      <td>False</td>\n",
       "      <td>True</td>\n",
       "      <td>below 35</td>\n",
       "      <td>12.0</td>\n",
       "      <td>18.0</td>\n",
       "      <td>0.666667</td>\n",
       "      <td>True</td>\n",
       "      <td>False</td>\n",
       "      <td>False</td>\n",
       "      <td>True</td>\n",
       "    </tr>\n",
       "    <tr>\n",
       "      <th>1</th>\n",
       "      <td>2</td>\n",
       "      <td>2003-10-30</td>\n",
       "      <td>18</td>\n",
       "      <td>CLE</td>\n",
       "      <td>0</td>\n",
       "      <td>PHO</td>\n",
       "      <td>-9</td>\n",
       "      <td>1.0</td>\n",
       "      <td>40</td>\n",
       "      <td>8.0</td>\n",
       "      <td>...</td>\n",
       "      <td>False</td>\n",
       "      <td>True</td>\n",
       "      <td>below 35</td>\n",
       "      <td>7.0</td>\n",
       "      <td>12.0</td>\n",
       "      <td>0.583333</td>\n",
       "      <td>True</td>\n",
       "      <td>False</td>\n",
       "      <td>False</td>\n",
       "      <td>False</td>\n",
       "    </tr>\n",
       "    <tr>\n",
       "      <th>2</th>\n",
       "      <td>3</td>\n",
       "      <td>2003-11-01</td>\n",
       "      <td>18</td>\n",
       "      <td>CLE</td>\n",
       "      <td>0</td>\n",
       "      <td>POR</td>\n",
       "      <td>-19</td>\n",
       "      <td>1.0</td>\n",
       "      <td>39</td>\n",
       "      <td>3.0</td>\n",
       "      <td>...</td>\n",
       "      <td>False</td>\n",
       "      <td>True</td>\n",
       "      <td>below 20</td>\n",
       "      <td>3.0</td>\n",
       "      <td>11.0</td>\n",
       "      <td>0.272727</td>\n",
       "      <td>False</td>\n",
       "      <td>False</td>\n",
       "      <td>False</td>\n",
       "      <td>True</td>\n",
       "    </tr>\n",
       "    <tr>\n",
       "      <th>3</th>\n",
       "      <td>4</td>\n",
       "      <td>2003-11-05</td>\n",
       "      <td>18</td>\n",
       "      <td>CLE</td>\n",
       "      <td>1</td>\n",
       "      <td>DEN</td>\n",
       "      <td>-4</td>\n",
       "      <td>1.0</td>\n",
       "      <td>41</td>\n",
       "      <td>3.0</td>\n",
       "      <td>...</td>\n",
       "      <td>True</td>\n",
       "      <td>True</td>\n",
       "      <td>below 20</td>\n",
       "      <td>3.0</td>\n",
       "      <td>9.0</td>\n",
       "      <td>0.333333</td>\n",
       "      <td>False</td>\n",
       "      <td>False</td>\n",
       "      <td>False</td>\n",
       "      <td>True</td>\n",
       "    </tr>\n",
       "    <tr>\n",
       "      <th>4</th>\n",
       "      <td>5</td>\n",
       "      <td>2003-11-07</td>\n",
       "      <td>18</td>\n",
       "      <td>CLE</td>\n",
       "      <td>0</td>\n",
       "      <td>IND</td>\n",
       "      <td>-1</td>\n",
       "      <td>1.0</td>\n",
       "      <td>43</td>\n",
       "      <td>8.0</td>\n",
       "      <td>...</td>\n",
       "      <td>False</td>\n",
       "      <td>False</td>\n",
       "      <td>below 35</td>\n",
       "      <td>7.0</td>\n",
       "      <td>16.0</td>\n",
       "      <td>0.437500</td>\n",
       "      <td>False</td>\n",
       "      <td>False</td>\n",
       "      <td>True</td>\n",
       "      <td>False</td>\n",
       "    </tr>\n",
       "  </tbody>\n",
       "</table>\n",
       "<p>5 rows × 66 columns</p>\n",
       "</div>"
      ],
      "text/plain": [
       "   G        Date  Age   Tm  game_location  Opp  game_result   GS  MP    FG  \\\n",
       "0  1  2003-10-29   18  CLE              0  SAC          -14  1.0  42  12.0   \n",
       "1  2  2003-10-30   18  CLE              0  PHO           -9  1.0  40   8.0   \n",
       "2  3  2003-11-01   18  CLE              0  POR          -19  1.0  39   3.0   \n",
       "3  4  2003-11-05   18  CLE              1  DEN           -4  1.0  41   3.0   \n",
       "4  5  2003-11-07   18  CLE              0  IND           -1  1.0  43   8.0   \n",
       "\n",
       "   ...  More-BLKs-Than-STLs  More-AST-Than-TOV   PTS-Cat    2P   2PA  \\\n",
       "0  ...                False               True  below 35  12.0  18.0   \n",
       "1  ...                False               True  below 35   7.0  12.0   \n",
       "2  ...                False               True  below 20   3.0  11.0   \n",
       "3  ...                 True               True  below 20   3.0   9.0   \n",
       "4  ...                False              False  below 35   7.0  16.0   \n",
       "\n",
       "        2P%  2P%-Above-50%  More than 3 Fouls  FTR-Above-Avg  Less-Than-3-TOV  \n",
       "0  0.666667           True              False          False             True  \n",
       "1  0.583333           True              False          False            False  \n",
       "2  0.272727          False              False          False             True  \n",
       "3  0.333333          False              False          False             True  \n",
       "4  0.437500          False              False           True            False  \n",
       "\n",
       "[5 rows x 66 columns]"
      ]
     },
     "execution_count": 231,
     "metadata": {},
     "output_type": "execute_result"
    }
   ],
   "source": [
    "full_game_df.head()"
   ]
  },
  {
   "cell_type": "code",
   "execution_count": 232,
   "metadata": {},
   "outputs": [],
   "source": [
    "sig_df = full_game_df[sig_cols]"
   ]
  },
  {
   "cell_type": "code",
   "execution_count": 233,
   "metadata": {},
   "outputs": [
    {
     "data": {
      "text/html": [
       "<div>\n",
       "<style scoped>\n",
       "    .dataframe tbody tr th:only-of-type {\n",
       "        vertical-align: middle;\n",
       "    }\n",
       "\n",
       "    .dataframe tbody tr th {\n",
       "        vertical-align: top;\n",
       "    }\n",
       "\n",
       "    .dataframe thead th {\n",
       "        text-align: right;\n",
       "    }\n",
       "</style>\n",
       "<table border=\"1\" class=\"dataframe\">\n",
       "  <thead>\n",
       "    <tr style=\"text-align: right;\">\n",
       "      <th></th>\n",
       "      <th>game_result</th>\n",
       "      <th>FG%</th>\n",
       "      <th>GmSc</th>\n",
       "      <th>TS%</th>\n",
       "      <th>GmSc-Per-PTS</th>\n",
       "      <th>PTS-Per-POSS</th>\n",
       "      <th>game_result-Per-PTS</th>\n",
       "      <th>PER</th>\n",
       "      <th>game_location</th>\n",
       "      <th>Opp</th>\n",
       "      <th>...</th>\n",
       "      <th>Over-3-BLKs-and-STLs</th>\n",
       "      <th>Played-Above-Avg-Min</th>\n",
       "      <th>Above-Avg-FT%</th>\n",
       "      <th>Career-Stage</th>\n",
       "      <th>Above-Avg-PTS-Per-POSS</th>\n",
       "      <th>More-BLKs-Than-STLs</th>\n",
       "      <th>More-AST-Than-TOV</th>\n",
       "      <th>PTS-Cat</th>\n",
       "      <th>2P%-Above-50%</th>\n",
       "      <th>More than 3 Fouls</th>\n",
       "    </tr>\n",
       "  </thead>\n",
       "  <tbody>\n",
       "    <tr>\n",
       "      <th>0</th>\n",
       "      <td>-14</td>\n",
       "      <td>0.600</td>\n",
       "      <td>24.7</td>\n",
       "      <td>0.583431</td>\n",
       "      <td>0.988000</td>\n",
       "      <td>1.172608</td>\n",
       "      <td>-0.560000</td>\n",
       "      <td>29.277048</td>\n",
       "      <td>0</td>\n",
       "      <td>SAC</td>\n",
       "      <td>...</td>\n",
       "      <td>True</td>\n",
       "      <td>True</td>\n",
       "      <td>False</td>\n",
       "      <td>rising</td>\n",
       "      <td>True</td>\n",
       "      <td>False</td>\n",
       "      <td>True</td>\n",
       "      <td>below 35</td>\n",
       "      <td>True</td>\n",
       "      <td>False</td>\n",
       "    </tr>\n",
       "    <tr>\n",
       "      <th>1</th>\n",
       "      <td>-9</td>\n",
       "      <td>0.471</td>\n",
       "      <td>14.7</td>\n",
       "      <td>0.516605</td>\n",
       "      <td>0.700000</td>\n",
       "      <td>0.837321</td>\n",
       "      <td>-0.428571</td>\n",
       "      <td>16.893600</td>\n",
       "      <td>0</td>\n",
       "      <td>PHO</td>\n",
       "      <td>...</td>\n",
       "      <td>False</td>\n",
       "      <td>True</td>\n",
       "      <td>False</td>\n",
       "      <td>rising</td>\n",
       "      <td>False</td>\n",
       "      <td>False</td>\n",
       "      <td>True</td>\n",
       "      <td>below 35</td>\n",
       "      <td>True</td>\n",
       "      <td>False</td>\n",
       "    </tr>\n",
       "    <tr>\n",
       "      <th>2</th>\n",
       "      <td>-19</td>\n",
       "      <td>0.250</td>\n",
       "      <td>5.0</td>\n",
       "      <td>0.308880</td>\n",
       "      <td>0.625000</td>\n",
       "      <td>0.537634</td>\n",
       "      <td>-2.375000</td>\n",
       "      <td>5.489179</td>\n",
       "      <td>0</td>\n",
       "      <td>POR</td>\n",
       "      <td>...</td>\n",
       "      <td>False</td>\n",
       "      <td>True</td>\n",
       "      <td>True</td>\n",
       "      <td>rising</td>\n",
       "      <td>False</td>\n",
       "      <td>False</td>\n",
       "      <td>True</td>\n",
       "      <td>below 20</td>\n",
       "      <td>False</td>\n",
       "      <td>False</td>\n",
       "    </tr>\n",
       "    <tr>\n",
       "      <th>3</th>\n",
       "      <td>-4</td>\n",
       "      <td>0.273</td>\n",
       "      <td>11.2</td>\n",
       "      <td>0.305011</td>\n",
       "      <td>1.600000</td>\n",
       "      <td>0.611888</td>\n",
       "      <td>-0.571429</td>\n",
       "      <td>13.291049</td>\n",
       "      <td>1</td>\n",
       "      <td>DEN</td>\n",
       "      <td>...</td>\n",
       "      <td>True</td>\n",
       "      <td>True</td>\n",
       "      <td>True</td>\n",
       "      <td>rising</td>\n",
       "      <td>False</td>\n",
       "      <td>True</td>\n",
       "      <td>True</td>\n",
       "      <td>below 20</td>\n",
       "      <td>False</td>\n",
       "      <td>False</td>\n",
       "    </tr>\n",
       "    <tr>\n",
       "      <th>4</th>\n",
       "      <td>-1</td>\n",
       "      <td>0.444</td>\n",
       "      <td>9.0</td>\n",
       "      <td>0.539273</td>\n",
       "      <td>0.391304</td>\n",
       "      <td>0.819088</td>\n",
       "      <td>-0.043478</td>\n",
       "      <td>8.698953</td>\n",
       "      <td>0</td>\n",
       "      <td>IND</td>\n",
       "      <td>...</td>\n",
       "      <td>False</td>\n",
       "      <td>True</td>\n",
       "      <td>True</td>\n",
       "      <td>rising</td>\n",
       "      <td>False</td>\n",
       "      <td>False</td>\n",
       "      <td>False</td>\n",
       "      <td>below 35</td>\n",
       "      <td>False</td>\n",
       "      <td>False</td>\n",
       "    </tr>\n",
       "  </tbody>\n",
       "</table>\n",
       "<p>5 rows × 23 columns</p>\n",
       "</div>"
      ],
      "text/plain": [
       "   game_result    FG%  GmSc       TS%  GmSc-Per-PTS  PTS-Per-POSS  \\\n",
       "0          -14  0.600  24.7  0.583431      0.988000      1.172608   \n",
       "1           -9  0.471  14.7  0.516605      0.700000      0.837321   \n",
       "2          -19  0.250   5.0  0.308880      0.625000      0.537634   \n",
       "3           -4  0.273  11.2  0.305011      1.600000      0.611888   \n",
       "4           -1  0.444   9.0  0.539273      0.391304      0.819088   \n",
       "\n",
       "   game_result-Per-PTS        PER  game_location  Opp  ...  \\\n",
       "0            -0.560000  29.277048              0  SAC  ...   \n",
       "1            -0.428571  16.893600              0  PHO  ...   \n",
       "2            -2.375000   5.489179              0  POR  ...   \n",
       "3            -0.571429  13.291049              1  DEN  ...   \n",
       "4            -0.043478   8.698953              0  IND  ...   \n",
       "\n",
       "   Over-3-BLKs-and-STLs  Played-Above-Avg-Min  Above-Avg-FT%  Career-Stage  \\\n",
       "0                  True                  True          False        rising   \n",
       "1                 False                  True          False        rising   \n",
       "2                 False                  True           True        rising   \n",
       "3                  True                  True           True        rising   \n",
       "4                 False                  True           True        rising   \n",
       "\n",
       "   Above-Avg-PTS-Per-POSS  More-BLKs-Than-STLs More-AST-Than-TOV   PTS-Cat  \\\n",
       "0                    True                False              True  below 35   \n",
       "1                   False                False              True  below 35   \n",
       "2                   False                False              True  below 20   \n",
       "3                   False                 True              True  below 20   \n",
       "4                   False                False             False  below 35   \n",
       "\n",
       "   2P%-Above-50%  More than 3 Fouls  \n",
       "0           True              False  \n",
       "1           True              False  \n",
       "2          False              False  \n",
       "3          False              False  \n",
       "4          False              False  \n",
       "\n",
       "[5 rows x 23 columns]"
      ]
     },
     "execution_count": 233,
     "metadata": {},
     "output_type": "execute_result"
    }
   ],
   "source": [
    "sig_df.head()"
   ]
  },
  {
   "cell_type": "code",
   "execution_count": 234,
   "metadata": {},
   "outputs": [
    {
     "name": "stderr",
     "output_type": "stream",
     "text": [
      "c:\\users\\kambo\\.virtualenvs\\lebronjames-q3tyihsg\\lib\\site-packages\\pandas\\core\\frame.py:4379: SettingWithCopyWarning: \n",
      "A value is trying to be set on a copy of a slice from a DataFrame\n",
      "\n",
      "See the caveats in the documentation: https://pandas.pydata.org/pandas-docs/stable/user_guide/indexing.html#returning-a-view-versus-a-copy\n",
      "  method=method,\n"
     ]
    }
   ],
   "source": [
    "sig_df.replace(True,1,inplace=True)\n",
    "sig_df.replace(False,0,inplace=True)"
   ]
  },
  {
   "cell_type": "code",
   "execution_count": 235,
   "metadata": {},
   "outputs": [
    {
     "data": {
      "text/plain": [
       "Index(['game_result', 'game_location'], dtype='object')"
      ]
     },
     "execution_count": 235,
     "metadata": {},
     "output_type": "execute_result"
    }
   ],
   "source": [
    "sig_df.select_dtypes(include=[\"int64\"]).columns"
   ]
  },
  {
   "cell_type": "code",
   "execution_count": 236,
   "metadata": {},
   "outputs": [
    {
     "name": "stderr",
     "output_type": "stream",
     "text": [
      "c:\\users\\kambo\\.virtualenvs\\lebronjames-q3tyihsg\\lib\\site-packages\\ipykernel_launcher.py:2: SettingWithCopyWarning: \n",
      "A value is trying to be set on a copy of a slice from a DataFrame.\n",
      "Try using .loc[row_indexer,col_indexer] = value instead\n",
      "\n",
      "See the caveats in the documentation: https://pandas.pydata.org/pandas-docs/stable/user_guide/indexing.html#returning-a-view-versus-a-copy\n",
      "  \n"
     ]
    }
   ],
   "source": [
    "for col in sig_df.select_dtypes(include=[\"int64\"]).columns:\n",
    "    sig_df[col] = sig_df[col].apply(lambda x: float(x))"
   ]
  },
  {
   "cell_type": "code",
   "execution_count": 237,
   "metadata": {},
   "outputs": [
    {
     "data": {
      "text/plain": [
       "game_result               float64\n",
       "FG%                       float64\n",
       "GmSc                      float64\n",
       "TS%                       float64\n",
       "GmSc-Per-PTS              float64\n",
       "PTS-Per-POSS              float64\n",
       "game_result-Per-PTS       float64\n",
       "PER                       float64\n",
       "game_location             float64\n",
       "Opp                        object\n",
       "Won                       float64\n",
       "High-3P%-Shooting         float64\n",
       "High-FG%-Shooting         float64\n",
       "Over-3-BLKs-and-STLs      float64\n",
       "Played-Above-Avg-Min      float64\n",
       "Above-Avg-FT%             float64\n",
       "Career-Stage               object\n",
       "Above-Avg-PTS-Per-POSS    float64\n",
       "More-BLKs-Than-STLs       float64\n",
       "More-AST-Than-TOV         float64\n",
       "PTS-Cat                    object\n",
       "2P%-Above-50%             float64\n",
       "More than 3 Fouls         float64\n",
       "dtype: object"
      ]
     },
     "execution_count": 237,
     "metadata": {},
     "output_type": "execute_result"
    }
   ],
   "source": [
    "sig_df.dtypes"
   ]
  },
  {
   "cell_type": "code",
   "execution_count": 238,
   "metadata": {},
   "outputs": [],
   "source": [
    "def label_bin(cat_col,df):\n",
    "    lb = LabelBinarizer()\n",
    "    data = lb.fit_transform(df[cat_col])\n",
    "    classes = lb.classes_\n",
    "    new_df = pd.DataFrame(data,columns=classes,dtype=float)\n",
    "    for col in new_df.columns:\n",
    "        df[col] = new_df[col]\n",
    "    return lb"
   ]
  },
  {
   "cell_type": "code",
   "execution_count": 239,
   "metadata": {},
   "outputs": [
    {
     "name": "stderr",
     "output_type": "stream",
     "text": [
      "c:\\users\\kambo\\.virtualenvs\\lebronjames-q3tyihsg\\lib\\site-packages\\ipykernel_launcher.py:7: SettingWithCopyWarning: \n",
      "A value is trying to be set on a copy of a slice from a DataFrame.\n",
      "Try using .loc[row_indexer,col_indexer] = value instead\n",
      "\n",
      "See the caveats in the documentation: https://pandas.pydata.org/pandas-docs/stable/user_guide/indexing.html#returning-a-view-versus-a-copy\n",
      "  import sys\n",
      "c:\\users\\kambo\\.virtualenvs\\lebronjames-q3tyihsg\\lib\\site-packages\\ipykernel_launcher.py:7: SettingWithCopyWarning: \n",
      "A value is trying to be set on a copy of a slice from a DataFrame.\n",
      "Try using .loc[row_indexer,col_indexer] = value instead\n",
      "\n",
      "See the caveats in the documentation: https://pandas.pydata.org/pandas-docs/stable/user_guide/indexing.html#returning-a-view-versus-a-copy\n",
      "  import sys\n",
      "c:\\users\\kambo\\.virtualenvs\\lebronjames-q3tyihsg\\lib\\site-packages\\ipykernel_launcher.py:7: SettingWithCopyWarning: \n",
      "A value is trying to be set on a copy of a slice from a DataFrame.\n",
      "Try using .loc[row_indexer,col_indexer] = value instead\n",
      "\n",
      "See the caveats in the documentation: https://pandas.pydata.org/pandas-docs/stable/user_guide/indexing.html#returning-a-view-versus-a-copy\n",
      "  import sys\n"
     ]
    }
   ],
   "source": [
    "label_bins = []\n",
    "for object_col in sig_df.select_dtypes(include=[\"object\"]).columns:\n",
    "    object_lb = label_bin(object_col,sig_df)\n",
    "    object_col_lb_pair = (object_col,object_lb)\n",
    "    label_bins.append(object_col_lb_pair)"
   ]
  },
  {
   "cell_type": "code",
   "execution_count": 240,
   "metadata": {},
   "outputs": [
    {
     "data": {
      "text/html": [
       "<div>\n",
       "<style scoped>\n",
       "    .dataframe tbody tr th:only-of-type {\n",
       "        vertical-align: middle;\n",
       "    }\n",
       "\n",
       "    .dataframe tbody tr th {\n",
       "        vertical-align: top;\n",
       "    }\n",
       "\n",
       "    .dataframe thead th {\n",
       "        text-align: right;\n",
       "    }\n",
       "</style>\n",
       "<table border=\"1\" class=\"dataframe\">\n",
       "  <thead>\n",
       "    <tr style=\"text-align: right;\">\n",
       "      <th></th>\n",
       "      <th>game_result</th>\n",
       "      <th>FG%</th>\n",
       "      <th>GmSc</th>\n",
       "      <th>TS%</th>\n",
       "      <th>GmSc-Per-PTS</th>\n",
       "      <th>PTS-Per-POSS</th>\n",
       "      <th>game_result-Per-PTS</th>\n",
       "      <th>PER</th>\n",
       "      <th>game_location</th>\n",
       "      <th>Opp</th>\n",
       "      <th>...</th>\n",
       "      <th>SEA</th>\n",
       "      <th>TOR</th>\n",
       "      <th>UTA</th>\n",
       "      <th>WAS</th>\n",
       "      <th>decline</th>\n",
       "      <th>prime</th>\n",
       "      <th>rising</th>\n",
       "      <th>above 35</th>\n",
       "      <th>below 20</th>\n",
       "      <th>below 35</th>\n",
       "    </tr>\n",
       "  </thead>\n",
       "  <tbody>\n",
       "    <tr>\n",
       "      <th>1255</th>\n",
       "      <td>10.0</td>\n",
       "      <td>0.571</td>\n",
       "      <td>31.3</td>\n",
       "      <td>0.657778</td>\n",
       "      <td>0.845946</td>\n",
       "      <td>1.170886</td>\n",
       "      <td>0.270270</td>\n",
       "      <td>41.786472</td>\n",
       "      <td>1.0</td>\n",
       "      <td>MIL</td>\n",
       "      <td>...</td>\n",
       "      <td>0.0</td>\n",
       "      <td>0.0</td>\n",
       "      <td>0.0</td>\n",
       "      <td>0.0</td>\n",
       "      <td>1.0</td>\n",
       "      <td>0.0</td>\n",
       "      <td>0.0</td>\n",
       "      <td>1.0</td>\n",
       "      <td>0.0</td>\n",
       "      <td>0.0</td>\n",
       "    </tr>\n",
       "    <tr>\n",
       "      <th>1256</th>\n",
       "      <td>9.0</td>\n",
       "      <td>0.412</td>\n",
       "      <td>25.8</td>\n",
       "      <td>0.591966</td>\n",
       "      <td>0.921429</td>\n",
       "      <td>1.208981</td>\n",
       "      <td>0.321429</td>\n",
       "      <td>36.256500</td>\n",
       "      <td>0.0</td>\n",
       "      <td>LAC</td>\n",
       "      <td>...</td>\n",
       "      <td>0.0</td>\n",
       "      <td>0.0</td>\n",
       "      <td>0.0</td>\n",
       "      <td>0.0</td>\n",
       "      <td>1.0</td>\n",
       "      <td>0.0</td>\n",
       "      <td>0.0</td>\n",
       "      <td>0.0</td>\n",
       "      <td>0.0</td>\n",
       "      <td>1.0</td>\n",
       "    </tr>\n",
       "    <tr>\n",
       "      <th>1257</th>\n",
       "      <td>-2.0</td>\n",
       "      <td>0.545</td>\n",
       "      <td>24.7</td>\n",
       "      <td>0.594872</td>\n",
       "      <td>0.851724</td>\n",
       "      <td>1.106870</td>\n",
       "      <td>-0.068966</td>\n",
       "      <td>35.312382</td>\n",
       "      <td>1.0</td>\n",
       "      <td>BRK</td>\n",
       "      <td>...</td>\n",
       "      <td>0.0</td>\n",
       "      <td>0.0</td>\n",
       "      <td>0.0</td>\n",
       "      <td>0.0</td>\n",
       "      <td>1.0</td>\n",
       "      <td>0.0</td>\n",
       "      <td>0.0</td>\n",
       "      <td>0.0</td>\n",
       "      <td>0.0</td>\n",
       "      <td>1.0</td>\n",
       "    </tr>\n",
       "    <tr>\n",
       "      <th>1258</th>\n",
       "      <td>2.0</td>\n",
       "      <td>0.316</td>\n",
       "      <td>9.6</td>\n",
       "      <td>0.401003</td>\n",
       "      <td>0.600000</td>\n",
       "      <td>0.699301</td>\n",
       "      <td>0.125000</td>\n",
       "      <td>12.610471</td>\n",
       "      <td>1.0</td>\n",
       "      <td>LAC</td>\n",
       "      <td>...</td>\n",
       "      <td>0.0</td>\n",
       "      <td>0.0</td>\n",
       "      <td>0.0</td>\n",
       "      <td>0.0</td>\n",
       "      <td>1.0</td>\n",
       "      <td>0.0</td>\n",
       "      <td>0.0</td>\n",
       "      <td>0.0</td>\n",
       "      <td>1.0</td>\n",
       "      <td>0.0</td>\n",
       "    </tr>\n",
       "    <tr>\n",
       "      <th>1259</th>\n",
       "      <td>-15.0</td>\n",
       "      <td>0.467</td>\n",
       "      <td>14.3</td>\n",
       "      <td>0.545703</td>\n",
       "      <td>0.715000</td>\n",
       "      <td>0.948767</td>\n",
       "      <td>-0.750000</td>\n",
       "      <td>19.701088</td>\n",
       "      <td>0.0</td>\n",
       "      <td>TOR</td>\n",
       "      <td>...</td>\n",
       "      <td>0.0</td>\n",
       "      <td>1.0</td>\n",
       "      <td>0.0</td>\n",
       "      <td>0.0</td>\n",
       "      <td>1.0</td>\n",
       "      <td>0.0</td>\n",
       "      <td>0.0</td>\n",
       "      <td>0.0</td>\n",
       "      <td>0.0</td>\n",
       "      <td>1.0</td>\n",
       "    </tr>\n",
       "  </tbody>\n",
       "</table>\n",
       "<p>5 rows × 64 columns</p>\n",
       "</div>"
      ],
      "text/plain": [
       "      game_result    FG%  GmSc       TS%  GmSc-Per-PTS  PTS-Per-POSS  \\\n",
       "1255         10.0  0.571  31.3  0.657778      0.845946      1.170886   \n",
       "1256          9.0  0.412  25.8  0.591966      0.921429      1.208981   \n",
       "1257         -2.0  0.545  24.7  0.594872      0.851724      1.106870   \n",
       "1258          2.0  0.316   9.6  0.401003      0.600000      0.699301   \n",
       "1259        -15.0  0.467  14.3  0.545703      0.715000      0.948767   \n",
       "\n",
       "      game_result-Per-PTS        PER  game_location  Opp  ...  SEA  TOR  UTA  \\\n",
       "1255             0.270270  41.786472            1.0  MIL  ...  0.0  0.0  0.0   \n",
       "1256             0.321429  36.256500            0.0  LAC  ...  0.0  0.0  0.0   \n",
       "1257            -0.068966  35.312382            1.0  BRK  ...  0.0  0.0  0.0   \n",
       "1258             0.125000  12.610471            1.0  LAC  ...  0.0  0.0  0.0   \n",
       "1259            -0.750000  19.701088            0.0  TOR  ...  0.0  1.0  0.0   \n",
       "\n",
       "      WAS  decline  prime rising  above 35  below 20  below 35  \n",
       "1255  0.0      1.0    0.0    0.0       1.0       0.0       0.0  \n",
       "1256  0.0      1.0    0.0    0.0       0.0       0.0       1.0  \n",
       "1257  0.0      1.0    0.0    0.0       0.0       0.0       1.0  \n",
       "1258  0.0      1.0    0.0    0.0       0.0       1.0       0.0  \n",
       "1259  0.0      1.0    0.0    0.0       0.0       0.0       1.0  \n",
       "\n",
       "[5 rows x 64 columns]"
      ]
     },
     "execution_count": 240,
     "metadata": {},
     "output_type": "execute_result"
    }
   ],
   "source": [
    "sig_df.tail()"
   ]
  },
  {
   "cell_type": "code",
   "execution_count": 241,
   "metadata": {},
   "outputs": [
    {
     "data": {
      "text/plain": [
       "[('Opp', LabelBinarizer()),\n",
       " ('Career-Stage', LabelBinarizer()),\n",
       " ('PTS-Cat', LabelBinarizer())]"
      ]
     },
     "execution_count": 241,
     "metadata": {},
     "output_type": "execute_result"
    }
   ],
   "source": [
    "label_bins"
   ]
  },
  {
   "cell_type": "code",
   "execution_count": 242,
   "metadata": {},
   "outputs": [
    {
     "data": {
      "text/html": [
       "<div>\n",
       "<style scoped>\n",
       "    .dataframe tbody tr th:only-of-type {\n",
       "        vertical-align: middle;\n",
       "    }\n",
       "\n",
       "    .dataframe tbody tr th {\n",
       "        vertical-align: top;\n",
       "    }\n",
       "\n",
       "    .dataframe thead th {\n",
       "        text-align: right;\n",
       "    }\n",
       "</style>\n",
       "<table border=\"1\" class=\"dataframe\">\n",
       "  <thead>\n",
       "    <tr style=\"text-align: right;\">\n",
       "      <th></th>\n",
       "      <th>Opp</th>\n",
       "      <th>Career-Stage</th>\n",
       "      <th>PTS-Cat</th>\n",
       "    </tr>\n",
       "  </thead>\n",
       "  <tbody>\n",
       "    <tr>\n",
       "      <th>0</th>\n",
       "      <td>SAC</td>\n",
       "      <td>rising</td>\n",
       "      <td>below 35</td>\n",
       "    </tr>\n",
       "    <tr>\n",
       "      <th>1</th>\n",
       "      <td>PHO</td>\n",
       "      <td>rising</td>\n",
       "      <td>below 35</td>\n",
       "    </tr>\n",
       "    <tr>\n",
       "      <th>2</th>\n",
       "      <td>POR</td>\n",
       "      <td>rising</td>\n",
       "      <td>below 20</td>\n",
       "    </tr>\n",
       "    <tr>\n",
       "      <th>3</th>\n",
       "      <td>DEN</td>\n",
       "      <td>rising</td>\n",
       "      <td>below 20</td>\n",
       "    </tr>\n",
       "    <tr>\n",
       "      <th>4</th>\n",
       "      <td>IND</td>\n",
       "      <td>rising</td>\n",
       "      <td>below 35</td>\n",
       "    </tr>\n",
       "    <tr>\n",
       "      <th>...</th>\n",
       "      <td>...</td>\n",
       "      <td>...</td>\n",
       "      <td>...</td>\n",
       "    </tr>\n",
       "    <tr>\n",
       "      <th>1255</th>\n",
       "      <td>MIL</td>\n",
       "      <td>decline</td>\n",
       "      <td>above 35</td>\n",
       "    </tr>\n",
       "    <tr>\n",
       "      <th>1256</th>\n",
       "      <td>LAC</td>\n",
       "      <td>decline</td>\n",
       "      <td>below 35</td>\n",
       "    </tr>\n",
       "    <tr>\n",
       "      <th>1257</th>\n",
       "      <td>BRK</td>\n",
       "      <td>decline</td>\n",
       "      <td>below 35</td>\n",
       "    </tr>\n",
       "    <tr>\n",
       "      <th>1258</th>\n",
       "      <td>LAC</td>\n",
       "      <td>decline</td>\n",
       "      <td>below 20</td>\n",
       "    </tr>\n",
       "    <tr>\n",
       "      <th>1259</th>\n",
       "      <td>TOR</td>\n",
       "      <td>decline</td>\n",
       "      <td>below 35</td>\n",
       "    </tr>\n",
       "  </tbody>\n",
       "</table>\n",
       "<p>1260 rows × 3 columns</p>\n",
       "</div>"
      ],
      "text/plain": [
       "      Opp Career-Stage   PTS-Cat\n",
       "0     SAC       rising  below 35\n",
       "1     PHO       rising  below 35\n",
       "2     POR       rising  below 20\n",
       "3     DEN       rising  below 20\n",
       "4     IND       rising  below 35\n",
       "...   ...          ...       ...\n",
       "1255  MIL      decline  above 35\n",
       "1256  LAC      decline  below 35\n",
       "1257  BRK      decline  below 35\n",
       "1258  LAC      decline  below 20\n",
       "1259  TOR      decline  below 35\n",
       "\n",
       "[1260 rows x 3 columns]"
      ]
     },
     "execution_count": 242,
     "metadata": {},
     "output_type": "execute_result"
    }
   ],
   "source": [
    "sig_df.select_dtypes(include=[\"object\"])"
   ]
  },
  {
   "cell_type": "code",
   "execution_count": 243,
   "metadata": {},
   "outputs": [],
   "source": [
    "split = StratifiedShuffleSplit(n_splits=1,test_size=0.33)"
   ]
  },
  {
   "cell_type": "code",
   "execution_count": 244,
   "metadata": {},
   "outputs": [],
   "source": [
    "ml_models_performances = []\n",
    "ml_model_accuracies = []"
   ]
  },
  {
   "cell_type": "markdown",
   "metadata": {},
   "source": [
    "<h2>Perform Machine Learning with Opposition Team Feature Included</h2>"
   ]
  },
  {
   "cell_type": "code",
   "execution_count": 245,
   "metadata": {},
   "outputs": [],
   "source": [
    "std_scaler = StandardScaler()"
   ]
  },
  {
   "cell_type": "code",
   "execution_count": 246,
   "metadata": {},
   "outputs": [],
   "source": [
    "one_hot_encoded_sig_df = sig_df.select_dtypes(exclude=[\"object\"])"
   ]
  },
  {
   "cell_type": "code",
   "execution_count": 247,
   "metadata": {},
   "outputs": [
    {
     "data": {
      "text/plain": [
       "Index(['game_result', 'FG%', 'GmSc', 'TS%', 'GmSc-Per-PTS', 'PTS-Per-POSS',\n",
       "       'game_result-Per-PTS', 'PER', 'game_location', 'Won',\n",
       "       'High-3P%-Shooting', 'High-FG%-Shooting', 'Over-3-BLKs-and-STLs',\n",
       "       'Played-Above-Avg-Min', 'Above-Avg-FT%', 'Above-Avg-PTS-Per-POSS',\n",
       "       'More-BLKs-Than-STLs', 'More-AST-Than-TOV', '2P%-Above-50%',\n",
       "       'More than 3 Fouls', 'ATL', 'BOS', 'BRK', 'CHA', 'CHI', 'CHO', 'CLE',\n",
       "       'DAL', 'DEN', 'DET', 'GSW', 'HOU', 'IND', 'LAC', 'LAL', 'MEM', 'MIA',\n",
       "       'MIL', 'MIN', 'NJN', 'NOH', 'NOK', 'NOP', 'NYK', 'OKC', 'ORL', 'PHI',\n",
       "       'PHO', 'POR', 'SAC', 'SAS', 'SEA', 'TOR', 'UTA', 'WAS', 'decline',\n",
       "       'prime', 'rising', 'above 35', 'below 20', 'below 35'],\n",
       "      dtype='object')"
      ]
     },
     "execution_count": 247,
     "metadata": {},
     "output_type": "execute_result"
    }
   ],
   "source": [
    "one_hot_encoded_sig_df.columns"
   ]
  },
  {
   "cell_type": "code",
   "execution_count": 248,
   "metadata": {},
   "outputs": [],
   "source": [
    "std_scale_sig_data = std_scaler.fit_transform(one_hot_encoded_sig_df.values)"
   ]
  },
  {
   "cell_type": "code",
   "execution_count": 249,
   "metadata": {},
   "outputs": [],
   "source": [
    "std_scale_sig_df = pd.DataFrame(std_scale_sig_data,columns=one_hot_encoded_sig_df.columns)"
   ]
  },
  {
   "cell_type": "code",
   "execution_count": 250,
   "metadata": {},
   "outputs": [
    {
     "data": {
      "text/html": [
       "<div>\n",
       "<style scoped>\n",
       "    .dataframe tbody tr th:only-of-type {\n",
       "        vertical-align: middle;\n",
       "    }\n",
       "\n",
       "    .dataframe tbody tr th {\n",
       "        vertical-align: top;\n",
       "    }\n",
       "\n",
       "    .dataframe thead th {\n",
       "        text-align: right;\n",
       "    }\n",
       "</style>\n",
       "<table border=\"1\" class=\"dataframe\">\n",
       "  <thead>\n",
       "    <tr style=\"text-align: right;\">\n",
       "      <th></th>\n",
       "      <th>game_result</th>\n",
       "      <th>FG%</th>\n",
       "      <th>GmSc</th>\n",
       "      <th>TS%</th>\n",
       "      <th>GmSc-Per-PTS</th>\n",
       "      <th>PTS-Per-POSS</th>\n",
       "      <th>game_result-Per-PTS</th>\n",
       "      <th>PER</th>\n",
       "      <th>game_location</th>\n",
       "      <th>Won</th>\n",
       "      <th>...</th>\n",
       "      <th>SEA</th>\n",
       "      <th>TOR</th>\n",
       "      <th>UTA</th>\n",
       "      <th>WAS</th>\n",
       "      <th>decline</th>\n",
       "      <th>prime</th>\n",
       "      <th>rising</th>\n",
       "      <th>above 35</th>\n",
       "      <th>below 20</th>\n",
       "      <th>below 35</th>\n",
       "    </tr>\n",
       "  </thead>\n",
       "  <tbody>\n",
       "    <tr>\n",
       "      <th>0</th>\n",
       "      <td>-1.420272</td>\n",
       "      <td>0.846395</td>\n",
       "      <td>0.318334</td>\n",
       "      <td>0.027535</td>\n",
       "      <td>0.942241</td>\n",
       "      <td>0.480218</td>\n",
       "      <td>-1.126608</td>\n",
       "      <td>0.098135</td>\n",
       "      <td>-1.009570</td>\n",
       "      <td>-1.406671</td>\n",
       "      <td>...</td>\n",
       "      <td>-0.079936</td>\n",
       "      <td>-0.213643</td>\n",
       "      <td>-0.161427</td>\n",
       "      <td>-0.205387</td>\n",
       "      <td>-0.386827</td>\n",
       "      <td>-0.766095</td>\n",
       "      <td>1.0</td>\n",
       "      <td>-0.439525</td>\n",
       "      <td>-0.456129</td>\n",
       "      <td>0.708370</td>\n",
       "    </tr>\n",
       "    <tr>\n",
       "      <th>1</th>\n",
       "      <td>-1.035821</td>\n",
       "      <td>-0.304266</td>\n",
       "      <td>-0.975332</td>\n",
       "      <td>-0.576938</td>\n",
       "      <td>-0.652382</td>\n",
       "      <td>-1.059284</td>\n",
       "      <td>-0.920912</td>\n",
       "      <td>-1.119288</td>\n",
       "      <td>-1.009570</td>\n",
       "      <td>-1.406671</td>\n",
       "      <td>...</td>\n",
       "      <td>-0.079936</td>\n",
       "      <td>-0.213643</td>\n",
       "      <td>-0.161427</td>\n",
       "      <td>-0.205387</td>\n",
       "      <td>-0.386827</td>\n",
       "      <td>-0.766095</td>\n",
       "      <td>1.0</td>\n",
       "      <td>-0.439525</td>\n",
       "      <td>-0.456129</td>\n",
       "      <td>0.708370</td>\n",
       "    </tr>\n",
       "    <tr>\n",
       "      <th>2</th>\n",
       "      <td>-1.804724</td>\n",
       "      <td>-2.275553</td>\n",
       "      <td>-2.230188</td>\n",
       "      <td>-2.455923</td>\n",
       "      <td>-1.067648</td>\n",
       "      <td>-2.435320</td>\n",
       "      <td>-3.967223</td>\n",
       "      <td>-2.240462</td>\n",
       "      <td>-1.009570</td>\n",
       "      <td>-1.406671</td>\n",
       "      <td>...</td>\n",
       "      <td>-0.079936</td>\n",
       "      <td>-0.213643</td>\n",
       "      <td>-0.161427</td>\n",
       "      <td>-0.205387</td>\n",
       "      <td>-0.386827</td>\n",
       "      <td>-0.766095</td>\n",
       "      <td>1.0</td>\n",
       "      <td>-0.439525</td>\n",
       "      <td>2.192362</td>\n",
       "      <td>-1.411692</td>\n",
       "    </tr>\n",
       "    <tr>\n",
       "      <th>3</th>\n",
       "      <td>-0.651370</td>\n",
       "      <td>-2.070397</td>\n",
       "      <td>-1.428115</td>\n",
       "      <td>-2.490924</td>\n",
       "      <td>4.330813</td>\n",
       "      <td>-2.094377</td>\n",
       "      <td>-1.144495</td>\n",
       "      <td>-1.473457</td>\n",
       "      <td>0.990521</td>\n",
       "      <td>-1.406671</td>\n",
       "      <td>...</td>\n",
       "      <td>-0.079936</td>\n",
       "      <td>-0.213643</td>\n",
       "      <td>-0.161427</td>\n",
       "      <td>-0.205387</td>\n",
       "      <td>-0.386827</td>\n",
       "      <td>-0.766095</td>\n",
       "      <td>1.0</td>\n",
       "      <td>-0.439525</td>\n",
       "      <td>2.192362</td>\n",
       "      <td>-1.411692</td>\n",
       "    </tr>\n",
       "    <tr>\n",
       "      <th>4</th>\n",
       "      <td>-0.420699</td>\n",
       "      <td>-0.545102</td>\n",
       "      <td>-1.712722</td>\n",
       "      <td>-0.371893</td>\n",
       "      <td>-2.361593</td>\n",
       "      <td>-1.142999</td>\n",
       "      <td>-0.318212</td>\n",
       "      <td>-1.924908</td>\n",
       "      <td>-1.009570</td>\n",
       "      <td>-1.406671</td>\n",
       "      <td>...</td>\n",
       "      <td>-0.079936</td>\n",
       "      <td>-0.213643</td>\n",
       "      <td>-0.161427</td>\n",
       "      <td>-0.205387</td>\n",
       "      <td>-0.386827</td>\n",
       "      <td>-0.766095</td>\n",
       "      <td>1.0</td>\n",
       "      <td>-0.439525</td>\n",
       "      <td>-0.456129</td>\n",
       "      <td>0.708370</td>\n",
       "    </tr>\n",
       "  </tbody>\n",
       "</table>\n",
       "<p>5 rows × 61 columns</p>\n",
       "</div>"
      ],
      "text/plain": [
       "   game_result       FG%      GmSc       TS%  GmSc-Per-PTS  PTS-Per-POSS  \\\n",
       "0    -1.420272  0.846395  0.318334  0.027535      0.942241      0.480218   \n",
       "1    -1.035821 -0.304266 -0.975332 -0.576938     -0.652382     -1.059284   \n",
       "2    -1.804724 -2.275553 -2.230188 -2.455923     -1.067648     -2.435320   \n",
       "3    -0.651370 -2.070397 -1.428115 -2.490924      4.330813     -2.094377   \n",
       "4    -0.420699 -0.545102 -1.712722 -0.371893     -2.361593     -1.142999   \n",
       "\n",
       "   game_result-Per-PTS       PER  game_location       Won  ...       SEA  \\\n",
       "0            -1.126608  0.098135      -1.009570 -1.406671  ... -0.079936   \n",
       "1            -0.920912 -1.119288      -1.009570 -1.406671  ... -0.079936   \n",
       "2            -3.967223 -2.240462      -1.009570 -1.406671  ... -0.079936   \n",
       "3            -1.144495 -1.473457       0.990521 -1.406671  ... -0.079936   \n",
       "4            -0.318212 -1.924908      -1.009570 -1.406671  ... -0.079936   \n",
       "\n",
       "        TOR       UTA       WAS   decline     prime  rising  above 35  \\\n",
       "0 -0.213643 -0.161427 -0.205387 -0.386827 -0.766095     1.0 -0.439525   \n",
       "1 -0.213643 -0.161427 -0.205387 -0.386827 -0.766095     1.0 -0.439525   \n",
       "2 -0.213643 -0.161427 -0.205387 -0.386827 -0.766095     1.0 -0.439525   \n",
       "3 -0.213643 -0.161427 -0.205387 -0.386827 -0.766095     1.0 -0.439525   \n",
       "4 -0.213643 -0.161427 -0.205387 -0.386827 -0.766095     1.0 -0.439525   \n",
       "\n",
       "   below 20  below 35  \n",
       "0 -0.456129  0.708370  \n",
       "1 -0.456129  0.708370  \n",
       "2  2.192362 -1.411692  \n",
       "3  2.192362 -1.411692  \n",
       "4 -0.456129  0.708370  \n",
       "\n",
       "[5 rows x 61 columns]"
      ]
     },
     "execution_count": 250,
     "metadata": {},
     "output_type": "execute_result"
    }
   ],
   "source": [
    "std_scale_sig_df.head()"
   ]
  },
  {
   "cell_type": "code",
   "execution_count": 251,
   "metadata": {},
   "outputs": [
    {
     "name": "stdout",
     "output_type": "stream",
     "text": [
      "There are 61 columns\n"
     ]
    },
    {
     "data": {
      "text/plain": [
       "Index(['game_result', 'FG%', 'GmSc', 'TS%', 'GmSc-Per-PTS', 'PTS-Per-POSS',\n",
       "       'game_result-Per-PTS', 'PER', 'game_location', 'Won',\n",
       "       'High-3P%-Shooting', 'High-FG%-Shooting', 'Over-3-BLKs-and-STLs',\n",
       "       'Played-Above-Avg-Min', 'Above-Avg-FT%', 'Above-Avg-PTS-Per-POSS',\n",
       "       'More-BLKs-Than-STLs', 'More-AST-Than-TOV', '2P%-Above-50%',\n",
       "       'More than 3 Fouls', 'ATL', 'BOS', 'BRK', 'CHA', 'CHI', 'CHO', 'CLE',\n",
       "       'DAL', 'DEN', 'DET', 'GSW', 'HOU', 'IND', 'LAC', 'LAL', 'MEM', 'MIA',\n",
       "       'MIL', 'MIN', 'NJN', 'NOH', 'NOK', 'NOP', 'NYK', 'OKC', 'ORL', 'PHI',\n",
       "       'PHO', 'POR', 'SAC', 'SAS', 'SEA', 'TOR', 'UTA', 'WAS', 'decline',\n",
       "       'prime', 'rising', 'above 35', 'below 20', 'below 35'],\n",
       "      dtype='object')"
      ]
     },
     "execution_count": 251,
     "metadata": {},
     "output_type": "execute_result"
    }
   ],
   "source": [
    "print(f\"There are {len(std_scale_sig_df.columns)} columns\")\n",
    "std_scale_sig_df.columns"
   ]
  },
  {
   "cell_type": "code",
   "execution_count": 252,
   "metadata": {
    "scrolled": false
   },
   "outputs": [],
   "source": [
    "X, y = std_scale_sig_df.values, target"
   ]
  },
  {
   "cell_type": "code",
   "execution_count": 253,
   "metadata": {},
   "outputs": [],
   "source": [
    "X_train, X_test, y_train, y_test = train_test_split(X,y,test_size=0.33)"
   ]
  },
  {
   "cell_type": "markdown",
   "metadata": {},
   "source": [
    "<h4>Linear Regression</h4>"
   ]
  },
  {
   "cell_type": "code",
   "execution_count": 254,
   "metadata": {},
   "outputs": [],
   "source": [
    "ln = LinearRegression()"
   ]
  },
  {
   "cell_type": "code",
   "execution_count": 255,
   "metadata": {},
   "outputs": [
    {
     "data": {
      "text/plain": [
       "LinearRegression()"
      ]
     },
     "execution_count": 255,
     "metadata": {},
     "output_type": "execute_result"
    }
   ],
   "source": [
    "ln.fit(X_train,y_train)"
   ]
  },
  {
   "cell_type": "code",
   "execution_count": 256,
   "metadata": {},
   "outputs": [],
   "source": [
    "y_pred = ln.predict(X_test)"
   ]
  },
  {
   "cell_type": "code",
   "execution_count": 257,
   "metadata": {},
   "outputs": [
    {
     "name": "stdout",
     "output_type": "stream",
     "text": [
      "The root mean squared error for linear regression is 7.07 points\n"
     ]
    }
   ],
   "source": [
    "rmse = mean_squared_error(y_test,y_pred,squared=False)\n",
    "print(f\"The root mean squared error for linear regression is {round(rmse,2)} points\")"
   ]
  },
  {
   "cell_type": "code",
   "execution_count": 258,
   "metadata": {},
   "outputs": [
    {
     "name": "stdout",
     "output_type": "stream",
     "text": [
      "The accuracy for linear regression is 67.0197%\n"
     ]
    }
   ],
   "source": [
    "score = ln.score(X_test,y_test) * 100\n",
    "print(f\"The accuracy for linear regression is {round(score,4)}%\")"
   ]
  },
  {
   "cell_type": "code",
   "execution_count": 259,
   "metadata": {},
   "outputs": [],
   "source": [
    "ml_performance = (\"lin_reg_w_opp_teams_w/out_pca\",rmse)\n",
    "ml_accuracy = (\"lin_reg_w_opp_teams_w/out_pca\",score)"
   ]
  },
  {
   "cell_type": "code",
   "execution_count": 260,
   "metadata": {},
   "outputs": [],
   "source": [
    "ml_models_performances.append(ml_performance)\n",
    "ml_model_accuracies.append(ml_accuracy)"
   ]
  },
  {
   "cell_type": "markdown",
   "metadata": {},
   "source": [
    "<h4>SGD Regression</h4>"
   ]
  },
  {
   "cell_type": "code",
   "execution_count": 261,
   "metadata": {},
   "outputs": [],
   "source": [
    "sgd_param_grid = [\n",
    "    {\n",
    "        \"loss\":[\"squared_loss\",\"huber\",\"epsilon_insensitive\",\"squared_epsilon_insensitive\"],\n",
    "        \"epsilon\":[0.1,0.01,0.001]\n",
    "    }\n",
    "]"
   ]
  },
  {
   "cell_type": "code",
   "execution_count": 262,
   "metadata": {},
   "outputs": [],
   "source": [
    "sgd_grid_search = GridSearchCV(SGDRegressor(),sgd_param_grid,cv=5,scoring=\"neg_root_mean_squared_error\",n_jobs=-1)"
   ]
  },
  {
   "cell_type": "code",
   "execution_count": 263,
   "metadata": {},
   "outputs": [
    {
     "data": {
      "text/plain": [
       "GridSearchCV(cv=5, estimator=SGDRegressor(), n_jobs=-1,\n",
       "             param_grid=[{'epsilon': [0.1, 0.01, 0.001],\n",
       "                          'loss': ['squared_loss', 'huber',\n",
       "                                   'epsilon_insensitive',\n",
       "                                   'squared_epsilon_insensitive']}],\n",
       "             scoring='neg_root_mean_squared_error')"
      ]
     },
     "execution_count": 263,
     "metadata": {},
     "output_type": "execute_result"
    }
   ],
   "source": [
    "sgd_grid_search.fit(X_train,y_train)"
   ]
  },
  {
   "cell_type": "code",
   "execution_count": 264,
   "metadata": {},
   "outputs": [
    {
     "data": {
      "text/plain": [
       "{'epsilon': 0.1, 'loss': 'squared_loss'}"
      ]
     },
     "execution_count": 264,
     "metadata": {},
     "output_type": "execute_result"
    }
   ],
   "source": [
    "sgd_grid_search.best_params_"
   ]
  },
  {
   "cell_type": "code",
   "execution_count": 265,
   "metadata": {},
   "outputs": [],
   "source": [
    "best_sgd_reg = sgd_grid_search.best_estimator_"
   ]
  },
  {
   "cell_type": "code",
   "execution_count": 266,
   "metadata": {},
   "outputs": [],
   "source": [
    "y_pred = best_sgd_reg.predict(X_test)"
   ]
  },
  {
   "cell_type": "code",
   "execution_count": 267,
   "metadata": {},
   "outputs": [
    {
     "name": "stdout",
     "output_type": "stream",
     "text": [
      "The root mean squared error for SGD regression is 7.07 points\n"
     ]
    }
   ],
   "source": [
    "rmse = mean_squared_error(y_test,y_pred,squared=False)\n",
    "print(f\"The root mean squared error for SGD regression is {round(rmse,2)} points\")"
   ]
  },
  {
   "cell_type": "code",
   "execution_count": 268,
   "metadata": {},
   "outputs": [
    {
     "name": "stdout",
     "output_type": "stream",
     "text": [
      "The accuracy for sgd regression is 67.0274%\n"
     ]
    }
   ],
   "source": [
    "score = best_sgd_reg.score(X_test,y_test) * 100\n",
    "print(f\"The accuracy for sgd regression is {round(score,4)}%\")"
   ]
  },
  {
   "cell_type": "code",
   "execution_count": 269,
   "metadata": {},
   "outputs": [],
   "source": [
    "ml_performance = (\"sgd_reg_w_opp_teams_w/out_pca\",rmse)\n",
    "ml_accuracy = (\"sgd_reg_w_opp_teams_w/out_pca\",score)"
   ]
  },
  {
   "cell_type": "code",
   "execution_count": 270,
   "metadata": {},
   "outputs": [],
   "source": [
    "ml_models_performances.append(ml_performance)\n",
    "ml_model_accuracies.append(ml_accuracy)"
   ]
  },
  {
   "cell_type": "markdown",
   "metadata": {},
   "source": [
    "<h4>Random Forest Regression</h4>"
   ]
  },
  {
   "cell_type": "code",
   "execution_count": 271,
   "metadata": {},
   "outputs": [],
   "source": [
    "rand_forest_param_grid = [\n",
    "    {\n",
    "        \"n_estimators\":[50,100,500],\n",
    "        \"criterion\":[\"mse\",\"mae\"]\n",
    "    }\n",
    "]"
   ]
  },
  {
   "cell_type": "code",
   "execution_count": 272,
   "metadata": {},
   "outputs": [],
   "source": [
    "rand_forest_grid_search = GridSearchCV(RandomForestRegressor(),rand_forest_param_grid,cv=5,scoring=\"neg_root_mean_squared_error\",n_jobs=-1)"
   ]
  },
  {
   "cell_type": "code",
   "execution_count": 273,
   "metadata": {},
   "outputs": [
    {
     "data": {
      "text/plain": [
       "GridSearchCV(cv=5, estimator=RandomForestRegressor(), n_jobs=-1,\n",
       "             param_grid=[{'criterion': ['mse', 'mae'],\n",
       "                          'n_estimators': [50, 100, 500]}],\n",
       "             scoring='neg_root_mean_squared_error')"
      ]
     },
     "execution_count": 273,
     "metadata": {},
     "output_type": "execute_result"
    }
   ],
   "source": [
    "rand_forest_grid_search.fit(X_train,y_train)"
   ]
  },
  {
   "cell_type": "code",
   "execution_count": 274,
   "metadata": {},
   "outputs": [
    {
     "data": {
      "text/plain": [
       "{'criterion': 'mae', 'n_estimators': 500}"
      ]
     },
     "execution_count": 274,
     "metadata": {},
     "output_type": "execute_result"
    }
   ],
   "source": [
    "rand_forest_grid_search.best_params_"
   ]
  },
  {
   "cell_type": "code",
   "execution_count": 275,
   "metadata": {},
   "outputs": [],
   "source": [
    "best_rand_forest_reg = rand_forest_grid_search.best_estimator_"
   ]
  },
  {
   "cell_type": "code",
   "execution_count": 276,
   "metadata": {},
   "outputs": [],
   "source": [
    "y_pred = best_rand_forest_reg.predict(X_test)"
   ]
  },
  {
   "cell_type": "code",
   "execution_count": 277,
   "metadata": {},
   "outputs": [
    {
     "name": "stdout",
     "output_type": "stream",
     "text": [
      "The root mean squared error for SGD regression is 6.93 points\n"
     ]
    }
   ],
   "source": [
    "rmse = mean_squared_error(y_test,y_pred,squared=False)\n",
    "print(f\"The root mean squared error for SGD regression is {round(rmse,2)} points\")"
   ]
  },
  {
   "cell_type": "code",
   "execution_count": 278,
   "metadata": {},
   "outputs": [
    {
     "name": "stdout",
     "output_type": "stream",
     "text": [
      "The accuracy for random forest regression is 68.2621%\n"
     ]
    }
   ],
   "source": [
    "score = best_rand_forest_reg.score(X_test,y_test) * 100\n",
    "print(f\"The accuracy for random forest regression is {round(score,4)}%\")"
   ]
  },
  {
   "cell_type": "code",
   "execution_count": 279,
   "metadata": {},
   "outputs": [],
   "source": [
    "ml_performance = (\"rand_forest_reg_w_opp_teams_w/out_pca\",rmse)\n",
    "ml_accuracy = (\"rand_forest_reg_w_opp_teams_w/out_pca\",score)"
   ]
  },
  {
   "cell_type": "code",
   "execution_count": 280,
   "metadata": {},
   "outputs": [],
   "source": [
    "ml_models_performances.append(ml_performance)\n",
    "ml_model_accuracies.append(ml_accuracy)"
   ]
  },
  {
   "cell_type": "markdown",
   "metadata": {},
   "source": [
    "<h4>Elastic Net Regression</h4>"
   ]
  },
  {
   "cell_type": "code",
   "execution_count": 281,
   "metadata": {},
   "outputs": [],
   "source": [
    "elastic_net_param_grid = [\n",
    "    {\n",
    "        \"l1_ratio\":[0.25,0.5,0.75]\n",
    "    }\n",
    "]"
   ]
  },
  {
   "cell_type": "code",
   "execution_count": 282,
   "metadata": {},
   "outputs": [],
   "source": [
    "elastic_net_grid_search = GridSearchCV(ElasticNet(),elastic_net_param_grid,cv=5,scoring=\"neg_root_mean_squared_error\",n_jobs=-1)"
   ]
  },
  {
   "cell_type": "code",
   "execution_count": 283,
   "metadata": {},
   "outputs": [
    {
     "data": {
      "text/plain": [
       "GridSearchCV(cv=5, estimator=ElasticNet(), n_jobs=-1,\n",
       "             param_grid=[{'l1_ratio': [0.25, 0.5, 0.75]}],\n",
       "             scoring='neg_root_mean_squared_error')"
      ]
     },
     "execution_count": 283,
     "metadata": {},
     "output_type": "execute_result"
    }
   ],
   "source": [
    "elastic_net_grid_search.fit(X_train,y_train)"
   ]
  },
  {
   "cell_type": "code",
   "execution_count": 284,
   "metadata": {},
   "outputs": [
    {
     "data": {
      "text/plain": [
       "{'l1_ratio': 0.75}"
      ]
     },
     "execution_count": 284,
     "metadata": {},
     "output_type": "execute_result"
    }
   ],
   "source": [
    "elastic_net_grid_search.best_params_"
   ]
  },
  {
   "cell_type": "code",
   "execution_count": 285,
   "metadata": {},
   "outputs": [],
   "source": [
    "best_elastic_net_reg = elastic_net_grid_search.best_estimator_"
   ]
  },
  {
   "cell_type": "code",
   "execution_count": 286,
   "metadata": {},
   "outputs": [],
   "source": [
    "y_pred = best_elastic_net_reg.predict(X_test)"
   ]
  },
  {
   "cell_type": "code",
   "execution_count": 287,
   "metadata": {},
   "outputs": [
    {
     "name": "stdout",
     "output_type": "stream",
     "text": [
      "The root mean squared error for Elastic Net regression is 6.9 points\n"
     ]
    }
   ],
   "source": [
    "rmse = mean_squared_error(y_test,y_pred,squared=False)\n",
    "print(f\"The root mean squared error for Elastic Net regression is {round(rmse,2)} points\")"
   ]
  },
  {
   "cell_type": "code",
   "execution_count": 288,
   "metadata": {},
   "outputs": [
    {
     "name": "stdout",
     "output_type": "stream",
     "text": [
      "The accuracy for elastic net regression is 68.5711%\n"
     ]
    }
   ],
   "source": [
    "score = best_elastic_net_reg.score(X_test,y_test) * 100\n",
    "print(f\"The accuracy for elastic net regression is {round(score,4)}%\")"
   ]
  },
  {
   "cell_type": "code",
   "execution_count": 289,
   "metadata": {},
   "outputs": [],
   "source": [
    "ml_performance = (\"elastic_net_reg_w_opp_teams_w/out_pca\",rmse)\n",
    "ml_accuracy = (\"elastic_net_reg_w_opp_teams_w/out_pca\",score)"
   ]
  },
  {
   "cell_type": "code",
   "execution_count": 290,
   "metadata": {},
   "outputs": [],
   "source": [
    "ml_models_performances.append(ml_performance)\n",
    "ml_model_accuracies.append(ml_accuracy)"
   ]
  },
  {
   "cell_type": "markdown",
   "metadata": {},
   "source": [
    "<h3>Perform PCA to see if there is any performance improvements</h3>"
   ]
  },
  {
   "cell_type": "code",
   "execution_count": 291,
   "metadata": {},
   "outputs": [],
   "source": [
    "pca = PCA()"
   ]
  },
  {
   "cell_type": "code",
   "execution_count": 292,
   "metadata": {},
   "outputs": [
    {
     "data": {
      "text/plain": [
       "array([[ 1.22980724e+01, -1.40787345e+01,  2.42832188e-01, ...,\n",
       "        -6.90215163e-15, -3.20754327e-15,  6.21976989e-16],\n",
       "       [ 1.91805886e+01,  1.15836357e+00, -1.02894998e-01, ...,\n",
       "        -5.37548508e-15,  2.84616663e-15,  3.73714869e-16],\n",
       "       [ 3.66022808e+01,  5.70160028e+00,  1.21759167e+00, ...,\n",
       "         8.65901084e-15, -1.50315547e-15, -2.67354734e-15],\n",
       "       ...,\n",
       "       [-2.94536778e-02, -9.42423770e+00,  3.17168525e+00, ...,\n",
       "         2.48691146e-16,  4.29883964e-16, -1.64573798e-16],\n",
       "       [ 1.52195511e+01,  1.34507127e+01,  4.33292335e-01, ...,\n",
       "         1.10134257e-15, -7.19467988e-16,  7.15628363e-17],\n",
       "       [ 2.22283309e+01, -4.13636504e+00,  2.64395164e+00, ...,\n",
       "         5.91824373e-17, -7.99715897e-16,  6.07131875e-17]])"
      ]
     },
     "execution_count": 292,
     "metadata": {},
     "output_type": "execute_result"
    }
   ],
   "source": [
    "pca.fit_transform(one_hot_encoded_sig_df.values)"
   ]
  },
  {
   "cell_type": "code",
   "execution_count": 293,
   "metadata": {},
   "outputs": [
    {
     "data": {
      "text/plain": [
       "0.9999999999999999"
      ]
     },
     "execution_count": 293,
     "metadata": {},
     "output_type": "execute_result"
    }
   ],
   "source": [
    "sum(pca.explained_variance_ratio_)"
   ]
  },
  {
   "cell_type": "code",
   "execution_count": 294,
   "metadata": {},
   "outputs": [],
   "source": [
    "cum_sum = np.cumsum(pca.explained_variance_ratio_)"
   ]
  },
  {
   "cell_type": "code",
   "execution_count": 295,
   "metadata": {},
   "outputs": [],
   "source": [
    "max_comp_idx = np.argmax(cum_sum>0.95)"
   ]
  },
  {
   "cell_type": "code",
   "execution_count": 296,
   "metadata": {},
   "outputs": [],
   "source": [
    "pca = PCA(n_components=max_comp_idx+1)"
   ]
  },
  {
   "cell_type": "code",
   "execution_count": 297,
   "metadata": {},
   "outputs": [],
   "source": [
    "pca_transformed_sig_data = pca.fit_transform(one_hot_encoded_sig_df.values)"
   ]
  },
  {
   "cell_type": "code",
   "execution_count": 298,
   "metadata": {},
   "outputs": [],
   "source": [
    "X, y = pca_transformed_sig_data, target"
   ]
  },
  {
   "cell_type": "code",
   "execution_count": 299,
   "metadata": {},
   "outputs": [],
   "source": [
    "X_train, X_test, y_train, y_test = train_test_split(X,y, test_size=0.33, random_state=42)"
   ]
  },
  {
   "cell_type": "markdown",
   "metadata": {},
   "source": [
    "<h4>Linear Regression</h4>"
   ]
  },
  {
   "cell_type": "code",
   "execution_count": 300,
   "metadata": {},
   "outputs": [],
   "source": [
    "ln = LinearRegression()"
   ]
  },
  {
   "cell_type": "code",
   "execution_count": 301,
   "metadata": {},
   "outputs": [
    {
     "data": {
      "text/plain": [
       "LinearRegression()"
      ]
     },
     "execution_count": 301,
     "metadata": {},
     "output_type": "execute_result"
    }
   ],
   "source": [
    "ln.fit(X_train,y_train)"
   ]
  },
  {
   "cell_type": "code",
   "execution_count": 302,
   "metadata": {},
   "outputs": [],
   "source": [
    "y_pred = ln.predict(X_test)"
   ]
  },
  {
   "cell_type": "code",
   "execution_count": 303,
   "metadata": {},
   "outputs": [
    {
     "name": "stdout",
     "output_type": "stream",
     "text": [
      "The root mean squared error for linear regression is 6.68 points\n"
     ]
    }
   ],
   "source": [
    "rmse = mean_squared_error(y_test,y_pred,squared=False)\n",
    "print(f\"The root mean squared error for linear regression is {round(rmse,2)} points\")"
   ]
  },
  {
   "cell_type": "code",
   "execution_count": 304,
   "metadata": {},
   "outputs": [
    {
     "name": "stdout",
     "output_type": "stream",
     "text": [
      "The accuracy for linear regression is 0.7349%\n"
     ]
    }
   ],
   "source": [
    "score = ln.score(X_test,y_test)\n",
    "print(f\"The accuracy for linear regression is {round(score,4)}%\")"
   ]
  },
  {
   "cell_type": "code",
   "execution_count": 305,
   "metadata": {},
   "outputs": [],
   "source": [
    "ml_performance = (\"lin_reg_w_opp_teams_w_pca\",rmse)\n",
    "ml_accuracy = (\"lin_reg_w_opp_teams_w_pca\",score)"
   ]
  },
  {
   "cell_type": "code",
   "execution_count": 306,
   "metadata": {},
   "outputs": [],
   "source": [
    "ml_models_performances.append(ml_performance)\n",
    "ml_model_accuracies.append(ml_accuracy)"
   ]
  },
  {
   "cell_type": "markdown",
   "metadata": {},
   "source": [
    "<h4>SGD Regression</h4>"
   ]
  },
  {
   "cell_type": "code",
   "execution_count": 307,
   "metadata": {},
   "outputs": [],
   "source": [
    "sgd_param_grid = [\n",
    "    {\n",
    "        \"loss\":[\"squared_loss\",\"huber\",\"epsilon_insensitive\",\"squared_epsilon_insensitive\"],\n",
    "        \"epsilon\":[0.1,0.01,0.001]\n",
    "    }\n",
    "]"
   ]
  },
  {
   "cell_type": "code",
   "execution_count": 308,
   "metadata": {},
   "outputs": [],
   "source": [
    "sgd_grid_search = GridSearchCV(SGDRegressor(),sgd_param_grid,cv=5,scoring=\"neg_root_mean_squared_error\",n_jobs=-1)"
   ]
  },
  {
   "cell_type": "code",
   "execution_count": 309,
   "metadata": {},
   "outputs": [
    {
     "data": {
      "text/plain": [
       "GridSearchCV(cv=5, estimator=SGDRegressor(), n_jobs=-1,\n",
       "             param_grid=[{'epsilon': [0.1, 0.01, 0.001],\n",
       "                          'loss': ['squared_loss', 'huber',\n",
       "                                   'epsilon_insensitive',\n",
       "                                   'squared_epsilon_insensitive']}],\n",
       "             scoring='neg_root_mean_squared_error')"
      ]
     },
     "execution_count": 309,
     "metadata": {},
     "output_type": "execute_result"
    }
   ],
   "source": [
    "sgd_grid_search.fit(X_train,y_train)"
   ]
  },
  {
   "cell_type": "code",
   "execution_count": 310,
   "metadata": {},
   "outputs": [
    {
     "data": {
      "text/plain": [
       "{'epsilon': 0.1, 'loss': 'epsilon_insensitive'}"
      ]
     },
     "execution_count": 310,
     "metadata": {},
     "output_type": "execute_result"
    }
   ],
   "source": [
    "sgd_grid_search.best_params_"
   ]
  },
  {
   "cell_type": "code",
   "execution_count": 311,
   "metadata": {},
   "outputs": [],
   "source": [
    "best_sgd_reg = sgd_grid_search.best_estimator_"
   ]
  },
  {
   "cell_type": "code",
   "execution_count": 312,
   "metadata": {},
   "outputs": [],
   "source": [
    "y_pred = best_sgd_reg.predict(X_test)"
   ]
  },
  {
   "cell_type": "code",
   "execution_count": 313,
   "metadata": {},
   "outputs": [
    {
     "name": "stdout",
     "output_type": "stream",
     "text": [
      "The root mean squared error for SGD regression is 6.72 points\n"
     ]
    }
   ],
   "source": [
    "rmse = mean_squared_error(y_test,y_pred,squared=False)\n",
    "print(f\"The root mean squared error for SGD regression is {round(rmse,2)} points\")"
   ]
  },
  {
   "cell_type": "code",
   "execution_count": 314,
   "metadata": {},
   "outputs": [
    {
     "name": "stdout",
     "output_type": "stream",
     "text": [
      "The accuracy for sgd regression is 73.1672%\n"
     ]
    }
   ],
   "source": [
    "score = best_sgd_reg.score(X_test,y_test) * 100\n",
    "print(f\"The accuracy for sgd regression is {round(score,4)}%\")"
   ]
  },
  {
   "cell_type": "code",
   "execution_count": 315,
   "metadata": {},
   "outputs": [],
   "source": [
    "ml_performance = (\"sgd_reg_w_opp_teams_w_pca\",rmse)\n",
    "ml_accuracy = (\"sgd_reg_w_opp_teams_w_pca\",score)"
   ]
  },
  {
   "cell_type": "code",
   "execution_count": 316,
   "metadata": {},
   "outputs": [],
   "source": [
    "ml_models_performances.append(ml_performance)\n",
    "ml_model_accuracies.append(ml_accuracy)"
   ]
  },
  {
   "cell_type": "markdown",
   "metadata": {},
   "source": [
    "<h4>Random Forest Regression</h4>"
   ]
  },
  {
   "cell_type": "code",
   "execution_count": 317,
   "metadata": {},
   "outputs": [],
   "source": [
    "rand_forest_param_grid = [\n",
    "    {\n",
    "        \"n_estimators\":[50,100,500],\n",
    "        \"criterion\":[\"mse\",\"mae\"]\n",
    "    }\n",
    "]"
   ]
  },
  {
   "cell_type": "code",
   "execution_count": 318,
   "metadata": {},
   "outputs": [],
   "source": [
    "rand_forest_grid_search = GridSearchCV(RandomForestRegressor(),rand_forest_param_grid,cv=5,scoring=\"neg_root_mean_squared_error\",n_jobs=-1)"
   ]
  },
  {
   "cell_type": "code",
   "execution_count": 319,
   "metadata": {},
   "outputs": [
    {
     "data": {
      "text/plain": [
       "GridSearchCV(cv=5, estimator=RandomForestRegressor(), n_jobs=-1,\n",
       "             param_grid=[{'criterion': ['mse', 'mae'],\n",
       "                          'n_estimators': [50, 100, 500]}],\n",
       "             scoring='neg_root_mean_squared_error')"
      ]
     },
     "execution_count": 319,
     "metadata": {},
     "output_type": "execute_result"
    }
   ],
   "source": [
    "rand_forest_grid_search.fit(X_train,y_train)"
   ]
  },
  {
   "cell_type": "code",
   "execution_count": 320,
   "metadata": {},
   "outputs": [
    {
     "data": {
      "text/plain": [
       "{'criterion': 'mae', 'n_estimators': 100}"
      ]
     },
     "execution_count": 320,
     "metadata": {},
     "output_type": "execute_result"
    }
   ],
   "source": [
    "rand_forest_grid_search.best_params_"
   ]
  },
  {
   "cell_type": "code",
   "execution_count": 321,
   "metadata": {},
   "outputs": [],
   "source": [
    "best_rand_forest_reg = rand_forest_grid_search.best_estimator_"
   ]
  },
  {
   "cell_type": "code",
   "execution_count": 322,
   "metadata": {},
   "outputs": [],
   "source": [
    "y_pred = best_rand_forest_reg.predict(X_test)"
   ]
  },
  {
   "cell_type": "code",
   "execution_count": 323,
   "metadata": {},
   "outputs": [
    {
     "name": "stdout",
     "output_type": "stream",
     "text": [
      "The root mean squared error for SGD regression is 7.4 points\n"
     ]
    }
   ],
   "source": [
    "rmse = mean_squared_error(y_test,y_pred,squared=False)\n",
    "print(f\"The root mean squared error for SGD regression is {round(rmse,2)} points\")"
   ]
  },
  {
   "cell_type": "code",
   "execution_count": 324,
   "metadata": {},
   "outputs": [
    {
     "name": "stdout",
     "output_type": "stream",
     "text": [
      "The accuracy for random forest regression is 67.5109%\n"
     ]
    }
   ],
   "source": [
    "score = best_rand_forest_reg.score(X_test,y_test) * 100\n",
    "print(f\"The accuracy for random forest regression is {round(score,4)}%\")"
   ]
  },
  {
   "cell_type": "code",
   "execution_count": 325,
   "metadata": {},
   "outputs": [],
   "source": [
    "ml_performance = (\"rand_forest_reg_w_opp_teams_w_pca\",rmse)\n",
    "ml_accuracy = (\"rand_forest_reg_w_opp_teams_w_pca\",score)"
   ]
  },
  {
   "cell_type": "code",
   "execution_count": 326,
   "metadata": {},
   "outputs": [],
   "source": [
    "ml_models_performances.append(ml_performance)\n",
    "ml_model_accuracies.append(ml_accuracy)"
   ]
  },
  {
   "cell_type": "markdown",
   "metadata": {},
   "source": [
    "<h4>Elastic Net Regression</h4>"
   ]
  },
  {
   "cell_type": "code",
   "execution_count": 327,
   "metadata": {},
   "outputs": [],
   "source": [
    "elastic_net_param_grid = [\n",
    "    {\n",
    "        \"l1_ratio\":[0.25,0.5,0.75]\n",
    "    }\n",
    "]"
   ]
  },
  {
   "cell_type": "code",
   "execution_count": 328,
   "metadata": {},
   "outputs": [],
   "source": [
    "elastic_net_grid_search = GridSearchCV(ElasticNet(),elastic_net_param_grid,cv=5,scoring=\"neg_root_mean_squared_error\",n_jobs=-1)"
   ]
  },
  {
   "cell_type": "code",
   "execution_count": 329,
   "metadata": {},
   "outputs": [
    {
     "data": {
      "text/plain": [
       "GridSearchCV(cv=5, estimator=ElasticNet(), n_jobs=-1,\n",
       "             param_grid=[{'l1_ratio': [0.25, 0.5, 0.75]}],\n",
       "             scoring='neg_root_mean_squared_error')"
      ]
     },
     "execution_count": 329,
     "metadata": {},
     "output_type": "execute_result"
    }
   ],
   "source": [
    "elastic_net_grid_search.fit(X_train,y_train)"
   ]
  },
  {
   "cell_type": "code",
   "execution_count": 330,
   "metadata": {},
   "outputs": [
    {
     "data": {
      "text/plain": [
       "{'l1_ratio': 0.25}"
      ]
     },
     "execution_count": 330,
     "metadata": {},
     "output_type": "execute_result"
    }
   ],
   "source": [
    "elastic_net_grid_search.best_params_"
   ]
  },
  {
   "cell_type": "code",
   "execution_count": 331,
   "metadata": {},
   "outputs": [],
   "source": [
    "best_elastic_net_reg = elastic_net_grid_search.best_estimator_"
   ]
  },
  {
   "cell_type": "code",
   "execution_count": 332,
   "metadata": {},
   "outputs": [],
   "source": [
    "y_pred = best_elastic_net_reg.predict(X_test)"
   ]
  },
  {
   "cell_type": "code",
   "execution_count": 333,
   "metadata": {},
   "outputs": [
    {
     "name": "stdout",
     "output_type": "stream",
     "text": [
      "The root mean squared error for Elastic Net regression is 6.69 points\n"
     ]
    }
   ],
   "source": [
    "rmse = mean_squared_error(y_test,y_pred,squared=False)\n",
    "print(f\"The root mean squared error for Elastic Net regression is {round(rmse,2)} points\")"
   ]
  },
  {
   "cell_type": "code",
   "execution_count": 334,
   "metadata": {},
   "outputs": [
    {
     "name": "stdout",
     "output_type": "stream",
     "text": [
      "The accuracy for elastic net regression is 73.4836%\n"
     ]
    }
   ],
   "source": [
    "score = best_elastic_net_reg.score(X_test,y_test) * 100\n",
    "print(f\"The accuracy for elastic net regression is {round(score,4)}%\")"
   ]
  },
  {
   "cell_type": "code",
   "execution_count": 335,
   "metadata": {},
   "outputs": [],
   "source": [
    "ml_performance = (\"elastic_net_reg_w_opp_teams_w_pca\",rmse)\n",
    "ml_accuracy = (\"elastic_net_reg_w_opp_teams_w_pca\",score)"
   ]
  },
  {
   "cell_type": "code",
   "execution_count": 336,
   "metadata": {},
   "outputs": [],
   "source": [
    "ml_models_performances.append(ml_performance)\n",
    "ml_model_accuracies.append(ml_accuracy)"
   ]
  },
  {
   "cell_type": "markdown",
   "metadata": {},
   "source": [
    "<h2>Remove Opposing Team Columns</h2>"
   ]
  },
  {
   "cell_type": "code",
   "execution_count": 337,
   "metadata": {},
   "outputs": [
    {
     "data": {
      "text/plain": [
       "Index(['game_result', 'FG%', 'GmSc', 'TS%', 'GmSc-Per-PTS', 'PTS-Per-POSS',\n",
       "       'game_result-Per-PTS', 'PER', 'game_location', 'Opp', 'Won',\n",
       "       'High-3P%-Shooting', 'High-FG%-Shooting', 'Over-3-BLKs-and-STLs',\n",
       "       'Played-Above-Avg-Min', 'Above-Avg-FT%', 'Career-Stage',\n",
       "       'Above-Avg-PTS-Per-POSS', 'More-BLKs-Than-STLs', 'More-AST-Than-TOV',\n",
       "       'PTS-Cat', '2P%-Above-50%', 'More than 3 Fouls', 'ATL', 'BOS', 'BRK',\n",
       "       'CHA', 'CHI', 'CHO', 'CLE', 'DAL', 'DEN', 'DET', 'GSW', 'HOU', 'IND',\n",
       "       'LAC', 'LAL', 'MEM', 'MIA', 'MIL', 'MIN', 'NJN', 'NOH', 'NOK', 'NOP',\n",
       "       'NYK', 'OKC', 'ORL', 'PHI', 'PHO', 'POR', 'SAC', 'SAS', 'SEA', 'TOR',\n",
       "       'UTA', 'WAS', 'decline', 'prime', 'rising', 'above 35', 'below 20',\n",
       "       'below 35'],\n",
       "      dtype='object')"
      ]
     },
     "execution_count": 337,
     "metadata": {},
     "output_type": "execute_result"
    }
   ],
   "source": [
    "sig_df.columns"
   ]
  },
  {
   "cell_type": "code",
   "execution_count": 338,
   "metadata": {},
   "outputs": [],
   "source": [
    "teams_lists = ['ATL', 'BOS', 'BRK',\n",
    "       'CHA', 'CHI', 'CHO', 'CLE', 'DAL', 'DEN', 'DET', 'GSW', 'HOU', 'IND',\n",
    "       'LAC', 'LAL', 'MEM', 'MIA', 'MIL', 'MIN', 'NJN', 'NOH', 'NOK', 'NOP',\n",
    "       'NYK', 'OKC', 'ORL', 'PHI', 'PHO', 'POR', 'SAC', 'SAS', 'SEA', 'TOR',\n",
    "       'UTA', 'WAS']"
   ]
  },
  {
   "cell_type": "code",
   "execution_count": 339,
   "metadata": {},
   "outputs": [],
   "source": [
    "non_opp_cols = list(set(sig_df.columns)-set(teams_lists))"
   ]
  },
  {
   "cell_type": "code",
   "execution_count": 340,
   "metadata": {},
   "outputs": [],
   "source": [
    "sig_df_no_opp = sig_df[non_opp_cols].select_dtypes(exclude=[\"object\"])"
   ]
  },
  {
   "cell_type": "code",
   "execution_count": 341,
   "metadata": {},
   "outputs": [
    {
     "data": {
      "text/html": [
       "<div>\n",
       "<style scoped>\n",
       "    .dataframe tbody tr th:only-of-type {\n",
       "        vertical-align: middle;\n",
       "    }\n",
       "\n",
       "    .dataframe tbody tr th {\n",
       "        vertical-align: top;\n",
       "    }\n",
       "\n",
       "    .dataframe thead th {\n",
       "        text-align: right;\n",
       "    }\n",
       "</style>\n",
       "<table border=\"1\" class=\"dataframe\">\n",
       "  <thead>\n",
       "    <tr style=\"text-align: right;\">\n",
       "      <th></th>\n",
       "      <th>PTS-Per-POSS</th>\n",
       "      <th>Won</th>\n",
       "      <th>More-AST-Than-TOV</th>\n",
       "      <th>PER</th>\n",
       "      <th>above 35</th>\n",
       "      <th>High-FG%-Shooting</th>\n",
       "      <th>game_result-Per-PTS</th>\n",
       "      <th>Played-Above-Avg-Min</th>\n",
       "      <th>prime</th>\n",
       "      <th>More than 3 Fouls</th>\n",
       "      <th>...</th>\n",
       "      <th>Above-Avg-FT%</th>\n",
       "      <th>below 20</th>\n",
       "      <th>game_location</th>\n",
       "      <th>GmSc-Per-PTS</th>\n",
       "      <th>TS%</th>\n",
       "      <th>Above-Avg-PTS-Per-POSS</th>\n",
       "      <th>below 35</th>\n",
       "      <th>GmSc</th>\n",
       "      <th>More-BLKs-Than-STLs</th>\n",
       "      <th>Over-3-BLKs-and-STLs</th>\n",
       "    </tr>\n",
       "  </thead>\n",
       "  <tbody>\n",
       "    <tr>\n",
       "      <th>0</th>\n",
       "      <td>1.172608</td>\n",
       "      <td>0.0</td>\n",
       "      <td>1.0</td>\n",
       "      <td>29.277048</td>\n",
       "      <td>0.0</td>\n",
       "      <td>1.0</td>\n",
       "      <td>-0.560000</td>\n",
       "      <td>1.0</td>\n",
       "      <td>0.0</td>\n",
       "      <td>0.0</td>\n",
       "      <td>...</td>\n",
       "      <td>0.0</td>\n",
       "      <td>0.0</td>\n",
       "      <td>0.0</td>\n",
       "      <td>0.988000</td>\n",
       "      <td>0.583431</td>\n",
       "      <td>1.0</td>\n",
       "      <td>1.0</td>\n",
       "      <td>24.7</td>\n",
       "      <td>0.0</td>\n",
       "      <td>1.0</td>\n",
       "    </tr>\n",
       "    <tr>\n",
       "      <th>1</th>\n",
       "      <td>0.837321</td>\n",
       "      <td>0.0</td>\n",
       "      <td>1.0</td>\n",
       "      <td>16.893600</td>\n",
       "      <td>0.0</td>\n",
       "      <td>0.0</td>\n",
       "      <td>-0.428571</td>\n",
       "      <td>1.0</td>\n",
       "      <td>0.0</td>\n",
       "      <td>0.0</td>\n",
       "      <td>...</td>\n",
       "      <td>0.0</td>\n",
       "      <td>0.0</td>\n",
       "      <td>0.0</td>\n",
       "      <td>0.700000</td>\n",
       "      <td>0.516605</td>\n",
       "      <td>0.0</td>\n",
       "      <td>1.0</td>\n",
       "      <td>14.7</td>\n",
       "      <td>0.0</td>\n",
       "      <td>0.0</td>\n",
       "    </tr>\n",
       "    <tr>\n",
       "      <th>2</th>\n",
       "      <td>0.537634</td>\n",
       "      <td>0.0</td>\n",
       "      <td>1.0</td>\n",
       "      <td>5.489179</td>\n",
       "      <td>0.0</td>\n",
       "      <td>0.0</td>\n",
       "      <td>-2.375000</td>\n",
       "      <td>1.0</td>\n",
       "      <td>0.0</td>\n",
       "      <td>0.0</td>\n",
       "      <td>...</td>\n",
       "      <td>1.0</td>\n",
       "      <td>1.0</td>\n",
       "      <td>0.0</td>\n",
       "      <td>0.625000</td>\n",
       "      <td>0.308880</td>\n",
       "      <td>0.0</td>\n",
       "      <td>0.0</td>\n",
       "      <td>5.0</td>\n",
       "      <td>0.0</td>\n",
       "      <td>0.0</td>\n",
       "    </tr>\n",
       "    <tr>\n",
       "      <th>3</th>\n",
       "      <td>0.611888</td>\n",
       "      <td>0.0</td>\n",
       "      <td>1.0</td>\n",
       "      <td>13.291049</td>\n",
       "      <td>0.0</td>\n",
       "      <td>0.0</td>\n",
       "      <td>-0.571429</td>\n",
       "      <td>1.0</td>\n",
       "      <td>0.0</td>\n",
       "      <td>0.0</td>\n",
       "      <td>...</td>\n",
       "      <td>1.0</td>\n",
       "      <td>1.0</td>\n",
       "      <td>1.0</td>\n",
       "      <td>1.600000</td>\n",
       "      <td>0.305011</td>\n",
       "      <td>0.0</td>\n",
       "      <td>0.0</td>\n",
       "      <td>11.2</td>\n",
       "      <td>1.0</td>\n",
       "      <td>1.0</td>\n",
       "    </tr>\n",
       "    <tr>\n",
       "      <th>4</th>\n",
       "      <td>0.819088</td>\n",
       "      <td>0.0</td>\n",
       "      <td>0.0</td>\n",
       "      <td>8.698953</td>\n",
       "      <td>0.0</td>\n",
       "      <td>0.0</td>\n",
       "      <td>-0.043478</td>\n",
       "      <td>1.0</td>\n",
       "      <td>0.0</td>\n",
       "      <td>0.0</td>\n",
       "      <td>...</td>\n",
       "      <td>1.0</td>\n",
       "      <td>0.0</td>\n",
       "      <td>0.0</td>\n",
       "      <td>0.391304</td>\n",
       "      <td>0.539273</td>\n",
       "      <td>0.0</td>\n",
       "      <td>1.0</td>\n",
       "      <td>9.0</td>\n",
       "      <td>0.0</td>\n",
       "      <td>0.0</td>\n",
       "    </tr>\n",
       "  </tbody>\n",
       "</table>\n",
       "<p>5 rows × 26 columns</p>\n",
       "</div>"
      ],
      "text/plain": [
       "   PTS-Per-POSS  Won  More-AST-Than-TOV        PER  above 35  \\\n",
       "0      1.172608  0.0                1.0  29.277048       0.0   \n",
       "1      0.837321  0.0                1.0  16.893600       0.0   \n",
       "2      0.537634  0.0                1.0   5.489179       0.0   \n",
       "3      0.611888  0.0                1.0  13.291049       0.0   \n",
       "4      0.819088  0.0                0.0   8.698953       0.0   \n",
       "\n",
       "   High-FG%-Shooting  game_result-Per-PTS  Played-Above-Avg-Min  prime  \\\n",
       "0                1.0            -0.560000                   1.0    0.0   \n",
       "1                0.0            -0.428571                   1.0    0.0   \n",
       "2                0.0            -2.375000                   1.0    0.0   \n",
       "3                0.0            -0.571429                   1.0    0.0   \n",
       "4                0.0            -0.043478                   1.0    0.0   \n",
       "\n",
       "   More than 3 Fouls  ...  Above-Avg-FT%  below 20  game_location  \\\n",
       "0                0.0  ...            0.0       0.0            0.0   \n",
       "1                0.0  ...            0.0       0.0            0.0   \n",
       "2                0.0  ...            1.0       1.0            0.0   \n",
       "3                0.0  ...            1.0       1.0            1.0   \n",
       "4                0.0  ...            1.0       0.0            0.0   \n",
       "\n",
       "   GmSc-Per-PTS       TS%  Above-Avg-PTS-Per-POSS  below 35  GmSc  \\\n",
       "0      0.988000  0.583431                     1.0       1.0  24.7   \n",
       "1      0.700000  0.516605                     0.0       1.0  14.7   \n",
       "2      0.625000  0.308880                     0.0       0.0   5.0   \n",
       "3      1.600000  0.305011                     0.0       0.0  11.2   \n",
       "4      0.391304  0.539273                     0.0       1.0   9.0   \n",
       "\n",
       "   More-BLKs-Than-STLs  Over-3-BLKs-and-STLs  \n",
       "0                  0.0                   1.0  \n",
       "1                  0.0                   0.0  \n",
       "2                  0.0                   0.0  \n",
       "3                  1.0                   1.0  \n",
       "4                  0.0                   0.0  \n",
       "\n",
       "[5 rows x 26 columns]"
      ]
     },
     "execution_count": 341,
     "metadata": {},
     "output_type": "execute_result"
    }
   ],
   "source": [
    "sig_df_no_opp.head()"
   ]
  },
  {
   "cell_type": "code",
   "execution_count": 342,
   "metadata": {},
   "outputs": [],
   "source": [
    "std_scaler = StandardScaler()"
   ]
  },
  {
   "cell_type": "code",
   "execution_count": 343,
   "metadata": {},
   "outputs": [],
   "source": [
    "sig_no_opp_data = std_scaler.fit_transform(sig_df_no_opp.values)"
   ]
  },
  {
   "cell_type": "code",
   "execution_count": 344,
   "metadata": {},
   "outputs": [],
   "source": [
    "X, y = sig_no_opp_data, target"
   ]
  },
  {
   "cell_type": "code",
   "execution_count": 345,
   "metadata": {},
   "outputs": [],
   "source": [
    "X_train, X_test, y_train, y_test = train_test_split(X, y, test_size=0.33, random_state=42)"
   ]
  },
  {
   "cell_type": "markdown",
   "metadata": {},
   "source": [
    "<h4>Linear Regression</h4>"
   ]
  },
  {
   "cell_type": "code",
   "execution_count": 346,
   "metadata": {},
   "outputs": [],
   "source": [
    "ln = LinearRegression()"
   ]
  },
  {
   "cell_type": "code",
   "execution_count": 347,
   "metadata": {},
   "outputs": [
    {
     "data": {
      "text/plain": [
       "LinearRegression()"
      ]
     },
     "execution_count": 347,
     "metadata": {},
     "output_type": "execute_result"
    }
   ],
   "source": [
    "ln.fit(X_train,y_train)"
   ]
  },
  {
   "cell_type": "code",
   "execution_count": 348,
   "metadata": {},
   "outputs": [],
   "source": [
    "y_pred = ln.predict(X_test)"
   ]
  },
  {
   "cell_type": "code",
   "execution_count": 349,
   "metadata": {},
   "outputs": [
    {
     "name": "stdout",
     "output_type": "stream",
     "text": [
      "The root mean squared error for linear regression is 6.63 points\n"
     ]
    }
   ],
   "source": [
    "rmse = mean_squared_error(y_test,y_pred,squared=False)\n",
    "print(f\"The root mean squared error for linear regression is {round(rmse,2)} points\")"
   ]
  },
  {
   "cell_type": "code",
   "execution_count": 350,
   "metadata": {},
   "outputs": [
    {
     "name": "stdout",
     "output_type": "stream",
     "text": [
      "The accuracy for linear regression is 73.9381%\n"
     ]
    }
   ],
   "source": [
    "score = ln.score(X_test,y_test) * 100\n",
    "print(f\"The accuracy for linear regression is {round(score,4)}%\")"
   ]
  },
  {
   "cell_type": "code",
   "execution_count": 351,
   "metadata": {},
   "outputs": [],
   "source": [
    "ml_performance = (\"lin_reg_w/out_opp_teams_w/out_pca\",rmse)\n",
    "ml_accuracy = (\"lin_reg_w/out_opp_teams_w/out_pca\",score)"
   ]
  },
  {
   "cell_type": "code",
   "execution_count": 352,
   "metadata": {},
   "outputs": [],
   "source": [
    "ml_models_performances.append(ml_performance)\n",
    "ml_model_accuracies.append(ml_accuracy)"
   ]
  },
  {
   "cell_type": "markdown",
   "metadata": {},
   "source": [
    "<h4>SGD Regression</h4>"
   ]
  },
  {
   "cell_type": "code",
   "execution_count": 353,
   "metadata": {},
   "outputs": [],
   "source": [
    "sgd_param_grid = [\n",
    "    {\n",
    "        \"loss\":[\"squared_loss\",\"huber\",\"epsilon_insensitive\",\"squared_epsilon_insensitive\"],\n",
    "        \"epsilon\":[0.1,0.01,0.001]\n",
    "    }\n",
    "]"
   ]
  },
  {
   "cell_type": "code",
   "execution_count": 354,
   "metadata": {},
   "outputs": [],
   "source": [
    "sgd_grid_search = GridSearchCV(SGDRegressor(),sgd_param_grid,cv=5,scoring=\"neg_root_mean_squared_error\",n_jobs=-1)"
   ]
  },
  {
   "cell_type": "code",
   "execution_count": 355,
   "metadata": {},
   "outputs": [
    {
     "data": {
      "text/plain": [
       "GridSearchCV(cv=5, estimator=SGDRegressor(), n_jobs=-1,\n",
       "             param_grid=[{'epsilon': [0.1, 0.01, 0.001],\n",
       "                          'loss': ['squared_loss', 'huber',\n",
       "                                   'epsilon_insensitive',\n",
       "                                   'squared_epsilon_insensitive']}],\n",
       "             scoring='neg_root_mean_squared_error')"
      ]
     },
     "execution_count": 355,
     "metadata": {},
     "output_type": "execute_result"
    }
   ],
   "source": [
    "sgd_grid_search.fit(X_train,y_train)"
   ]
  },
  {
   "cell_type": "code",
   "execution_count": 356,
   "metadata": {},
   "outputs": [
    {
     "data": {
      "text/plain": [
       "{'epsilon': 0.1, 'loss': 'squared_loss'}"
      ]
     },
     "execution_count": 356,
     "metadata": {},
     "output_type": "execute_result"
    }
   ],
   "source": [
    "sgd_grid_search.best_params_"
   ]
  },
  {
   "cell_type": "code",
   "execution_count": 357,
   "metadata": {},
   "outputs": [],
   "source": [
    "best_sgd_reg = sgd_grid_search.best_estimator_"
   ]
  },
  {
   "cell_type": "code",
   "execution_count": 358,
   "metadata": {},
   "outputs": [],
   "source": [
    "y_pred = best_sgd_reg.predict(X_test)"
   ]
  },
  {
   "cell_type": "code",
   "execution_count": 359,
   "metadata": {},
   "outputs": [
    {
     "name": "stdout",
     "output_type": "stream",
     "text": [
      "The root mean squared error for SGD regression is 6.64 points\n"
     ]
    }
   ],
   "source": [
    "rmse = mean_squared_error(y_test,y_pred,squared=False)\n",
    "print(f\"The root mean squared error for SGD regression is {round(rmse,2)} points\")"
   ]
  },
  {
   "cell_type": "code",
   "execution_count": 360,
   "metadata": {},
   "outputs": [
    {
     "name": "stdout",
     "output_type": "stream",
     "text": [
      "The accuracy for sgd regression is 73.861%\n"
     ]
    }
   ],
   "source": [
    "score = best_sgd_reg.score(X_test,y_test) * 100\n",
    "print(f\"The accuracy for sgd regression is {round(score,4)}%\")"
   ]
  },
  {
   "cell_type": "code",
   "execution_count": 361,
   "metadata": {},
   "outputs": [],
   "source": [
    "ml_performance = (\"sgd_reg_w/out_opp_teams_w/out_pca\",rmse)\n",
    "ml_accuracy = (\"sgd_reg_w/out_opp_teams_w/out_pca\",score)"
   ]
  },
  {
   "cell_type": "code",
   "execution_count": 362,
   "metadata": {},
   "outputs": [],
   "source": [
    "ml_models_performances.append(ml_performance)\n",
    "ml_model_accuracies.append(ml_accuracy)"
   ]
  },
  {
   "cell_type": "markdown",
   "metadata": {},
   "source": [
    "<h4>Random Forest Regression</h4>"
   ]
  },
  {
   "cell_type": "code",
   "execution_count": 363,
   "metadata": {},
   "outputs": [],
   "source": [
    "rand_forest_param_grid = [\n",
    "    {\n",
    "        \"n_estimators\":[50,100,500],\n",
    "        \"criterion\":[\"mse\",\"mae\"]\n",
    "    }\n",
    "]"
   ]
  },
  {
   "cell_type": "code",
   "execution_count": 364,
   "metadata": {},
   "outputs": [],
   "source": [
    "rand_forest_grid_search = GridSearchCV(RandomForestRegressor(),rand_forest_param_grid,cv=5,scoring=\"neg_root_mean_squared_error\",n_jobs=-1)"
   ]
  },
  {
   "cell_type": "code",
   "execution_count": 365,
   "metadata": {},
   "outputs": [
    {
     "data": {
      "text/plain": [
       "GridSearchCV(cv=5, estimator=RandomForestRegressor(), n_jobs=-1,\n",
       "             param_grid=[{'criterion': ['mse', 'mae'],\n",
       "                          'n_estimators': [50, 100, 500]}],\n",
       "             scoring='neg_root_mean_squared_error')"
      ]
     },
     "execution_count": 365,
     "metadata": {},
     "output_type": "execute_result"
    }
   ],
   "source": [
    "rand_forest_grid_search.fit(X_train,y_train)"
   ]
  },
  {
   "cell_type": "code",
   "execution_count": 366,
   "metadata": {},
   "outputs": [
    {
     "data": {
      "text/plain": [
       "{'criterion': 'mae', 'n_estimators': 500}"
      ]
     },
     "execution_count": 366,
     "metadata": {},
     "output_type": "execute_result"
    }
   ],
   "source": [
    "rand_forest_grid_search.best_params_"
   ]
  },
  {
   "cell_type": "code",
   "execution_count": 367,
   "metadata": {},
   "outputs": [],
   "source": [
    "best_rand_forest_reg = rand_forest_grid_search.best_estimator_"
   ]
  },
  {
   "cell_type": "code",
   "execution_count": 368,
   "metadata": {},
   "outputs": [],
   "source": [
    "y_pred = best_rand_forest_reg.predict(X_test)"
   ]
  },
  {
   "cell_type": "code",
   "execution_count": 369,
   "metadata": {},
   "outputs": [
    {
     "name": "stdout",
     "output_type": "stream",
     "text": [
      "The root mean squared error for SGD regression is 6.93 points\n"
     ]
    }
   ],
   "source": [
    "rmse = mean_squared_error(y_test,y_pred,squared=False)\n",
    "print(f\"The root mean squared error for SGD regression is {round(rmse,2)} points\")"
   ]
  },
  {
   "cell_type": "code",
   "execution_count": 370,
   "metadata": {},
   "outputs": [
    {
     "name": "stdout",
     "output_type": "stream",
     "text": [
      "The accuracy for random forest regression is 71.5052%\n"
     ]
    }
   ],
   "source": [
    "score = best_rand_forest_reg.score(X_test,y_test) * 100\n",
    "print(f\"The accuracy for random forest regression is {round(score,4)}%\")"
   ]
  },
  {
   "cell_type": "code",
   "execution_count": 371,
   "metadata": {},
   "outputs": [],
   "source": [
    "ml_performance = (\"rand_forest_reg_w/out_opp_teams_w/out_pca\",rmse)\n",
    "ml_accuracy = (\"rand_forest_reg_w/out_opp_teams_w/out_pca\",score)"
   ]
  },
  {
   "cell_type": "code",
   "execution_count": 372,
   "metadata": {},
   "outputs": [],
   "source": [
    "ml_models_performances.append(ml_performance)\n",
    "ml_model_accuracies.append(ml_accuracy)"
   ]
  },
  {
   "cell_type": "markdown",
   "metadata": {},
   "source": [
    "<h4>Elastic Net Regression</h4>"
   ]
  },
  {
   "cell_type": "code",
   "execution_count": 373,
   "metadata": {},
   "outputs": [],
   "source": [
    "elastic_net_param_grid = [\n",
    "    {\n",
    "        \"l1_ratio\":[0.25,0.5,0.75]\n",
    "    }\n",
    "]"
   ]
  },
  {
   "cell_type": "code",
   "execution_count": 374,
   "metadata": {},
   "outputs": [],
   "source": [
    "elastic_net_grid_search = GridSearchCV(ElasticNet(),elastic_net_param_grid,cv=5,scoring=\"neg_root_mean_squared_error\",n_jobs=-1)"
   ]
  },
  {
   "cell_type": "code",
   "execution_count": 375,
   "metadata": {},
   "outputs": [
    {
     "data": {
      "text/plain": [
       "GridSearchCV(cv=5, estimator=ElasticNet(), n_jobs=-1,\n",
       "             param_grid=[{'l1_ratio': [0.25, 0.5, 0.75]}],\n",
       "             scoring='neg_root_mean_squared_error')"
      ]
     },
     "execution_count": 375,
     "metadata": {},
     "output_type": "execute_result"
    }
   ],
   "source": [
    "elastic_net_grid_search.fit(X_train,y_train)"
   ]
  },
  {
   "cell_type": "code",
   "execution_count": 376,
   "metadata": {},
   "outputs": [
    {
     "data": {
      "text/plain": [
       "{'l1_ratio': 0.75}"
      ]
     },
     "execution_count": 376,
     "metadata": {},
     "output_type": "execute_result"
    }
   ],
   "source": [
    "elastic_net_grid_search.best_params_"
   ]
  },
  {
   "cell_type": "code",
   "execution_count": 377,
   "metadata": {},
   "outputs": [],
   "source": [
    "best_elastic_net_reg = elastic_net_grid_search.best_estimator_"
   ]
  },
  {
   "cell_type": "code",
   "execution_count": 378,
   "metadata": {},
   "outputs": [],
   "source": [
    "y_pred = best_elastic_net_reg.predict(X_test)"
   ]
  },
  {
   "cell_type": "code",
   "execution_count": 379,
   "metadata": {},
   "outputs": [
    {
     "name": "stdout",
     "output_type": "stream",
     "text": [
      "The root mean squared error for Elastic Net regression is 6.91 points\n"
     ]
    }
   ],
   "source": [
    "rmse = mean_squared_error(y_test,y_pred,squared=False)\n",
    "print(f\"The root mean squared error for Elastic Net regression is {round(rmse,2)} points\")"
   ]
  },
  {
   "cell_type": "code",
   "execution_count": 380,
   "metadata": {},
   "outputs": [
    {
     "name": "stdout",
     "output_type": "stream",
     "text": [
      "The accuracy for elastic net regression is 71.6826%\n"
     ]
    }
   ],
   "source": [
    "score = best_elastic_net_reg.score(X_test,y_test) * 100\n",
    "print(f\"The accuracy for elastic net regression is {round(score,4)}%\")"
   ]
  },
  {
   "cell_type": "code",
   "execution_count": 381,
   "metadata": {},
   "outputs": [],
   "source": [
    "ml_performance = (\"elastic_net_reg_w/out_opp_teams_w/out_pca\",rmse)\n",
    "ml_accuracy = (\"elastic_net_reg_w/out_opp_teams_w/out_pca\",score)"
   ]
  },
  {
   "cell_type": "code",
   "execution_count": 382,
   "metadata": {},
   "outputs": [],
   "source": [
    "ml_models_performances.append(ml_performance)\n",
    "ml_model_accuracies.append(ml_accuracy)"
   ]
  },
  {
   "cell_type": "markdown",
   "metadata": {},
   "source": [
    "<h3>Performance Analysis with PCA</h3>"
   ]
  },
  {
   "cell_type": "code",
   "execution_count": 383,
   "metadata": {},
   "outputs": [],
   "source": [
    "pca = PCA()"
   ]
  },
  {
   "cell_type": "code",
   "execution_count": 384,
   "metadata": {},
   "outputs": [],
   "source": [
    "sig_df_no_opp_w_pca = pca.fit_transform(sig_df_no_opp)"
   ]
  },
  {
   "cell_type": "code",
   "execution_count": 385,
   "metadata": {},
   "outputs": [],
   "source": [
    "pca_cumsum = np.cumsum(pca.explained_variance_ratio_)"
   ]
  },
  {
   "cell_type": "code",
   "execution_count": 386,
   "metadata": {},
   "outputs": [],
   "source": [
    "max_comp_idx = np.argmax(pca_cumsum>0.95)"
   ]
  },
  {
   "cell_type": "code",
   "execution_count": 387,
   "metadata": {},
   "outputs": [],
   "source": [
    "pca = PCA(n_components=max_comp_idx+1)"
   ]
  },
  {
   "cell_type": "code",
   "execution_count": 388,
   "metadata": {},
   "outputs": [],
   "source": [
    "sig_df_no_opp_w_pca = pca.fit_transform(sig_df_no_opp)"
   ]
  },
  {
   "cell_type": "code",
   "execution_count": 389,
   "metadata": {},
   "outputs": [],
   "source": [
    "X, y = sig_df_no_opp_w_pca, target"
   ]
  },
  {
   "cell_type": "code",
   "execution_count": 390,
   "metadata": {},
   "outputs": [],
   "source": [
    "X_train, X_test, y_train, y_test = train_test_split(X, y, test_size=0.33, random_state=42)"
   ]
  },
  {
   "cell_type": "code",
   "execution_count": 391,
   "metadata": {},
   "outputs": [],
   "source": [
    "ml_models_performances.append(ml_performance)"
   ]
  },
  {
   "cell_type": "markdown",
   "metadata": {},
   "source": [
    "<h4>Linear Regression</h4>"
   ]
  },
  {
   "cell_type": "code",
   "execution_count": 392,
   "metadata": {},
   "outputs": [],
   "source": [
    "ln = LinearRegression()"
   ]
  },
  {
   "cell_type": "code",
   "execution_count": 393,
   "metadata": {},
   "outputs": [
    {
     "data": {
      "text/plain": [
       "LinearRegression()"
      ]
     },
     "execution_count": 393,
     "metadata": {},
     "output_type": "execute_result"
    }
   ],
   "source": [
    "ln.fit(X_train,y_train)"
   ]
  },
  {
   "cell_type": "code",
   "execution_count": 394,
   "metadata": {},
   "outputs": [],
   "source": [
    "y_pred = ln.predict(X_test)"
   ]
  },
  {
   "cell_type": "code",
   "execution_count": 395,
   "metadata": {},
   "outputs": [
    {
     "name": "stdout",
     "output_type": "stream",
     "text": [
      "The root mean squared error for linear regression is 6.68 points\n"
     ]
    }
   ],
   "source": [
    "rmse = mean_squared_error(y_test,y_pred,squared=False)\n",
    "print(f\"The root mean squared error for linear regression is {round(rmse,2)} points\")"
   ]
  },
  {
   "cell_type": "code",
   "execution_count": 396,
   "metadata": {},
   "outputs": [
    {
     "name": "stdout",
     "output_type": "stream",
     "text": [
      "The accuracy for linear regression is 73.4874%\n"
     ]
    }
   ],
   "source": [
    "score = ln.score(X_test,y_test) * 100\n",
    "print(f\"The accuracy for linear regression is {round(score,4)}%\")"
   ]
  },
  {
   "cell_type": "code",
   "execution_count": 397,
   "metadata": {},
   "outputs": [],
   "source": [
    "ml_performance = (\"lin_reg_w/out_opp_teams_w_pca\",rmse)\n",
    "ml_accuracy = (\"lin_reg_w/out_opp_teams_w_pca\",score)"
   ]
  },
  {
   "cell_type": "code",
   "execution_count": 398,
   "metadata": {},
   "outputs": [],
   "source": [
    "ml_models_performances.append(ml_performance)\n",
    "ml_model_accuracies.append(ml_accuracy)"
   ]
  },
  {
   "cell_type": "markdown",
   "metadata": {},
   "source": [
    "<h4>SGD Regression</h4>"
   ]
  },
  {
   "cell_type": "code",
   "execution_count": 399,
   "metadata": {},
   "outputs": [],
   "source": [
    "sgd_param_grid = [\n",
    "    {\n",
    "        \"loss\":[\"squared_loss\",\"huber\",\"epsilon_insensitive\",\"squared_epsilon_insensitive\"],\n",
    "        \"epsilon\":[0.1,0.01,0.001]\n",
    "    }\n",
    "]"
   ]
  },
  {
   "cell_type": "code",
   "execution_count": 400,
   "metadata": {},
   "outputs": [],
   "source": [
    "sgd_grid_search = GridSearchCV(SGDRegressor(),sgd_param_grid,cv=5,scoring=\"neg_root_mean_squared_error\",n_jobs=-1)"
   ]
  },
  {
   "cell_type": "code",
   "execution_count": 401,
   "metadata": {},
   "outputs": [
    {
     "data": {
      "text/plain": [
       "GridSearchCV(cv=5, estimator=SGDRegressor(), n_jobs=-1,\n",
       "             param_grid=[{'epsilon': [0.1, 0.01, 0.001],\n",
       "                          'loss': ['squared_loss', 'huber',\n",
       "                                   'epsilon_insensitive',\n",
       "                                   'squared_epsilon_insensitive']}],\n",
       "             scoring='neg_root_mean_squared_error')"
      ]
     },
     "execution_count": 401,
     "metadata": {},
     "output_type": "execute_result"
    }
   ],
   "source": [
    "sgd_grid_search.fit(X_train,y_train)"
   ]
  },
  {
   "cell_type": "code",
   "execution_count": 402,
   "metadata": {},
   "outputs": [
    {
     "data": {
      "text/plain": [
       "{'epsilon': 0.01, 'loss': 'epsilon_insensitive'}"
      ]
     },
     "execution_count": 402,
     "metadata": {},
     "output_type": "execute_result"
    }
   ],
   "source": [
    "sgd_grid_search.best_params_"
   ]
  },
  {
   "cell_type": "code",
   "execution_count": 403,
   "metadata": {},
   "outputs": [],
   "source": [
    "best_sgd_reg = sgd_grid_search.best_estimator_"
   ]
  },
  {
   "cell_type": "code",
   "execution_count": 404,
   "metadata": {},
   "outputs": [],
   "source": [
    "y_pred = best_sgd_reg.predict(X_test)"
   ]
  },
  {
   "cell_type": "code",
   "execution_count": 405,
   "metadata": {},
   "outputs": [
    {
     "name": "stdout",
     "output_type": "stream",
     "text": [
      "The root mean squared error for SGD regression is 6.72 points\n"
     ]
    }
   ],
   "source": [
    "rmse = mean_squared_error(y_test,y_pred,squared=False)\n",
    "print(f\"The root mean squared error for SGD regression is {round(rmse,2)} points\")"
   ]
  },
  {
   "cell_type": "code",
   "execution_count": 406,
   "metadata": {},
   "outputs": [
    {
     "name": "stdout",
     "output_type": "stream",
     "text": [
      "The accuracy for sgd regression is 73.2026%\n"
     ]
    }
   ],
   "source": [
    "score = best_sgd_reg.score(X_test,y_test) * 100\n",
    "print(f\"The accuracy for sgd regression is {round(score,4)}%\")"
   ]
  },
  {
   "cell_type": "code",
   "execution_count": 407,
   "metadata": {},
   "outputs": [],
   "source": [
    "ml_performance = (\"sgd_reg_w/out_opp_teams_w_pca\",rmse)\n",
    "ml_accuracy = (\"sgd_reg_w/out_opp_teams_w_pca\",score)"
   ]
  },
  {
   "cell_type": "code",
   "execution_count": 408,
   "metadata": {},
   "outputs": [],
   "source": [
    "ml_models_performances.append(ml_performance)\n",
    "ml_model_accuracies.append(ml_accuracy)"
   ]
  },
  {
   "cell_type": "markdown",
   "metadata": {},
   "source": [
    "<h4>Random Forest Regression</h4>"
   ]
  },
  {
   "cell_type": "code",
   "execution_count": 409,
   "metadata": {},
   "outputs": [],
   "source": [
    "rand_forest_param_grid = [\n",
    "    {\n",
    "        \"n_estimators\":[50,100,500],\n",
    "        \"criterion\":[\"mse\",\"mae\"]\n",
    "    }\n",
    "]"
   ]
  },
  {
   "cell_type": "code",
   "execution_count": 410,
   "metadata": {},
   "outputs": [],
   "source": [
    "rand_forest_grid_search = GridSearchCV(RandomForestRegressor(),rand_forest_param_grid,cv=5,scoring=\"neg_root_mean_squared_error\",n_jobs=-1)"
   ]
  },
  {
   "cell_type": "code",
   "execution_count": 411,
   "metadata": {},
   "outputs": [
    {
     "data": {
      "text/plain": [
       "GridSearchCV(cv=5, estimator=RandomForestRegressor(), n_jobs=-1,\n",
       "             param_grid=[{'criterion': ['mse', 'mae'],\n",
       "                          'n_estimators': [50, 100, 500]}],\n",
       "             scoring='neg_root_mean_squared_error')"
      ]
     },
     "execution_count": 411,
     "metadata": {},
     "output_type": "execute_result"
    }
   ],
   "source": [
    "rand_forest_grid_search.fit(X_train,y_train)"
   ]
  },
  {
   "cell_type": "code",
   "execution_count": 412,
   "metadata": {},
   "outputs": [
    {
     "data": {
      "text/plain": [
       "{'criterion': 'mae', 'n_estimators': 500}"
      ]
     },
     "execution_count": 412,
     "metadata": {},
     "output_type": "execute_result"
    }
   ],
   "source": [
    "rand_forest_grid_search.best_params_"
   ]
  },
  {
   "cell_type": "code",
   "execution_count": 413,
   "metadata": {},
   "outputs": [],
   "source": [
    "best_rand_forest_reg = rand_forest_grid_search.best_estimator_"
   ]
  },
  {
   "cell_type": "code",
   "execution_count": 414,
   "metadata": {},
   "outputs": [],
   "source": [
    "y_pred = best_rand_forest_reg.predict(X_test)"
   ]
  },
  {
   "cell_type": "code",
   "execution_count": 415,
   "metadata": {},
   "outputs": [
    {
     "name": "stdout",
     "output_type": "stream",
     "text": [
      "The root mean squared error for SGD regression is 7.3 points\n"
     ]
    }
   ],
   "source": [
    "rmse = mean_squared_error(y_test,y_pred,squared=False)\n",
    "print(f\"The root mean squared error for SGD regression is {round(rmse,2)} points\")"
   ]
  },
  {
   "cell_type": "code",
   "execution_count": 416,
   "metadata": {},
   "outputs": [
    {
     "name": "stdout",
     "output_type": "stream",
     "text": [
      "The accuracy for random forest regression is 68.3846%\n"
     ]
    }
   ],
   "source": [
    "score = best_rand_forest_reg.score(X_test,y_test) * 100\n",
    "print(f\"The accuracy for random forest regression is {round(score,4)}%\")"
   ]
  },
  {
   "cell_type": "code",
   "execution_count": 417,
   "metadata": {},
   "outputs": [],
   "source": [
    "ml_performance = (\"rand_forest_reg_w/out_opp_teams_w_pca\",rmse)\n",
    "ml_accuracy = (\"rand_forest_reg_w/out_opp_teams_w_pca\",score)"
   ]
  },
  {
   "cell_type": "code",
   "execution_count": 418,
   "metadata": {},
   "outputs": [],
   "source": [
    "ml_models_performances.append(ml_performance)\n",
    "ml_model_accuracies.append(ml_accuracy)"
   ]
  },
  {
   "cell_type": "markdown",
   "metadata": {},
   "source": [
    "<h4>Elastic Net Regression</h4>"
   ]
  },
  {
   "cell_type": "code",
   "execution_count": 419,
   "metadata": {},
   "outputs": [],
   "source": [
    "elastic_net_param_grid = [\n",
    "    {\n",
    "        \"l1_ratio\":[0.25,0.5,0.75]\n",
    "    }\n",
    "]"
   ]
  },
  {
   "cell_type": "code",
   "execution_count": 420,
   "metadata": {},
   "outputs": [],
   "source": [
    "elastic_net_grid_search = GridSearchCV(ElasticNet(),elastic_net_param_grid,cv=5,scoring=\"neg_root_mean_squared_error\",n_jobs=-1)"
   ]
  },
  {
   "cell_type": "code",
   "execution_count": 421,
   "metadata": {},
   "outputs": [
    {
     "data": {
      "text/plain": [
       "GridSearchCV(cv=5, estimator=ElasticNet(), n_jobs=-1,\n",
       "             param_grid=[{'l1_ratio': [0.25, 0.5, 0.75]}],\n",
       "             scoring='neg_root_mean_squared_error')"
      ]
     },
     "execution_count": 421,
     "metadata": {},
     "output_type": "execute_result"
    }
   ],
   "source": [
    "elastic_net_grid_search.fit(X_train,y_train)"
   ]
  },
  {
   "cell_type": "code",
   "execution_count": 422,
   "metadata": {},
   "outputs": [
    {
     "data": {
      "text/plain": [
       "{'l1_ratio': 0.25}"
      ]
     },
     "execution_count": 422,
     "metadata": {},
     "output_type": "execute_result"
    }
   ],
   "source": [
    "elastic_net_grid_search.best_params_"
   ]
  },
  {
   "cell_type": "code",
   "execution_count": 423,
   "metadata": {},
   "outputs": [],
   "source": [
    "best_elastic_net_reg = elastic_net_grid_search.best_estimator_"
   ]
  },
  {
   "cell_type": "code",
   "execution_count": 424,
   "metadata": {},
   "outputs": [],
   "source": [
    "y_pred = best_elastic_net_reg.predict(X_test)"
   ]
  },
  {
   "cell_type": "code",
   "execution_count": 425,
   "metadata": {},
   "outputs": [
    {
     "name": "stdout",
     "output_type": "stream",
     "text": [
      "The root mean squared error for Elastic Net regression is 6.69 points\n"
     ]
    }
   ],
   "source": [
    "rmse = mean_squared_error(y_test,y_pred,squared=False)\n",
    "print(f\"The root mean squared error for Elastic Net regression is {round(rmse,2)} points\")"
   ]
  },
  {
   "cell_type": "code",
   "execution_count": 426,
   "metadata": {},
   "outputs": [
    {
     "name": "stdout",
     "output_type": "stream",
     "text": [
      "The accuracy for elastic net regression is 73.4837%\n"
     ]
    }
   ],
   "source": [
    "score = best_elastic_net_reg.score(X_test,y_test) * 100\n",
    "print(f\"The accuracy for elastic net regression is {round(score,4)}%\")"
   ]
  },
  {
   "cell_type": "code",
   "execution_count": 427,
   "metadata": {},
   "outputs": [],
   "source": [
    "ml_performance = (\"elastic_net_reg_w/out_opp_teams_w_pca\",rmse)\n",
    "ml_accuracy = (\"elastic_net_reg_w/out_opp_teams_w_pca\",score)"
   ]
  },
  {
   "cell_type": "code",
   "execution_count": 428,
   "metadata": {},
   "outputs": [],
   "source": [
    "ml_models_performances.append(ml_performance)\n",
    "ml_model_accuracies.append(ml_accuracy)"
   ]
  },
  {
   "cell_type": "markdown",
   "metadata": {},
   "source": [
    "<h2>Viewing Error/ Accuracy Scores For All the ML Models</h2>"
   ]
  },
  {
   "cell_type": "code",
   "execution_count": 429,
   "metadata": {},
   "outputs": [
    {
     "name": "stdout",
     "output_type": "stream",
     "text": [
      "lin_reg_w_opp_teams_w/out_pca: 7.069\n",
      "sgd_reg_w_opp_teams_w/out_pca: 7.068\n",
      "rand_forest_reg_w_opp_teams_w/out_pca: 6.934\n",
      "elastic_net_reg_w_opp_teams_w/out_pca: 6.901\n",
      "lin_reg_w_opp_teams_w_pca: 6.685\n",
      "sgd_reg_w_opp_teams_w_pca: 6.725\n",
      "rand_forest_reg_w_opp_teams_w_pca: 7.4\n",
      "elastic_net_reg_w_opp_teams_w_pca: 6.685\n",
      "lin_reg_w/out_opp_teams_w/out_pca: 6.628\n",
      "sgd_reg_w/out_opp_teams_w/out_pca: 6.637\n",
      "rand_forest_reg_w/out_opp_teams_w/out_pca: 6.93\n",
      "elastic_net_reg_w/out_opp_teams_w/out_pca: 6.908\n",
      "elastic_net_reg_w/out_opp_teams_w/out_pca: 6.908\n",
      "lin_reg_w/out_opp_teams_w_pca: 6.685\n",
      "sgd_reg_w/out_opp_teams_w_pca: 6.72\n",
      "rand_forest_reg_w/out_opp_teams_w_pca: 7.3\n",
      "elastic_net_reg_w/out_opp_teams_w_pca: 6.685\n"
     ]
    }
   ],
   "source": [
    "for ml_perf in ml_models_performances:\n",
    "    print(f\"{ml_perf[0]}: {round(ml_perf[1],3)}\")"
   ]
  },
  {
   "cell_type": "code",
   "execution_count": 430,
   "metadata": {
    "scrolled": true
   },
   "outputs": [
    {
     "name": "stdout",
     "output_type": "stream",
     "text": [
      "lin_reg_w_opp_teams_w/out_pca: 67.02%\n",
      "sgd_reg_w_opp_teams_w/out_pca: 67.027%\n",
      "rand_forest_reg_w_opp_teams_w/out_pca: 68.262%\n",
      "elastic_net_reg_w_opp_teams_w/out_pca: 68.571%\n",
      "lin_reg_w_opp_teams_w_pca: 0.735%\n",
      "sgd_reg_w_opp_teams_w_pca: 73.167%\n",
      "rand_forest_reg_w_opp_teams_w_pca: 67.511%\n",
      "elastic_net_reg_w_opp_teams_w_pca: 73.484%\n",
      "lin_reg_w/out_opp_teams_w/out_pca: 73.938%\n",
      "sgd_reg_w/out_opp_teams_w/out_pca: 73.861%\n",
      "rand_forest_reg_w/out_opp_teams_w/out_pca: 71.505%\n",
      "elastic_net_reg_w/out_opp_teams_w/out_pca: 71.683%\n",
      "lin_reg_w/out_opp_teams_w_pca: 73.487%\n",
      "sgd_reg_w/out_opp_teams_w_pca: 73.203%\n",
      "rand_forest_reg_w/out_opp_teams_w_pca: 68.385%\n",
      "elastic_net_reg_w/out_opp_teams_w_pca: 73.484%\n"
     ]
    }
   ],
   "source": [
    "for ml_acc in ml_model_accuracies:\n",
    "    print(f\"{ml_acc[0]}: {round(ml_acc[1],3)}%\")"
   ]
  }
 ],
 "metadata": {
  "kernelspec": {
   "display_name": "Python 3",
   "language": "python",
   "name": "python3"
  },
  "language_info": {
   "codemirror_mode": {
    "name": "ipython",
    "version": 3
   },
   "file_extension": ".py",
   "mimetype": "text/x-python",
   "name": "python",
   "nbconvert_exporter": "python",
   "pygments_lexer": "ipython3",
   "version": "3.7.5"
  }
 },
 "nbformat": 4,
 "nbformat_minor": 4
}
