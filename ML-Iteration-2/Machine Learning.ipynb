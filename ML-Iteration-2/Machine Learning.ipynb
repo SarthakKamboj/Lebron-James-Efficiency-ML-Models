{
 "cells": [
  {
   "cell_type": "code",
   "execution_count": 1,
   "metadata": {},
   "outputs": [],
   "source": [
    "from sklearn.pipeline import Pipeline\n",
    "from sklearn.metrics import mean_squared_error\n",
    "from sklearn.model_selection import StratifiedShuffleSplit, train_test_split, GridSearchCV\n",
    "from sklearn.preprocessing import LabelBinarizer, StandardScaler\n",
    "from sklearn.linear_model import LinearRegression, SGDRegressor, ElasticNet\n",
    "from sklearn.ensemble import RandomForestRegressor\n",
    "from sklearn.decomposition import PCA\n",
    "import numpy as np\n",
    "import pandas as pd\n",
    "import os"
   ]
  },
  {
   "cell_type": "code",
   "execution_count": 7,
   "metadata": {},
   "outputs": [],
   "source": [
    "full_game_df = pd.read_csv(os.path.join(\"feature_eng_data_iter_2.csv\"))"
   ]
  },
  {
   "cell_type": "code",
   "execution_count": 8,
   "metadata": {},
   "outputs": [],
   "source": [
    "sig_cols = list(np.load(\"sig_cols_ml_iteration_2.npy\"))"
   ]
  },
  {
   "cell_type": "code",
   "execution_count": 9,
   "metadata": {},
   "outputs": [],
   "source": [
    "target = full_game_df[\"+/-\"]"
   ]
  },
  {
   "cell_type": "code",
   "execution_count": 10,
   "metadata": {},
   "outputs": [
    {
     "data": {
      "text/html": [
       "<div>\n",
       "<style scoped>\n",
       "    .dataframe tbody tr th:only-of-type {\n",
       "        vertical-align: middle;\n",
       "    }\n",
       "\n",
       "    .dataframe tbody tr th {\n",
       "        vertical-align: top;\n",
       "    }\n",
       "\n",
       "    .dataframe thead th {\n",
       "        text-align: right;\n",
       "    }\n",
       "</style>\n",
       "<table border=\"1\" class=\"dataframe\">\n",
       "  <thead>\n",
       "    <tr style=\"text-align: right;\">\n",
       "      <th></th>\n",
       "      <th>G</th>\n",
       "      <th>Date</th>\n",
       "      <th>Age</th>\n",
       "      <th>Tm</th>\n",
       "      <th>game_location</th>\n",
       "      <th>Opp</th>\n",
       "      <th>game_result</th>\n",
       "      <th>GS</th>\n",
       "      <th>MP</th>\n",
       "      <th>FG</th>\n",
       "      <th>...</th>\n",
       "      <th>More than 3 Fouls</th>\n",
       "      <th>FTR-Above-Avg</th>\n",
       "      <th>Less-Than-3-TOV</th>\n",
       "      <th>PTS-Per-Min</th>\n",
       "      <th>%-Avg</th>\n",
       "      <th>PER-Per-TOV</th>\n",
       "      <th>off_rating</th>\n",
       "      <th>off_rating_above_avg</th>\n",
       "      <th>More-Than-Avg-POSS</th>\n",
       "      <th>Above-Avg-GmSc</th>\n",
       "    </tr>\n",
       "  </thead>\n",
       "  <tbody>\n",
       "    <tr>\n",
       "      <th>0</th>\n",
       "      <td>1</td>\n",
       "      <td>2003-10-29</td>\n",
       "      <td>18</td>\n",
       "      <td>CLE</td>\n",
       "      <td>False</td>\n",
       "      <td>SAC</td>\n",
       "      <td>-14</td>\n",
       "      <td>True</td>\n",
       "      <td>42</td>\n",
       "      <td>12.0</td>\n",
       "      <td>...</td>\n",
       "      <td>False</td>\n",
       "      <td>False</td>\n",
       "      <td>True</td>\n",
       "      <td>0.595238</td>\n",
       "      <td>0.333333</td>\n",
       "      <td>14.638524</td>\n",
       "      <td>117.260788</td>\n",
       "      <td>True</td>\n",
       "      <td>False</td>\n",
       "      <td>True</td>\n",
       "    </tr>\n",
       "    <tr>\n",
       "      <th>1</th>\n",
       "      <td>2</td>\n",
       "      <td>2003-10-30</td>\n",
       "      <td>18</td>\n",
       "      <td>CLE</td>\n",
       "      <td>False</td>\n",
       "      <td>PHO</td>\n",
       "      <td>-9</td>\n",
       "      <td>True</td>\n",
       "      <td>40</td>\n",
       "      <td>8.0</td>\n",
       "      <td>...</td>\n",
       "      <td>False</td>\n",
       "      <td>False</td>\n",
       "      <td>False</td>\n",
       "      <td>0.525000</td>\n",
       "      <td>0.391667</td>\n",
       "      <td>2.413371</td>\n",
       "      <td>83.732057</td>\n",
       "      <td>False</td>\n",
       "      <td>False</td>\n",
       "      <td>False</td>\n",
       "    </tr>\n",
       "    <tr>\n",
       "      <th>2</th>\n",
       "      <td>3</td>\n",
       "      <td>2003-11-01</td>\n",
       "      <td>18</td>\n",
       "      <td>CLE</td>\n",
       "      <td>False</td>\n",
       "      <td>POR</td>\n",
       "      <td>-19</td>\n",
       "      <td>True</td>\n",
       "      <td>39</td>\n",
       "      <td>3.0</td>\n",
       "      <td>...</td>\n",
       "      <td>False</td>\n",
       "      <td>False</td>\n",
       "      <td>True</td>\n",
       "      <td>0.205128</td>\n",
       "      <td>0.136364</td>\n",
       "      <td>2.744590</td>\n",
       "      <td>53.763441</td>\n",
       "      <td>False</td>\n",
       "      <td>False</td>\n",
       "      <td>False</td>\n",
       "    </tr>\n",
       "    <tr>\n",
       "      <th>3</th>\n",
       "      <td>4</td>\n",
       "      <td>2003-11-05</td>\n",
       "      <td>18</td>\n",
       "      <td>CLE</td>\n",
       "      <td>True</td>\n",
       "      <td>DEN</td>\n",
       "      <td>-4</td>\n",
       "      <td>True</td>\n",
       "      <td>41</td>\n",
       "      <td>3.0</td>\n",
       "      <td>...</td>\n",
       "      <td>False</td>\n",
       "      <td>False</td>\n",
       "      <td>True</td>\n",
       "      <td>0.170732</td>\n",
       "      <td>0.166667</td>\n",
       "      <td>6.645524</td>\n",
       "      <td>61.188811</td>\n",
       "      <td>False</td>\n",
       "      <td>False</td>\n",
       "      <td>False</td>\n",
       "    </tr>\n",
       "    <tr>\n",
       "      <th>4</th>\n",
       "      <td>5</td>\n",
       "      <td>2003-11-07</td>\n",
       "      <td>18</td>\n",
       "      <td>CLE</td>\n",
       "      <td>False</td>\n",
       "      <td>IND</td>\n",
       "      <td>-1</td>\n",
       "      <td>True</td>\n",
       "      <td>43</td>\n",
       "      <td>8.0</td>\n",
       "      <td>...</td>\n",
       "      <td>False</td>\n",
       "      <td>True</td>\n",
       "      <td>False</td>\n",
       "      <td>0.534884</td>\n",
       "      <td>0.468750</td>\n",
       "      <td>1.242708</td>\n",
       "      <td>81.908832</td>\n",
       "      <td>False</td>\n",
       "      <td>True</td>\n",
       "      <td>False</td>\n",
       "    </tr>\n",
       "  </tbody>\n",
       "</table>\n",
       "<p>5 rows × 73 columns</p>\n",
       "</div>"
      ],
      "text/plain": [
       "   G        Date  Age   Tm  game_location  Opp  game_result    GS  MP    FG  \\\n",
       "0  1  2003-10-29   18  CLE          False  SAC          -14  True  42  12.0   \n",
       "1  2  2003-10-30   18  CLE          False  PHO           -9  True  40   8.0   \n",
       "2  3  2003-11-01   18  CLE          False  POR          -19  True  39   3.0   \n",
       "3  4  2003-11-05   18  CLE           True  DEN           -4  True  41   3.0   \n",
       "4  5  2003-11-07   18  CLE          False  IND           -1  True  43   8.0   \n",
       "\n",
       "   ...  More than 3 Fouls  FTR-Above-Avg  Less-Than-3-TOV  PTS-Per-Min  \\\n",
       "0  ...              False          False             True     0.595238   \n",
       "1  ...              False          False            False     0.525000   \n",
       "2  ...              False          False             True     0.205128   \n",
       "3  ...              False          False             True     0.170732   \n",
       "4  ...              False           True            False     0.534884   \n",
       "\n",
       "      %-Avg  PER-Per-TOV  off_rating  off_rating_above_avg  \\\n",
       "0  0.333333    14.638524  117.260788                  True   \n",
       "1  0.391667     2.413371   83.732057                 False   \n",
       "2  0.136364     2.744590   53.763441                 False   \n",
       "3  0.166667     6.645524   61.188811                 False   \n",
       "4  0.468750     1.242708   81.908832                 False   \n",
       "\n",
       "   More-Than-Avg-POSS  Above-Avg-GmSc  \n",
       "0               False            True  \n",
       "1               False           False  \n",
       "2               False           False  \n",
       "3               False           False  \n",
       "4                True           False  \n",
       "\n",
       "[5 rows x 73 columns]"
      ]
     },
     "execution_count": 10,
     "metadata": {},
     "output_type": "execute_result"
    }
   ],
   "source": [
    "full_game_df.head()"
   ]
  },
  {
   "cell_type": "code",
   "execution_count": 11,
   "metadata": {},
   "outputs": [],
   "source": [
    "sig_df = full_game_df[sig_cols]"
   ]
  },
  {
   "cell_type": "code",
   "execution_count": 12,
   "metadata": {},
   "outputs": [
    {
     "data": {
      "text/html": [
       "<div>\n",
       "<style scoped>\n",
       "    .dataframe tbody tr th:only-of-type {\n",
       "        vertical-align: middle;\n",
       "    }\n",
       "\n",
       "    .dataframe tbody tr th {\n",
       "        vertical-align: top;\n",
       "    }\n",
       "\n",
       "    .dataframe thead th {\n",
       "        text-align: right;\n",
       "    }\n",
       "</style>\n",
       "<table border=\"1\" class=\"dataframe\">\n",
       "  <thead>\n",
       "    <tr style=\"text-align: right;\">\n",
       "      <th></th>\n",
       "      <th>PTS-Per-Min</th>\n",
       "      <th>%-Avg</th>\n",
       "      <th>PER-Per-TOV</th>\n",
       "      <th>off_rating</th>\n",
       "      <th>off_rating_above_avg</th>\n",
       "      <th>More-Than-Avg-POSS</th>\n",
       "      <th>Above-Avg-GmSc</th>\n",
       "      <th>game_result</th>\n",
       "      <th>FG%</th>\n",
       "      <th>GmSc</th>\n",
       "      <th>...</th>\n",
       "      <th>Over-3-BLKs-and-STLs</th>\n",
       "      <th>Played-Above-Avg-Min</th>\n",
       "      <th>Above-Avg-FT%</th>\n",
       "      <th>Career-Stage</th>\n",
       "      <th>Above-Avg-PTS-Per-POSS</th>\n",
       "      <th>More-BLKs-Than-STLs</th>\n",
       "      <th>More-AST-Than-TOV</th>\n",
       "      <th>PTS-Cat</th>\n",
       "      <th>2P%-Above-50%</th>\n",
       "      <th>More than 3 Fouls</th>\n",
       "    </tr>\n",
       "  </thead>\n",
       "  <tbody>\n",
       "    <tr>\n",
       "      <th>0</th>\n",
       "      <td>0.595238</td>\n",
       "      <td>0.333333</td>\n",
       "      <td>14.638524</td>\n",
       "      <td>117.260788</td>\n",
       "      <td>True</td>\n",
       "      <td>False</td>\n",
       "      <td>True</td>\n",
       "      <td>-14</td>\n",
       "      <td>0.600</td>\n",
       "      <td>24.7</td>\n",
       "      <td>...</td>\n",
       "      <td>True</td>\n",
       "      <td>True</td>\n",
       "      <td>False</td>\n",
       "      <td>rising</td>\n",
       "      <td>True</td>\n",
       "      <td>False</td>\n",
       "      <td>True</td>\n",
       "      <td>below 35</td>\n",
       "      <td>True</td>\n",
       "      <td>False</td>\n",
       "    </tr>\n",
       "    <tr>\n",
       "      <th>1</th>\n",
       "      <td>0.525000</td>\n",
       "      <td>0.391667</td>\n",
       "      <td>2.413371</td>\n",
       "      <td>83.732057</td>\n",
       "      <td>False</td>\n",
       "      <td>False</td>\n",
       "      <td>False</td>\n",
       "      <td>-9</td>\n",
       "      <td>0.471</td>\n",
       "      <td>14.7</td>\n",
       "      <td>...</td>\n",
       "      <td>False</td>\n",
       "      <td>True</td>\n",
       "      <td>False</td>\n",
       "      <td>rising</td>\n",
       "      <td>False</td>\n",
       "      <td>False</td>\n",
       "      <td>True</td>\n",
       "      <td>below 35</td>\n",
       "      <td>True</td>\n",
       "      <td>False</td>\n",
       "    </tr>\n",
       "    <tr>\n",
       "      <th>2</th>\n",
       "      <td>0.205128</td>\n",
       "      <td>0.136364</td>\n",
       "      <td>2.744590</td>\n",
       "      <td>53.763441</td>\n",
       "      <td>False</td>\n",
       "      <td>False</td>\n",
       "      <td>False</td>\n",
       "      <td>-19</td>\n",
       "      <td>0.250</td>\n",
       "      <td>5.0</td>\n",
       "      <td>...</td>\n",
       "      <td>False</td>\n",
       "      <td>True</td>\n",
       "      <td>True</td>\n",
       "      <td>rising</td>\n",
       "      <td>False</td>\n",
       "      <td>False</td>\n",
       "      <td>True</td>\n",
       "      <td>below 20</td>\n",
       "      <td>False</td>\n",
       "      <td>False</td>\n",
       "    </tr>\n",
       "    <tr>\n",
       "      <th>3</th>\n",
       "      <td>0.170732</td>\n",
       "      <td>0.166667</td>\n",
       "      <td>6.645524</td>\n",
       "      <td>61.188811</td>\n",
       "      <td>False</td>\n",
       "      <td>False</td>\n",
       "      <td>False</td>\n",
       "      <td>-4</td>\n",
       "      <td>0.273</td>\n",
       "      <td>11.2</td>\n",
       "      <td>...</td>\n",
       "      <td>True</td>\n",
       "      <td>True</td>\n",
       "      <td>True</td>\n",
       "      <td>rising</td>\n",
       "      <td>False</td>\n",
       "      <td>True</td>\n",
       "      <td>True</td>\n",
       "      <td>below 20</td>\n",
       "      <td>False</td>\n",
       "      <td>False</td>\n",
       "    </tr>\n",
       "    <tr>\n",
       "      <th>4</th>\n",
       "      <td>0.534884</td>\n",
       "      <td>0.468750</td>\n",
       "      <td>1.242708</td>\n",
       "      <td>81.908832</td>\n",
       "      <td>False</td>\n",
       "      <td>True</td>\n",
       "      <td>False</td>\n",
       "      <td>-1</td>\n",
       "      <td>0.444</td>\n",
       "      <td>9.0</td>\n",
       "      <td>...</td>\n",
       "      <td>False</td>\n",
       "      <td>True</td>\n",
       "      <td>True</td>\n",
       "      <td>rising</td>\n",
       "      <td>False</td>\n",
       "      <td>False</td>\n",
       "      <td>False</td>\n",
       "      <td>below 35</td>\n",
       "      <td>False</td>\n",
       "      <td>False</td>\n",
       "    </tr>\n",
       "  </tbody>\n",
       "</table>\n",
       "<p>5 rows × 30 columns</p>\n",
       "</div>"
      ],
      "text/plain": [
       "   PTS-Per-Min     %-Avg  PER-Per-TOV  off_rating  off_rating_above_avg  \\\n",
       "0     0.595238  0.333333    14.638524  117.260788                  True   \n",
       "1     0.525000  0.391667     2.413371   83.732057                 False   \n",
       "2     0.205128  0.136364     2.744590   53.763441                 False   \n",
       "3     0.170732  0.166667     6.645524   61.188811                 False   \n",
       "4     0.534884  0.468750     1.242708   81.908832                 False   \n",
       "\n",
       "   More-Than-Avg-POSS  Above-Avg-GmSc  game_result    FG%  GmSc  ...  \\\n",
       "0               False            True          -14  0.600  24.7  ...   \n",
       "1               False           False           -9  0.471  14.7  ...   \n",
       "2               False           False          -19  0.250   5.0  ...   \n",
       "3               False           False           -4  0.273  11.2  ...   \n",
       "4                True           False           -1  0.444   9.0  ...   \n",
       "\n",
       "   Over-3-BLKs-and-STLs  Played-Above-Avg-Min  Above-Avg-FT%  Career-Stage  \\\n",
       "0                  True                  True          False        rising   \n",
       "1                 False                  True          False        rising   \n",
       "2                 False                  True           True        rising   \n",
       "3                  True                  True           True        rising   \n",
       "4                 False                  True           True        rising   \n",
       "\n",
       "   Above-Avg-PTS-Per-POSS  More-BLKs-Than-STLs More-AST-Than-TOV   PTS-Cat  \\\n",
       "0                    True                False              True  below 35   \n",
       "1                   False                False              True  below 35   \n",
       "2                   False                False              True  below 20   \n",
       "3                   False                 True              True  below 20   \n",
       "4                   False                False             False  below 35   \n",
       "\n",
       "   2P%-Above-50%  More than 3 Fouls  \n",
       "0           True              False  \n",
       "1           True              False  \n",
       "2          False              False  \n",
       "3          False              False  \n",
       "4          False              False  \n",
       "\n",
       "[5 rows x 30 columns]"
      ]
     },
     "execution_count": 12,
     "metadata": {},
     "output_type": "execute_result"
    }
   ],
   "source": [
    "sig_df.head()"
   ]
  },
  {
   "cell_type": "code",
   "execution_count": 13,
   "metadata": {},
   "outputs": [
    {
     "name": "stderr",
     "output_type": "stream",
     "text": [
      "c:\\users\\kambo\\.virtualenvs\\lebronjames-q3tyihsg\\lib\\site-packages\\pandas\\core\\frame.py:4379: SettingWithCopyWarning: \n",
      "A value is trying to be set on a copy of a slice from a DataFrame\n",
      "\n",
      "See the caveats in the documentation: https://pandas.pydata.org/pandas-docs/stable/user_guide/indexing.html#returning-a-view-versus-a-copy\n",
      "  method=method,\n"
     ]
    }
   ],
   "source": [
    "sig_df.replace(True,1,inplace=True)\n",
    "sig_df.replace(False,0,inplace=True)"
   ]
  },
  {
   "cell_type": "code",
   "execution_count": 14,
   "metadata": {},
   "outputs": [
    {
     "data": {
      "text/plain": [
       "Index(['game_result'], dtype='object')"
      ]
     },
     "execution_count": 14,
     "metadata": {},
     "output_type": "execute_result"
    }
   ],
   "source": [
    "sig_df.select_dtypes(include=[\"int64\"]).columns"
   ]
  },
  {
   "cell_type": "code",
   "execution_count": 15,
   "metadata": {},
   "outputs": [
    {
     "name": "stderr",
     "output_type": "stream",
     "text": [
      "c:\\users\\kambo\\.virtualenvs\\lebronjames-q3tyihsg\\lib\\site-packages\\ipykernel_launcher.py:2: SettingWithCopyWarning: \n",
      "A value is trying to be set on a copy of a slice from a DataFrame.\n",
      "Try using .loc[row_indexer,col_indexer] = value instead\n",
      "\n",
      "See the caveats in the documentation: https://pandas.pydata.org/pandas-docs/stable/user_guide/indexing.html#returning-a-view-versus-a-copy\n",
      "  \n"
     ]
    }
   ],
   "source": [
    "for col in sig_df.select_dtypes(include=[\"int64\"]).columns:\n",
    "    sig_df[col] = sig_df[col].apply(lambda x: float(x))"
   ]
  },
  {
   "cell_type": "code",
   "execution_count": 16,
   "metadata": {},
   "outputs": [
    {
     "data": {
      "text/plain": [
       "PTS-Per-Min               float64\n",
       "%-Avg                     float64\n",
       "PER-Per-TOV               float64\n",
       "off_rating                float64\n",
       "off_rating_above_avg      float64\n",
       "More-Than-Avg-POSS        float64\n",
       "Above-Avg-GmSc            float64\n",
       "game_result               float64\n",
       "FG%                       float64\n",
       "GmSc                      float64\n",
       "TS%                       float64\n",
       "GmSc-Per-PTS              float64\n",
       "PTS-Per-POSS              float64\n",
       "game_result-Per-PTS       float64\n",
       "PER                       float64\n",
       "game_location             float64\n",
       "Opp                        object\n",
       "Won                       float64\n",
       "High-3P%-Shooting         float64\n",
       "High-FG%-Shooting         float64\n",
       "Over-3-BLKs-and-STLs      float64\n",
       "Played-Above-Avg-Min      float64\n",
       "Above-Avg-FT%             float64\n",
       "Career-Stage               object\n",
       "Above-Avg-PTS-Per-POSS    float64\n",
       "More-BLKs-Than-STLs       float64\n",
       "More-AST-Than-TOV         float64\n",
       "PTS-Cat                    object\n",
       "2P%-Above-50%             float64\n",
       "More than 3 Fouls         float64\n",
       "dtype: object"
      ]
     },
     "execution_count": 16,
     "metadata": {},
     "output_type": "execute_result"
    }
   ],
   "source": [
    "sig_df.dtypes"
   ]
  },
  {
   "cell_type": "code",
   "execution_count": 17,
   "metadata": {},
   "outputs": [],
   "source": [
    "def label_bin(cat_col,df):\n",
    "    lb = LabelBinarizer()\n",
    "    data = lb.fit_transform(df[cat_col])\n",
    "    classes = lb.classes_\n",
    "    new_df = pd.DataFrame(data,columns=classes,dtype=float)\n",
    "    for col in new_df.columns:\n",
    "        df[col] = new_df[col]\n",
    "    return lb"
   ]
  },
  {
   "cell_type": "code",
   "execution_count": 18,
   "metadata": {},
   "outputs": [
    {
     "name": "stderr",
     "output_type": "stream",
     "text": [
      "c:\\users\\kambo\\.virtualenvs\\lebronjames-q3tyihsg\\lib\\site-packages\\ipykernel_launcher.py:7: SettingWithCopyWarning: \n",
      "A value is trying to be set on a copy of a slice from a DataFrame.\n",
      "Try using .loc[row_indexer,col_indexer] = value instead\n",
      "\n",
      "See the caveats in the documentation: https://pandas.pydata.org/pandas-docs/stable/user_guide/indexing.html#returning-a-view-versus-a-copy\n",
      "  import sys\n",
      "c:\\users\\kambo\\.virtualenvs\\lebronjames-q3tyihsg\\lib\\site-packages\\ipykernel_launcher.py:7: SettingWithCopyWarning: \n",
      "A value is trying to be set on a copy of a slice from a DataFrame.\n",
      "Try using .loc[row_indexer,col_indexer] = value instead\n",
      "\n",
      "See the caveats in the documentation: https://pandas.pydata.org/pandas-docs/stable/user_guide/indexing.html#returning-a-view-versus-a-copy\n",
      "  import sys\n",
      "c:\\users\\kambo\\.virtualenvs\\lebronjames-q3tyihsg\\lib\\site-packages\\ipykernel_launcher.py:7: SettingWithCopyWarning: \n",
      "A value is trying to be set on a copy of a slice from a DataFrame.\n",
      "Try using .loc[row_indexer,col_indexer] = value instead\n",
      "\n",
      "See the caveats in the documentation: https://pandas.pydata.org/pandas-docs/stable/user_guide/indexing.html#returning-a-view-versus-a-copy\n",
      "  import sys\n"
     ]
    }
   ],
   "source": [
    "label_bins = []\n",
    "for object_col in sig_df.select_dtypes(include=[\"object\"]).columns:\n",
    "    object_lb = label_bin(object_col,sig_df)\n",
    "    object_col_lb_pair = (object_col,object_lb)\n",
    "    label_bins.append(object_col_lb_pair)"
   ]
  },
  {
   "cell_type": "code",
   "execution_count": 19,
   "metadata": {},
   "outputs": [
    {
     "data": {
      "text/html": [
       "<div>\n",
       "<style scoped>\n",
       "    .dataframe tbody tr th:only-of-type {\n",
       "        vertical-align: middle;\n",
       "    }\n",
       "\n",
       "    .dataframe tbody tr th {\n",
       "        vertical-align: top;\n",
       "    }\n",
       "\n",
       "    .dataframe thead th {\n",
       "        text-align: right;\n",
       "    }\n",
       "</style>\n",
       "<table border=\"1\" class=\"dataframe\">\n",
       "  <thead>\n",
       "    <tr style=\"text-align: right;\">\n",
       "      <th></th>\n",
       "      <th>PTS-Per-Min</th>\n",
       "      <th>%-Avg</th>\n",
       "      <th>PER-Per-TOV</th>\n",
       "      <th>off_rating</th>\n",
       "      <th>off_rating_above_avg</th>\n",
       "      <th>More-Than-Avg-POSS</th>\n",
       "      <th>Above-Avg-GmSc</th>\n",
       "      <th>game_result</th>\n",
       "      <th>FG%</th>\n",
       "      <th>GmSc</th>\n",
       "      <th>...</th>\n",
       "      <th>SEA</th>\n",
       "      <th>TOR</th>\n",
       "      <th>UTA</th>\n",
       "      <th>WAS</th>\n",
       "      <th>decline</th>\n",
       "      <th>prime</th>\n",
       "      <th>rising</th>\n",
       "      <th>above 35</th>\n",
       "      <th>below 20</th>\n",
       "      <th>below 35</th>\n",
       "    </tr>\n",
       "  </thead>\n",
       "  <tbody>\n",
       "    <tr>\n",
       "      <th>1255</th>\n",
       "      <td>1.027778</td>\n",
       "      <td>0.464357</td>\n",
       "      <td>10.446618</td>\n",
       "      <td>117.088608</td>\n",
       "      <td>1.0</td>\n",
       "      <td>1.0</td>\n",
       "      <td>1.0</td>\n",
       "      <td>10.0</td>\n",
       "      <td>0.571</td>\n",
       "      <td>31.3</td>\n",
       "      <td>...</td>\n",
       "      <td>0.0</td>\n",
       "      <td>0.0</td>\n",
       "      <td>0.0</td>\n",
       "      <td>0.0</td>\n",
       "      <td>1.0</td>\n",
       "      <td>0.0</td>\n",
       "      <td>0.0</td>\n",
       "      <td>1.0</td>\n",
       "      <td>0.0</td>\n",
       "      <td>0.0</td>\n",
       "    </tr>\n",
       "    <tr>\n",
       "      <th>1256</th>\n",
       "      <td>0.823529</td>\n",
       "      <td>0.393773</td>\n",
       "      <td>18.128250</td>\n",
       "      <td>120.898100</td>\n",
       "      <td>1.0</td>\n",
       "      <td>0.0</td>\n",
       "      <td>1.0</td>\n",
       "      <td>9.0</td>\n",
       "      <td>0.412</td>\n",
       "      <td>25.8</td>\n",
       "      <td>...</td>\n",
       "      <td>0.0</td>\n",
       "      <td>0.0</td>\n",
       "      <td>0.0</td>\n",
       "      <td>0.0</td>\n",
       "      <td>1.0</td>\n",
       "      <td>0.0</td>\n",
       "      <td>0.0</td>\n",
       "      <td>0.0</td>\n",
       "      <td>0.0</td>\n",
       "      <td>1.0</td>\n",
       "    </tr>\n",
       "    <tr>\n",
       "      <th>1257</th>\n",
       "      <td>0.852941</td>\n",
       "      <td>0.529692</td>\n",
       "      <td>11.770794</td>\n",
       "      <td>110.687023</td>\n",
       "      <td>1.0</td>\n",
       "      <td>1.0</td>\n",
       "      <td>1.0</td>\n",
       "      <td>-2.0</td>\n",
       "      <td>0.545</td>\n",
       "      <td>24.7</td>\n",
       "      <td>...</td>\n",
       "      <td>0.0</td>\n",
       "      <td>0.0</td>\n",
       "      <td>0.0</td>\n",
       "      <td>0.0</td>\n",
       "      <td>1.0</td>\n",
       "      <td>0.0</td>\n",
       "      <td>0.0</td>\n",
       "      <td>0.0</td>\n",
       "      <td>0.0</td>\n",
       "      <td>1.0</td>\n",
       "    </tr>\n",
       "    <tr>\n",
       "      <th>1258</th>\n",
       "      <td>0.470588</td>\n",
       "      <td>0.309667</td>\n",
       "      <td>2.522094</td>\n",
       "      <td>69.930070</td>\n",
       "      <td>0.0</td>\n",
       "      <td>0.0</td>\n",
       "      <td>0.0</td>\n",
       "      <td>2.0</td>\n",
       "      <td>0.316</td>\n",
       "      <td>9.6</td>\n",
       "      <td>...</td>\n",
       "      <td>0.0</td>\n",
       "      <td>0.0</td>\n",
       "      <td>0.0</td>\n",
       "      <td>0.0</td>\n",
       "      <td>1.0</td>\n",
       "      <td>0.0</td>\n",
       "      <td>0.0</td>\n",
       "      <td>0.0</td>\n",
       "      <td>1.0</td>\n",
       "      <td>0.0</td>\n",
       "    </tr>\n",
       "    <tr>\n",
       "      <th>1259</th>\n",
       "      <td>0.588235</td>\n",
       "      <td>0.450000</td>\n",
       "      <td>4.925272</td>\n",
       "      <td>94.876660</td>\n",
       "      <td>0.0</td>\n",
       "      <td>0.0</td>\n",
       "      <td>0.0</td>\n",
       "      <td>-15.0</td>\n",
       "      <td>0.467</td>\n",
       "      <td>14.3</td>\n",
       "      <td>...</td>\n",
       "      <td>0.0</td>\n",
       "      <td>1.0</td>\n",
       "      <td>0.0</td>\n",
       "      <td>0.0</td>\n",
       "      <td>1.0</td>\n",
       "      <td>0.0</td>\n",
       "      <td>0.0</td>\n",
       "      <td>0.0</td>\n",
       "      <td>0.0</td>\n",
       "      <td>1.0</td>\n",
       "    </tr>\n",
       "  </tbody>\n",
       "</table>\n",
       "<p>5 rows × 71 columns</p>\n",
       "</div>"
      ],
      "text/plain": [
       "      PTS-Per-Min     %-Avg  PER-Per-TOV  off_rating  off_rating_above_avg  \\\n",
       "1255     1.027778  0.464357    10.446618  117.088608                   1.0   \n",
       "1256     0.823529  0.393773    18.128250  120.898100                   1.0   \n",
       "1257     0.852941  0.529692    11.770794  110.687023                   1.0   \n",
       "1258     0.470588  0.309667     2.522094   69.930070                   0.0   \n",
       "1259     0.588235  0.450000     4.925272   94.876660                   0.0   \n",
       "\n",
       "      More-Than-Avg-POSS  Above-Avg-GmSc  game_result    FG%  GmSc  ...  SEA  \\\n",
       "1255                 1.0             1.0         10.0  0.571  31.3  ...  0.0   \n",
       "1256                 0.0             1.0          9.0  0.412  25.8  ...  0.0   \n",
       "1257                 1.0             1.0         -2.0  0.545  24.7  ...  0.0   \n",
       "1258                 0.0             0.0          2.0  0.316   9.6  ...  0.0   \n",
       "1259                 0.0             0.0        -15.0  0.467  14.3  ...  0.0   \n",
       "\n",
       "      TOR  UTA  WAS  decline  prime rising  above 35  below 20  below 35  \n",
       "1255  0.0  0.0  0.0      1.0    0.0    0.0       1.0       0.0       0.0  \n",
       "1256  0.0  0.0  0.0      1.0    0.0    0.0       0.0       0.0       1.0  \n",
       "1257  0.0  0.0  0.0      1.0    0.0    0.0       0.0       0.0       1.0  \n",
       "1258  0.0  0.0  0.0      1.0    0.0    0.0       0.0       1.0       0.0  \n",
       "1259  1.0  0.0  0.0      1.0    0.0    0.0       0.0       0.0       1.0  \n",
       "\n",
       "[5 rows x 71 columns]"
      ]
     },
     "execution_count": 19,
     "metadata": {},
     "output_type": "execute_result"
    }
   ],
   "source": [
    "sig_df.tail()"
   ]
  },
  {
   "cell_type": "code",
   "execution_count": 21,
   "metadata": {},
   "outputs": [
    {
     "data": {
      "text/plain": [
       "[('Opp', LabelBinarizer()),\n",
       " ('Career-Stage', LabelBinarizer()),\n",
       " ('PTS-Cat', LabelBinarizer())]"
      ]
     },
     "execution_count": 21,
     "metadata": {},
     "output_type": "execute_result"
    }
   ],
   "source": [
    "label_bins"
   ]
  },
  {
   "cell_type": "code",
   "execution_count": 22,
   "metadata": {},
   "outputs": [
    {
     "data": {
      "text/html": [
       "<div>\n",
       "<style scoped>\n",
       "    .dataframe tbody tr th:only-of-type {\n",
       "        vertical-align: middle;\n",
       "    }\n",
       "\n",
       "    .dataframe tbody tr th {\n",
       "        vertical-align: top;\n",
       "    }\n",
       "\n",
       "    .dataframe thead th {\n",
       "        text-align: right;\n",
       "    }\n",
       "</style>\n",
       "<table border=\"1\" class=\"dataframe\">\n",
       "  <thead>\n",
       "    <tr style=\"text-align: right;\">\n",
       "      <th></th>\n",
       "      <th>Opp</th>\n",
       "      <th>Career-Stage</th>\n",
       "      <th>PTS-Cat</th>\n",
       "    </tr>\n",
       "  </thead>\n",
       "  <tbody>\n",
       "    <tr>\n",
       "      <th>0</th>\n",
       "      <td>SAC</td>\n",
       "      <td>rising</td>\n",
       "      <td>below 35</td>\n",
       "    </tr>\n",
       "    <tr>\n",
       "      <th>1</th>\n",
       "      <td>PHO</td>\n",
       "      <td>rising</td>\n",
       "      <td>below 35</td>\n",
       "    </tr>\n",
       "    <tr>\n",
       "      <th>2</th>\n",
       "      <td>POR</td>\n",
       "      <td>rising</td>\n",
       "      <td>below 20</td>\n",
       "    </tr>\n",
       "    <tr>\n",
       "      <th>3</th>\n",
       "      <td>DEN</td>\n",
       "      <td>rising</td>\n",
       "      <td>below 20</td>\n",
       "    </tr>\n",
       "    <tr>\n",
       "      <th>4</th>\n",
       "      <td>IND</td>\n",
       "      <td>rising</td>\n",
       "      <td>below 35</td>\n",
       "    </tr>\n",
       "    <tr>\n",
       "      <th>...</th>\n",
       "      <td>...</td>\n",
       "      <td>...</td>\n",
       "      <td>...</td>\n",
       "    </tr>\n",
       "    <tr>\n",
       "      <th>1255</th>\n",
       "      <td>MIL</td>\n",
       "      <td>decline</td>\n",
       "      <td>above 35</td>\n",
       "    </tr>\n",
       "    <tr>\n",
       "      <th>1256</th>\n",
       "      <td>LAC</td>\n",
       "      <td>decline</td>\n",
       "      <td>below 35</td>\n",
       "    </tr>\n",
       "    <tr>\n",
       "      <th>1257</th>\n",
       "      <td>BRK</td>\n",
       "      <td>decline</td>\n",
       "      <td>below 35</td>\n",
       "    </tr>\n",
       "    <tr>\n",
       "      <th>1258</th>\n",
       "      <td>LAC</td>\n",
       "      <td>decline</td>\n",
       "      <td>below 20</td>\n",
       "    </tr>\n",
       "    <tr>\n",
       "      <th>1259</th>\n",
       "      <td>TOR</td>\n",
       "      <td>decline</td>\n",
       "      <td>below 35</td>\n",
       "    </tr>\n",
       "  </tbody>\n",
       "</table>\n",
       "<p>1260 rows × 3 columns</p>\n",
       "</div>"
      ],
      "text/plain": [
       "      Opp Career-Stage   PTS-Cat\n",
       "0     SAC       rising  below 35\n",
       "1     PHO       rising  below 35\n",
       "2     POR       rising  below 20\n",
       "3     DEN       rising  below 20\n",
       "4     IND       rising  below 35\n",
       "...   ...          ...       ...\n",
       "1255  MIL      decline  above 35\n",
       "1256  LAC      decline  below 35\n",
       "1257  BRK      decline  below 35\n",
       "1258  LAC      decline  below 20\n",
       "1259  TOR      decline  below 35\n",
       "\n",
       "[1260 rows x 3 columns]"
      ]
     },
     "execution_count": 22,
     "metadata": {},
     "output_type": "execute_result"
    }
   ],
   "source": [
    "sig_df.select_dtypes(include=[\"object\"])"
   ]
  },
  {
   "cell_type": "code",
   "execution_count": 23,
   "metadata": {},
   "outputs": [],
   "source": [
    "split = StratifiedShuffleSplit(n_splits=1,test_size=0.33)"
   ]
  },
  {
   "cell_type": "code",
   "execution_count": 24,
   "metadata": {},
   "outputs": [],
   "source": [
    "ml_models_performances = []"
   ]
  },
  {
   "cell_type": "markdown",
   "metadata": {},
   "source": [
    "<h2>Perform Machine Learning with Opposition Team Feature Included</h2>"
   ]
  },
  {
   "cell_type": "code",
   "execution_count": 25,
   "metadata": {},
   "outputs": [],
   "source": [
    "std_scaler = StandardScaler()"
   ]
  },
  {
   "cell_type": "code",
   "execution_count": 26,
   "metadata": {},
   "outputs": [],
   "source": [
    "one_hot_encoded_sig_df = sig_df.select_dtypes(exclude=[\"object\"])"
   ]
  },
  {
   "cell_type": "code",
   "execution_count": 27,
   "metadata": {},
   "outputs": [
    {
     "data": {
      "text/plain": [
       "Index(['PTS-Per-Min', '%-Avg', 'PER-Per-TOV', 'off_rating',\n",
       "       'off_rating_above_avg', 'More-Than-Avg-POSS', 'Above-Avg-GmSc',\n",
       "       'game_result', 'FG%', 'GmSc', 'TS%', 'GmSc-Per-PTS', 'PTS-Per-POSS',\n",
       "       'game_result-Per-PTS', 'PER', 'game_location', 'Won',\n",
       "       'High-3P%-Shooting', 'High-FG%-Shooting', 'Over-3-BLKs-and-STLs',\n",
       "       'Played-Above-Avg-Min', 'Above-Avg-FT%', 'Above-Avg-PTS-Per-POSS',\n",
       "       'More-BLKs-Than-STLs', 'More-AST-Than-TOV', '2P%-Above-50%',\n",
       "       'More than 3 Fouls', 'ATL', 'BOS', 'BRK', 'CHA', 'CHI', 'CHO', 'CLE',\n",
       "       'DAL', 'DEN', 'DET', 'GSW', 'HOU', 'IND', 'LAC', 'LAL', 'MEM', 'MIA',\n",
       "       'MIL', 'MIN', 'NJN', 'NOH', 'NOK', 'NOP', 'NYK', 'OKC', 'ORL', 'PHI',\n",
       "       'PHO', 'POR', 'SAC', 'SAS', 'SEA', 'TOR', 'UTA', 'WAS', 'decline',\n",
       "       'prime', 'rising', 'above 35', 'below 20', 'below 35'],\n",
       "      dtype='object')"
      ]
     },
     "execution_count": 27,
     "metadata": {},
     "output_type": "execute_result"
    }
   ],
   "source": [
    "one_hot_encoded_sig_df.columns"
   ]
  },
  {
   "cell_type": "code",
   "execution_count": 28,
   "metadata": {},
   "outputs": [],
   "source": [
    "std_scale_sig_data = std_scaler.fit_transform(one_hot_encoded_sig_df.values)"
   ]
  },
  {
   "cell_type": "code",
   "execution_count": 29,
   "metadata": {},
   "outputs": [],
   "source": [
    "std_scale_sig_df = pd.DataFrame(std_scale_sig_data,columns=one_hot_encoded_sig_df.columns)"
   ]
  },
  {
   "cell_type": "code",
   "execution_count": 30,
   "metadata": {},
   "outputs": [
    {
     "data": {
      "text/html": [
       "<div>\n",
       "<style scoped>\n",
       "    .dataframe tbody tr th:only-of-type {\n",
       "        vertical-align: middle;\n",
       "    }\n",
       "\n",
       "    .dataframe tbody tr th {\n",
       "        vertical-align: top;\n",
       "    }\n",
       "\n",
       "    .dataframe thead th {\n",
       "        text-align: right;\n",
       "    }\n",
       "</style>\n",
       "<table border=\"1\" class=\"dataframe\">\n",
       "  <thead>\n",
       "    <tr style=\"text-align: right;\">\n",
       "      <th></th>\n",
       "      <th>PTS-Per-Min</th>\n",
       "      <th>%-Avg</th>\n",
       "      <th>PER-Per-TOV</th>\n",
       "      <th>off_rating</th>\n",
       "      <th>off_rating_above_avg</th>\n",
       "      <th>More-Than-Avg-POSS</th>\n",
       "      <th>Above-Avg-GmSc</th>\n",
       "      <th>game_result</th>\n",
       "      <th>FG%</th>\n",
       "      <th>GmSc</th>\n",
       "      <th>...</th>\n",
       "      <th>SEA</th>\n",
       "      <th>TOR</th>\n",
       "      <th>UTA</th>\n",
       "      <th>WAS</th>\n",
       "      <th>decline</th>\n",
       "      <th>prime</th>\n",
       "      <th>rising</th>\n",
       "      <th>above 35</th>\n",
       "      <th>below 20</th>\n",
       "      <th>below 35</th>\n",
       "    </tr>\n",
       "  </thead>\n",
       "  <tbody>\n",
       "    <tr>\n",
       "      <th>0</th>\n",
       "      <td>-0.635326</td>\n",
       "      <td>-0.661242</td>\n",
       "      <td>0.467196</td>\n",
       "      <td>0.480218</td>\n",
       "      <td>0.973370</td>\n",
       "      <td>-0.973370</td>\n",
       "      <td>0.962604</td>\n",
       "      <td>-1.420272</td>\n",
       "      <td>0.846395</td>\n",
       "      <td>0.318334</td>\n",
       "      <td>...</td>\n",
       "      <td>-0.079936</td>\n",
       "      <td>-0.213643</td>\n",
       "      <td>-0.161427</td>\n",
       "      <td>-0.205387</td>\n",
       "      <td>-0.386827</td>\n",
       "      <td>-0.766095</td>\n",
       "      <td>1.0</td>\n",
       "      <td>-0.439525</td>\n",
       "      <td>-0.456129</td>\n",
       "      <td>0.708370</td>\n",
       "    </tr>\n",
       "    <tr>\n",
       "      <th>1</th>\n",
       "      <td>-1.005199</td>\n",
       "      <td>-0.248814</td>\n",
       "      <td>-0.919494</td>\n",
       "      <td>-1.059284</td>\n",
       "      <td>-1.027358</td>\n",
       "      <td>-0.973370</td>\n",
       "      <td>-1.038849</td>\n",
       "      <td>-1.035821</td>\n",
       "      <td>-0.304266</td>\n",
       "      <td>-0.975332</td>\n",
       "      <td>...</td>\n",
       "      <td>-0.079936</td>\n",
       "      <td>-0.213643</td>\n",
       "      <td>-0.161427</td>\n",
       "      <td>-0.205387</td>\n",
       "      <td>-0.386827</td>\n",
       "      <td>-0.766095</td>\n",
       "      <td>1.0</td>\n",
       "      <td>-0.439525</td>\n",
       "      <td>-0.456129</td>\n",
       "      <td>0.708370</td>\n",
       "    </tr>\n",
       "    <tr>\n",
       "      <th>2</th>\n",
       "      <td>-2.689642</td>\n",
       "      <td>-2.053853</td>\n",
       "      <td>-0.881924</td>\n",
       "      <td>-2.435320</td>\n",
       "      <td>-1.027358</td>\n",
       "      <td>-0.973370</td>\n",
       "      <td>-1.038849</td>\n",
       "      <td>-1.804724</td>\n",
       "      <td>-2.275553</td>\n",
       "      <td>-2.230188</td>\n",
       "      <td>...</td>\n",
       "      <td>-0.079936</td>\n",
       "      <td>-0.213643</td>\n",
       "      <td>-0.161427</td>\n",
       "      <td>-0.205387</td>\n",
       "      <td>-0.386827</td>\n",
       "      <td>-0.766095</td>\n",
       "      <td>1.0</td>\n",
       "      <td>-0.439525</td>\n",
       "      <td>2.192362</td>\n",
       "      <td>-1.411692</td>\n",
       "    </tr>\n",
       "    <tr>\n",
       "      <th>3</th>\n",
       "      <td>-2.870773</td>\n",
       "      <td>-1.839605</td>\n",
       "      <td>-0.439444</td>\n",
       "      <td>-2.094377</td>\n",
       "      <td>-1.027358</td>\n",
       "      <td>-0.973370</td>\n",
       "      <td>-1.038849</td>\n",
       "      <td>-0.651370</td>\n",
       "      <td>-2.070397</td>\n",
       "      <td>-1.428115</td>\n",
       "      <td>...</td>\n",
       "      <td>-0.079936</td>\n",
       "      <td>-0.213643</td>\n",
       "      <td>-0.161427</td>\n",
       "      <td>-0.205387</td>\n",
       "      <td>-0.386827</td>\n",
       "      <td>-0.766095</td>\n",
       "      <td>1.0</td>\n",
       "      <td>-0.439525</td>\n",
       "      <td>2.192362</td>\n",
       "      <td>-1.411692</td>\n",
       "    </tr>\n",
       "    <tr>\n",
       "      <th>4</th>\n",
       "      <td>-0.953152</td>\n",
       "      <td>0.296179</td>\n",
       "      <td>-1.052281</td>\n",
       "      <td>-1.142999</td>\n",
       "      <td>-1.027358</td>\n",
       "      <td>1.027358</td>\n",
       "      <td>-1.038849</td>\n",
       "      <td>-0.420699</td>\n",
       "      <td>-0.545102</td>\n",
       "      <td>-1.712722</td>\n",
       "      <td>...</td>\n",
       "      <td>-0.079936</td>\n",
       "      <td>-0.213643</td>\n",
       "      <td>-0.161427</td>\n",
       "      <td>-0.205387</td>\n",
       "      <td>-0.386827</td>\n",
       "      <td>-0.766095</td>\n",
       "      <td>1.0</td>\n",
       "      <td>-0.439525</td>\n",
       "      <td>-0.456129</td>\n",
       "      <td>0.708370</td>\n",
       "    </tr>\n",
       "  </tbody>\n",
       "</table>\n",
       "<p>5 rows × 68 columns</p>\n",
       "</div>"
      ],
      "text/plain": [
       "   PTS-Per-Min     %-Avg  PER-Per-TOV  off_rating  off_rating_above_avg  \\\n",
       "0    -0.635326 -0.661242     0.467196    0.480218              0.973370   \n",
       "1    -1.005199 -0.248814    -0.919494   -1.059284             -1.027358   \n",
       "2    -2.689642 -2.053853    -0.881924   -2.435320             -1.027358   \n",
       "3    -2.870773 -1.839605    -0.439444   -2.094377             -1.027358   \n",
       "4    -0.953152  0.296179    -1.052281   -1.142999             -1.027358   \n",
       "\n",
       "   More-Than-Avg-POSS  Above-Avg-GmSc  game_result       FG%      GmSc  ...  \\\n",
       "0           -0.973370        0.962604    -1.420272  0.846395  0.318334  ...   \n",
       "1           -0.973370       -1.038849    -1.035821 -0.304266 -0.975332  ...   \n",
       "2           -0.973370       -1.038849    -1.804724 -2.275553 -2.230188  ...   \n",
       "3           -0.973370       -1.038849    -0.651370 -2.070397 -1.428115  ...   \n",
       "4            1.027358       -1.038849    -0.420699 -0.545102 -1.712722  ...   \n",
       "\n",
       "        SEA       TOR       UTA       WAS   decline     prime  rising  \\\n",
       "0 -0.079936 -0.213643 -0.161427 -0.205387 -0.386827 -0.766095     1.0   \n",
       "1 -0.079936 -0.213643 -0.161427 -0.205387 -0.386827 -0.766095     1.0   \n",
       "2 -0.079936 -0.213643 -0.161427 -0.205387 -0.386827 -0.766095     1.0   \n",
       "3 -0.079936 -0.213643 -0.161427 -0.205387 -0.386827 -0.766095     1.0   \n",
       "4 -0.079936 -0.213643 -0.161427 -0.205387 -0.386827 -0.766095     1.0   \n",
       "\n",
       "   above 35  below 20  below 35  \n",
       "0 -0.439525 -0.456129  0.708370  \n",
       "1 -0.439525 -0.456129  0.708370  \n",
       "2 -0.439525  2.192362 -1.411692  \n",
       "3 -0.439525  2.192362 -1.411692  \n",
       "4 -0.439525 -0.456129  0.708370  \n",
       "\n",
       "[5 rows x 68 columns]"
      ]
     },
     "execution_count": 30,
     "metadata": {},
     "output_type": "execute_result"
    }
   ],
   "source": [
    "std_scale_sig_df.head()"
   ]
  },
  {
   "cell_type": "code",
   "execution_count": 31,
   "metadata": {},
   "outputs": [
    {
     "name": "stdout",
     "output_type": "stream",
     "text": [
      "There are 68 columns\n"
     ]
    },
    {
     "data": {
      "text/plain": [
       "Index(['PTS-Per-Min', '%-Avg', 'PER-Per-TOV', 'off_rating',\n",
       "       'off_rating_above_avg', 'More-Than-Avg-POSS', 'Above-Avg-GmSc',\n",
       "       'game_result', 'FG%', 'GmSc', 'TS%', 'GmSc-Per-PTS', 'PTS-Per-POSS',\n",
       "       'game_result-Per-PTS', 'PER', 'game_location', 'Won',\n",
       "       'High-3P%-Shooting', 'High-FG%-Shooting', 'Over-3-BLKs-and-STLs',\n",
       "       'Played-Above-Avg-Min', 'Above-Avg-FT%', 'Above-Avg-PTS-Per-POSS',\n",
       "       'More-BLKs-Than-STLs', 'More-AST-Than-TOV', '2P%-Above-50%',\n",
       "       'More than 3 Fouls', 'ATL', 'BOS', 'BRK', 'CHA', 'CHI', 'CHO', 'CLE',\n",
       "       'DAL', 'DEN', 'DET', 'GSW', 'HOU', 'IND', 'LAC', 'LAL', 'MEM', 'MIA',\n",
       "       'MIL', 'MIN', 'NJN', 'NOH', 'NOK', 'NOP', 'NYK', 'OKC', 'ORL', 'PHI',\n",
       "       'PHO', 'POR', 'SAC', 'SAS', 'SEA', 'TOR', 'UTA', 'WAS', 'decline',\n",
       "       'prime', 'rising', 'above 35', 'below 20', 'below 35'],\n",
       "      dtype='object')"
      ]
     },
     "execution_count": 31,
     "metadata": {},
     "output_type": "execute_result"
    }
   ],
   "source": [
    "print(f\"There are {len(std_scale_sig_df.columns)} columns\")\n",
    "std_scale_sig_df.columns"
   ]
  },
  {
   "cell_type": "code",
   "execution_count": 32,
   "metadata": {
    "scrolled": false
   },
   "outputs": [],
   "source": [
    "X, y = std_scale_sig_df.values, target"
   ]
  },
  {
   "cell_type": "code",
   "execution_count": 33,
   "metadata": {},
   "outputs": [],
   "source": [
    "X_train, X_test, y_train, y_test = train_test_split(X,y,test_size=0.33)"
   ]
  },
  {
   "cell_type": "markdown",
   "metadata": {},
   "source": [
    "<h4>Linear Regression</h4>"
   ]
  },
  {
   "cell_type": "code",
   "execution_count": 34,
   "metadata": {},
   "outputs": [],
   "source": [
    "ln = LinearRegression()"
   ]
  },
  {
   "cell_type": "code",
   "execution_count": 35,
   "metadata": {},
   "outputs": [
    {
     "data": {
      "text/plain": [
       "LinearRegression()"
      ]
     },
     "execution_count": 35,
     "metadata": {},
     "output_type": "execute_result"
    }
   ],
   "source": [
    "ln.fit(X_train,y_train)"
   ]
  },
  {
   "cell_type": "code",
   "execution_count": 36,
   "metadata": {},
   "outputs": [],
   "source": [
    "y_pred = ln.predict(X_test)"
   ]
  },
  {
   "cell_type": "code",
   "execution_count": 37,
   "metadata": {},
   "outputs": [
    {
     "name": "stdout",
     "output_type": "stream",
     "text": [
      "The root mean squared error for linear regression is 6.37 points\n"
     ]
    }
   ],
   "source": [
    "rmse = mean_squared_error(y_test,y_pred,squared=False)\n",
    "print(f\"The root mean squared error for linear regression is {round(rmse,2)} points\")"
   ]
  },
  {
   "cell_type": "code",
   "execution_count": 38,
   "metadata": {},
   "outputs": [],
   "source": [
    "ml_performance = (\"lin_reg_w_opp_teams_w/out_pca\",rmse)"
   ]
  },
  {
   "cell_type": "code",
   "execution_count": 39,
   "metadata": {},
   "outputs": [],
   "source": [
    "ml_models_performances.append(ml_performance)"
   ]
  },
  {
   "cell_type": "markdown",
   "metadata": {},
   "source": [
    "<h4>SGD Regression</h4>"
   ]
  },
  {
   "cell_type": "code",
   "execution_count": 40,
   "metadata": {},
   "outputs": [],
   "source": [
    "sgd_param_grid = [\n",
    "    {\n",
    "        \"loss\":[\"squared_loss\",\"huber\",\"epsilon_insensitive\",\"squared_epsilon_insensitive\"],\n",
    "        \"epsilon\":[0.1,0.01,0.001]\n",
    "    }\n",
    "]"
   ]
  },
  {
   "cell_type": "code",
   "execution_count": 41,
   "metadata": {},
   "outputs": [],
   "source": [
    "sgd_grid_search = GridSearchCV(SGDRegressor(),sgd_param_grid,cv=5,scoring=\"neg_root_mean_squared_error\",n_jobs=-1)"
   ]
  },
  {
   "cell_type": "code",
   "execution_count": 42,
   "metadata": {},
   "outputs": [
    {
     "data": {
      "text/plain": [
       "GridSearchCV(cv=5, estimator=SGDRegressor(), n_jobs=-1,\n",
       "             param_grid=[{'epsilon': [0.1, 0.01, 0.001],\n",
       "                          'loss': ['squared_loss', 'huber',\n",
       "                                   'epsilon_insensitive',\n",
       "                                   'squared_epsilon_insensitive']}],\n",
       "             scoring='neg_root_mean_squared_error')"
      ]
     },
     "execution_count": 42,
     "metadata": {},
     "output_type": "execute_result"
    }
   ],
   "source": [
    "sgd_grid_search.fit(X_train,y_train)"
   ]
  },
  {
   "cell_type": "code",
   "execution_count": 43,
   "metadata": {},
   "outputs": [
    {
     "data": {
      "text/plain": [
       "{'epsilon': 0.1, 'loss': 'squared_loss'}"
      ]
     },
     "execution_count": 43,
     "metadata": {},
     "output_type": "execute_result"
    }
   ],
   "source": [
    "sgd_grid_search.best_params_"
   ]
  },
  {
   "cell_type": "code",
   "execution_count": 44,
   "metadata": {},
   "outputs": [],
   "source": [
    "best_sgd_reg = sgd_grid_search.best_estimator_"
   ]
  },
  {
   "cell_type": "code",
   "execution_count": 45,
   "metadata": {},
   "outputs": [],
   "source": [
    "y_pred = best_sgd_reg.predict(X_test)"
   ]
  },
  {
   "cell_type": "code",
   "execution_count": 46,
   "metadata": {},
   "outputs": [
    {
     "name": "stdout",
     "output_type": "stream",
     "text": [
      "The root mean squared error for SGD regression is 6.41 points\n"
     ]
    }
   ],
   "source": [
    "rmse = mean_squared_error(y_test,y_pred,squared=False)\n",
    "print(f\"The root mean squared error for SGD regression is {round(rmse,2)} points\")"
   ]
  },
  {
   "cell_type": "code",
   "execution_count": 47,
   "metadata": {},
   "outputs": [],
   "source": [
    "ml_performance = (\"sgd_reg_w_opp_teams_w/out_pca\",rmse)"
   ]
  },
  {
   "cell_type": "code",
   "execution_count": 48,
   "metadata": {},
   "outputs": [],
   "source": [
    "ml_models_performances.append(ml_performance)"
   ]
  },
  {
   "cell_type": "markdown",
   "metadata": {},
   "source": [
    "<h4>Random Forest Regression</h4>"
   ]
  },
  {
   "cell_type": "code",
   "execution_count": 49,
   "metadata": {},
   "outputs": [],
   "source": [
    "rand_forest_param_grid = [\n",
    "    {\n",
    "        \"n_estimators\":[50,100,500],\n",
    "        \"criterion\":[\"mse\",\"mae\"]\n",
    "    }\n",
    "]"
   ]
  },
  {
   "cell_type": "code",
   "execution_count": 50,
   "metadata": {},
   "outputs": [],
   "source": [
    "rand_forest_grid_search = GridSearchCV(RandomForestRegressor(),rand_forest_param_grid,cv=5,scoring=\"neg_root_mean_squared_error\",n_jobs=-1)"
   ]
  },
  {
   "cell_type": "code",
   "execution_count": 51,
   "metadata": {},
   "outputs": [
    {
     "data": {
      "text/plain": [
       "GridSearchCV(cv=5, estimator=RandomForestRegressor(), n_jobs=-1,\n",
       "             param_grid=[{'criterion': ['mse', 'mae'],\n",
       "                          'n_estimators': [50, 100, 500]}],\n",
       "             scoring='neg_root_mean_squared_error')"
      ]
     },
     "execution_count": 51,
     "metadata": {},
     "output_type": "execute_result"
    }
   ],
   "source": [
    "rand_forest_grid_search.fit(X_train,y_train)"
   ]
  },
  {
   "cell_type": "code",
   "execution_count": 52,
   "metadata": {},
   "outputs": [
    {
     "data": {
      "text/plain": [
       "{'criterion': 'mae', 'n_estimators': 50}"
      ]
     },
     "execution_count": 52,
     "metadata": {},
     "output_type": "execute_result"
    }
   ],
   "source": [
    "rand_forest_grid_search.best_params_"
   ]
  },
  {
   "cell_type": "code",
   "execution_count": 53,
   "metadata": {},
   "outputs": [],
   "source": [
    "best_rand_forest_reg = rand_forest_grid_search.best_estimator_"
   ]
  },
  {
   "cell_type": "code",
   "execution_count": 54,
   "metadata": {},
   "outputs": [],
   "source": [
    "y_pred = best_rand_forest_reg.predict(X_test)"
   ]
  },
  {
   "cell_type": "code",
   "execution_count": 55,
   "metadata": {},
   "outputs": [
    {
     "name": "stdout",
     "output_type": "stream",
     "text": [
      "The root mean squared error for SGD regression is 6.63 points\n"
     ]
    }
   ],
   "source": [
    "rmse = mean_squared_error(y_test,y_pred,squared=False)\n",
    "print(f\"The root mean squared error for SGD regression is {round(rmse,2)} points\")"
   ]
  },
  {
   "cell_type": "code",
   "execution_count": 56,
   "metadata": {},
   "outputs": [],
   "source": [
    "ml_performance = (\"rand_forest_reg_w_opp_teams_w/out_pca\",rmse)"
   ]
  },
  {
   "cell_type": "code",
   "execution_count": 57,
   "metadata": {},
   "outputs": [],
   "source": [
    "ml_models_performances.append(ml_performance)"
   ]
  },
  {
   "cell_type": "markdown",
   "metadata": {},
   "source": [
    "<h4>Elastic Net Regression</h4>"
   ]
  },
  {
   "cell_type": "code",
   "execution_count": 58,
   "metadata": {},
   "outputs": [],
   "source": [
    "elastic_net_param_grid = [\n",
    "    {\n",
    "        \"l1_ratio\":[0.25,0.5,0.75]\n",
    "    }\n",
    "]"
   ]
  },
  {
   "cell_type": "code",
   "execution_count": 59,
   "metadata": {},
   "outputs": [],
   "source": [
    "elastic_net_grid_search = GridSearchCV(ElasticNet(),elastic_net_param_grid,cv=5,scoring=\"neg_root_mean_squared_error\",n_jobs=-1)"
   ]
  },
  {
   "cell_type": "code",
   "execution_count": 60,
   "metadata": {},
   "outputs": [
    {
     "data": {
      "text/plain": [
       "GridSearchCV(cv=5, estimator=ElasticNet(), n_jobs=-1,\n",
       "             param_grid=[{'l1_ratio': [0.25, 0.5, 0.75]}],\n",
       "             scoring='neg_root_mean_squared_error')"
      ]
     },
     "execution_count": 60,
     "metadata": {},
     "output_type": "execute_result"
    }
   ],
   "source": [
    "elastic_net_grid_search.fit(X_train,y_train)"
   ]
  },
  {
   "cell_type": "code",
   "execution_count": 61,
   "metadata": {},
   "outputs": [
    {
     "data": {
      "text/plain": [
       "{'l1_ratio': 0.75}"
      ]
     },
     "execution_count": 61,
     "metadata": {},
     "output_type": "execute_result"
    }
   ],
   "source": [
    "elastic_net_grid_search.best_params_"
   ]
  },
  {
   "cell_type": "code",
   "execution_count": 62,
   "metadata": {},
   "outputs": [],
   "source": [
    "best_elastic_net_reg = elastic_net_grid_search.best_estimator_"
   ]
  },
  {
   "cell_type": "code",
   "execution_count": 63,
   "metadata": {},
   "outputs": [],
   "source": [
    "y_pred = best_elastic_net_reg.predict(X_test)"
   ]
  },
  {
   "cell_type": "code",
   "execution_count": 64,
   "metadata": {},
   "outputs": [
    {
     "name": "stdout",
     "output_type": "stream",
     "text": [
      "The root mean squared error for Elastic Net regression is 6.92 points\n"
     ]
    }
   ],
   "source": [
    "rmse = mean_squared_error(y_test,y_pred,squared=False)\n",
    "print(f\"The root mean squared error for Elastic Net regression is {round(rmse,2)} points\")"
   ]
  },
  {
   "cell_type": "code",
   "execution_count": 65,
   "metadata": {},
   "outputs": [],
   "source": [
    "ml_performance = (\"elastic_net_reg_w_opp_teams_w/out_pca\",rmse)"
   ]
  },
  {
   "cell_type": "code",
   "execution_count": 66,
   "metadata": {},
   "outputs": [],
   "source": [
    "ml_models_performances.append(ml_performance)"
   ]
  },
  {
   "cell_type": "markdown",
   "metadata": {},
   "source": [
    "<h3>Perform PCA to see if there is any performance improvements</h3>"
   ]
  },
  {
   "cell_type": "code",
   "execution_count": 67,
   "metadata": {},
   "outputs": [],
   "source": [
    "pca = PCA()"
   ]
  },
  {
   "cell_type": "code",
   "execution_count": 68,
   "metadata": {},
   "outputs": [
    {
     "data": {
      "text/plain": [
       "array([[-5.98477896e+00,  2.06242204e+01,  3.31527466e+00, ...,\n",
       "         4.14072055e-15, -9.61510991e-15, -3.22636612e-15],\n",
       "       [ 3.03538080e+01,  6.41256875e+00, -2.19963501e+00, ...,\n",
       "         4.59793656e-15, -2.66561156e-15,  7.75295086e-15],\n",
       "       [ 6.45456817e+01,  7.37135727e+00,  5.00338535e+00, ...,\n",
       "         3.27243014e-15,  2.64471418e-15, -2.47737826e-15],\n",
       "       ...,\n",
       "       [-5.13312941e+00,  7.50926672e+00,  9.69286671e-01, ...,\n",
       "         6.30929269e-16,  2.52268247e-17,  1.26553867e-16],\n",
       "       [ 4.20338247e+01, -8.29259835e+00, -1.15840290e-01, ...,\n",
       "         2.46393615e-16, -8.47394234e-16, -2.00844010e-15],\n",
       "       [ 2.11091955e+01,  1.49456703e+01, -1.47886592e+00, ...,\n",
       "         1.83158706e-15,  5.90287679e-16, -3.06797676e-15]])"
      ]
     },
     "execution_count": 68,
     "metadata": {},
     "output_type": "execute_result"
    }
   ],
   "source": [
    "pca.fit_transform(one_hot_encoded_sig_df.values)"
   ]
  },
  {
   "cell_type": "code",
   "execution_count": 69,
   "metadata": {},
   "outputs": [
    {
     "data": {
      "text/plain": [
       "1.0"
      ]
     },
     "execution_count": 69,
     "metadata": {},
     "output_type": "execute_result"
    }
   ],
   "source": [
    "sum(pca.explained_variance_ratio_)"
   ]
  },
  {
   "cell_type": "code",
   "execution_count": 70,
   "metadata": {},
   "outputs": [],
   "source": [
    "cum_sum = np.cumsum(pca.explained_variance_ratio_)"
   ]
  },
  {
   "cell_type": "code",
   "execution_count": 71,
   "metadata": {},
   "outputs": [],
   "source": [
    "max_comp_idx = np.argmax(cum_sum>0.95)"
   ]
  },
  {
   "cell_type": "code",
   "execution_count": 72,
   "metadata": {},
   "outputs": [],
   "source": [
    "pca = PCA(n_components=max_comp_idx+1)"
   ]
  },
  {
   "cell_type": "code",
   "execution_count": 73,
   "metadata": {},
   "outputs": [],
   "source": [
    "pca_transformed_sig_data = pca.fit_transform(one_hot_encoded_sig_df.values)"
   ]
  },
  {
   "cell_type": "code",
   "execution_count": 74,
   "metadata": {},
   "outputs": [],
   "source": [
    "X, y = pca_transformed_sig_data, target"
   ]
  },
  {
   "cell_type": "code",
   "execution_count": 75,
   "metadata": {},
   "outputs": [],
   "source": [
    "X_train, X_test, y_train, y_test = train_test_split(X,y, test_size=0.33, random_state=42)"
   ]
  },
  {
   "cell_type": "markdown",
   "metadata": {},
   "source": [
    "<h4>Linear Regression</h4>"
   ]
  },
  {
   "cell_type": "code",
   "execution_count": 76,
   "metadata": {},
   "outputs": [],
   "source": [
    "ln = LinearRegression()"
   ]
  },
  {
   "cell_type": "code",
   "execution_count": 77,
   "metadata": {},
   "outputs": [
    {
     "data": {
      "text/plain": [
       "LinearRegression()"
      ]
     },
     "execution_count": 77,
     "metadata": {},
     "output_type": "execute_result"
    }
   ],
   "source": [
    "ln.fit(X_train,y_train)"
   ]
  },
  {
   "cell_type": "code",
   "execution_count": 78,
   "metadata": {},
   "outputs": [],
   "source": [
    "y_pred = ln.predict(X_test)"
   ]
  },
  {
   "cell_type": "code",
   "execution_count": 79,
   "metadata": {},
   "outputs": [
    {
     "name": "stdout",
     "output_type": "stream",
     "text": [
      "The root mean squared error for linear regression is 6.71 points\n"
     ]
    }
   ],
   "source": [
    "rmse = mean_squared_error(y_test,y_pred,squared=False)\n",
    "print(f\"The root mean squared error for linear regression is {round(rmse,2)} points\")"
   ]
  },
  {
   "cell_type": "code",
   "execution_count": 80,
   "metadata": {},
   "outputs": [],
   "source": [
    "ml_performance = (\"lin_reg_w_opp_teams_w_pca\",rmse)"
   ]
  },
  {
   "cell_type": "code",
   "execution_count": 81,
   "metadata": {},
   "outputs": [],
   "source": [
    "ml_models_performances.append(ml_performance)"
   ]
  },
  {
   "cell_type": "markdown",
   "metadata": {},
   "source": [
    "<h4>SGD Regression</h4>"
   ]
  },
  {
   "cell_type": "code",
   "execution_count": 82,
   "metadata": {},
   "outputs": [],
   "source": [
    "sgd_param_grid = [\n",
    "    {\n",
    "        \"loss\":[\"squared_loss\",\"huber\",\"epsilon_insensitive\",\"squared_epsilon_insensitive\"],\n",
    "        \"epsilon\":[0.1,0.01,0.001]\n",
    "    }\n",
    "]"
   ]
  },
  {
   "cell_type": "code",
   "execution_count": 83,
   "metadata": {},
   "outputs": [],
   "source": [
    "sgd_grid_search = GridSearchCV(SGDRegressor(),sgd_param_grid,cv=5,scoring=\"neg_root_mean_squared_error\",n_jobs=-1)"
   ]
  },
  {
   "cell_type": "code",
   "execution_count": 84,
   "metadata": {},
   "outputs": [
    {
     "data": {
      "text/plain": [
       "GridSearchCV(cv=5, estimator=SGDRegressor(), n_jobs=-1,\n",
       "             param_grid=[{'epsilon': [0.1, 0.01, 0.001],\n",
       "                          'loss': ['squared_loss', 'huber',\n",
       "                                   'epsilon_insensitive',\n",
       "                                   'squared_epsilon_insensitive']}],\n",
       "             scoring='neg_root_mean_squared_error')"
      ]
     },
     "execution_count": 84,
     "metadata": {},
     "output_type": "execute_result"
    }
   ],
   "source": [
    "sgd_grid_search.fit(X_train,y_train)"
   ]
  },
  {
   "cell_type": "code",
   "execution_count": 85,
   "metadata": {},
   "outputs": [
    {
     "data": {
      "text/plain": [
       "{'epsilon': 0.1, 'loss': 'epsilon_insensitive'}"
      ]
     },
     "execution_count": 85,
     "metadata": {},
     "output_type": "execute_result"
    }
   ],
   "source": [
    "sgd_grid_search.best_params_"
   ]
  },
  {
   "cell_type": "code",
   "execution_count": 86,
   "metadata": {},
   "outputs": [],
   "source": [
    "best_sgd_reg = sgd_grid_search.best_estimator_"
   ]
  },
  {
   "cell_type": "code",
   "execution_count": 87,
   "metadata": {},
   "outputs": [],
   "source": [
    "y_pred = best_sgd_reg.predict(X_test)"
   ]
  },
  {
   "cell_type": "code",
   "execution_count": 88,
   "metadata": {},
   "outputs": [
    {
     "name": "stdout",
     "output_type": "stream",
     "text": [
      "The root mean squared error for SGD regression is 7.06 points\n"
     ]
    }
   ],
   "source": [
    "rmse = mean_squared_error(y_test,y_pred,squared=False)\n",
    "print(f\"The root mean squared error for SGD regression is {round(rmse,2)} points\")"
   ]
  },
  {
   "cell_type": "code",
   "execution_count": 89,
   "metadata": {},
   "outputs": [],
   "source": [
    "ml_performance = (\"sgd_reg_w_opp_teams_w_pca\",rmse)"
   ]
  },
  {
   "cell_type": "code",
   "execution_count": 90,
   "metadata": {},
   "outputs": [],
   "source": [
    "ml_models_performances.append(ml_performance)"
   ]
  },
  {
   "cell_type": "markdown",
   "metadata": {},
   "source": [
    "<h4>Random Forest Regression</h4>"
   ]
  },
  {
   "cell_type": "code",
   "execution_count": 91,
   "metadata": {},
   "outputs": [],
   "source": [
    "rand_forest_param_grid = [\n",
    "    {\n",
    "        \"n_estimators\":[50,100,500],\n",
    "        \"criterion\":[\"mse\",\"mae\"]\n",
    "    }\n",
    "]"
   ]
  },
  {
   "cell_type": "code",
   "execution_count": 92,
   "metadata": {},
   "outputs": [],
   "source": [
    "rand_forest_grid_search = GridSearchCV(RandomForestRegressor(),rand_forest_param_grid,cv=5,scoring=\"neg_root_mean_squared_error\",n_jobs=-1)"
   ]
  },
  {
   "cell_type": "code",
   "execution_count": 93,
   "metadata": {},
   "outputs": [
    {
     "data": {
      "text/plain": [
       "GridSearchCV(cv=5, estimator=RandomForestRegressor(), n_jobs=-1,\n",
       "             param_grid=[{'criterion': ['mse', 'mae'],\n",
       "                          'n_estimators': [50, 100, 500]}],\n",
       "             scoring='neg_root_mean_squared_error')"
      ]
     },
     "execution_count": 93,
     "metadata": {},
     "output_type": "execute_result"
    }
   ],
   "source": [
    "rand_forest_grid_search.fit(X_train,y_train)"
   ]
  },
  {
   "cell_type": "code",
   "execution_count": 94,
   "metadata": {},
   "outputs": [
    {
     "data": {
      "text/plain": [
       "{'criterion': 'mae', 'n_estimators': 500}"
      ]
     },
     "execution_count": 94,
     "metadata": {},
     "output_type": "execute_result"
    }
   ],
   "source": [
    "rand_forest_grid_search.best_params_"
   ]
  },
  {
   "cell_type": "code",
   "execution_count": 95,
   "metadata": {},
   "outputs": [],
   "source": [
    "best_rand_forest_reg = rand_forest_grid_search.best_estimator_"
   ]
  },
  {
   "cell_type": "code",
   "execution_count": 96,
   "metadata": {},
   "outputs": [],
   "source": [
    "y_pred = best_rand_forest_reg.predict(X_test)"
   ]
  },
  {
   "cell_type": "code",
   "execution_count": 97,
   "metadata": {},
   "outputs": [
    {
     "name": "stdout",
     "output_type": "stream",
     "text": [
      "The root mean squared error for SGD regression is 7.03 points\n"
     ]
    }
   ],
   "source": [
    "rmse = mean_squared_error(y_test,y_pred,squared=False)\n",
    "print(f\"The root mean squared error for SGD regression is {round(rmse,2)} points\")"
   ]
  },
  {
   "cell_type": "code",
   "execution_count": 98,
   "metadata": {},
   "outputs": [],
   "source": [
    "ml_performance = (\"rand_forest_reg_w_opp_teams_w_pca\",rmse)"
   ]
  },
  {
   "cell_type": "code",
   "execution_count": 99,
   "metadata": {},
   "outputs": [],
   "source": [
    "ml_models_performances.append(ml_performance)"
   ]
  },
  {
   "cell_type": "markdown",
   "metadata": {},
   "source": [
    "<h4>Elastic Net Regression</h4>"
   ]
  },
  {
   "cell_type": "code",
   "execution_count": 100,
   "metadata": {},
   "outputs": [],
   "source": [
    "elastic_net_param_grid = [\n",
    "    {\n",
    "        \"l1_ratio\":[0.25,0.5,0.75]\n",
    "    }\n",
    "]"
   ]
  },
  {
   "cell_type": "code",
   "execution_count": 101,
   "metadata": {},
   "outputs": [],
   "source": [
    "elastic_net_grid_search = GridSearchCV(ElasticNet(),elastic_net_param_grid,cv=5,scoring=\"neg_root_mean_squared_error\",n_jobs=-1)"
   ]
  },
  {
   "cell_type": "code",
   "execution_count": 102,
   "metadata": {},
   "outputs": [
    {
     "data": {
      "text/plain": [
       "GridSearchCV(cv=5, estimator=ElasticNet(), n_jobs=-1,\n",
       "             param_grid=[{'l1_ratio': [0.25, 0.5, 0.75]}],\n",
       "             scoring='neg_root_mean_squared_error')"
      ]
     },
     "execution_count": 102,
     "metadata": {},
     "output_type": "execute_result"
    }
   ],
   "source": [
    "elastic_net_grid_search.fit(X_train,y_train)"
   ]
  },
  {
   "cell_type": "code",
   "execution_count": 103,
   "metadata": {},
   "outputs": [
    {
     "data": {
      "text/plain": [
       "{'l1_ratio': 0.75}"
      ]
     },
     "execution_count": 103,
     "metadata": {},
     "output_type": "execute_result"
    }
   ],
   "source": [
    "elastic_net_grid_search.best_params_"
   ]
  },
  {
   "cell_type": "code",
   "execution_count": 104,
   "metadata": {},
   "outputs": [],
   "source": [
    "best_elastic_net_reg = elastic_net_grid_search.best_estimator_"
   ]
  },
  {
   "cell_type": "code",
   "execution_count": 105,
   "metadata": {},
   "outputs": [],
   "source": [
    "y_pred = best_elastic_net_reg.predict(X_test)"
   ]
  },
  {
   "cell_type": "code",
   "execution_count": 106,
   "metadata": {},
   "outputs": [
    {
     "name": "stdout",
     "output_type": "stream",
     "text": [
      "The root mean squared error for Elastic Net regression is 6.72 points\n"
     ]
    }
   ],
   "source": [
    "rmse = mean_squared_error(y_test,y_pred,squared=False)\n",
    "print(f\"The root mean squared error for Elastic Net regression is {round(rmse,2)} points\")"
   ]
  },
  {
   "cell_type": "code",
   "execution_count": 107,
   "metadata": {},
   "outputs": [],
   "source": [
    "ml_performance = (\"elastic_net_reg_w_opp_teams_w_pca\",rmse)"
   ]
  },
  {
   "cell_type": "code",
   "execution_count": 108,
   "metadata": {},
   "outputs": [],
   "source": [
    "ml_models_performances.append(ml_performance)"
   ]
  },
  {
   "cell_type": "markdown",
   "metadata": {},
   "source": [
    "<h2>Remove Opposing Team Columns</h2>"
   ]
  },
  {
   "cell_type": "code",
   "execution_count": 109,
   "metadata": {},
   "outputs": [
    {
     "data": {
      "text/plain": [
       "Index(['PTS-Per-Min', '%-Avg', 'PER-Per-TOV', 'off_rating',\n",
       "       'off_rating_above_avg', 'More-Than-Avg-POSS', 'Above-Avg-GmSc',\n",
       "       'game_result', 'FG%', 'GmSc', 'TS%', 'GmSc-Per-PTS', 'PTS-Per-POSS',\n",
       "       'game_result-Per-PTS', 'PER', 'game_location', 'Opp', 'Won',\n",
       "       'High-3P%-Shooting', 'High-FG%-Shooting', 'Over-3-BLKs-and-STLs',\n",
       "       'Played-Above-Avg-Min', 'Above-Avg-FT%', 'Career-Stage',\n",
       "       'Above-Avg-PTS-Per-POSS', 'More-BLKs-Than-STLs', 'More-AST-Than-TOV',\n",
       "       'PTS-Cat', '2P%-Above-50%', 'More than 3 Fouls', 'ATL', 'BOS', 'BRK',\n",
       "       'CHA', 'CHI', 'CHO', 'CLE', 'DAL', 'DEN', 'DET', 'GSW', 'HOU', 'IND',\n",
       "       'LAC', 'LAL', 'MEM', 'MIA', 'MIL', 'MIN', 'NJN', 'NOH', 'NOK', 'NOP',\n",
       "       'NYK', 'OKC', 'ORL', 'PHI', 'PHO', 'POR', 'SAC', 'SAS', 'SEA', 'TOR',\n",
       "       'UTA', 'WAS', 'decline', 'prime', 'rising', 'above 35', 'below 20',\n",
       "       'below 35'],\n",
       "      dtype='object')"
      ]
     },
     "execution_count": 109,
     "metadata": {},
     "output_type": "execute_result"
    }
   ],
   "source": [
    "sig_df.columns"
   ]
  },
  {
   "cell_type": "code",
   "execution_count": 110,
   "metadata": {},
   "outputs": [],
   "source": [
    "teams_lists = ['ATL', 'BOS', 'BRK',\n",
    "       'CHA', 'CHI', 'CHO', 'CLE', 'DAL', 'DEN', 'DET', 'GSW', 'HOU', 'IND',\n",
    "       'LAC', 'LAL', 'MEM', 'MIA', 'MIL', 'MIN', 'NJN', 'NOH', 'NOK', 'NOP',\n",
    "       'NYK', 'OKC', 'ORL', 'PHI', 'PHO', 'POR', 'SAC', 'SAS', 'SEA', 'TOR',\n",
    "       'UTA', 'WAS']"
   ]
  },
  {
   "cell_type": "code",
   "execution_count": 111,
   "metadata": {},
   "outputs": [],
   "source": [
    "non_opp_cols = list(set(sig_df.columns)-set(teams_lists))"
   ]
  },
  {
   "cell_type": "code",
   "execution_count": 112,
   "metadata": {},
   "outputs": [],
   "source": [
    "sig_df_no_opp = sig_df[non_opp_cols].select_dtypes(exclude=[\"object\"])"
   ]
  },
  {
   "cell_type": "code",
   "execution_count": 113,
   "metadata": {},
   "outputs": [
    {
     "data": {
      "text/html": [
       "<div>\n",
       "<style scoped>\n",
       "    .dataframe tbody tr th:only-of-type {\n",
       "        vertical-align: middle;\n",
       "    }\n",
       "\n",
       "    .dataframe tbody tr th {\n",
       "        vertical-align: top;\n",
       "    }\n",
       "\n",
       "    .dataframe thead th {\n",
       "        text-align: right;\n",
       "    }\n",
       "</style>\n",
       "<table border=\"1\" class=\"dataframe\">\n",
       "  <thead>\n",
       "    <tr style=\"text-align: right;\">\n",
       "      <th></th>\n",
       "      <th>off_rating_above_avg</th>\n",
       "      <th>GmSc-Per-PTS</th>\n",
       "      <th>prime</th>\n",
       "      <th>2P%-Above-50%</th>\n",
       "      <th>%-Avg</th>\n",
       "      <th>above 35</th>\n",
       "      <th>Above-Avg-GmSc</th>\n",
       "      <th>rising</th>\n",
       "      <th>High-3P%-Shooting</th>\n",
       "      <th>Above-Avg-PTS-Per-POSS</th>\n",
       "      <th>...</th>\n",
       "      <th>off_rating</th>\n",
       "      <th>Won</th>\n",
       "      <th>PER-Per-TOV</th>\n",
       "      <th>PER</th>\n",
       "      <th>game_result-Per-PTS</th>\n",
       "      <th>TS%</th>\n",
       "      <th>More-BLKs-Than-STLs</th>\n",
       "      <th>More-Than-Avg-POSS</th>\n",
       "      <th>High-FG%-Shooting</th>\n",
       "      <th>More-AST-Than-TOV</th>\n",
       "    </tr>\n",
       "  </thead>\n",
       "  <tbody>\n",
       "    <tr>\n",
       "      <th>0</th>\n",
       "      <td>1.0</td>\n",
       "      <td>0.988000</td>\n",
       "      <td>0.0</td>\n",
       "      <td>1.0</td>\n",
       "      <td>0.333333</td>\n",
       "      <td>0.0</td>\n",
       "      <td>1.0</td>\n",
       "      <td>1.0</td>\n",
       "      <td>0.0</td>\n",
       "      <td>1.0</td>\n",
       "      <td>...</td>\n",
       "      <td>117.260788</td>\n",
       "      <td>0.0</td>\n",
       "      <td>14.638524</td>\n",
       "      <td>29.277048</td>\n",
       "      <td>-0.560000</td>\n",
       "      <td>0.583431</td>\n",
       "      <td>0.0</td>\n",
       "      <td>0.0</td>\n",
       "      <td>1.0</td>\n",
       "      <td>1.0</td>\n",
       "    </tr>\n",
       "    <tr>\n",
       "      <th>1</th>\n",
       "      <td>0.0</td>\n",
       "      <td>0.700000</td>\n",
       "      <td>0.0</td>\n",
       "      <td>1.0</td>\n",
       "      <td>0.391667</td>\n",
       "      <td>0.0</td>\n",
       "      <td>0.0</td>\n",
       "      <td>1.0</td>\n",
       "      <td>0.0</td>\n",
       "      <td>0.0</td>\n",
       "      <td>...</td>\n",
       "      <td>83.732057</td>\n",
       "      <td>0.0</td>\n",
       "      <td>2.413371</td>\n",
       "      <td>16.893600</td>\n",
       "      <td>-0.428571</td>\n",
       "      <td>0.516605</td>\n",
       "      <td>0.0</td>\n",
       "      <td>0.0</td>\n",
       "      <td>0.0</td>\n",
       "      <td>1.0</td>\n",
       "    </tr>\n",
       "    <tr>\n",
       "      <th>2</th>\n",
       "      <td>0.0</td>\n",
       "      <td>0.625000</td>\n",
       "      <td>0.0</td>\n",
       "      <td>0.0</td>\n",
       "      <td>0.136364</td>\n",
       "      <td>0.0</td>\n",
       "      <td>0.0</td>\n",
       "      <td>1.0</td>\n",
       "      <td>0.0</td>\n",
       "      <td>0.0</td>\n",
       "      <td>...</td>\n",
       "      <td>53.763441</td>\n",
       "      <td>0.0</td>\n",
       "      <td>2.744590</td>\n",
       "      <td>5.489179</td>\n",
       "      <td>-2.375000</td>\n",
       "      <td>0.308880</td>\n",
       "      <td>0.0</td>\n",
       "      <td>0.0</td>\n",
       "      <td>0.0</td>\n",
       "      <td>1.0</td>\n",
       "    </tr>\n",
       "    <tr>\n",
       "      <th>3</th>\n",
       "      <td>0.0</td>\n",
       "      <td>1.600000</td>\n",
       "      <td>0.0</td>\n",
       "      <td>0.0</td>\n",
       "      <td>0.166667</td>\n",
       "      <td>0.0</td>\n",
       "      <td>0.0</td>\n",
       "      <td>1.0</td>\n",
       "      <td>0.0</td>\n",
       "      <td>0.0</td>\n",
       "      <td>...</td>\n",
       "      <td>61.188811</td>\n",
       "      <td>0.0</td>\n",
       "      <td>6.645524</td>\n",
       "      <td>13.291049</td>\n",
       "      <td>-0.571429</td>\n",
       "      <td>0.305011</td>\n",
       "      <td>1.0</td>\n",
       "      <td>0.0</td>\n",
       "      <td>0.0</td>\n",
       "      <td>1.0</td>\n",
       "    </tr>\n",
       "    <tr>\n",
       "      <th>4</th>\n",
       "      <td>0.0</td>\n",
       "      <td>0.391304</td>\n",
       "      <td>0.0</td>\n",
       "      <td>0.0</td>\n",
       "      <td>0.468750</td>\n",
       "      <td>0.0</td>\n",
       "      <td>0.0</td>\n",
       "      <td>1.0</td>\n",
       "      <td>1.0</td>\n",
       "      <td>0.0</td>\n",
       "      <td>...</td>\n",
       "      <td>81.908832</td>\n",
       "      <td>0.0</td>\n",
       "      <td>1.242708</td>\n",
       "      <td>8.698953</td>\n",
       "      <td>-0.043478</td>\n",
       "      <td>0.539273</td>\n",
       "      <td>0.0</td>\n",
       "      <td>1.0</td>\n",
       "      <td>0.0</td>\n",
       "      <td>0.0</td>\n",
       "    </tr>\n",
       "  </tbody>\n",
       "</table>\n",
       "<p>5 rows × 33 columns</p>\n",
       "</div>"
      ],
      "text/plain": [
       "   off_rating_above_avg  GmSc-Per-PTS  prime  2P%-Above-50%     %-Avg  \\\n",
       "0                   1.0      0.988000    0.0            1.0  0.333333   \n",
       "1                   0.0      0.700000    0.0            1.0  0.391667   \n",
       "2                   0.0      0.625000    0.0            0.0  0.136364   \n",
       "3                   0.0      1.600000    0.0            0.0  0.166667   \n",
       "4                   0.0      0.391304    0.0            0.0  0.468750   \n",
       "\n",
       "   above 35  Above-Avg-GmSc  rising  High-3P%-Shooting  \\\n",
       "0       0.0             1.0     1.0                0.0   \n",
       "1       0.0             0.0     1.0                0.0   \n",
       "2       0.0             0.0     1.0                0.0   \n",
       "3       0.0             0.0     1.0                0.0   \n",
       "4       0.0             0.0     1.0                1.0   \n",
       "\n",
       "   Above-Avg-PTS-Per-POSS  ...  off_rating  Won  PER-Per-TOV        PER  \\\n",
       "0                     1.0  ...  117.260788  0.0    14.638524  29.277048   \n",
       "1                     0.0  ...   83.732057  0.0     2.413371  16.893600   \n",
       "2                     0.0  ...   53.763441  0.0     2.744590   5.489179   \n",
       "3                     0.0  ...   61.188811  0.0     6.645524  13.291049   \n",
       "4                     0.0  ...   81.908832  0.0     1.242708   8.698953   \n",
       "\n",
       "   game_result-Per-PTS       TS%  More-BLKs-Than-STLs  More-Than-Avg-POSS  \\\n",
       "0            -0.560000  0.583431                  0.0                 0.0   \n",
       "1            -0.428571  0.516605                  0.0                 0.0   \n",
       "2            -2.375000  0.308880                  0.0                 0.0   \n",
       "3            -0.571429  0.305011                  1.0                 0.0   \n",
       "4            -0.043478  0.539273                  0.0                 1.0   \n",
       "\n",
       "   High-FG%-Shooting  More-AST-Than-TOV  \n",
       "0                1.0                1.0  \n",
       "1                0.0                1.0  \n",
       "2                0.0                1.0  \n",
       "3                0.0                1.0  \n",
       "4                0.0                0.0  \n",
       "\n",
       "[5 rows x 33 columns]"
      ]
     },
     "execution_count": 113,
     "metadata": {},
     "output_type": "execute_result"
    }
   ],
   "source": [
    "sig_df_no_opp.head()"
   ]
  },
  {
   "cell_type": "code",
   "execution_count": 114,
   "metadata": {},
   "outputs": [],
   "source": [
    "std_scaler = StandardScaler()"
   ]
  },
  {
   "cell_type": "code",
   "execution_count": 115,
   "metadata": {},
   "outputs": [],
   "source": [
    "sig_no_opp_data = std_scaler.fit_transform(sig_df_no_opp.values)"
   ]
  },
  {
   "cell_type": "code",
   "execution_count": 116,
   "metadata": {},
   "outputs": [],
   "source": [
    "X, y = sig_no_opp_data, target"
   ]
  },
  {
   "cell_type": "code",
   "execution_count": 117,
   "metadata": {},
   "outputs": [],
   "source": [
    "X_train, X_test, y_train, y_test = train_test_split(X, y, test_size=0.33, random_state=42)"
   ]
  },
  {
   "cell_type": "markdown",
   "metadata": {},
   "source": [
    "<h4>Linear Regression</h4>"
   ]
  },
  {
   "cell_type": "code",
   "execution_count": 118,
   "metadata": {},
   "outputs": [],
   "source": [
    "ln = LinearRegression()"
   ]
  },
  {
   "cell_type": "code",
   "execution_count": 119,
   "metadata": {},
   "outputs": [
    {
     "data": {
      "text/plain": [
       "LinearRegression()"
      ]
     },
     "execution_count": 119,
     "metadata": {},
     "output_type": "execute_result"
    }
   ],
   "source": [
    "ln.fit(X_train,y_train)"
   ]
  },
  {
   "cell_type": "code",
   "execution_count": 120,
   "metadata": {},
   "outputs": [],
   "source": [
    "y_pred = ln.predict(X_test)"
   ]
  },
  {
   "cell_type": "code",
   "execution_count": 121,
   "metadata": {},
   "outputs": [
    {
     "name": "stdout",
     "output_type": "stream",
     "text": [
      "The root mean squared error for linear regression is 6.64 points\n"
     ]
    }
   ],
   "source": [
    "rmse = mean_squared_error(y_test,y_pred,squared=False)\n",
    "print(f\"The root mean squared error for linear regression is {round(rmse,2)} points\")"
   ]
  },
  {
   "cell_type": "code",
   "execution_count": 122,
   "metadata": {},
   "outputs": [],
   "source": [
    "ml_performance = (\"lin_reg_w/out_opp_teams_w/out_pca\",rmse)"
   ]
  },
  {
   "cell_type": "code",
   "execution_count": 123,
   "metadata": {},
   "outputs": [],
   "source": [
    "ml_models_performances.append(ml_performance)"
   ]
  },
  {
   "cell_type": "markdown",
   "metadata": {},
   "source": [
    "<h4>SGD Regression</h4>"
   ]
  },
  {
   "cell_type": "code",
   "execution_count": 124,
   "metadata": {},
   "outputs": [],
   "source": [
    "sgd_param_grid = [\n",
    "    {\n",
    "        \"loss\":[\"squared_loss\",\"huber\",\"epsilon_insensitive\",\"squared_epsilon_insensitive\"],\n",
    "        \"epsilon\":[0.1,0.01,0.001]\n",
    "    }\n",
    "]"
   ]
  },
  {
   "cell_type": "code",
   "execution_count": 125,
   "metadata": {},
   "outputs": [],
   "source": [
    "sgd_grid_search = GridSearchCV(SGDRegressor(),sgd_param_grid,cv=5,scoring=\"neg_root_mean_squared_error\",n_jobs=-1)"
   ]
  },
  {
   "cell_type": "code",
   "execution_count": 126,
   "metadata": {},
   "outputs": [
    {
     "data": {
      "text/plain": [
       "GridSearchCV(cv=5, estimator=SGDRegressor(), n_jobs=-1,\n",
       "             param_grid=[{'epsilon': [0.1, 0.01, 0.001],\n",
       "                          'loss': ['squared_loss', 'huber',\n",
       "                                   'epsilon_insensitive',\n",
       "                                   'squared_epsilon_insensitive']}],\n",
       "             scoring='neg_root_mean_squared_error')"
      ]
     },
     "execution_count": 126,
     "metadata": {},
     "output_type": "execute_result"
    }
   ],
   "source": [
    "sgd_grid_search.fit(X_train,y_train)"
   ]
  },
  {
   "cell_type": "code",
   "execution_count": 127,
   "metadata": {},
   "outputs": [
    {
     "data": {
      "text/plain": [
       "{'epsilon': 0.1, 'loss': 'squared_loss'}"
      ]
     },
     "execution_count": 127,
     "metadata": {},
     "output_type": "execute_result"
    }
   ],
   "source": [
    "sgd_grid_search.best_params_"
   ]
  },
  {
   "cell_type": "code",
   "execution_count": 128,
   "metadata": {},
   "outputs": [],
   "source": [
    "best_sgd_reg = sgd_grid_search.best_estimator_"
   ]
  },
  {
   "cell_type": "code",
   "execution_count": 129,
   "metadata": {},
   "outputs": [],
   "source": [
    "y_pred = best_sgd_reg.predict(X_test)"
   ]
  },
  {
   "cell_type": "code",
   "execution_count": 130,
   "metadata": {},
   "outputs": [
    {
     "name": "stdout",
     "output_type": "stream",
     "text": [
      "The root mean squared error for SGD regression is 6.61 points\n"
     ]
    }
   ],
   "source": [
    "rmse = mean_squared_error(y_test,y_pred,squared=False)\n",
    "print(f\"The root mean squared error for SGD regression is {round(rmse,2)} points\")"
   ]
  },
  {
   "cell_type": "code",
   "execution_count": 131,
   "metadata": {},
   "outputs": [],
   "source": [
    "ml_performance = (\"sgd_reg_w/out_opp_teams_w/out_pca\",rmse)"
   ]
  },
  {
   "cell_type": "code",
   "execution_count": 132,
   "metadata": {},
   "outputs": [],
   "source": [
    "ml_models_performances.append(ml_performance)"
   ]
  },
  {
   "cell_type": "markdown",
   "metadata": {},
   "source": [
    "<h4>Random Forest Regression</h4>"
   ]
  },
  {
   "cell_type": "code",
   "execution_count": 133,
   "metadata": {},
   "outputs": [],
   "source": [
    "rand_forest_param_grid = [\n",
    "    {\n",
    "        \"n_estimators\":[50,100,500],\n",
    "        \"criterion\":[\"mse\",\"mae\"]\n",
    "    }\n",
    "]"
   ]
  },
  {
   "cell_type": "code",
   "execution_count": 134,
   "metadata": {},
   "outputs": [],
   "source": [
    "rand_forest_grid_search = GridSearchCV(RandomForestRegressor(),rand_forest_param_grid,cv=5,scoring=\"neg_root_mean_squared_error\",n_jobs=-1)"
   ]
  },
  {
   "cell_type": "code",
   "execution_count": 135,
   "metadata": {},
   "outputs": [
    {
     "data": {
      "text/plain": [
       "GridSearchCV(cv=5, estimator=RandomForestRegressor(), n_jobs=-1,\n",
       "             param_grid=[{'criterion': ['mse', 'mae'],\n",
       "                          'n_estimators': [50, 100, 500]}],\n",
       "             scoring='neg_root_mean_squared_error')"
      ]
     },
     "execution_count": 135,
     "metadata": {},
     "output_type": "execute_result"
    }
   ],
   "source": [
    "rand_forest_grid_search.fit(X_train,y_train)"
   ]
  },
  {
   "cell_type": "code",
   "execution_count": 136,
   "metadata": {},
   "outputs": [
    {
     "data": {
      "text/plain": [
       "{'criterion': 'mae', 'n_estimators': 100}"
      ]
     },
     "execution_count": 136,
     "metadata": {},
     "output_type": "execute_result"
    }
   ],
   "source": [
    "rand_forest_grid_search.best_params_"
   ]
  },
  {
   "cell_type": "code",
   "execution_count": 137,
   "metadata": {},
   "outputs": [],
   "source": [
    "best_rand_forest_reg = rand_forest_grid_search.best_estimator_"
   ]
  },
  {
   "cell_type": "code",
   "execution_count": 138,
   "metadata": {},
   "outputs": [],
   "source": [
    "y_pred = best_rand_forest_reg.predict(X_test)"
   ]
  },
  {
   "cell_type": "code",
   "execution_count": 139,
   "metadata": {},
   "outputs": [
    {
     "name": "stdout",
     "output_type": "stream",
     "text": [
      "The root mean squared error for SGD regression is 6.93 points\n"
     ]
    }
   ],
   "source": [
    "rmse = mean_squared_error(y_test,y_pred,squared=False)\n",
    "print(f\"The root mean squared error for SGD regression is {round(rmse,2)} points\")"
   ]
  },
  {
   "cell_type": "code",
   "execution_count": 140,
   "metadata": {},
   "outputs": [],
   "source": [
    "ml_performance = (\"rand_forest_reg_w/out_opp_teams_w/out_pca\",rmse)"
   ]
  },
  {
   "cell_type": "code",
   "execution_count": 141,
   "metadata": {},
   "outputs": [],
   "source": [
    "ml_models_performances.append(ml_performance)"
   ]
  },
  {
   "cell_type": "markdown",
   "metadata": {},
   "source": [
    "<h4>Elastic Net Regression</h4>"
   ]
  },
  {
   "cell_type": "code",
   "execution_count": 142,
   "metadata": {},
   "outputs": [],
   "source": [
    "elastic_net_param_grid = [\n",
    "    {\n",
    "        \"l1_ratio\":[0.25,0.5,0.75]\n",
    "    }\n",
    "]"
   ]
  },
  {
   "cell_type": "code",
   "execution_count": 143,
   "metadata": {},
   "outputs": [],
   "source": [
    "elastic_net_grid_search = GridSearchCV(ElasticNet(),elastic_net_param_grid,cv=5,scoring=\"neg_root_mean_squared_error\",n_jobs=-1)"
   ]
  },
  {
   "cell_type": "code",
   "execution_count": 144,
   "metadata": {},
   "outputs": [
    {
     "data": {
      "text/plain": [
       "GridSearchCV(cv=5, estimator=ElasticNet(), n_jobs=-1,\n",
       "             param_grid=[{'l1_ratio': [0.25, 0.5, 0.75]}],\n",
       "             scoring='neg_root_mean_squared_error')"
      ]
     },
     "execution_count": 144,
     "metadata": {},
     "output_type": "execute_result"
    }
   ],
   "source": [
    "elastic_net_grid_search.fit(X_train,y_train)"
   ]
  },
  {
   "cell_type": "code",
   "execution_count": 145,
   "metadata": {},
   "outputs": [
    {
     "data": {
      "text/plain": [
       "{'l1_ratio': 0.75}"
      ]
     },
     "execution_count": 145,
     "metadata": {},
     "output_type": "execute_result"
    }
   ],
   "source": [
    "elastic_net_grid_search.best_params_"
   ]
  },
  {
   "cell_type": "code",
   "execution_count": 146,
   "metadata": {},
   "outputs": [],
   "source": [
    "best_elastic_net_reg = elastic_net_grid_search.best_estimator_"
   ]
  },
  {
   "cell_type": "code",
   "execution_count": 147,
   "metadata": {},
   "outputs": [],
   "source": [
    "y_pred = best_elastic_net_reg.predict(X_test)"
   ]
  },
  {
   "cell_type": "code",
   "execution_count": 148,
   "metadata": {},
   "outputs": [
    {
     "name": "stdout",
     "output_type": "stream",
     "text": [
      "The root mean squared error for Elastic Net regression is 6.91 points\n"
     ]
    }
   ],
   "source": [
    "rmse = mean_squared_error(y_test,y_pred,squared=False)\n",
    "print(f\"The root mean squared error for Elastic Net regression is {round(rmse,2)} points\")"
   ]
  },
  {
   "cell_type": "code",
   "execution_count": 149,
   "metadata": {},
   "outputs": [],
   "source": [
    "ml_performance = (\"elastic_net_reg_w/out_opp_teams_w/out_pca\",rmse)"
   ]
  },
  {
   "cell_type": "code",
   "execution_count": 150,
   "metadata": {},
   "outputs": [],
   "source": [
    "ml_models_performances.append(ml_performance)"
   ]
  },
  {
   "cell_type": "markdown",
   "metadata": {},
   "source": [
    "<h3>Performance Analysis with PCA</h3>"
   ]
  },
  {
   "cell_type": "code",
   "execution_count": 151,
   "metadata": {},
   "outputs": [],
   "source": [
    "pca = PCA()"
   ]
  },
  {
   "cell_type": "code",
   "execution_count": 152,
   "metadata": {},
   "outputs": [],
   "source": [
    "sig_df_no_opp_w_pca = pca.fit_transform(sig_df_no_opp)"
   ]
  },
  {
   "cell_type": "code",
   "execution_count": 153,
   "metadata": {},
   "outputs": [],
   "source": [
    "pca_cumsum = np.cumsum(pca.explained_variance_ratio_)"
   ]
  },
  {
   "cell_type": "code",
   "execution_count": 154,
   "metadata": {},
   "outputs": [],
   "source": [
    "max_comp_idx = np.argmax(pca_cumsum>0.95)"
   ]
  },
  {
   "cell_type": "code",
   "execution_count": 155,
   "metadata": {},
   "outputs": [],
   "source": [
    "pca = PCA(n_components=max_comp_idx+1)"
   ]
  },
  {
   "cell_type": "code",
   "execution_count": 156,
   "metadata": {},
   "outputs": [],
   "source": [
    "sig_df_no_opp_w_pca = pca.fit_transform(sig_df_no_opp)"
   ]
  },
  {
   "cell_type": "code",
   "execution_count": 157,
   "metadata": {},
   "outputs": [],
   "source": [
    "X, y = sig_df_no_opp_w_pca, target"
   ]
  },
  {
   "cell_type": "code",
   "execution_count": 158,
   "metadata": {},
   "outputs": [],
   "source": [
    "X_train, X_test, y_train, y_test = train_test_split(X, y, test_size=0.33, random_state=42)"
   ]
  },
  {
   "cell_type": "code",
   "execution_count": 159,
   "metadata": {},
   "outputs": [],
   "source": [
    "ml_models_performances.append(ml_performance)"
   ]
  },
  {
   "cell_type": "markdown",
   "metadata": {},
   "source": [
    "<h4>Linear Regression</h4>"
   ]
  },
  {
   "cell_type": "code",
   "execution_count": 160,
   "metadata": {},
   "outputs": [],
   "source": [
    "ln = LinearRegression()"
   ]
  },
  {
   "cell_type": "code",
   "execution_count": 161,
   "metadata": {},
   "outputs": [
    {
     "data": {
      "text/plain": [
       "LinearRegression()"
      ]
     },
     "execution_count": 161,
     "metadata": {},
     "output_type": "execute_result"
    }
   ],
   "source": [
    "ln.fit(X_train,y_train)"
   ]
  },
  {
   "cell_type": "code",
   "execution_count": 162,
   "metadata": {},
   "outputs": [],
   "source": [
    "y_pred = ln.predict(X_test)"
   ]
  },
  {
   "cell_type": "code",
   "execution_count": 163,
   "metadata": {},
   "outputs": [
    {
     "name": "stdout",
     "output_type": "stream",
     "text": [
      "The root mean squared error for linear regression is 6.71 points\n"
     ]
    }
   ],
   "source": [
    "rmse = mean_squared_error(y_test,y_pred,squared=False)\n",
    "print(f\"The root mean squared error for linear regression is {round(rmse,2)} points\")"
   ]
  },
  {
   "cell_type": "code",
   "execution_count": 164,
   "metadata": {},
   "outputs": [],
   "source": [
    "ml_performance = (\"lin_reg_w/out_opp_teams_w_pca\",rmse)"
   ]
  },
  {
   "cell_type": "code",
   "execution_count": 165,
   "metadata": {},
   "outputs": [],
   "source": [
    "ml_models_performances.append(ml_performance)"
   ]
  },
  {
   "cell_type": "markdown",
   "metadata": {},
   "source": [
    "<h4>SGD Regression</h4>"
   ]
  },
  {
   "cell_type": "code",
   "execution_count": 166,
   "metadata": {},
   "outputs": [],
   "source": [
    "sgd_param_grid = [\n",
    "    {\n",
    "        \"loss\":[\"squared_loss\",\"huber\",\"epsilon_insensitive\",\"squared_epsilon_insensitive\"],\n",
    "        \"epsilon\":[0.1,0.01,0.001]\n",
    "    }\n",
    "]"
   ]
  },
  {
   "cell_type": "code",
   "execution_count": 167,
   "metadata": {},
   "outputs": [],
   "source": [
    "sgd_grid_search = GridSearchCV(SGDRegressor(),sgd_param_grid,cv=5,scoring=\"neg_root_mean_squared_error\",n_jobs=-1)"
   ]
  },
  {
   "cell_type": "code",
   "execution_count": 168,
   "metadata": {},
   "outputs": [
    {
     "data": {
      "text/plain": [
       "GridSearchCV(cv=5, estimator=SGDRegressor(), n_jobs=-1,\n",
       "             param_grid=[{'epsilon': [0.1, 0.01, 0.001],\n",
       "                          'loss': ['squared_loss', 'huber',\n",
       "                                   'epsilon_insensitive',\n",
       "                                   'squared_epsilon_insensitive']}],\n",
       "             scoring='neg_root_mean_squared_error')"
      ]
     },
     "execution_count": 168,
     "metadata": {},
     "output_type": "execute_result"
    }
   ],
   "source": [
    "sgd_grid_search.fit(X_train,y_train)"
   ]
  },
  {
   "cell_type": "code",
   "execution_count": 169,
   "metadata": {},
   "outputs": [
    {
     "data": {
      "text/plain": [
       "{'epsilon': 0.001, 'loss': 'epsilon_insensitive'}"
      ]
     },
     "execution_count": 169,
     "metadata": {},
     "output_type": "execute_result"
    }
   ],
   "source": [
    "sgd_grid_search.best_params_"
   ]
  },
  {
   "cell_type": "code",
   "execution_count": 170,
   "metadata": {},
   "outputs": [],
   "source": [
    "best_sgd_reg = sgd_grid_search.best_estimator_"
   ]
  },
  {
   "cell_type": "code",
   "execution_count": 171,
   "metadata": {},
   "outputs": [],
   "source": [
    "y_pred = best_sgd_reg.predict(X_test)"
   ]
  },
  {
   "cell_type": "code",
   "execution_count": 172,
   "metadata": {},
   "outputs": [
    {
     "name": "stdout",
     "output_type": "stream",
     "text": [
      "The root mean squared error for SGD regression is 6.74 points\n"
     ]
    }
   ],
   "source": [
    "rmse = mean_squared_error(y_test,y_pred,squared=False)\n",
    "print(f\"The root mean squared error for SGD regression is {round(rmse,2)} points\")"
   ]
  },
  {
   "cell_type": "code",
   "execution_count": 173,
   "metadata": {},
   "outputs": [],
   "source": [
    "ml_performance = (\"sgd_reg_w/out_opp_teams_w_pca\",rmse)"
   ]
  },
  {
   "cell_type": "code",
   "execution_count": 174,
   "metadata": {},
   "outputs": [],
   "source": [
    "ml_models_performances.append(ml_performance)"
   ]
  },
  {
   "cell_type": "code",
   "execution_count": 175,
   "metadata": {},
   "outputs": [],
   "source": [
    "ml_models_performances.append(ml_performance)"
   ]
  },
  {
   "cell_type": "markdown",
   "metadata": {},
   "source": [
    "<h4>Random Forest Regression</h4>"
   ]
  },
  {
   "cell_type": "code",
   "execution_count": 176,
   "metadata": {},
   "outputs": [],
   "source": [
    "rand_forest_param_grid = [\n",
    "    {\n",
    "        \"n_estimators\":[50,100,500],\n",
    "        \"criterion\":[\"mse\",\"mae\"]\n",
    "    }\n",
    "]"
   ]
  },
  {
   "cell_type": "code",
   "execution_count": 177,
   "metadata": {},
   "outputs": [],
   "source": [
    "rand_forest_grid_search = GridSearchCV(RandomForestRegressor(),rand_forest_param_grid,cv=5,scoring=\"neg_root_mean_squared_error\",n_jobs=-1)"
   ]
  },
  {
   "cell_type": "code",
   "execution_count": 178,
   "metadata": {},
   "outputs": [
    {
     "data": {
      "text/plain": [
       "GridSearchCV(cv=5, estimator=RandomForestRegressor(), n_jobs=-1,\n",
       "             param_grid=[{'criterion': ['mse', 'mae'],\n",
       "                          'n_estimators': [50, 100, 500]}],\n",
       "             scoring='neg_root_mean_squared_error')"
      ]
     },
     "execution_count": 178,
     "metadata": {},
     "output_type": "execute_result"
    }
   ],
   "source": [
    "rand_forest_grid_search.fit(X_train,y_train)"
   ]
  },
  {
   "cell_type": "code",
   "execution_count": 179,
   "metadata": {},
   "outputs": [
    {
     "data": {
      "text/plain": [
       "{'criterion': 'mae', 'n_estimators': 500}"
      ]
     },
     "execution_count": 179,
     "metadata": {},
     "output_type": "execute_result"
    }
   ],
   "source": [
    "rand_forest_grid_search.best_params_"
   ]
  },
  {
   "cell_type": "code",
   "execution_count": 180,
   "metadata": {},
   "outputs": [],
   "source": [
    "best_rand_forest_reg = rand_forest_grid_search.best_estimator_"
   ]
  },
  {
   "cell_type": "code",
   "execution_count": 181,
   "metadata": {},
   "outputs": [],
   "source": [
    "y_pred = best_rand_forest_reg.predict(X_test)"
   ]
  },
  {
   "cell_type": "code",
   "execution_count": 182,
   "metadata": {},
   "outputs": [
    {
     "name": "stdout",
     "output_type": "stream",
     "text": [
      "The root mean squared error for SGD regression is 7.04 points\n"
     ]
    }
   ],
   "source": [
    "rmse = mean_squared_error(y_test,y_pred,squared=False)\n",
    "print(f\"The root mean squared error for SGD regression is {round(rmse,2)} points\")"
   ]
  },
  {
   "cell_type": "code",
   "execution_count": 183,
   "metadata": {},
   "outputs": [],
   "source": [
    "ml_performance = (\"rand_forest_reg_w/out_opp_teams_w_pca\",rmse)"
   ]
  },
  {
   "cell_type": "code",
   "execution_count": 184,
   "metadata": {},
   "outputs": [],
   "source": [
    "ml_models_performances.append(ml_performance)"
   ]
  },
  {
   "cell_type": "markdown",
   "metadata": {},
   "source": [
    "<h4>Elastic Net Regression</h4>"
   ]
  },
  {
   "cell_type": "code",
   "execution_count": 185,
   "metadata": {},
   "outputs": [],
   "source": [
    "elastic_net_param_grid = [\n",
    "    {\n",
    "        \"l1_ratio\":[0.25,0.5,0.75]\n",
    "    }\n",
    "]"
   ]
  },
  {
   "cell_type": "code",
   "execution_count": 186,
   "metadata": {},
   "outputs": [],
   "source": [
    "elastic_net_grid_search = GridSearchCV(ElasticNet(),elastic_net_param_grid,cv=5,scoring=\"neg_root_mean_squared_error\",n_jobs=-1)"
   ]
  },
  {
   "cell_type": "code",
   "execution_count": 187,
   "metadata": {},
   "outputs": [
    {
     "data": {
      "text/plain": [
       "GridSearchCV(cv=5, estimator=ElasticNet(), n_jobs=-1,\n",
       "             param_grid=[{'l1_ratio': [0.25, 0.5, 0.75]}],\n",
       "             scoring='neg_root_mean_squared_error')"
      ]
     },
     "execution_count": 187,
     "metadata": {},
     "output_type": "execute_result"
    }
   ],
   "source": [
    "elastic_net_grid_search.fit(X_train,y_train)"
   ]
  },
  {
   "cell_type": "code",
   "execution_count": 188,
   "metadata": {},
   "outputs": [
    {
     "data": {
      "text/plain": [
       "{'l1_ratio': 0.75}"
      ]
     },
     "execution_count": 188,
     "metadata": {},
     "output_type": "execute_result"
    }
   ],
   "source": [
    "elastic_net_grid_search.best_params_"
   ]
  },
  {
   "cell_type": "code",
   "execution_count": 189,
   "metadata": {},
   "outputs": [],
   "source": [
    "best_elastic_net_reg = elastic_net_grid_search.best_estimator_"
   ]
  },
  {
   "cell_type": "code",
   "execution_count": 190,
   "metadata": {},
   "outputs": [],
   "source": [
    "y_pred = best_elastic_net_reg.predict(X_test)"
   ]
  },
  {
   "cell_type": "code",
   "execution_count": 191,
   "metadata": {},
   "outputs": [
    {
     "name": "stdout",
     "output_type": "stream",
     "text": [
      "The root mean squared error for Elastic Net regression is 6.72 points\n"
     ]
    }
   ],
   "source": [
    "rmse = mean_squared_error(y_test,y_pred,squared=False)\n",
    "print(f\"The root mean squared error for Elastic Net regression is {round(rmse,2)} points\")"
   ]
  },
  {
   "cell_type": "code",
   "execution_count": 192,
   "metadata": {},
   "outputs": [],
   "source": [
    "ml_performance = (\"elastic_net_reg_w/out_opp_teams_w_pca\",rmse)"
   ]
  },
  {
   "cell_type": "code",
   "execution_count": 193,
   "metadata": {},
   "outputs": [],
   "source": [
    "ml_models_performances.append(ml_performance)"
   ]
  },
  {
   "cell_type": "markdown",
   "metadata": {},
   "source": [
    "<h2>Viewing Error Scores For All the ML Models</h2>"
   ]
  },
  {
   "cell_type": "code",
   "execution_count": 194,
   "metadata": {},
   "outputs": [
    {
     "name": "stdout",
     "output_type": "stream",
     "text": [
      "lin_reg_w_opp_teams_w/out_pca: 6.374\n",
      "sgd_reg_w_opp_teams_w/out_pca: 6.414\n",
      "rand_forest_reg_w_opp_teams_w/out_pca: 6.629\n",
      "elastic_net_reg_w_opp_teams_w/out_pca: 6.925\n",
      "lin_reg_w_opp_teams_w_pca: 6.712\n",
      "sgd_reg_w_opp_teams_w_pca: 7.062\n",
      "rand_forest_reg_w_opp_teams_w_pca: 7.034\n",
      "elastic_net_reg_w_opp_teams_w_pca: 6.718\n",
      "lin_reg_w/out_opp_teams_w/out_pca: 6.643\n",
      "sgd_reg_w/out_opp_teams_w/out_pca: 6.605\n",
      "rand_forest_reg_w/out_opp_teams_w/out_pca: 6.931\n",
      "elastic_net_reg_w/out_opp_teams_w/out_pca: 6.913\n",
      "elastic_net_reg_w/out_opp_teams_w/out_pca: 6.913\n",
      "lin_reg_w/out_opp_teams_w_pca: 6.712\n",
      "sgd_reg_w/out_opp_teams_w_pca: 6.744\n",
      "sgd_reg_w/out_opp_teams_w_pca: 6.744\n",
      "rand_forest_reg_w/out_opp_teams_w_pca: 7.039\n",
      "elastic_net_reg_w/out_opp_teams_w_pca: 6.718\n"
     ]
    }
   ],
   "source": [
    "for ml_perf in ml_models_performances:\n",
    "    print(f\"{ml_perf[0]}: {round(ml_perf[1],3)}\")"
   ]
  },
  {
   "cell_type": "code",
   "execution_count": null,
   "metadata": {},
   "outputs": [],
   "source": []
  }
 ],
 "metadata": {
  "kernelspec": {
   "display_name": "Python 3",
   "language": "python",
   "name": "python3"
  },
  "language_info": {
   "codemirror_mode": {
    "name": "ipython",
    "version": 3
   },
   "file_extension": ".py",
   "mimetype": "text/x-python",
   "name": "python",
   "nbconvert_exporter": "python",
   "pygments_lexer": "ipython3",
   "version": "3.7.5"
  }
 },
 "nbformat": 4,
 "nbformat_minor": 4
}
